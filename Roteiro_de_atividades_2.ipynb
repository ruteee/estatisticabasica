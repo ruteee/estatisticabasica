{
 "cells": [
  {
   "cell_type": "markdown",
   "metadata": {
    "colab_type": "text",
    "id": "94BnXezxoqnN"
   },
   "source": [
    "# Roteiro 2 - Medidas de tendência central/ Medidas de dispersão/ Medidas de associação\n",
    "\n",
    "\n"
   ]
  },
  {
   "cell_type": "markdown",
   "metadata": {
    "colab_type": "text",
    "id": "yfUf_bFSzzOv"
   },
   "source": [
    "# Objetivo\n",
    "\n",
    "Trabalhar com a base de dados \"***IMDB data from 2006 to 2016***\" com ajuda da ferramenta Google Colab e utilização da linguagem de programação Python, de maneira a fixar os Seguintes conteúdos: \n",
    "\n",
    "*   Medidas de tendência central\n",
    "*   Medidas de dispersão\n",
    "*   Medidas de associação"
   ]
  },
  {
   "cell_type": "markdown",
   "metadata": {
    "colab_type": "text",
    "id": "wFVlzNXN3IEL"
   },
   "source": [
    "# 1 - Obtendo a base de dados\n",
    "\n",
    "Assim como no roteiro da semana passada, nós iremos utilizar a plataforma Kaggle. Se você não sabe o que é o kaggle e nem pra que ele serve, dá uma olhada rapidinha no [roteiro Nº 1](https://colab.research.google.com/drive/1im4MlNdIdc9zRBy_wHiKmhPadmnTcBq-?usp=sharing#scrollTo=i1BBTqXC6zmX).\n",
    "\n",
    "Para obter a base de dados do imbd vocês devem ir até o endereço https://www.kaggle.com , fazer login e procurar no menu *search* pelo termo: IMDB data from 2006 to 2016. Escolham o primeiro *dataset* by PrompCloud. Clique na opção \"*download*\", isso deverá baixar para o seu computador um arquivo chamado \"datasets_1474_2639_IMDB-Movie-Data\", por conveniência nós vamos renomear esse arquivo como \"imdb.csv\"."
   ]
  },
  {
   "cell_type": "markdown",
   "metadata": {
    "colab_type": "text",
    "id": "y02Dh3cU7xH8"
   },
   "source": [
    "# 2- Importando bibliotecas iniciais e fazendo a leitura dos dados.\n",
    "\n",
    "Agora que já temos o arquivo baixado e renomeado, vamos fazer o upload dele para o colab. Para fazer isto, clique no símbolo da pasta de arquivos no menu lateral esquerdo  e depois na opção \"Fazer upload para armazenamento da sessão\", por fim escolha seu arquivo.\n",
    "\n",
    "Por enquanto vamos fazer o import apenas das bibliotecas que iremos usar inicialmente, são elas:\n",
    "\n",
    "* **Pandas** - Para visualização e manipulação dos dados.\n",
    "* **Numpy** - Para manipulação de dados em formatos de arrays e matrizes e realização de operações matemáticas.\n",
    "\n",
    "* **Matplotlib**, **Seaborn** - Para criação de gráficos e visualizações.\n",
    "\n",
    "\n",
    "Execute a célula abaixo para relizar a importação."
   ]
  },
  {
   "cell_type": "code",
   "execution_count": null,
   "metadata": {
    "colab": {},
    "colab_type": "code",
    "id": "3J4pmN_xisIr"
   },
   "outputs": [],
   "source": [
    "import pandas as pd\n",
    "import numpy as np\n",
    "import matplotlib.pyplot as plt\n",
    "import seaborn as sns"
   ]
  },
  {
   "cell_type": "markdown",
   "metadata": {
    "colab_type": "text",
    "id": "GjwKPxsGAgbN"
   },
   "source": [
    "Execute a célula abaixo para realizar a leitura e armazenamento do dataset para a variável **imdb**."
   ]
  },
  {
   "cell_type": "code",
   "execution_count": null,
   "metadata": {
    "colab": {},
    "colab_type": "code",
    "id": "d_qWixJzoOs3"
   },
   "outputs": [],
   "source": [
    "imdb = pd.read_csv(\"imdb.csv\", index_col=0)"
   ]
  },
  {
   "cell_type": "markdown",
   "metadata": {
    "colab_type": "text",
    "id": "RNwAKouhBkkD"
   },
   "source": [
    "Dê uma olhada no \"cara\" dos seus dados executando o comando: `seuDataset.head()`"
   ]
  },
  {
   "cell_type": "code",
   "execution_count": null,
   "metadata": {
    "colab": {},
    "colab_type": "code",
    "id": "ezRfk5ePBwA9"
   },
   "outputs": [],
   "source": [
    "#Exercício 1\n",
    "\n"
   ]
  },
  {
   "cell_type": "markdown",
   "metadata": {
    "colab_type": "text",
    "id": "ZUqu5pVeAfsh"
   },
   "source": [
    "# 3 - Descrição do dataset\n",
    "\n",
    "O *dataset* que vamos usar, nossa base dados, é composto por um conjunto de avaliações de filmes lançados entre os anos de 2006 e 2016. As avaliações foram realizadas por usuários reais do site IMDB. Além de contar com a nota de avaliação, variando de 0 a 10, o *dataset* possui um conjunto de colunas com caracterisicas do filme como: título, gênero, descrição, ano de lançamento, entre outras.\n",
    "\n",
    "**Descrição das colunas:**\n",
    "\n",
    "**Title** - Título do filme. <br>\n",
    "**Genre** - Conjunto de gêneros atribuídos ao filme. <br>\n",
    "**Description** - Sinopse da história.<br>\n",
    "**Director** - Diretor do filme.<br>\n",
    "**Actors** - Conjunto de atores que trabalharam no filme. <br>\n",
    "**Year** - Ano de lançamento da obra.<br>\n",
    "**Runtime(Minutes)** - Duração total do filme. <br>\n",
    "**Rating** - Avalição dos usuários variando de 0 à 10. <br>\n",
    "**Votes** - Total de votos recebidos no IMDB. <br>\n",
    "**Revenue(Millions)** - Receita do filme. <br>\n",
    "**Metascore** - Nota do site metacritic.com, fornecida por críticos de cinema. <br>"
   ]
  },
  {
   "cell_type": "markdown",
   "metadata": {
    "colab_type": "text",
    "id": "2dU7HMSVI6cl"
   },
   "source": [
    "# 4 - Tratamento dos dados"
   ]
  },
  {
   "cell_type": "markdown",
   "metadata": {
    "colab_type": "text",
    "id": "Wbak_FsLPn5f"
   },
   "source": [
    "Antes de começarmos a realizar o tratamento do dados, apenas por questões de praticidade na manipulação destes, iremos substitiur os caracteres de espaços inclusos nos nomes das colunas pelo caractere: _ (underscore)\n",
    "\n",
    "Execute a célula abaixo para realizar essa mudança."
   ]
  },
  {
   "cell_type": "code",
   "execution_count": null,
   "metadata": {
    "colab": {},
    "colab_type": "code",
    "id": "l1M5LkIsQqqu"
   },
   "outputs": [],
   "source": [
    "#Renomeando colunas - Substituição de espaços por símbolo underscore\n",
    "imdb.rename(lambda column: column.replace(\" \", \"_\"), axis=1, inplace=True)\n",
    "imdb.head()"
   ]
  },
  {
   "cell_type": "markdown",
   "metadata": {
    "colab_type": "text",
    "id": "kTxcM4loeRal"
   },
   "source": [
    "Execute a celula abaixo e observe o resultado do método `.info()`."
   ]
  },
  {
   "cell_type": "code",
   "execution_count": null,
   "metadata": {
    "colab": {},
    "colab_type": "code",
    "id": "OMzEJ_3LeS77"
   },
   "outputs": [],
   "source": [
    "imdb.info()"
   ]
  },
  {
   "cell_type": "markdown",
   "metadata": {
    "colab_type": "text",
    "id": "UJ9Jh0SKNy8k"
   },
   "source": [
    "Como você viu no resultado do método info(), as colunas Revenue_(Millions) e Metascore possuem respectivamente 128 e 64 linhas faltantes. Diferentemente do que fizemos no roteiro passado, desta vez não vamos descartar estas linhas, vamos optar por uma estratégia de imputação.\n",
    "\n",
    "A estratégia que utilizaremos será subtitutição dos valores faltantes pela média dos valores totais. Execute a celula abaixo para realizar este passo."
   ]
  },
  {
   "cell_type": "code",
   "execution_count": null,
   "metadata": {
    "colab": {},
    "colab_type": "code",
    "id": "fMxQJw5mNx0h"
   },
   "outputs": [],
   "source": [
    "imdb['Revenue_(Millions)'].fillna(imdb['Revenue_(Millions)'].mean(), inplace=True)\n",
    "imdb['Metascore'].fillna(imdb['Revenue_(Millions)'].mean(), inplace= True)\n",
    "imdb.info()"
   ]
  },
  {
   "cell_type": "markdown",
   "metadata": {
    "colab_type": "text",
    "id": "z1T1BIc4cMJi"
   },
   "source": [
    "Mesmo executando o méetodo `info()` às vezes alguns valores nulos passam despercebidos. Isso porque o valor no dataset pode estar preenchido por um dado do tipo NaN (not a number), que também não é um tipo válido para análises estatísticas.\n",
    "\n",
    "Desse modo vamos calcular quantos valores do tipo NaN possuímos em cada coluna. Execute a célula abaixo para realizar essa operação."
   ]
  },
  {
   "cell_type": "code",
   "execution_count": null,
   "metadata": {
    "colab": {},
    "colab_type": "code",
    "id": "E2ySkW3pcC-C"
   },
   "outputs": [],
   "source": [
    "imdb.isna().sum()"
   ]
  },
  {
   "cell_type": "markdown",
   "metadata": {
    "colab_type": "text",
    "id": "0LlVGsJoc-x3"
   },
   "source": [
    "A composição de métodos isna().sum() nos mostrou que a coluna Genre possui 1 valor nulo. Isso é bem razoável e pouco preocupante. Como temos apenas 1 linha comprometida, temos 3 opções de correção:\n",
    "\n",
    "* 1 - Realizar uma imputação (substiução do dado) com base nos demais filmes\n",
    "* 2 - Verificar o nome do filme e substituir pelo gênero deste.\n",
    "* 3 - Excluir a linha\n",
    "\n",
    "Usualmente quando temos um dataset de tamanho razoável e temos apenas uma linha com dados faltantes, nós excluímos a linha. Isso porque ela representa muito pouco comparado ao tamanho do dataset. No nosso caso, ela representa 0.1% do total.\n",
    "\n",
    "Mesmo assim, não é o que faremos neste roteiro. **:O** \n",
    "\n",
    "Nós vamos optar pela segunda opção. Execute a célula abaixo para obter o nome do filme com gênero faltante.\n"
   ]
  },
  {
   "cell_type": "code",
   "execution_count": null,
   "metadata": {
    "colab": {},
    "colab_type": "code",
    "id": "30KwGx-YeUNE"
   },
   "outputs": [],
   "source": [
    "imdb['Title'][imdb['Genre'].isna()]"
   ]
  },
  {
   "cell_type": "markdown",
   "metadata": {
    "colab_type": "text",
    "id": "isg7KeMehNui"
   },
   "source": [
    "Fazendo uma rápida pesquisa no site do IMDB, verificamos que o gênero do filme Nine Lives é  Comedy, Drama, Family, Fantasy. Seguindo o padrão do dataset vamos adicionar os 3 primeiros gêneros organizados alfabeticamente crescente. \n",
    "\n",
    "Execute a célula abaixo para realizar essa modificação."
   ]
  },
  {
   "cell_type": "code",
   "execution_count": null,
   "metadata": {
    "colab": {},
    "colab_type": "code",
    "id": "4h9gJNs3iKnX"
   },
   "outputs": [],
   "source": [
    "filter = imdb['Title'] == 'Nine Lives'\n",
    "imdb.loc[filter, 'Genre'] = \"Comedy,Drama,Family\""
   ]
  },
  {
   "cell_type": "markdown",
   "metadata": {
    "colab_type": "text",
    "id": "DWAFYeIIXy_n"
   },
   "source": [
    "Pronto, agora não temos valores nulos e poderemos fazer nossas análises com essas colunas, sem problemas. \n",
    "\n",
    "Mas antes disso, dê mais uma olhada no *dataset*. Perceba que a coluna Genre é composta por mútilplos gêneros em cada linha. Essas mútilplas classificações podem se tornar problemáticas para nossas futuras análises, isso porque pode acontecer de cada filme estar classificado em \"gêneros\" especificos e distintos.  \n",
    "\n",
    "O que isso quer dizer na prática é que talvez não possamos agrupar os filmes por gênero, o que na vida real é algo natural quando falamos de filmes, não é mesmo?\n",
    "\n",
    "Mas será que isso de fato acontecendo no nosso *dataset* ? Para verificar essa hipotese, vamos utilizar o método `value_counts()` da biblioteca pandas. Esse método faz a contagem de linhas repetidas na mesma coluna, no nosso caso ele vai servir para vermos quantos filmes são classficados no mesmo gênero.\n",
    "\n",
    "Execute a célula abaixo para ver o que o `value_counts()` nos tráz."
   ]
  },
  {
   "cell_type": "code",
   "execution_count": null,
   "metadata": {
    "colab": {},
    "colab_type": "code",
    "id": "78QJKeNBVdZP"
   },
   "outputs": [],
   "source": [
    "imdb['Genre'].value_counts()"
   ]
  },
  {
   "cell_type": "markdown",
   "metadata": {
    "colab_type": "text",
    "id": "bD8Z5wb-nXG6"
   },
   "source": [
    "Bom, deu para perceber que foi possível agrupar os filmes em categorias, visto que o número de linhas foi reduzido de 1000 para 207, isso é bom. Contudo alguns gêneros contabilizaram apenas 1 filme. Vamos ver quantos foram estes gêneros, executando a célula abaixo.\n"
   ]
  },
  {
   "cell_type": "code",
   "execution_count": null,
   "metadata": {
    "colab": {},
    "colab_type": "code",
    "id": "l5eOJk4joRIg"
   },
   "outputs": [],
   "source": [
    "imdb['Genre'].value_counts()[imdb['Genre'].value_counts() == 1]"
   ]
  },
  {
   "cell_type": "markdown",
   "metadata": {
    "colab_type": "text",
    "id": "L89DlDfkotL8"
   },
   "source": [
    "Dos 207 agrupamentos, 84 possuiam apenas um filme. Podemos melhorar isso. Vamos utilzar apenas as primeiras dois gêneros e ver se isso nos ajuda. \n",
    "\n",
    "Apenas para melhorar a manipulação da coluna Genre vamos juntar os dois primeiros gênero de cada filme seguindo padrão: ***Genero1_Genero2***\n",
    "\n",
    "Execute as células abaixo para modificar o *dataset* e verificar se a nossa ideia ajudou a reduzir o número de categorias.\n"
   ]
  },
  {
   "cell_type": "code",
   "execution_count": null,
   "metadata": {
    "colab": {},
    "colab_type": "code",
    "id": "ZVxJYQDH2zfk"
   },
   "outputs": [],
   "source": [
    "#Alteração no padrão dos gêneros\n",
    "genres_joined = [(\"_\").join(genres) for genres in (imdb['Genre'].apply(lambda x: x.split(\",\")[0:2]))]"
   ]
  },
  {
   "cell_type": "code",
   "execution_count": null,
   "metadata": {
    "colab": {},
    "colab_type": "code",
    "id": "f8Bd9f-wrGQH"
   },
   "outputs": [],
   "source": [
    "#Substituição ds gêneros pelo novo padrão\n",
    "genres_joined_series = pd.Series(genres_joined, index = imdb.index)\n",
    "imdb.loc[:,'Genre'] = genres_joined_series"
   ]
  },
  {
   "cell_type": "code",
   "execution_count": null,
   "metadata": {
    "colab": {},
    "colab_type": "code",
    "id": "3nJsRw0nrTqZ"
   },
   "outputs": [],
   "source": [
    "#Contagen de gênero que possuem apenas 1 filme\n",
    "filter_genres = imdb['Genre'].value_counts() == 1\n",
    "print(imdb['Genre'].value_counts()[filter_genres])\n",
    "print('Length: ' , len(imdb['Genre'].value_counts()[filter_genres]))"
   ]
  },
  {
   "cell_type": "markdown",
   "metadata": {
    "colab_type": "text",
    "id": "agpnva1gthPK"
   },
   "source": [
    "Conseguimos reduzir de 84 para 14 o conjunto de gêneros que agrupam somente 1 filme, isso é razoável. Agora (enfim)vamos partir paras as análises."
   ]
  },
  {
   "cell_type": "markdown",
   "metadata": {
    "colab_type": "text",
    "id": "bPWJKDGlitAA"
   },
   "source": [
    "#5 - Medidas descritivas\n",
    "\n",
    "Agora que você já obteve seu conjunto de dados, realizou a etapa de tratamentos e identificou os tipo dos dados de cada variável, vamos explorá-los um pouco e iniciarmos nossa análise descritiva. \n",
    "\n",
    "De acordo com Reis, E.A., Reis I.A. (2002) a análise descritiva é utilizada para \"organizar, resumir e descrever os aspectos importantes de um conjunto de características observadas ou comparar tais características entre dois ou mais conjuntos\". Dessa forma nas próximas atividades você vai aprender maneiras de utilizar ferramentas descritivas, dentro da linguagem python, que serão úteis para realizar sua análise.\n",
    "\n",
    "Nesse roteiro iremos aprender a calcular as seguintes medidas descritivas:\n",
    "\n",
    "\n",
    "*   Medidas de tenedência central\n",
    "    *   Média\n",
    "    *   Mediana\n",
    "    *   Moda\n",
    "*   Medidas de variabilidade ou dispersão\n",
    "    *   Desvio padrão\n",
    "    *   Variância\n"
   ]
  },
  {
   "cell_type": "markdown",
   "metadata": {
    "colab_type": "text",
    "id": "Fk1GYp06oux5"
   },
   "source": [
    "## 5.1 Medidas de tendência central"
   ]
  },
  {
   "cell_type": "markdown",
   "metadata": {
    "colab_type": "text",
    "id": "6fzapYItjWGM"
   },
   "source": [
    "### 5.1.1 Média (amostral)\n",
    "\n",
    "\n",
    "A média de uma variável,  ***x***,  consiste na soma de todos os seus valores dividida pelo número de amostras, ***N***, da variável:  \n",
    "\n",
    "#<center>$\\frac{{\\sum_{i=1}^{N} x_i}}{N}$</center>\n",
    "\n",
    "Para calcular a média de uma váriavel, vamos utilizar o método **`.sum()`**  e a função **`len()`** na variável que desejamos calcular a média.\n",
    "\n",
    "O método `**sum()**` irá somar todos os valores apresentados na váriavel, equanto a função **`len()`** nos retornará o  número de linhas da amostra, isto é, seu tamanho.\n",
    "\n",
    "No exercicío 2, complete o código para calcular o valor da média para as variáveis Rating e Metascore armazene em duas variáveis chamadas rating_media e metascore_media. \n",
    "\n",
    "Em seguida utilize a função print() passando como argumento a variavel com a média armazenada. (Por exemplo `print(minhaVariavel)`)\n"
   ]
  },
  {
   "cell_type": "code",
   "execution_count": null,
   "metadata": {
    "colab": {},
    "colab_type": "code",
    "id": "Qe2og6d4jawF"
   },
   "outputs": [],
   "source": [
    "#Exercício 2\n",
    "\n",
    "rating_media = .sum()/len(imdb['Rating'])\n",
    "print(\"Média da váriavel Rating\", rating_media)\n",
    "\n",
    "metascore_media = .sum()/ )\n",
    "print(\"Média da váriavel Metascore\", metascore_media)"
   ]
  },
  {
   "cell_type": "markdown",
   "metadata": {
    "colab_type": "text",
    "id": "d2gzxA0tjf-P"
   },
   "source": [
    "Agora que você aprendeu a calcular a média, utilize o método .mean() nas váriaveis Rating e Metascore e compare o resultado com o obtido no exercicio anterior."
   ]
  },
  {
   "cell_type": "code",
   "execution_count": null,
   "metadata": {
    "colab": {},
    "colab_type": "code",
    "id": "-kK3xLBjjfp6"
   },
   "outputs": [],
   "source": [
    "#Exercício 3\n"
   ]
  },
  {
   "cell_type": "markdown",
   "metadata": {
    "colab_type": "text",
    "id": "fmQslh0MjnNp"
   },
   "source": [
    "### 5.1.2 Mediana\n",
    "\n",
    "\n",
    "A mediana é o valor que separa a metade maior da metade menor da nossa variável, ou seja é o valor do meio. \n",
    "\n",
    "Quando temos um número de amostras ímpar a mediana é simplesmente o valor central do conjunto. Por exemplo, no conjunto {0,1,2,3,4} a mediana é 2, pois este número separa o conjunto nas metades menor e maior.\n",
    "\n",
    "Contudo quando o número de amostras é par, não existe uma maneira direta de indicar apenas um elemento para representar o meio do conjunto. Nesse caso nós fazemos a média dos dois elementos do meio. Por exemplo no conjunto {0,1,2,3,4,5} os elementos 2 e 3 estão no meio do conjunto e a medidana se dá através da cálculo: \n",
    "\n",
    "#<center> $ \\frac{2 + 3}{2} = 2.5 $ </center>\n",
    "\n",
    "É importante observar que para calcular a mediana a nossa variável **precisa** estar ordenada de maneira ascendente. No exercício #4, vamos calcular a mediana da variável **Rating** manualmente e comparar o resultado com a implementação do python utilizando a função `median()` da biblioteca numpy.\n",
    "\n",
    "\n",
    "Complete a célula do exércicio 4.\n",
    "\n",
    "Dicas: As funções `ceil()` e `floor()` são reponsáveis por nos retornar o teto e piso de um número real. Por exemplo o teto de 3.5 é 4, já o piso de 3.5 é 3. Ou seja o teto é o primeiro inteiro maior que o número decimal analisado, e o piso é primeiro menor número inteiro.\n",
    "\n"
   ]
  },
  {
   "cell_type": "code",
   "execution_count": null,
   "metadata": {
    "colab": {},
    "colab_type": "code",
    "id": "2LCPD3Gwjm3C"
   },
   "outputs": [],
   "source": [
    "#Exercício 4\n",
    "rating_ordenada = imdb['Rating'].sort_values(ascending=True).copy().values\n",
    "\n",
    "#Cálculo das posições do meio\n",
    "indice_posicao_meio_1 = int(np.floor((len(rating_ordenada) - 1)/2))\n",
    "indice_posicao_meio_2\n",
    "\n",
    "print(\"Índice do primeiro número do meio: \", indice_posicao_meio_1, \"Índice do segundo número do meio: \", indice_posicao_meio_2)\n",
    "\n",
    "print(\"Mediana\", (rating_ordenada[indice_posicao_meio_1] +  )/2)\n",
    "print(\"Mediana\", np.median())"
   ]
  },
  {
   "cell_type": "markdown",
   "metadata": {
    "colab_type": "text",
    "id": "pydc-FOyCZI2"
   },
   "source": [
    "### 5.1.3 - Moda\n",
    "\n",
    "A moda de uma variável amostral é o valor que aparece mais vezes no conjunto de dados. Por exemplo, na sequencia [0,1,2,3,1,4,5,5,6,1,7] a moda é o valor 1, pois ele aparece 3 vezes.\n",
    "\n",
    "Na célula do exercício #5 complete o código para encontrar a moda da variável ***Year*** manualmente e depois compare utilizando o método `value_counts()` da biblioteca ***pandas*** e selecionando o elemento com maior frequência;\n",
    "\n",
    "* Dica: Para selecionar um elemento do value_counts utilize o método `.index[posicao]` com a posição desejada.\n"
   ]
  },
  {
   "cell_type": "code",
   "execution_count": null,
   "metadata": {
    "colab": {},
    "colab_type": "code",
    "id": "4aQosSUBKecO"
   },
   "outputs": [],
   "source": [
    "#Exercício 5\n",
    "\n",
    "year = imdb['Year'].copy()\n",
    "\n",
    "#Código para calcular a moda 'manualmente'\n",
    "\n",
    "year_ordenado = year.sort_values(ascending = True)\n",
    "lista_frequencias = []\n",
    "contador_frequencia = 1\n",
    "ano_atual = year.iloc[0]\n",
    "\n",
    "for ano in year_ordenado:\n",
    "    if ano == ano_atual:\n",
    "        contador_frequencia += 1\n",
    "    else:\n",
    "        lista_frequencias.append([ano_atual, contador_frequencia])\n",
    "        ano_atual = ano\n",
    "        contador_frequencia = 1\n",
    "lista_frequencias.append([ano_atual, contador_frequencia])\n",
    "idx = np.argmax([l[1] for l in lista_frequencias])\n",
    "moda_manual = lista_frequencias[idx][0]\n",
    "\n",
    "\n",
    "\n",
    "\n",
    "#Moda utilizando o value_counts()\n",
    "value_counts = year.value_counts()\n",
    "moda = \n",
    "print(\"Lista da frequencia de cada ano calculada manualmente\\n\", lista_frequencias)\n",
    "\n",
    "print(\"\\nModa calculada manualmente\", moda_manual )\n",
    "print(\"Moda\", moda )"
   ]
  },
  {
   "cell_type": "markdown",
   "metadata": {
    "colab_type": "text",
    "id": "O2gAIBzYZ92d"
   },
   "source": [
    "## 5.2 - Medidas de dispersão"
   ]
  },
  {
   "cell_type": "markdown",
   "metadata": {
    "colab_type": "text",
    "id": "QA7GrGdObkwS"
   },
   "source": [
    "### 5.2.1 - Variância (amostral)\n",
    "\n",
    "A variância é definida pela soma do quadrado dos desvios das amostras em relação à média da amostra, dividido pelo total de valores na amostra menos 1. \n",
    "\n",
    "# <center> $s^2 =\\sum_{i=1}^{n}\\frac{(x - \\bar{x})^2}{n - 1 }$ \n",
    "\n",
    "Onde $\\bar{x}$ é a média da amostra e $n$ o tamanho da amostra.\n",
    "\n",
    "\n",
    "Complete o código do exercício #6 para calcular a variância da variável ***Rating*** e depois utilize a função `var()` da biblioteca *numpy*, utilizando o comando `np.var(minhaVariavel)`."
   ]
  },
  {
   "cell_type": "code",
   "execution_count": null,
   "metadata": {
    "colab": {},
    "colab_type": "code",
    "id": "mYer83BXdJMX"
   },
   "outputs": [],
   "source": [
    "#Exercício 6\n",
    "\n",
    "#Complete o código para calcular variância manualmente\n",
    "\n",
    "rating = imdb.Rating.copy()\n",
    "media_rating = rating.mean()\n",
    "sum_var = 0\n",
    "\n",
    "for rate in rating:\n",
    "    sum_var += \n",
    "\n",
    "\n",
    "var = sum_var/len(rating)\n",
    "\n",
    "var_numpy = \n",
    "\n",
    "print(\"Variância da variável Rating calculada manualmente: \", var)\n",
    "print(\"Variancia da variável Rating com numpy: \", var_numpy)\n"
   ]
  },
  {
   "cell_type": "markdown",
   "metadata": {
    "colab_type": "text",
    "id": "xLdR22ewbp_u"
   },
   "source": [
    "### 5.2.2 - Desvio Padrão (amostral)\n",
    "\n",
    "O desvio padrão é definido como a raíz quadrada da variância, portanto:\n",
    "\n",
    "\n",
    "# <center> $ s = \\sqrt{ \\sum_{i=1}^{n}\\frac{(x - \\bar{x})^2}{n - 1 }}$ \n",
    "\n",
    "Complete o código do exercício #7 para calcular o desvio padrão da variável *Rating*.  \n"
   ]
  },
  {
   "cell_type": "code",
   "execution_count": null,
   "metadata": {
    "colab": {},
    "colab_type": "code",
    "id": "ME2-dAZwlgeT"
   },
   "outputs": [],
   "source": [
    "#Exercício 7\n",
    "\n",
    "desvio = \n",
    "\n",
    "print(\"Desvio padrão: \", desvio)"
   ]
  },
  {
   "cell_type": "markdown",
   "metadata": {
    "colab_type": "text",
    "id": "9RMzyQmbshyE"
   },
   "source": [
    "\n",
    "### 5.2.3 Detecção de outliers utilizando medidas de dispersão\n",
    "\n",
    "Um outlier é um valor que distoa dos demais, uma valor extremo. Por exemplo na sequencia [0,2,1,1,100] o valor 100 pode ser considerado um outlier, pois distoa dos demais por ser muito mais alto que todos os outros. \n",
    "\n",
    "Quando estamos analisando dados, outliers podem nos trazer uma falsa percepção do que os dados realmente querem nos dizer. Como nesta sequência, em que a média dos valores é 20.8, este valor claramente não representa o nosso conjunto de dados."
   ]
  },
  {
   "cell_type": "markdown",
   "metadata": {
    "colab_type": "text",
    "id": "-9ogfx_EdRAu"
   },
   "source": [
    "#### 5.2.3.1 - Detecção de outliers utilizando *score* Z\n",
    "\n",
    "O *score* Z é uma medida que nos diz o quão afastado um valor, pertencente a uma variável, está da média. Precisamente,  ele nos diz a quantas unidades de desvio padrão o valor está afastado da média. \n",
    "\n",
    "O calculo deste score é feito de acordo com a equação abaixo:\n",
    "\n",
    "# <center> $  z = \\frac{x - \\bar{x}}{s}$\n",
    "\n",
    "Onde $\\bar{x}$ é a média da amostra e $s$ o seu desvio padrão.\n",
    "\n",
    "Quando os nossos dados seguem uma distribuíção normal, nós podemos utilizar este valor como uma métrica, de maneira que essa quantidade nos diz se um dado é ou não um outlier.\n",
    "\n",
    "Para isso a estatística utiliza a seguinte regra:\n",
    "\n",
    "### <center> Se |z| > 3, então o valor é um *outlier*.\n",
    "\n",
    "Uma maneira intuitiva de verificar se a sua variável têm uma distribuição aproximada da normal, é fazendo um histograma. Na célula abaixo apresentamos o histograma da variável ***Rating***. Execute o código para visualizar. \n",
    "\n",
    "\n",
    "\n",
    "\n"
   ]
  },
  {
   "cell_type": "code",
   "execution_count": null,
   "metadata": {
    "colab": {},
    "colab_type": "code",
    "id": "jl7bMI05qCAc"
   },
   "outputs": [],
   "source": [
    "figure = plt.figure(figsize=(10,10))\n",
    "\n",
    "axis  = figure.gca()\n",
    "hist = imdb['Rating'].hist(ax= axis)"
   ]
  },
  {
   "cell_type": "markdown",
   "metadata": {
    "colab_type": "text",
    "id": "QZCstA73vRF7"
   },
   "source": [
    "Perceba que a partir do histograma, podemos suspeitar que a distribuição é normal. No exercício #8, complete o código e utilize a regra do *score* Z para identificar os outliers de ***Rating***\n",
    "\n"
   ]
  },
  {
   "cell_type": "code",
   "execution_count": null,
   "metadata": {
    "colab": {},
    "colab_type": "code",
    "id": "nMCQT1NOvQMK"
   },
   "outputs": [],
   "source": [
    "#Exercício 8\n",
    "\n",
    "rating = imdb['Rating'].copy()\n",
    "media_rating = rating.mean()\n",
    "desvio_rating = rating.std()\n",
    "\n",
    "scores_z = []\n",
    "\n",
    "for rate in rating:\n",
    "    scores_z.append( )\n",
    "\n",
    "print(\"Socres Z for Rating:\\n\", scores_z)\n",
    "\n",
    "outliers = rating[np.absolute(scores_z) > 3]\n",
    "print(\"Outliers: \", outliers)"
   ]
  },
  {
   "cell_type": "markdown",
   "metadata": {
    "colab_type": "text",
    "id": "6dCI8Elm1Qpg"
   },
   "source": [
    "#### 5.2.3.2 Detecção de ouliers com boxplot e  distância inter-quartil.\n",
    "\n",
    "\n",
    "Quando os seus dados não seguem uma distribuição normal, você pode detectar os *outliers* utilizando um boxplot. A detecção é feita através do cálculo da distância dos quartís. \n",
    "\n",
    "A regra nos diz que se um valor é menor que Q1 - 1.5xIQR ou maior que Q3 + 1.5xIQR, onde Q1 e Q3 são respectivamente o primeiro e terceiro quartís e IQR é a distância inter-quartil (Q3 - Q1), então esse valor é um *outlier*.\n",
    "\n",
    "Complete o código do exercicío #9 para calcular os quartis e indentificar os outliers da variável ***Rating***.\n"
   ]
  },
  {
   "cell_type": "code",
   "execution_count": null,
   "metadata": {
    "colab": {},
    "colab_type": "code",
    "id": "_4XIayxq7SvC"
   },
   "outputs": [],
   "source": [
    "#Exercício 9\n",
    "rating = imdb['Rating'].copy()\n",
    "\n",
    "Q1 = np.percentile(rating,25)\n",
    "Q3 = np.percentile(rating, 75)\n",
    "\n",
    "# IQR = \n",
    "IQR = Q3 - Q1\n",
    "\n",
    "outliers_baixos = rating[(rating < )]\n",
    "outliers_altos = rating[(rating > )]\n",
    "\n",
    "print(\"Outliers baixos:\\n \", outliers_baixos)\n",
    "print(\"Outliers altos:\\n \", outliers_altos)\n",
    "\n",
    "\n",
    "\n"
   ]
  },
  {
   "cell_type": "markdown",
   "metadata": {
    "colab_type": "text",
    "id": "etg6pL18-JHX"
   },
   "source": [
    "Uma visualização dos outliers pode ser feita utilizando o gráfico boxplot. No exercício 10, utilize o comando **`sns.boxplot(minhaVariavel)`** para obter o gráfico da variável ***Rating***"
   ]
  },
  {
   "cell_type": "code",
   "execution_count": null,
   "metadata": {
    "colab": {},
    "colab_type": "code",
    "id": "jGPo7j06-mSV"
   },
   "outputs": [],
   "source": [
    "#Exercícío 10\n",
    "\n",
    "box = "
   ]
  },
  {
   "cell_type": "markdown",
   "metadata": {
    "colab_type": "text",
    "id": "gnxfkpqz_k2U"
   },
   "source": [
    "No gráfico boxplot podemos ver que valores abaixo de 4.5 já são considerados *outliers*. Confirmando os resultados do exercício anterior."
   ]
  },
  {
   "cell_type": "markdown",
   "metadata": {
    "colab_type": "text",
    "id": "VpX2PRV_cmx-"
   },
   "source": [
    "# 6 - Medidas de associação\n",
    "\n",
    "As medidas de asssociação visam compreender o grau de relacionamento entre as variáveis. Entender se o crescimento de uma variável está relacionado ao de outra, pode ser uma informação muito útil quando precisamos analisar um conjunto de dados. \n",
    "\n",
    "Isso porque as análises buscam entender o comportamento dos dados e extrair o máximo de informação possível que nos ajude a interpretá-los com coerência.\n",
    "\n",
    "Nos próximos tópicos iremos abordar duas maneiras de explorar a associação entre duas variáveis: os gráficos de dispersão e a análise de correlação.\n",
    "\n",
    "\n"
   ]
  },
  {
   "cell_type": "markdown",
   "metadata": {
    "colab_type": "text",
    "id": "TAz0dVwKDjtO"
   },
   "source": [
    "## 6.1 Gráficos de dispersão\n",
    "\n",
    "Que tal verificar se a receita do filme se relaciona de alguma maneira com sua avaliação? \n",
    "\n",
    "Para analisar essa hipotese vamos criar um gráfico de dispersão. No exercício abaixo utilize o método `scatter` no dataframe do imbd. Complete o código escolhendo as colunas ***Revenue_(Millions)*** e ***Rating*** para os parâmetros x e y respectivamente."
   ]
  },
  {
   "cell_type": "code",
   "execution_count": null,
   "metadata": {
    "colab": {},
    "colab_type": "code",
    "id": "YK845riDLW5R"
   },
   "outputs": [],
   "source": [
    "#Exercício 11\n",
    "\n",
    "#Remoção dos outliers das avaliações\n",
    "imdb_cp = imdb.drop(outliers_baixos.index, axis=0)\n",
    "\n",
    "#Remoção dos outlierrs da receita\n",
    "revenue = imdb['Revenue_(Millions)'].copy()\n",
    "\n",
    "Q1_re = np.percentile(revenue,25)\n",
    "Q3_re = np.percentile(revenue, 75)\n",
    "\n",
    "IQR_re = Q3_re - Q1_re\n",
    "\n",
    "outliers_baixos_re = revenue[(revenue < Q1_re - 1.5*IQR_re)]\n",
    "outliers_altos_re = revenue[(revenue > Q3_re + 1.5*IQR_re)]\n",
    "\n",
    "\n",
    "imdb_cp = imdb_cp.drop(outliers_altos_re.index, axis=0)\n",
    "imdb_cp = imdb_cp.drop(outliers_baixos_re.index, axis=0)\n",
    "\n",
    "\n",
    "#plot de dispersão\n",
    "imdb.plot.scatter(x = , y =  )"
   ]
  },
  {
   "cell_type": "markdown",
   "metadata": {
    "colab_type": "text",
    "id": "1URe_BQ-Kcx0"
   },
   "source": [
    "Pelo gráfico obtido, parece que a receita pouco tem a ver com a avaliação, não é mesmo? Você já tinha ideia disso?\n",
    "\n",
    "Perceba que o crescimento da receita não mostra um aumento ou descremeto da notas, o mesmo acontece para o decrescimento da receita."
   ]
  },
  {
   "cell_type": "markdown",
   "metadata": {
    "colab_type": "text",
    "id": "Y82JuNFoKZ7N"
   },
   "source": [
    "Repita o exercicio, mas agora utilize a coluna de duração: ***Runtime_(Minutes)*** no lugar da coluna referente a receita. "
   ]
  },
  {
   "cell_type": "code",
   "execution_count": null,
   "metadata": {
    "colab": {},
    "colab_type": "code",
    "id": "p9jY6Ig_OHs9"
   },
   "outputs": [],
   "source": [
    "#Exercicio 12\n",
    "imdb.plot.scatter(x = , y = )"
   ]
  },
  {
   "cell_type": "markdown",
   "metadata": {
    "colab_type": "text",
    "id": "2B2Cfyc2Oj9R"
   },
   "source": [
    "Perceba que dessa vez conseguimos identificar algum grau de associação entre as variáveis. Ao que parece, à medida que a duração do filme aumenta, as notas de avaliação dos usuários também tendem a aumentar, indicando uma correlação positiva. \n",
    "\n",
    "\n",
    "Contudo, os dados não parecem seguir muito a risca a reta positiva, o que indica que essa correlação é fraca."
   ]
  },
  {
   "cell_type": "markdown",
   "metadata": {
    "colab_type": "text",
    "id": "OeeOJe21DoB2"
   },
   "source": [
    "## 6.2 Análise de correlação\n",
    "\n",
    "O gráfico de dispersão nos dá uma boa ideia da associação entre as variáveis. Mas e se pudessemos quantificar essa associação ? \n",
    "\n",
    "É isso que a análise de correlação faz, ela quantifica o grau de correlação, r, entre duas variáveis.\n",
    "\n",
    "A análise do valor r, se dá da seguinte maneira:\n",
    "\n",
    "* r > 0 - correlação positiva (as variaveis  tendem a crescer ou decrescer juntas)\n",
    "* r < 0 - correlação negativa (quando uma variável cresce a outra tende decrescer e vice-versa)\n",
    "* r = 1 ou muito próximo de 1 - correlação positiva forte \n",
    "* r = -1 ou muito próximo de -1  - correlação negativa forte\n",
    "\n",
    "\n",
    "Vamos refazer os exercícios anteriores, mas agora calculando o coefienciente de correlação.\n",
    "Nos exercícios #12 e #13, complete o código utilizando novamente os pares de variáveis: (Revenue_(Millions), Rating), e (*Runtime_(Minutes)*, *Rating*)"
   ]
  },
  {
   "cell_type": "code",
   "execution_count": null,
   "metadata": {
    "colab": {},
    "colab_type": "code",
    "id": "R9-ckCAdHlz2"
   },
   "outputs": [],
   "source": [
    "#Exercício 12\n",
    "\n",
    "#Remoção dos outliers das colunas de receita e avaliação\n",
    "imdb_cp = imdb.drop(outliers_altos_re.index, axis=0)\n",
    "imdb_cp = imdb_cp.drop(outliers_baixos.index, axis=0)\n",
    "\n",
    "r1 = np.corrcoef(imdb_cp['Revenue_(Millions)'],  )\n",
    "\n",
    "print(\"O coeficiente de correlação entre receita do filme e avaliação é: \", r1[0][1])\n"
   ]
  },
  {
   "cell_type": "code",
   "execution_count": null,
   "metadata": {
    "colab": {},
    "colab_type": "code",
    "id": "0Rl5K_RDUaIB"
   },
   "outputs": [],
   "source": [
    "#Exercício 13\n",
    "\n",
    "#Remoção dos outliers de e avaliação\n",
    "imdb_cp = imdb.drop(outliers_baixos.index, axis=0)\n",
    "\n",
    "#Calculo do coeficiente de relçao entre ass colunas de duração do filme e avaliação\n",
    "r2 = np.corrcoef( , imdb_cp['Rating'])\n",
    "\n",
    "print(\"O coeficiente de correlação entre duração do filme e avaliação é: \", r2[0][1])"
   ]
  },
  {
   "cell_type": "markdown",
   "metadata": {
    "colab_type": "text",
    "id": "jTglsJ7bV76b"
   },
   "source": [
    "Perceba que os coeficientes de correlação confirmaram nossas suspeitas feitas a partir da análise dos gráficos de dispersão."
   ]
  }
 ],
 "metadata": {
  "colab": {
   "authorship_tag": "ABX9TyO47wJIIaxM/U0HoHvOnMIB",
   "collapsed_sections": [],
   "name": "Roteiro_de_atividades_2",
   "provenance": [
    {
     "file_id": "1K0Kkn7nyouc578BFDu0P_sjH4LKwExI_",
     "timestamp": 1593321292262
    }
   ]
  },
  "kernelspec": {
   "display_name": "Python 3",
   "language": "python",
   "name": "python3"
  },
  "language_info": {
   "codemirror_mode": {
    "name": "ipython",
    "version": 3
   },
   "file_extension": ".py",
   "mimetype": "text/x-python",
   "name": "python",
   "nbconvert_exporter": "python",
   "pygments_lexer": "ipython3",
   "version": "3.8.3"
  }
 },
 "nbformat": 4,
 "nbformat_minor": 1
}
