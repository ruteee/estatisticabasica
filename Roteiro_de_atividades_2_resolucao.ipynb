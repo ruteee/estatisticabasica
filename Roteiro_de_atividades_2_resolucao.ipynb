{
 "cells": [
  {
   "cell_type": "markdown",
   "metadata": {
    "colab_type": "text",
    "id": "94BnXezxoqnN"
   },
   "source": [
    "# Roteiro 2 - Medidas de tendência central/ Medidas de dispersão/ Medidas de associação\n",
    "\n",
    "\n"
   ]
  },
  {
   "cell_type": "markdown",
   "metadata": {
    "colab_type": "text",
    "id": "yfUf_bFSzzOv"
   },
   "source": [
    "# Objetivo\n",
    "\n",
    "Trabalhar com a base de dados \"***IMDB data from 2006 to 2016***\" com ajuda da ferramenta Google Colab e utilização da linguagem de programação Python, de maneira a fixar os Seguintes conteúdos: \n",
    "\n",
    "*   Medidas de tendência central\n",
    "*   Medidas de dispersão\n",
    "*   Medidas de associação"
   ]
  },
  {
   "cell_type": "markdown",
   "metadata": {
    "colab_type": "text",
    "id": "wFVlzNXN3IEL"
   },
   "source": [
    "# 1 - Obtendo a base de dados\n",
    "\n",
    "Assim como no roteiro da semana passada, nós iremos utilizar a plataforma Kaggle. Se você não sabe o que é o kaggle e nem pra que ele serve, dá uma olhada rapidinha no [roteiro Nº 1](https://colab.research.google.com/drive/1im4MlNdIdc9zRBy_wHiKmhPadmnTcBq-?usp=sharing#scrollTo=i1BBTqXC6zmX).\n",
    "\n",
    "Para obter a base de dados do imbd vocês devem ir até o endereço https://www.kaggle.com , fazer login e procurar no menu *search* pelo termo: IMDB data from 2006 to 2016. Escolham o primeiro *dataset* by PrompCloud. Clique na opção \"*download*\", isso deverá baixar para o seu computador um arquivo chamado \"datasets_1474_2639_IMDB-Movie-Data\", por conveniência nós vamos renomear esse arquivo como \"imdb.csv\"."
   ]
  },
  {
   "cell_type": "markdown",
   "metadata": {
    "colab_type": "text",
    "id": "y02Dh3cU7xH8"
   },
   "source": [
    "# 2- Importando bibliotecas iniciais e fazendo a leitura dos dados.\n",
    "\n",
    "Agora que já temos o arquivo baixado e renomeado, vamos fazer o upload dele para o colab. Para fazer isto, clique no símbolo da pasta de arquivos no menu lateral esquerdo  e depois na opção \"Fazer upload para armazenamento da sessão\", por fim escolha seu arquivo.\n",
    "\n",
    "Por enquanto vamos fazer o import apenas das bibliotecas que iremos usar inicialmente, são elas:\n",
    "\n",
    "* **Pandas** - Para visualização e manipulação dos dados.\n",
    "* **Numpy** - Para manipulação de dados em formatos de arrays e matrizes e realização de operações matemáticas.\n",
    "\n",
    "* **Matplotlib**, **Seaborn** - Para criação de gráficos e visualizações.\n",
    "\n",
    "\n",
    "Execute a célula abaixo para relizar a importação."
   ]
  },
  {
   "cell_type": "code",
   "execution_count": 1,
   "metadata": {
    "colab": {
     "base_uri": "https://localhost:8080/",
     "height": 51
    },
    "colab_type": "code",
    "executionInfo": {
     "elapsed": 977,
     "status": "ok",
     "timestamp": 1593322558390,
     "user": {
      "displayName": "Rute Abreu",
      "photoUrl": "https://lh3.googleusercontent.com/a-/AOh14GiUpD-uropAPP9cuQxhGaGef5gUpubY536n0IPT=s64",
      "userId": "06754473900038904498"
     },
     "user_tz": 180
    },
    "id": "3J4pmN_xisIr",
    "outputId": "fdb1c9aa-cd98-4bc7-94e2-0cc80b567c40"
   },
   "outputs": [
    {
     "name": "stderr",
     "output_type": "stream",
     "text": [
      "/usr/local/lib/python3.6/dist-packages/statsmodels/tools/_testing.py:19: FutureWarning: pandas.util.testing is deprecated. Use the functions in the public API at pandas.testing instead.\n",
      "  import pandas.util.testing as tm\n"
     ]
    }
   ],
   "source": [
    "import pandas as pd\n",
    "import numpy as np\n",
    "import matplotlib.pyplot as plt\n",
    "import seaborn as sns"
   ]
  },
  {
   "cell_type": "markdown",
   "metadata": {
    "colab_type": "text",
    "id": "GjwKPxsGAgbN"
   },
   "source": [
    "Execute a célula abaixo para realizar a leitura e armazenamento do dataset para a variável **imdb**."
   ]
  },
  {
   "cell_type": "code",
   "execution_count": 2,
   "metadata": {
    "colab": {},
    "colab_type": "code",
    "executionInfo": {
     "elapsed": 1266,
     "status": "ok",
     "timestamp": 1593322558709,
     "user": {
      "displayName": "Rute Abreu",
      "photoUrl": "https://lh3.googleusercontent.com/a-/AOh14GiUpD-uropAPP9cuQxhGaGef5gUpubY536n0IPT=s64",
      "userId": "06754473900038904498"
     },
     "user_tz": 180
    },
    "id": "d_qWixJzoOs3"
   },
   "outputs": [],
   "source": [
    "imdb = pd.read_csv(\"imdb.csv\", index_col=0)"
   ]
  },
  {
   "cell_type": "markdown",
   "metadata": {
    "colab_type": "text",
    "id": "RNwAKouhBkkD"
   },
   "source": [
    "Dê uma olhada no \"cara\" dos seus dados executando o comando: `seuDataset.head()`"
   ]
  },
  {
   "cell_type": "code",
   "execution_count": 3,
   "metadata": {
    "colab": {
     "base_uri": "https://localhost:8080/",
     "height": 337
    },
    "colab_type": "code",
    "executionInfo": {
     "elapsed": 1249,
     "status": "ok",
     "timestamp": 1593322558710,
     "user": {
      "displayName": "Rute Abreu",
      "photoUrl": "https://lh3.googleusercontent.com/a-/AOh14GiUpD-uropAPP9cuQxhGaGef5gUpubY536n0IPT=s64",
      "userId": "06754473900038904498"
     },
     "user_tz": 180
    },
    "id": "ezRfk5ePBwA9",
    "outputId": "9ba983f5-6977-4b09-be01-7c4c6a6b9dfa"
   },
   "outputs": [
    {
     "data": {
      "text/html": [
       "<div>\n",
       "<style scoped>\n",
       "    .dataframe tbody tr th:only-of-type {\n",
       "        vertical-align: middle;\n",
       "    }\n",
       "\n",
       "    .dataframe tbody tr th {\n",
       "        vertical-align: top;\n",
       "    }\n",
       "\n",
       "    .dataframe thead th {\n",
       "        text-align: right;\n",
       "    }\n",
       "</style>\n",
       "<table border=\"1\" class=\"dataframe\">\n",
       "  <thead>\n",
       "    <tr style=\"text-align: right;\">\n",
       "      <th></th>\n",
       "      <th>Title</th>\n",
       "      <th>Genre</th>\n",
       "      <th>Description</th>\n",
       "      <th>Director</th>\n",
       "      <th>Actors</th>\n",
       "      <th>Year</th>\n",
       "      <th>Runtime (Minutes)</th>\n",
       "      <th>Rating</th>\n",
       "      <th>Votes</th>\n",
       "      <th>Revenue (Millions)</th>\n",
       "      <th>Metascore</th>\n",
       "    </tr>\n",
       "    <tr>\n",
       "      <th>Rank</th>\n",
       "      <th></th>\n",
       "      <th></th>\n",
       "      <th></th>\n",
       "      <th></th>\n",
       "      <th></th>\n",
       "      <th></th>\n",
       "      <th></th>\n",
       "      <th></th>\n",
       "      <th></th>\n",
       "      <th></th>\n",
       "      <th></th>\n",
       "    </tr>\n",
       "  </thead>\n",
       "  <tbody>\n",
       "    <tr>\n",
       "      <th>1</th>\n",
       "      <td>Guardians of the Galaxy</td>\n",
       "      <td>Action,Adventure,Sci-Fi</td>\n",
       "      <td>A group of intergalactic criminals are forced ...</td>\n",
       "      <td>James Gunn</td>\n",
       "      <td>Chris Pratt, Vin Diesel, Bradley Cooper, Zoe S...</td>\n",
       "      <td>2014</td>\n",
       "      <td>121</td>\n",
       "      <td>8.1</td>\n",
       "      <td>757074</td>\n",
       "      <td>333.13</td>\n",
       "      <td>76.0</td>\n",
       "    </tr>\n",
       "    <tr>\n",
       "      <th>2</th>\n",
       "      <td>Prometheus</td>\n",
       "      <td>Adventure,Mystery,Sci-Fi</td>\n",
       "      <td>Following clues to the origin of mankind, a te...</td>\n",
       "      <td>Ridley Scott</td>\n",
       "      <td>Noomi Rapace, Logan Marshall-Green, Michael Fa...</td>\n",
       "      <td>2012</td>\n",
       "      <td>124</td>\n",
       "      <td>7.0</td>\n",
       "      <td>485820</td>\n",
       "      <td>126.46</td>\n",
       "      <td>65.0</td>\n",
       "    </tr>\n",
       "    <tr>\n",
       "      <th>3</th>\n",
       "      <td>Split</td>\n",
       "      <td>Horror,Thriller</td>\n",
       "      <td>Three girls are kidnapped by a man with a diag...</td>\n",
       "      <td>M. Night Shyamalan</td>\n",
       "      <td>James McAvoy, Anya Taylor-Joy, Haley Lu Richar...</td>\n",
       "      <td>2016</td>\n",
       "      <td>117</td>\n",
       "      <td>7.3</td>\n",
       "      <td>157606</td>\n",
       "      <td>138.12</td>\n",
       "      <td>62.0</td>\n",
       "    </tr>\n",
       "    <tr>\n",
       "      <th>4</th>\n",
       "      <td>Sing</td>\n",
       "      <td>Animation,Comedy,Family</td>\n",
       "      <td>In a city of humanoid animals, a hustling thea...</td>\n",
       "      <td>Christophe Lourdelet</td>\n",
       "      <td>Matthew McConaughey,Reese Witherspoon, Seth Ma...</td>\n",
       "      <td>2016</td>\n",
       "      <td>108</td>\n",
       "      <td>7.2</td>\n",
       "      <td>60545</td>\n",
       "      <td>270.32</td>\n",
       "      <td>59.0</td>\n",
       "    </tr>\n",
       "    <tr>\n",
       "      <th>5</th>\n",
       "      <td>Suicide Squad</td>\n",
       "      <td>Action,Adventure,Fantasy</td>\n",
       "      <td>A secret government agency recruits some of th...</td>\n",
       "      <td>David Ayer</td>\n",
       "      <td>Will Smith, Jared Leto, Margot Robbie, Viola D...</td>\n",
       "      <td>2016</td>\n",
       "      <td>123</td>\n",
       "      <td>6.2</td>\n",
       "      <td>393727</td>\n",
       "      <td>325.02</td>\n",
       "      <td>40.0</td>\n",
       "    </tr>\n",
       "  </tbody>\n",
       "</table>\n",
       "</div>"
      ],
      "text/plain": [
       "                        Title  ... Metascore\n",
       "Rank                           ...          \n",
       "1     Guardians of the Galaxy  ...      76.0\n",
       "2                  Prometheus  ...      65.0\n",
       "3                       Split  ...      62.0\n",
       "4                        Sing  ...      59.0\n",
       "5               Suicide Squad  ...      40.0\n",
       "\n",
       "[5 rows x 11 columns]"
      ]
     },
     "execution_count": 3,
     "metadata": {
      "tags": []
     },
     "output_type": "execute_result"
    }
   ],
   "source": [
    "#Exercício 1\n",
    "\n",
    "imdb.head()"
   ]
  },
  {
   "cell_type": "markdown",
   "metadata": {
    "colab_type": "text",
    "id": "ZUqu5pVeAfsh"
   },
   "source": [
    "# 3 - Descrição do dataset\n",
    "\n",
    "O *dataset* que vamos usar, nossa base dados, é composto por um conjunto de avaliações de filmes lançados entre os anos de 2006 e 2016. As avaliações foram realizadas por usuários reais do site IMDB. Além de contar com a nota de avaliação, variando de 0 a 10, o *dataset* possui um conjunto de colunas com caracterisicas do filme como: título, gênero, descrição, ano de lançamento, entre outras.\n",
    "\n",
    "**Descrição das colunas:**\n",
    "\n",
    "**Title** - Título do filme. <br>\n",
    "**Genre** - Conjunto de gêneros atribuídos ao filme. <br>\n",
    "**Description** - Sinopse da história.<br>\n",
    "**Director** - Diretor do filme.<br>\n",
    "**Actors** - Conjunto de atores que trabalharam no filme. <br>\n",
    "**Year** - Ano de lançamento da obra.<br>\n",
    "**Runtime(Minutes)** - Duração total do filme. <br>\n",
    "**Rating** - Avalição dos usuários variando de 0 à 10. <br>\n",
    "**Votes** - Total de votos recebidos no IMDB. <br>\n",
    "**Revenue(Millions)** - Receita do filme. <br>\n",
    "**Metascore** - Nota do site metacritic.com, fornecida por críticos de cinema. <br>"
   ]
  },
  {
   "cell_type": "markdown",
   "metadata": {
    "colab_type": "text",
    "id": "2dU7HMSVI6cl"
   },
   "source": [
    "# 4 - Tratamento dos dados"
   ]
  },
  {
   "cell_type": "markdown",
   "metadata": {
    "colab_type": "text",
    "id": "Wbak_FsLPn5f"
   },
   "source": [
    "Antes de começarmos a realizar o tratamento do dados, apenas por questões de praticidade na manipulação destes, iremos substitiur os caracteres de espaços inclusos nos nomes das colunas pelo caractere: _ (underscore)\n",
    "\n",
    "Execute a célula abaixo para realizar essa mudança."
   ]
  },
  {
   "cell_type": "code",
   "execution_count": 4,
   "metadata": {
    "colab": {
     "base_uri": "https://localhost:8080/",
     "height": 320
    },
    "colab_type": "code",
    "executionInfo": {
     "elapsed": 1777,
     "status": "ok",
     "timestamp": 1593322559262,
     "user": {
      "displayName": "Rute Abreu",
      "photoUrl": "https://lh3.googleusercontent.com/a-/AOh14GiUpD-uropAPP9cuQxhGaGef5gUpubY536n0IPT=s64",
      "userId": "06754473900038904498"
     },
     "user_tz": 180
    },
    "id": "l1M5LkIsQqqu",
    "outputId": "9da9ef22-58fe-4052-c8d8-54fdc3d565a5"
   },
   "outputs": [
    {
     "data": {
      "text/html": [
       "<div>\n",
       "<style scoped>\n",
       "    .dataframe tbody tr th:only-of-type {\n",
       "        vertical-align: middle;\n",
       "    }\n",
       "\n",
       "    .dataframe tbody tr th {\n",
       "        vertical-align: top;\n",
       "    }\n",
       "\n",
       "    .dataframe thead th {\n",
       "        text-align: right;\n",
       "    }\n",
       "</style>\n",
       "<table border=\"1\" class=\"dataframe\">\n",
       "  <thead>\n",
       "    <tr style=\"text-align: right;\">\n",
       "      <th></th>\n",
       "      <th>Title</th>\n",
       "      <th>Genre</th>\n",
       "      <th>Description</th>\n",
       "      <th>Director</th>\n",
       "      <th>Actors</th>\n",
       "      <th>Year</th>\n",
       "      <th>Runtime_(Minutes)</th>\n",
       "      <th>Rating</th>\n",
       "      <th>Votes</th>\n",
       "      <th>Revenue_(Millions)</th>\n",
       "      <th>Metascore</th>\n",
       "    </tr>\n",
       "    <tr>\n",
       "      <th>Rank</th>\n",
       "      <th></th>\n",
       "      <th></th>\n",
       "      <th></th>\n",
       "      <th></th>\n",
       "      <th></th>\n",
       "      <th></th>\n",
       "      <th></th>\n",
       "      <th></th>\n",
       "      <th></th>\n",
       "      <th></th>\n",
       "      <th></th>\n",
       "    </tr>\n",
       "  </thead>\n",
       "  <tbody>\n",
       "    <tr>\n",
       "      <th>1</th>\n",
       "      <td>Guardians of the Galaxy</td>\n",
       "      <td>Action,Adventure,Sci-Fi</td>\n",
       "      <td>A group of intergalactic criminals are forced ...</td>\n",
       "      <td>James Gunn</td>\n",
       "      <td>Chris Pratt, Vin Diesel, Bradley Cooper, Zoe S...</td>\n",
       "      <td>2014</td>\n",
       "      <td>121</td>\n",
       "      <td>8.1</td>\n",
       "      <td>757074</td>\n",
       "      <td>333.13</td>\n",
       "      <td>76.0</td>\n",
       "    </tr>\n",
       "    <tr>\n",
       "      <th>2</th>\n",
       "      <td>Prometheus</td>\n",
       "      <td>Adventure,Mystery,Sci-Fi</td>\n",
       "      <td>Following clues to the origin of mankind, a te...</td>\n",
       "      <td>Ridley Scott</td>\n",
       "      <td>Noomi Rapace, Logan Marshall-Green, Michael Fa...</td>\n",
       "      <td>2012</td>\n",
       "      <td>124</td>\n",
       "      <td>7.0</td>\n",
       "      <td>485820</td>\n",
       "      <td>126.46</td>\n",
       "      <td>65.0</td>\n",
       "    </tr>\n",
       "    <tr>\n",
       "      <th>3</th>\n",
       "      <td>Split</td>\n",
       "      <td>Horror,Thriller</td>\n",
       "      <td>Three girls are kidnapped by a man with a diag...</td>\n",
       "      <td>M. Night Shyamalan</td>\n",
       "      <td>James McAvoy, Anya Taylor-Joy, Haley Lu Richar...</td>\n",
       "      <td>2016</td>\n",
       "      <td>117</td>\n",
       "      <td>7.3</td>\n",
       "      <td>157606</td>\n",
       "      <td>138.12</td>\n",
       "      <td>62.0</td>\n",
       "    </tr>\n",
       "    <tr>\n",
       "      <th>4</th>\n",
       "      <td>Sing</td>\n",
       "      <td>Animation,Comedy,Family</td>\n",
       "      <td>In a city of humanoid animals, a hustling thea...</td>\n",
       "      <td>Christophe Lourdelet</td>\n",
       "      <td>Matthew McConaughey,Reese Witherspoon, Seth Ma...</td>\n",
       "      <td>2016</td>\n",
       "      <td>108</td>\n",
       "      <td>7.2</td>\n",
       "      <td>60545</td>\n",
       "      <td>270.32</td>\n",
       "      <td>59.0</td>\n",
       "    </tr>\n",
       "    <tr>\n",
       "      <th>5</th>\n",
       "      <td>Suicide Squad</td>\n",
       "      <td>Action,Adventure,Fantasy</td>\n",
       "      <td>A secret government agency recruits some of th...</td>\n",
       "      <td>David Ayer</td>\n",
       "      <td>Will Smith, Jared Leto, Margot Robbie, Viola D...</td>\n",
       "      <td>2016</td>\n",
       "      <td>123</td>\n",
       "      <td>6.2</td>\n",
       "      <td>393727</td>\n",
       "      <td>325.02</td>\n",
       "      <td>40.0</td>\n",
       "    </tr>\n",
       "  </tbody>\n",
       "</table>\n",
       "</div>"
      ],
      "text/plain": [
       "                        Title  ... Metascore\n",
       "Rank                           ...          \n",
       "1     Guardians of the Galaxy  ...      76.0\n",
       "2                  Prometheus  ...      65.0\n",
       "3                       Split  ...      62.0\n",
       "4                        Sing  ...      59.0\n",
       "5               Suicide Squad  ...      40.0\n",
       "\n",
       "[5 rows x 11 columns]"
      ]
     },
     "execution_count": 4,
     "metadata": {
      "tags": []
     },
     "output_type": "execute_result"
    }
   ],
   "source": [
    "#Renomeando colunas - Substituição de espaços por símbolo underscore\n",
    "imdb.rename(lambda column: column.replace(\" \", \"_\"), axis=1, inplace=True)\n",
    "imdb.head()"
   ]
  },
  {
   "cell_type": "markdown",
   "metadata": {
    "colab_type": "text",
    "id": "mYt3SUSMd3D1"
   },
   "source": [
    "Execute a celula abaixo e observe o resultado do método `.info()`.\n"
   ]
  },
  {
   "cell_type": "code",
   "execution_count": 28,
   "metadata": {
    "colab": {
     "base_uri": "https://localhost:8080/",
     "height": 323
    },
    "colab_type": "code",
    "executionInfo": {
     "elapsed": 801,
     "status": "ok",
     "timestamp": 1593323298710,
     "user": {
      "displayName": "Rute Abreu",
      "photoUrl": "https://lh3.googleusercontent.com/a-/AOh14GiUpD-uropAPP9cuQxhGaGef5gUpubY536n0IPT=s64",
      "userId": "06754473900038904498"
     },
     "user_tz": 180
    },
    "id": "vAGQ-ENWd_Fd",
    "outputId": "3524ec1e-f7b0-4291-f11e-cdbdf0367d54"
   },
   "outputs": [
    {
     "name": "stdout",
     "output_type": "stream",
     "text": [
      "<class 'pandas.core.frame.DataFrame'>\n",
      "Int64Index: 1000 entries, 1 to 1000\n",
      "Data columns (total 11 columns):\n",
      " #   Column              Non-Null Count  Dtype  \n",
      "---  ------              --------------  -----  \n",
      " 0   Title               1000 non-null   object \n",
      " 1   Genre               1000 non-null   object \n",
      " 2   Description         1000 non-null   object \n",
      " 3   Director            1000 non-null   object \n",
      " 4   Actors              1000 non-null   object \n",
      " 5   Year                1000 non-null   int64  \n",
      " 6   Runtime_(Minutes)   1000 non-null   int64  \n",
      " 7   Rating              1000 non-null   float64\n",
      " 8   Votes               1000 non-null   int64  \n",
      " 9   Revenue_(Millions)  1000 non-null   float64\n",
      " 10  Metascore           1000 non-null   float64\n",
      "dtypes: float64(3), int64(3), object(5)\n",
      "memory usage: 133.8+ KB\n"
     ]
    }
   ],
   "source": [
    "imdb.info()"
   ]
  },
  {
   "cell_type": "markdown",
   "metadata": {
    "colab_type": "text",
    "id": "UJ9Jh0SKNy8k"
   },
   "source": [
    "Como você viu no resultado do método info(), as colunas Revenue_(Millions) e Metascore possuem respectivamente 128 e 64 linhas faltantes. Diferentemente do que fizemos no roteiro passado, desta vez não vamos descartar estas linhas, vamos optar por uma estratégia de imputação.\n",
    "\n",
    "A estratégia que utilizaremos será subtitutição dos valores faltantes pela média dos valores totais. Execute a celula abaixo para realizar este passo."
   ]
  },
  {
   "cell_type": "code",
   "execution_count": 5,
   "metadata": {
    "colab": {
     "base_uri": "https://localhost:8080/",
     "height": 323
    },
    "colab_type": "code",
    "executionInfo": {
     "elapsed": 1756,
     "status": "ok",
     "timestamp": 1593322559264,
     "user": {
      "displayName": "Rute Abreu",
      "photoUrl": "https://lh3.googleusercontent.com/a-/AOh14GiUpD-uropAPP9cuQxhGaGef5gUpubY536n0IPT=s64",
      "userId": "06754473900038904498"
     },
     "user_tz": 180
    },
    "id": "fMxQJw5mNx0h",
    "outputId": "94159348-50cc-47de-dd43-4a10b01f90a6"
   },
   "outputs": [
    {
     "name": "stdout",
     "output_type": "stream",
     "text": [
      "<class 'pandas.core.frame.DataFrame'>\n",
      "Int64Index: 1000 entries, 1 to 1000\n",
      "Data columns (total 11 columns):\n",
      " #   Column              Non-Null Count  Dtype  \n",
      "---  ------              --------------  -----  \n",
      " 0   Title               1000 non-null   object \n",
      " 1   Genre               1000 non-null   object \n",
      " 2   Description         1000 non-null   object \n",
      " 3   Director            1000 non-null   object \n",
      " 4   Actors              1000 non-null   object \n",
      " 5   Year                1000 non-null   int64  \n",
      " 6   Runtime_(Minutes)   1000 non-null   int64  \n",
      " 7   Rating              1000 non-null   float64\n",
      " 8   Votes               1000 non-null   int64  \n",
      " 9   Revenue_(Millions)  1000 non-null   float64\n",
      " 10  Metascore           1000 non-null   float64\n",
      "dtypes: float64(3), int64(3), object(5)\n",
      "memory usage: 93.8+ KB\n"
     ]
    }
   ],
   "source": [
    "imdb['Revenue_(Millions)'].fillna(imdb['Revenue_(Millions)'].mean(), inplace=True)\n",
    "imdb['Metascore'].fillna(imdb['Revenue_(Millions)'].mean(), inplace= True)\n",
    "imdb.info()"
   ]
  },
  {
   "cell_type": "markdown",
   "metadata": {
    "colab_type": "text",
    "id": "z1T1BIc4cMJi"
   },
   "source": [
    "Mesmo executando o méetodo `info()` às vezes alguns valores nulos passam despercebidos. Isso porque o valor no dataset pode estar preenchido por um dado do tipo NaN (not a number), que também não é um tipo válido para análises estatísticas.\n",
    "\n",
    "Desse modo vamos calcular quantos valores do tipo NaN possuímos em cada coluna. Execute a célula abaixo para realizar essa operação."
   ]
  },
  {
   "cell_type": "code",
   "execution_count": 6,
   "metadata": {
    "colab": {
     "base_uri": "https://localhost:8080/",
     "height": 221
    },
    "colab_type": "code",
    "executionInfo": {
     "elapsed": 1732,
     "status": "ok",
     "timestamp": 1593322559265,
     "user": {
      "displayName": "Rute Abreu",
      "photoUrl": "https://lh3.googleusercontent.com/a-/AOh14GiUpD-uropAPP9cuQxhGaGef5gUpubY536n0IPT=s64",
      "userId": "06754473900038904498"
     },
     "user_tz": 180
    },
    "id": "E2ySkW3pcC-C",
    "outputId": "ae8c0cea-b609-441e-809a-db9cb82f14e7"
   },
   "outputs": [
    {
     "data": {
      "text/plain": [
       "Title                 0\n",
       "Genre                 0\n",
       "Description           0\n",
       "Director              0\n",
       "Actors                0\n",
       "Year                  0\n",
       "Runtime_(Minutes)     0\n",
       "Rating                0\n",
       "Votes                 0\n",
       "Revenue_(Millions)    0\n",
       "Metascore             0\n",
       "dtype: int64"
      ]
     },
     "execution_count": 6,
     "metadata": {
      "tags": []
     },
     "output_type": "execute_result"
    }
   ],
   "source": [
    "imdb.isna().sum()"
   ]
  },
  {
   "cell_type": "markdown",
   "metadata": {
    "colab_type": "text",
    "id": "0LlVGsJoc-x3"
   },
   "source": [
    "A composição de métodos isna().sum() nos mostrou que a coluna Genre possui 1 valor nulo. Isso é bem razoável e pouco preocupante. Como temos apenas 1 linha comprometida, temos 3 opções de correção:\n",
    "\n",
    "* 1 - Realizar uma imputação (substiução do dado) com base nos demais filmes\n",
    "* 2 - Verificar o nome do filme e substituir pelo gênero deste.\n",
    "* 3 - Excluir a linha\n",
    "\n",
    "Usualmente quando temos um dataset de tamanho razoável e temos apenas uma linha com dados faltantes, nós excluímos a linha. Isso porque ela representa muito pouco comparado ao tamanho do dataset. No nosso caso, ela representa 0.1% do total.\n",
    "\n",
    "Mesmo assim, não é o que faremos neste roteiro. **:O** \n",
    "\n",
    "Nós vamos optar pela segunda opção. Execute a célula abaixo para obter o nome do filme com gênero faltante."
   ]
  },
  {
   "cell_type": "code",
   "execution_count": 7,
   "metadata": {
    "colab": {
     "base_uri": "https://localhost:8080/",
     "height": 34
    },
    "colab_type": "code",
    "executionInfo": {
     "elapsed": 1706,
     "status": "ok",
     "timestamp": 1593322559265,
     "user": {
      "displayName": "Rute Abreu",
      "photoUrl": "https://lh3.googleusercontent.com/a-/AOh14GiUpD-uropAPP9cuQxhGaGef5gUpubY536n0IPT=s64",
      "userId": "06754473900038904498"
     },
     "user_tz": 180
    },
    "id": "30KwGx-YeUNE",
    "outputId": "677784a6-5ce5-4c0a-dc44-32277446bb0e"
   },
   "outputs": [
    {
     "data": {
      "text/plain": [
       "Series([], Name: Title, dtype: object)"
      ]
     },
     "execution_count": 7,
     "metadata": {
      "tags": []
     },
     "output_type": "execute_result"
    }
   ],
   "source": [
    "imdb['Title'][imdb['Genre'].isna()]"
   ]
  },
  {
   "cell_type": "markdown",
   "metadata": {
    "colab_type": "text",
    "id": "isg7KeMehNui"
   },
   "source": [
    "Fazendo uma rápida pesquisa no site do IMDB, verificamos que o gênero do filme Nine Lives é  Comedy, Drama, Family, Fantasy. Seguindo o padrão do dataset vamos adicionar os 3 primeiros gêneros organizados alfabeticamente crescente. \n",
    "\n",
    "Execute a célula abaixo para realizar essa modificação."
   ]
  },
  {
   "cell_type": "code",
   "execution_count": 8,
   "metadata": {
    "colab": {},
    "colab_type": "code",
    "executionInfo": {
     "elapsed": 1681,
     "status": "ok",
     "timestamp": 1593322559267,
     "user": {
      "displayName": "Rute Abreu",
      "photoUrl": "https://lh3.googleusercontent.com/a-/AOh14GiUpD-uropAPP9cuQxhGaGef5gUpubY536n0IPT=s64",
      "userId": "06754473900038904498"
     },
     "user_tz": 180
    },
    "id": "4h9gJNs3iKnX"
   },
   "outputs": [],
   "source": [
    "filter = imdb['Title'] == 'Nine Lives'\n",
    "imdb.loc[filter, 'Genre'] = \"Comedy,Drama,Family\""
   ]
  },
  {
   "cell_type": "markdown",
   "metadata": {
    "colab_type": "text",
    "id": "DWAFYeIIXy_n"
   },
   "source": [
    "Pronto, agora não temos valores nulos e poderemos fazer nossas análises com essas colunas, sem problemas. \n",
    "\n",
    "Mas antes disso, dê mais uma olhada no *dataset*. Perceba que a coluna Genre é composta por mútilplos gêneros em cada linha. Essas mútilplas classificações podem se tornar problemáticas para nossas futuras análises, isso porque pode acontecer de cada filme estar classificado em \"gêneros\" especificos e distintos.  \n",
    "\n",
    "O que isso quer dizer na prática é que talvez não possamos agrupar os filmes por gênero, o que na vida real é algo natural quando falamos de filmes, não é mesmo?\n",
    "\n",
    "Mas será que isso de fato acontecendo no nosso *dataset* ? Para verificar essa hipotese, vamos utilizar o método `value_counts()` da biblioteca pandas. Esse método faz a contagem de linhas repetidas na mesma coluna, no nosso caso ele vai servir para vermos quantos filmes são classficados no mesmo gênero.\n",
    "\n",
    "Execute a célula abaixo para ver o que o `value_counts()` nos tráz."
   ]
  },
  {
   "cell_type": "code",
   "execution_count": 9,
   "metadata": {
    "colab": {
     "base_uri": "https://localhost:8080/",
     "height": 221
    },
    "colab_type": "code",
    "executionInfo": {
     "elapsed": 1667,
     "status": "ok",
     "timestamp": 1593322559268,
     "user": {
      "displayName": "Rute Abreu",
      "photoUrl": "https://lh3.googleusercontent.com/a-/AOh14GiUpD-uropAPP9cuQxhGaGef5gUpubY536n0IPT=s64",
      "userId": "06754473900038904498"
     },
     "user_tz": 180
    },
    "id": "78QJKeNBVdZP",
    "outputId": "4a028985-cdb5-4940-c967-fdb93b5891b0"
   },
   "outputs": [
    {
     "data": {
      "text/plain": [
       "Action,Adventure,Sci-Fi    50\n",
       "Drama                      48\n",
       "Comedy,Drama,Romance       35\n",
       "Comedy                     32\n",
       "Drama,Romance              31\n",
       "                           ..\n",
       "Comedy,Romance,Western      1\n",
       "Action,Horror,Mystery       1\n",
       "Adventure,Drama,Horror      1\n",
       "Drama,Fantasy,Mystery       1\n",
       "Thriller,War                1\n",
       "Name: Genre, Length: 206, dtype: int64"
      ]
     },
     "execution_count": 9,
     "metadata": {
      "tags": []
     },
     "output_type": "execute_result"
    }
   ],
   "source": [
    "imdb['Genre'].value_counts()"
   ]
  },
  {
   "cell_type": "markdown",
   "metadata": {
    "colab_type": "text",
    "id": "bD8Z5wb-nXG6"
   },
   "source": [
    "Bom, deu para perceber que foi possível agrupar os filmes em categorias, visto que o número de linhas foi reduzido de 1000 para 207, isso é bom. Contudo alguns gêneros contabilizaram apenas 1 filme. Vamos ver quantos foram estes gêneros, executando a célula abaixo.\n"
   ]
  },
  {
   "cell_type": "code",
   "execution_count": 10,
   "metadata": {
    "colab": {
     "base_uri": "https://localhost:8080/",
     "height": 221
    },
    "colab_type": "code",
    "executionInfo": {
     "elapsed": 1643,
     "status": "ok",
     "timestamp": 1593322559269,
     "user": {
      "displayName": "Rute Abreu",
      "photoUrl": "https://lh3.googleusercontent.com/a-/AOh14GiUpD-uropAPP9cuQxhGaGef5gUpubY536n0IPT=s64",
      "userId": "06754473900038904498"
     },
     "user_tz": 180
    },
    "id": "l5eOJk4joRIg",
    "outputId": "99471ebb-d063-470e-edf2-d06934f8cc95"
   },
   "outputs": [
    {
     "data": {
      "text/plain": [
       "Action,Fantasy,War        1\n",
       "Sci-Fi,Thriller           1\n",
       "Action,Comedy,Sport       1\n",
       "Comedy,Mystery            1\n",
       "Adventure,Biography       1\n",
       "                         ..\n",
       "Comedy,Romance,Western    1\n",
       "Action,Horror,Mystery     1\n",
       "Adventure,Drama,Horror    1\n",
       "Drama,Fantasy,Mystery     1\n",
       "Thriller,War              1\n",
       "Name: Genre, Length: 84, dtype: int64"
      ]
     },
     "execution_count": 10,
     "metadata": {
      "tags": []
     },
     "output_type": "execute_result"
    }
   ],
   "source": [
    "imdb['Genre'].value_counts()[imdb['Genre'].value_counts() == 1]"
   ]
  },
  {
   "cell_type": "markdown",
   "metadata": {
    "colab_type": "text",
    "id": "L89DlDfkotL8"
   },
   "source": [
    "Dos 207 agrupamentos, 84 possuiam apenas um filme. Podemos melhorar isso. Vamos utilzar apenas as primeiras dois gêneros e ver se isso nos ajuda. \n",
    "\n",
    "Apenas para melhorar a manipulação da coluna Genre vamos juntar os dois primeiros gênero de cada filme seguindo padrão: ***Genero1_Genero2***\n",
    "\n",
    "Execute as células abaixo para modificar o *dataset* e verificar se a nossa ideia ajudou a reduzir o número de categorias.\n"
   ]
  },
  {
   "cell_type": "code",
   "execution_count": 11,
   "metadata": {
    "colab": {},
    "colab_type": "code",
    "executionInfo": {
     "elapsed": 1620,
     "status": "ok",
     "timestamp": 1593322559270,
     "user": {
      "displayName": "Rute Abreu",
      "photoUrl": "https://lh3.googleusercontent.com/a-/AOh14GiUpD-uropAPP9cuQxhGaGef5gUpubY536n0IPT=s64",
      "userId": "06754473900038904498"
     },
     "user_tz": 180
    },
    "id": "ZVxJYQDH2zfk"
   },
   "outputs": [],
   "source": [
    "#Alteração no padrão dos gêneros\n",
    "genres_joined = [(\"_\").join(genres) for genres in (imdb['Genre'].apply(lambda x: x.split(\",\")[0:2]))]"
   ]
  },
  {
   "cell_type": "code",
   "execution_count": 12,
   "metadata": {
    "colab": {},
    "colab_type": "code",
    "executionInfo": {
     "elapsed": 1608,
     "status": "ok",
     "timestamp": 1593322559271,
     "user": {
      "displayName": "Rute Abreu",
      "photoUrl": "https://lh3.googleusercontent.com/a-/AOh14GiUpD-uropAPP9cuQxhGaGef5gUpubY536n0IPT=s64",
      "userId": "06754473900038904498"
     },
     "user_tz": 180
    },
    "id": "f8Bd9f-wrGQH"
   },
   "outputs": [],
   "source": [
    "#Substituição ds gêneros pelo novo padrão\n",
    "genres_joined_series = pd.Series(genres_joined, index = imdb.index)\n",
    "imdb.loc[:,'Genre'] = genres_joined_series"
   ]
  },
  {
   "cell_type": "code",
   "execution_count": 13,
   "metadata": {
    "colab": {
     "base_uri": "https://localhost:8080/",
     "height": 289
    },
    "colab_type": "code",
    "executionInfo": {
     "elapsed": 1591,
     "status": "ok",
     "timestamp": 1593322559271,
     "user": {
      "displayName": "Rute Abreu",
      "photoUrl": "https://lh3.googleusercontent.com/a-/AOh14GiUpD-uropAPP9cuQxhGaGef5gUpubY536n0IPT=s64",
      "userId": "06754473900038904498"
     },
     "user_tz": 180
    },
    "id": "3nJsRw0nrTqZ",
    "outputId": "0b15a862-5695-496f-d1a8-7431f313d8fd"
   },
   "outputs": [
    {
     "name": "stdout",
     "output_type": "stream",
     "text": [
      "Animation_Family     1\n",
      "Adventure            1\n",
      "Drama_Western        1\n",
      "Fantasy_Mystery      1\n",
      "Sci-Fi_Thriller      1\n",
      "Comedy_Western       1\n",
      "Crime_Thriller       1\n",
      "Comedy_Mystery       1\n",
      "Thriller_War         1\n",
      "Animation_Fantasy    1\n",
      "Biography_History    1\n",
      "Drama_Musical        1\n",
      "Adventure_Crime      1\n",
      "Comedy_Sci-Fi        1\n",
      "Name: Genre, dtype: int64\n",
      "Length:  14\n"
     ]
    }
   ],
   "source": [
    "#Contagen de gênero que possuem apenas 1 filme\n",
    "filter_genres = imdb['Genre'].value_counts() == 1\n",
    "print(imdb['Genre'].value_counts()[filter_genres])\n",
    "print('Length: ' , len(imdb['Genre'].value_counts()[filter_genres]))"
   ]
  },
  {
   "cell_type": "markdown",
   "metadata": {
    "colab_type": "text",
    "id": "agpnva1gthPK"
   },
   "source": [
    "Conseguimos reduzir de 84 para 14 o conjunto de gêneros que agrupam somente 1 filme, isso é razoável. Agora (enfim)vamos partir paras as análises."
   ]
  },
  {
   "cell_type": "markdown",
   "metadata": {
    "colab_type": "text",
    "id": "bPWJKDGlitAA"
   },
   "source": [
    "#5 - Medidas descritivas\n",
    "\n",
    "Agora que você já obteve seu conjunto de dados, realizou a etapa de tratamentos e identificou os tipo dos dados de cada variável, vamos explorá-los um pouco e iniciarmos nossa análise descritiva. \n",
    "\n",
    "De acordo com Reis, E.A., Reis I.A. (2002) a análise descritiva é utilizada para \"organizar, resumir e descrever os aspectos importantes de um conjunto de características observadas ou comparar tais características entre dois ou mais conjuntos\". Dessa forma nas próximas atividades você vai aprender maneiras de utilizar ferramentas descritivas, dentro da linguagem python, que serão úteis para realizar sua análise.\n",
    "\n",
    "Nesse roteiro iremos aprender a calcular as seguintes medidas descritivas:\n",
    "\n",
    "\n",
    "*   Medidas de tenedência central\n",
    "    *   Média\n",
    "    *   Mediana\n",
    "    *   Moda\n",
    "*   Medidas de variabilidade ou dispersão\n",
    "    *   Desvio padrão\n",
    "    *   Variância\n"
   ]
  },
  {
   "cell_type": "markdown",
   "metadata": {
    "colab_type": "text",
    "id": "Fk1GYp06oux5"
   },
   "source": [
    "## 5.1 Medidas de tendência central"
   ]
  },
  {
   "cell_type": "markdown",
   "metadata": {
    "colab_type": "text",
    "id": "6fzapYItjWGM"
   },
   "source": [
    "### 5.1.1 Média (amostral)\n",
    "\n",
    "\n",
    "A média de uma variável,  ***x***,  consiste na soma de todos os seus valores dividida pelo número de amostras, ***N***, da variável:  \n",
    "\n",
    "#<center>$\\frac{{\\sum_{i=1}^{N} x_i}}{N}$</center>\n",
    "\n",
    "Para calcular a média de uma váriavel, vamos utilizar o método **`.sum()`**  e a função **`len()`** na variável que desejamos calcular a média.\n",
    "\n",
    "O método `**sum()**` irá somar todos os valores apresentados na váriavel, equanto a função **`len()`** nos retornará o  número de linhas da amostra, isto é, seu tamanho.\n",
    "\n",
    "No exercicío 2, complete o código para calcular o valor da média para as variáveis Rating e Metascore armazene em duas variáveis chamadas rating_media e metascore_media. \n",
    "\n",
    "Em seguida utilize a função print() passando como argumento a variavel com a média armazenada. (Por exemplo `print(minhaVariavel)`)\n"
   ]
  },
  {
   "cell_type": "code",
   "execution_count": 14,
   "metadata": {
    "colab": {
     "base_uri": "https://localhost:8080/",
     "height": 51
    },
    "colab_type": "code",
    "executionInfo": {
     "elapsed": 1566,
     "status": "ok",
     "timestamp": 1593322559272,
     "user": {
      "displayName": "Rute Abreu",
      "photoUrl": "https://lh3.googleusercontent.com/a-/AOh14GiUpD-uropAPP9cuQxhGaGef5gUpubY536n0IPT=s64",
      "userId": "06754473900038904498"
     },
     "user_tz": 180
    },
    "id": "Qe2og6d4jawF",
    "outputId": "239e04e0-3e1a-4fa3-d35f-f11c6ba11275"
   },
   "outputs": [
    {
     "name": "stdout",
     "output_type": "stream",
     "text": [
      "Média da váriavel Rating 6.723199999999999\n",
      "Média da váriavel Metascore 60.51920807339448\n"
     ]
    }
   ],
   "source": [
    "#Exercício 2\n",
    "\n",
    "rating_media = imdb['Rating'].sum()/len(imdb['Rating'])\n",
    "print(\"Média da váriavel Rating\", rating_media)\n",
    "\n",
    "metascore_media = imdb['Metascore'].sum()/len(imdb['Metascore'])\n",
    "print(\"Média da váriavel Metascore\", metascore_media)"
   ]
  },
  {
   "cell_type": "markdown",
   "metadata": {
    "colab_type": "text",
    "id": "d2gzxA0tjf-P"
   },
   "source": [
    "Agora que você aprendeu a calcular a média, utilize o método .mean() nas váriaveis Rating e Metascore e compare o resultado com o obtido no exercicio anterior."
   ]
  },
  {
   "cell_type": "code",
   "execution_count": 15,
   "metadata": {
    "colab": {
     "base_uri": "https://localhost:8080/",
     "height": 34
    },
    "colab_type": "code",
    "executionInfo": {
     "elapsed": 1531,
     "status": "ok",
     "timestamp": 1593322559273,
     "user": {
      "displayName": "Rute Abreu",
      "photoUrl": "https://lh3.googleusercontent.com/a-/AOh14GiUpD-uropAPP9cuQxhGaGef5gUpubY536n0IPT=s64",
      "userId": "06754473900038904498"
     },
     "user_tz": 180
    },
    "id": "-kK3xLBjjfp6",
    "outputId": "5bab97fa-31a3-44c5-bc7f-302df1321d6e"
   },
   "outputs": [
    {
     "data": {
      "text/plain": [
       "60.519208073394395"
      ]
     },
     "execution_count": 15,
     "metadata": {
      "tags": []
     },
     "output_type": "execute_result"
    }
   ],
   "source": [
    "#Exercício 3\n",
    "imdb['Rating'].mean()\n",
    "imdb['Metascore'].mean()"
   ]
  },
  {
   "cell_type": "markdown",
   "metadata": {
    "colab_type": "text",
    "id": "fmQslh0MjnNp"
   },
   "source": [
    "### 5.1.2 Mediana\n",
    "\n",
    "\n",
    "A mediana é o valor que separa a metade maior da metade menor da nossa variável, ou seja é o valor do meio. \n",
    "\n",
    "Quando temos um número de amostras ímpar a mediana é simplesmente o valor central do conjunto. Por exemplo, no conjunto {0,1,2,3,4} a mediana é 2, pois este número separa o conjunto nas metades menor e maior.\n",
    "\n",
    "Contudo quando o número de amostras é par, não existe uma maneira direta de indicar apenas um elemento para representar o meio do conjunto. Nesse caso nós fazemos a média dos dois elementos do meio. Por exemplo no conjunto {0,1,2,3,4,5} os elementos 2 e 3 estão no meio do conjunto e a medidana se dá através da cálculo: \n",
    "\n",
    "#<center> $ \\frac{2 + 3}{2} = 2.5 $ </center>\n",
    "\n",
    "É importante observar que para calcular a mediana a nossa variável **precisa** estar ordenada de maneira ascendente. No exercício #4, vamos calcular a mediana da variável **Rating** manualmente e comparar o resultado com a implementação do python utilizando a função `median()` da biblioteca numpy.\n",
    "\n",
    "\n",
    "Complete a célula do exércicio 4.\n",
    "\n",
    "Dicas: As funções `ceil()` e `floor()` são reponsáveis por nos retornar o teto e piso de um número real. Por exemplo o teto de 3.5 é 4, já o piso de 3.5 é 3. Ou seja o teto é o primeiro inteiro maior que o número decimal analisado, e o piso é primeiro menor número inteiro.\n",
    "\n"
   ]
  },
  {
   "cell_type": "code",
   "execution_count": 16,
   "metadata": {
    "colab": {
     "base_uri": "https://localhost:8080/",
     "height": 68
    },
    "colab_type": "code",
    "executionInfo": {
     "elapsed": 1500,
     "status": "ok",
     "timestamp": 1593322559274,
     "user": {
      "displayName": "Rute Abreu",
      "photoUrl": "https://lh3.googleusercontent.com/a-/AOh14GiUpD-uropAPP9cuQxhGaGef5gUpubY536n0IPT=s64",
      "userId": "06754473900038904498"
     },
     "user_tz": 180
    },
    "id": "2LCPD3Gwjm3C",
    "outputId": "8b471887-e190-4f98-f924-71e2f03b5976"
   },
   "outputs": [
    {
     "name": "stdout",
     "output_type": "stream",
     "text": [
      "Índice do primeiro número do meio:  499 Índice do segundo número do meio:  500\n",
      "Mediana 6.8\n",
      "Mediana 6.8\n"
     ]
    }
   ],
   "source": [
    "#Exercício 4\n",
    "rating_ordenada = imdb['Rating'].sort_values(ascending=True).copy().values\n",
    "\n",
    "#Cálculo das posições do meio\n",
    "indice_posicao_meio_1 = int(np.floor((len(rating_ordenada) - 1)/2))\n",
    "indice_posicao_meio_2 = int(np.ceil((len(rating_ordenada) -1)/2))\n",
    "\n",
    "print(\"Índice do primeiro número do meio: \", indice_posicao_meio_1, \"Índice do segundo número do meio: \", indice_posicao_meio_2)\n",
    "\n",
    "print(\"Mediana\", (rating_ordenada[indice_posicao_meio_1] + rating_ordenada[indice_posicao_meio_2])/2)\n",
    "print(\"Mediana\", np.median(rating_ordenada))"
   ]
  },
  {
   "cell_type": "markdown",
   "metadata": {
    "colab_type": "text",
    "id": "pydc-FOyCZI2"
   },
   "source": [
    "### 5.1.3 - Moda\n",
    "\n",
    "A moda de uma variável amostral é o valor que aparece mais vezes no conjunto de dados. Por exemplo, na sequencia [0,1,2,3,1,4,5,5,6,1,7] a moda é o valor 1, pois ele aparece 3 vezes.\n",
    "\n",
    "Na célula do exercício #5 complete o código para encontrar a moda da variável ***Year*** manualmente e depois compare utilizando o método `value_counts()` da biblioteca ***pandas*** e selecionando o elemento com maior frequência;\n"
   ]
  },
  {
   "cell_type": "code",
   "execution_count": 17,
   "metadata": {
    "colab": {
     "base_uri": "https://localhost:8080/",
     "height": 102
    },
    "colab_type": "code",
    "executionInfo": {
     "elapsed": 1471,
     "status": "ok",
     "timestamp": 1593322559274,
     "user": {
      "displayName": "Rute Abreu",
      "photoUrl": "https://lh3.googleusercontent.com/a-/AOh14GiUpD-uropAPP9cuQxhGaGef5gUpubY536n0IPT=s64",
      "userId": "06754473900038904498"
     },
     "user_tz": 180
    },
    "id": "4aQosSUBKecO",
    "outputId": "d06236ae-bfa1-4292-8777-7f5e5e525655"
   },
   "outputs": [
    {
     "name": "stdout",
     "output_type": "stream",
     "text": [
      "Lista da frequencia de cada ano calculada manualmete\n",
      " [[2014, 1], [2006, 44], [2007, 53], [2008, 52], [2009, 51], [2010, 60], [2011, 63], [2012, 64], [2013, 91], [2014, 98], [2015, 127], [2016, 297]]\n",
      "\n",
      "Moda calculada manualmete 2016\n",
      "Moda 2016\n"
     ]
    }
   ],
   "source": [
    "#Exercício 5\n",
    "\n",
    "year = imdb['Year'].copy()\n",
    "\n",
    "#Código para calcular a moda 'manualmente'\n",
    "\n",
    "year_ordenado = year.sort_values(ascending = True)\n",
    "lista_frequencias = []\n",
    "contador_frequencia = 1\n",
    "ano_atual = year.iloc[0]\n",
    "\n",
    "for ano in year_ordenado:\n",
    "    if ano == ano_atual:\n",
    "        contador_frequencia += 1\n",
    "    else:\n",
    "        lista_frequencias.append([ano_atual, contador_frequencia])\n",
    "        ano_atual = ano\n",
    "        contador_frequencia = 1\n",
    "lista_frequencias.append([ano_atual, contador_frequencia])\n",
    "idx = np.argmax([l[1] for l in lista_frequencias])\n",
    "moda_manual = lista_frequencias[idx][0]\n",
    "\n",
    "\n",
    "\n",
    "\n",
    "#Moda utilizando o value_counts()\n",
    "moda = year.value_counts().index[0]\n",
    "print(\"Lista da frequencia de cada ano calculada manualmente\\n\", lista_frequencias)\n",
    "\n",
    "print(\"\\nModa calculada manualmente\", moda_manual )\n",
    "print(\"Moda\", moda )"
   ]
  },
  {
   "cell_type": "markdown",
   "metadata": {
    "colab_type": "text",
    "id": "O2gAIBzYZ92d"
   },
   "source": [
    "## 5.2 - Medidas de dispersão"
   ]
  },
  {
   "cell_type": "markdown",
   "metadata": {
    "colab_type": "text",
    "id": "QA7GrGdObkwS"
   },
   "source": [
    "### 5.2.1 - Variância (amostral)\n",
    "\n",
    "A variância é definida pela soma do quadrado dos desvios das amostras em relação à média da amostra, divido pelo total de valores na amostra menos 1. \n",
    "\n",
    "# <center> $s^2 =\\sum_{i=1}^{n}\\frac{(x - \\bar{x})^2}{n - 1 }$ \n",
    "\n",
    "Onde $\\bar{x}$ é a média da amostra e $n$ o tamanho da amostra.\n",
    "\n",
    "\n",
    "Complete o código do exercício #6 para calcular a variância da variável ***Rating*** e depois utilize a função `var()` da biblioteca *numpy*, utilizando o comando `np.var(minhaVariavel)`."
   ]
  },
  {
   "cell_type": "code",
   "execution_count": 18,
   "metadata": {
    "colab": {
     "base_uri": "https://localhost:8080/",
     "height": 51
    },
    "colab_type": "code",
    "executionInfo": {
     "elapsed": 1431,
     "status": "ok",
     "timestamp": 1593322559275,
     "user": {
      "displayName": "Rute Abreu",
      "photoUrl": "https://lh3.googleusercontent.com/a-/AOh14GiUpD-uropAPP9cuQxhGaGef5gUpubY536n0IPT=s64",
      "userId": "06754473900038904498"
     },
     "user_tz": 180
    },
    "id": "mYer83BXdJMX",
    "outputId": "b4a73fd3-09da-42f0-985c-8a6c61958307"
   },
   "outputs": [
    {
     "name": "stdout",
     "output_type": "stream",
     "text": [
      "Variância da variável Rating calculada manualmente:  0.8929417600000007\n",
      "Variancia da variável Rating com numpy:  0.8929417600000007\n"
     ]
    }
   ],
   "source": [
    "#Exercício 6\n",
    "\n",
    "#Complete o código para calcular variância manualmente\n",
    "\n",
    "rating = imdb.Rating.copy()\n",
    "media_rating = rating.mean()\n",
    "sum_var = 0\n",
    "\n",
    "for rate in rating:\n",
    "    sum_var += (rate - media_rating)**2\n",
    "\n",
    "var = sum_var/len(rating)\n",
    "\n",
    "var_numpy = np.var(rating)\n",
    "\n",
    "print(\"Variância da variável Rating calculada manualmente: \", var)\n",
    "print(\"Variancia da variável Rating com numpy: \", var_numpy)\n"
   ]
  },
  {
   "cell_type": "markdown",
   "metadata": {
    "colab_type": "text",
    "id": "xLdR22ewbp_u"
   },
   "source": [
    "### 5.2.2 - Desvio Padrão (amostral)\n",
    "\n",
    "O desvio padrão é definido como a raíz quadrada da variância, portanto:\n",
    "\n",
    "\n",
    "# <center> $ s = \\sqrt{ \\sum_{i=1}^{n}\\frac{(x - \\bar{x})^2}{n - 1 }}$ \n",
    "\n",
    "Complete o código do exercício #7 para calcular o desvio padrão da variável *Rating*.  \n"
   ]
  },
  {
   "cell_type": "code",
   "execution_count": 19,
   "metadata": {
    "colab": {
     "base_uri": "https://localhost:8080/",
     "height": 34
    },
    "colab_type": "code",
    "executionInfo": {
     "elapsed": 1403,
     "status": "ok",
     "timestamp": 1593322559276,
     "user": {
      "displayName": "Rute Abreu",
      "photoUrl": "https://lh3.googleusercontent.com/a-/AOh14GiUpD-uropAPP9cuQxhGaGef5gUpubY536n0IPT=s64",
      "userId": "06754473900038904498"
     },
     "user_tz": 180
    },
    "id": "ME2-dAZwlgeT",
    "outputId": "a6574783-aede-4d1e-c09c-f946bc24439f"
   },
   "outputs": [
    {
     "name": "stdout",
     "output_type": "stream",
     "text": [
      "Desvio padrão:  0.9449559566455998\n"
     ]
    }
   ],
   "source": [
    "#Exercício 7\n",
    "desvio = np.sqrt(var_numpy)\n",
    "print(\"Desvio padrão: \", desvio)"
   ]
  },
  {
   "cell_type": "markdown",
   "metadata": {
    "colab_type": "text",
    "id": "9RMzyQmbshyE"
   },
   "source": [
    "\n",
    "### 5.2.3 Detecção de outliers utilizando medidas de dispersão\n",
    "\n",
    "Um outlier é um valor que distoa dos demais, uma valor extremo. Por exemplo na sequencia [0,2,1,1,100] o valor 100 pode ser considerado um outlier, pois distoa dos demais por ser muito mais alto que todos os outros. \n",
    "\n",
    "Quando estamos analisando dados, outliers podem nos trazer uma falsa percepção do que os dados realmente querem nos dizer. Como nesta sequência, em que a média dos valores é 20.8, este valor claramente não representa o nosso conjunto de dados."
   ]
  },
  {
   "cell_type": "markdown",
   "metadata": {
    "colab_type": "text",
    "id": "-9ogfx_EdRAu"
   },
   "source": [
    "#### 5.2.3.1 - Detecção de outliers utilizando *score* Z\n",
    "\n",
    "O *score* Z é uma medida que nos diz o quão afastado um valor, pertencente a uma variável, está da média. Precisamente,  ele nos diz a quantas unidades de desvio padrão o valor está afastado da média. \n",
    "\n",
    "O calculo deste score é feito de acordo com a equação abaixo:\n",
    "\n",
    "# <center> $  z = \\frac{x - \\bar{x}}{s}$\n",
    "\n",
    "Onde $\\bar{x}$ é a média da amostra e $s$ o seu desvio padrão.\n",
    "\n",
    "Quando os nossos dados seguem uma distribuíção normal, nós podemos utilizar este valor como uma métrica, de maneira que essa quantidade nos diz se um dado é ou não um outlier.\n",
    "\n",
    "Para isso a estatística utiliza a seguinte regra:\n",
    "\n",
    "### <center> Se |z| > 3, então o valor é um *outlier*.\n",
    "\n",
    "Uma maneira intuitiva de verificar se a sua variável têm uma distribuição aproximada da normal, é fazendo um histograma. Na celula abaixo apresentamos o histograma da variável ***Rating***. Execute o código para visualizar. \n",
    "\n",
    "\n",
    "\n",
    "\n"
   ]
  },
  {
   "cell_type": "code",
   "execution_count": 20,
   "metadata": {
    "colab": {
     "base_uri": "https://localhost:8080/",
     "height": 592
    },
    "colab_type": "code",
    "executionInfo": {
     "elapsed": 1868,
     "status": "ok",
     "timestamp": 1593322559758,
     "user": {
      "displayName": "Rute Abreu",
      "photoUrl": "https://lh3.googleusercontent.com/a-/AOh14GiUpD-uropAPP9cuQxhGaGef5gUpubY536n0IPT=s64",
      "userId": "06754473900038904498"
     },
     "user_tz": 180
    },
    "id": "jl7bMI05qCAc",
    "outputId": "997df300-cb35-4616-eb90-66b65aa55de9"
   },
   "outputs": [
    {
     "data": {
      "image/png": "[encoded data removed]",
      "text/plain": [
       "<Figure size 720x720 with 1 Axes>"
      ]
     },
     "metadata": {
      "needs_background": "light",
      "tags": []
     },
     "output_type": "display_data"
    }
   ],
   "source": [
    "figure = plt.figure(figsize=(10,10))\n",
    "\n",
    "axis  = figure.gca()\n",
    "hist = imdb['Rating'].hist(ax= axis)"
   ]
  },
  {
   "cell_type": "markdown",
   "metadata": {
    "colab_type": "text",
    "id": "QZCstA73vRF7"
   },
   "source": [
    "Perceba que a partir do histograma, podemos suspeitar que a distribuição é normal. No exercício #8, complete o código e utilize a regra do *score* Z para identificar os outliers de ***Rating***\n",
    "\n"
   ]
  },
  {
   "cell_type": "code",
   "execution_count": 21,
   "metadata": {
    "colab": {
     "base_uri": "https://localhost:8080/",
     "height": 241
    },
    "colab_type": "code",
    "executionInfo": {
     "elapsed": 1845,
     "status": "ok",
     "timestamp": 1593322559761,
     "user": {
      "displayName": "Rute Abreu",
      "photoUrl": "https://lh3.googleusercontent.com/a-/AOh14GiUpD-uropAPP9cuQxhGaGef5gUpubY536n0IPT=s64",
      "userId": "06754473900038904498"
     },
     "user_tz": 180
    },
    "id": "nMCQT1NOvQMK",
    "outputId": "fa386224-50a0-43cf-9f35-69f1af3ff444"
   },
   "outputs": [
    {
     "name": "stdout",
     "output_type": "stream",
     "text": [
      "Socres Z for Rating:\n",
      " [1.456270441110088, 0.2927772066380513, 0.6100935433122431, 0.5043214310875128, -0.5533996911597937, -0.6591718033845249, 1.6678146655595505, -0.3418554667103322, 0.3985493188627816, 0.2927772066380513, 0.8216377677617046, 1.1389541044358964, 1.2447262166606274, 1.033181992211166, -0.3418554667103322, -0.13031124226087165, 1.5620425533348183, -0.024539130036140444, 1.456270441110088, 1.3504983288853578, -0.024539130036140444, 1.2447262166606274, -0.024539130036140444, -0.23608335448560192, -1.5053487011823699, 0.08123298218858983, 1.6678146655595505, -2.139981374530753, -0.5533996911597937, -0.8707160278339855, -0.4476275789350634, 0.8216377677617046, 0.3985493188627816, 1.3504983288853578, -1.188032364508178, 1.2447262166606274, 1.9851310022337414, 0.9274098799864349, 0.18700509441332103, 0.3985493188627816, -0.4476275789350634, 0.8216377677617046, -4.2554236190253665, 0.5043214310875128, -0.4476275789350634, -0.024539130036140444, 0.6100935433122431, -1.188032364508178, 0.3985493188627816, -3.19770249677806, 1.456270441110088, -0.9764881400587166, -1.188032364508178, 0.5043214310875128, 2.4082194511326644, 0.6100935433122431, 0.5043214310875128, 0.7158656555369742, 0.2927772066380513, 0.8216377677617046, -0.024539130036140444, 0.08123298218858983, -0.23608335448560192, -2.7746140478791377, 1.879358890009011, 1.033181992211166, 0.7158656555369742, 1.456270441110088, 0.8216377677617046, 0.5043214310875128, -0.8707160278339855, 0.3985493188627816, 0.8216377677617046, 0.08123298218858983, 1.456270441110088, 0.3985493188627816, 1.456270441110088, 1.6678146655595505, 0.6100935433122431, -1.5053487011823699, 2.1966752266832037, 1.2447262166606274, 1.5620425533348183, 1.456270441110088, 0.5043214310875128, 0.2927772066380513, -0.3418554667103322, 1.1389541044358964, 1.1389541044358964, 0.7158656555369742, 1.456270441110088, 0.2927772066380513, 1.456270441110088, 0.3985493188627816, 0.7158656555369742, 0.7158656555369742, 1.9851310022337414, -0.9764881400587166, -0.4476275789350634, 1.879358890009011, 0.2927772066380513, 0.2927772066380513, 1.3504983288853578, 1.2447262166606274, 0.6100935433122431, 1.033181992211166, -1.3995765889576386, -0.4476275789350634, -0.9764881400587166, 1.033181992211166, -0.4476275789350634, 1.456270441110088, -0.6591718033845249, 1.033181992211166, 1.456270441110088, -0.9764881400587166, -0.5533996911597937, 2.1966752266832037, 0.5043214310875128, 0.7158656555369742, -0.024539130036140444, -0.024539130036140444, -0.7649439156092551, 0.7158656555369742, 1.879358890009011, 0.8216377677617046, -1.082260252283447, -0.13031124226087165, -0.3418554667103322, 1.3504983288853578, 0.6100935433122431, -0.7649439156092551, -0.3418554667103322, 1.879358890009011, 0.3985493188627816, 0.6100935433122431, 1.456270441110088, 0.6100935433122431, 1.456270441110088, 0.3985493188627816, 1.3504983288853578, -0.5533996911597937, 1.1389541044358964, 1.5620425533348183, 1.7735867777842809, 1.456270441110088, 0.7158656555369742, 0.9274098799864349, 0.9274098799864349, -0.5533996911597937, -0.3418554667103322, 0.5043214310875128, -0.9764881400587166, 0.9274098799864349, 1.456270441110088, -2.139981374530753, 0.2927772066380513, 0.7158656555369742, 0.8216377677617046, 1.2447262166606274, -0.7649439156092551, 0.2927772066380513, 1.3504983288853578, -0.6591718033845249, 1.3504983288853578, -1.6111208134071002, -0.23608335448560192, 0.6100935433122431, 0.6100935433122431, 0.08123298218858983, 1.2447262166606274, 1.2447262166606274, -1.6111208134071002, 1.3504983288853578, 0.8216377677617046, -0.23608335448560192, 0.9274098799864349, 0.2927772066380513, 0.7158656555369742, 0.6100935433122431, -0.024539130036140444, 0.08123298218858983, 0.2927772066380513, -0.8707160278339855, 1.3504983288853578, -0.7649439156092551, -0.4476275789350634, -0.13031124226087165, 1.1389541044358964, -0.4476275789350634, 0.5043214310875128, -1.188032364508178, 1.456270441110088, -0.9764881400587166, 1.5620425533348183, 0.18700509441332103, -0.4476275789350634, 1.456270441110088, 1.456270441110088, -0.4476275789350634, 1.2447262166606274, -0.23608335448560192, 0.6100935433122431, 1.2447262166606274, -1.082260252283447, 1.1389541044358964, 0.8216377677617046, 0.8216377677617046, 0.08123298218858983, -0.024539130036140444, -0.6591718033845249, -1.5053487011823699, 0.3985493188627816, -0.9764881400587166, 0.2927772066380513, -1.2938044767329084, 1.1389541044358964, -1.082260252283447, -0.6591718033845249, 1.033181992211166, -0.024539130036140444, 0.3985493188627816, 0.18700509441332103, 1.1389541044358964, 0.2927772066380513, 0.2927772066380513, 0.3985493188627816, -0.3418554667103322, 0.2927772066380513, -2.0342092623060233, 1.5620425533348183, -1.6111208134071002, 1.1389541044358964, 0.7158656555369742, -0.6591718033845249, 1.3504983288853578, 0.08123298218858983, -2.986158272328599, 1.456270441110088, -0.8707160278339855, 0.9274098799864349, 1.5620425533348183, -0.9764881400587166, -0.23608335448560192, -0.8707160278339855, 0.9274098799864349, 1.2447262166606274, 0.7158656555369742, 0.3985493188627816, 1.9851310022337414, -1.928437150081292, 0.6100935433122431, 1.2447262166606274, -0.024539130036140444, 0.8216377677617046, 1.1389541044358964, -0.9764881400587166, 0.9274098799864349, -0.3418554667103322, 0.3985493188627816, 1.1389541044358964, 1.3504983288853578, -0.5533996911597937, 0.2927772066380513, -0.7649439156092551, -1.928437150081292, -0.7649439156092551, 0.8216377677617046, -0.024539130036140444, -3.19770249677806, 1.1389541044358964, 1.2447262166606274, 0.5043214310875128, 1.3504983288853578, 0.08123298218858983, 0.2927772066380513, 0.3985493188627816, 1.033181992211166, 0.2927772066380513, 0.5043214310875128, 0.6100935433122431, 0.9274098799864349, 0.3985493188627816, 0.2927772066380513, -0.7649439156092551, -0.6591718033845249, -0.9764881400587166, -1.5053487011823699, -0.9764881400587166, -0.6591718033845249, 0.8216377677617046, 0.5043214310875128, -1.082260252283447, 1.033181992211166, 0.3985493188627816, -0.13031124226087165, -1.082260252283447, 0.08123298218858983, 0.3985493188627816, 1.456270441110088, 0.5043214310875128, 0.8216377677617046, 0.2927772066380513, -1.2938044767329084, -0.3418554667103322, -0.024539130036140444, -0.5533996911597937, -1.2938044767329084, -0.7649439156092551, -0.6591718033845249, 1.033181992211166, 1.1389541044358964, 0.08123298218858983, 0.7158656555369742, 0.8216377677617046, 0.2927772066380513, -1.6111208134071002, -1.5053487011823699, -0.5533996911597937, 0.6100935433122431, -0.23608335448560192, -0.3418554667103322, 0.6100935433122431, -0.024539130036140444, 1.033181992211166, -0.7649439156092551, -0.7649439156092551, 0.7158656555369742, 0.2927772066380513, -1.3995765889576386, 0.18700509441332103, 0.6100935433122431, 1.3504983288853578, 0.7158656555369742, 1.456270441110088, -0.6591718033845249, 1.1389541044358964, -0.8707160278339855, 1.1389541044358964, -0.23608335448560192, -0.13031124226087165, 0.7158656555369742, -0.3418554667103322, 0.08123298218858983, -0.5533996911597937, -0.9764881400587166, 1.033181992211166, 0.6100935433122431, -1.7168929256318313, 1.033181992211166, 0.6100935433122431, -0.13031124226087165, 0.3985493188627816, -0.024539130036140444, -0.4476275789350634, -1.2938044767329084, 0.7158656555369742, 1.033181992211166, -0.13031124226087165, 1.1389541044358964, 0.18700509441332103, -1.082260252283447, 1.1389541044358964, 1.033181992211166, -0.4476275789350634, 1.3504983288853578, -1.2938044767329084, 0.18700509441332103, 0.2927772066380513, -1.082260252283447, -0.7649439156092551, 0.08123298218858983, -0.4476275789350634, -0.024539130036140444, 0.18700509441332103, -1.082260252283447, 0.18700509441332103, 0.9274098799864349, 0.3985493188627816, -0.6591718033845249, 0.9274098799864349, 0.7158656555369742, -0.13031124226087165, 0.9274098799864349, 1.1389541044358964, 0.3985493188627816, -1.188032364508178, -0.024539130036140444, -0.024539130036140444, -0.13031124226087165, -0.4476275789350634, -0.9764881400587166, 0.5043214310875128, -1.8226650378565616, -1.3995765889576386, 0.5043214310875128, 0.08123298218858983, -1.2938044767329084, -0.7649439156092551, -0.6591718033845249, -0.3418554667103322, -2.986158272328599, 0.3985493188627816, 1.033181992211166, -0.024539130036140444, -0.024539130036140444, 0.7158656555369742, 1.1389541044358964, -0.13031124226087165, -0.6591718033845249, 1.1389541044358964, -0.23608335448560192, 0.6100935433122431, 0.5043214310875128, -1.188032364508178, -1.3995765889576386, 0.18700509441332103, 1.1389541044358964, 1.033181992211166, 0.5043214310875128, 0.08123298218858983, -1.082260252283447, -0.9764881400587166, -0.5533996911597937, -0.8707160278339855, 1.1389541044358964, -0.23608335448560192, 1.456270441110088, -1.6111208134071002, -0.7649439156092551, 1.7735867777842809, -2.139981374530753, 0.2927772066380513, 0.7158656555369742, -0.3418554667103322, 0.3985493188627816, 0.3985493188627816, 0.9274098799864349, -0.13031124226087165, -1.188032364508178, -0.4476275789350634, 0.8216377677617046, 1.033181992211166, 0.7158656555369742, -0.7649439156092551, -0.13031124226087165, 0.3985493188627816, 1.2447262166606274, 1.1389541044358964, -0.8707160278339855, 0.2927772066380513, 0.2927772066380513, 0.08123298218858983, -0.23608335448560192, -0.6591718033845249, 1.6678146655595505, -0.024539130036140444, -0.7649439156092551, -0.3418554667103322, 0.6100935433122431, 0.9274098799864349, -0.7649439156092551, -0.13031124226087165, 0.8216377677617046, -0.4476275789350634, 0.8216377677617046, -0.3418554667103322, 0.18700509441332103, 1.3504983288853578, -0.024539130036140444, 1.1389541044358964, -0.3418554667103322, -0.9764881400587166, 0.8216377677617046, 1.033181992211166, 0.7158656555369742, 1.879358890009011, -1.082260252283447, 1.6678146655595505, -0.024539130036140444, 0.5043214310875128, -0.23608335448560192, -0.4476275789350634, 1.033181992211166, -0.4476275789350634, 1.1389541044358964, -0.024539130036140444, -0.024539130036140444, -0.13031124226087165, 1.3504983288853578, -0.23608335448560192, 0.18700509441332103, 0.2927772066380513, -1.5053487011823699, -0.4476275789350634, 0.5043214310875128, 0.08123298218858983, 0.3985493188627816, 0.7158656555369742, 1.6678146655595505, -0.4476275789350634, 0.5043214310875128, -0.23608335448560192, 0.6100935433122431, 1.2447262166606274, -1.082260252283447, -0.23608335448560192, 1.033181992211166, -2.5630698234296765, 1.1389541044358964, 1.1389541044358964, 0.5043214310875128, -1.8226650378565616, 0.3985493188627816, -1.082260252283447, 0.3985493188627816, -0.7649439156092551, 0.18700509441332103, 1.2447262166606274, -0.5533996911597937, 0.5043214310875128, -1.5053487011823699, -2.139981374530753, -0.13031124226087165, 0.2927772066380513, -2.986158272328599, -0.13031124226087165, -1.3995765889576386, -0.3418554667103322, -0.024539130036140444, 0.18700509441332103, -1.3995765889576386, 0.2927772066380513, -0.3418554667103322, 0.5043214310875128, -0.23608335448560192, 0.2927772066380513, -1.082260252283447, 0.6100935433122431, -0.6591718033845249, 0.5043214310875128, 0.7158656555369742, -0.4476275789350634, 0.3985493188627816, -1.082260252283447, -0.024539130036140444, 0.08123298218858983, -0.23608335448560192, 0.08123298218858983, 1.2447262166606274, -0.9764881400587166, 0.3985493188627816, -2.5630698234296765, -0.4476275789350634, 0.3985493188627816, -2.2457534867554845, 0.3985493188627816, -0.4476275789350634, 0.18700509441332103, -0.13031124226087165, -0.23608335448560192, -0.23608335448560192, 0.08123298218858983, 1.1389541044358964, -0.6591718033845249, -0.9764881400587166, -0.4476275789350634, 0.8216377677617046, -0.6591718033845249, -0.23608335448560192, -0.7649439156092551, 0.3985493188627816, 0.3985493188627816, 1.1389541044358964, 0.08123298218858983, -0.9764881400587166, 0.08123298218858983, 0.08123298218858983, 0.9274098799864349, -0.4476275789350634, -1.928437150081292, -2.668841935654407, -1.7168929256318313, -1.082260252283447, 0.9274098799864349, -1.6111208134071002, 0.5043214310875128, -0.7649439156092551, 0.6100935433122431, 0.5043214310875128, 1.1389541044358964, -0.5533996911597937, 0.3985493188627816, -0.3418554667103322, -0.6591718033845249, 0.5043214310875128, -0.13031124226087165, -0.5533996911597937, 1.2447262166606274, 0.6100935433122431, -0.024539130036140444, -0.3418554667103322, -0.3418554667103322, 0.5043214310875128, -1.7168929256318313, 0.7158656555369742, 0.5043214310875128, 0.18700509441332103, 1.456270441110088, 0.2927772066380513, -0.5533996911597937, 0.9274098799864349, -0.024539130036140444, 0.8216377677617046, -0.13031124226087165, -0.4476275789350634, -2.880386160103868, 0.18700509441332103, -0.4476275789350634, 0.6100935433122431, 0.6100935433122431, -0.3418554667103322, -0.13031124226087165, -1.188032364508178, -0.7649439156092551, -0.4476275789350634, -0.024539130036140444, -0.7649439156092551, -0.6591718033845249, -0.5533996911597937, -0.024539130036140444, -0.13031124226087165, 0.2927772066380513, -1.928437150081292, 1.7735867777842809, 0.2927772066380513, 0.8216377677617046, 0.6100935433122431, -1.188032364508178, -0.024539130036140444, 1.3504983288853578, 1.456270441110088, -2.0342092623060233, 0.8216377677617046, -1.2938044767329084, 1.5620425533348183, -0.13031124226087165, -3.7265630579017133, -1.5053487011823699, -1.188032364508178, 0.7158656555369742, -0.3418554667103322, 0.08123298218858983, -0.024539130036140444, -0.3418554667103322, 0.2927772066380513, 1.2447262166606274, -0.8707160278339855, 1.033181992211166, -0.024539130036140444, 0.2927772066380513, 0.18700509441332103, 1.033181992211166, -0.13031124226087165, 0.3985493188627816, -0.13031124226087165, -1.082260252283447, -0.4476275789350634, -0.23608335448560192, 1.3504983288853578, -0.6591718033845249, -0.23608335448560192, 0.9274098799864349, -1.188032364508178, -0.8707160278339855, 0.5043214310875128, -0.024539130036140444, 0.5043214310875128, -0.23608335448560192, 0.5043214310875128, -0.024539130036140444, 0.8216377677617046, -0.23608335448560192, -0.8707160278339855, 1.033181992211166, 1.3504983288853578, 0.9274098799864349, -0.6591718033845249, 1.6678146655595505, 0.3985493188627816, -1.3995765889576386, 1.1389541044358964, -0.23608335448560192, -1.2938044767329084, 1.2447262166606274, 1.456270441110088, -0.6591718033845249, 0.6100935433122431, 0.5043214310875128, -1.2938044767329084, -0.23608335448560192, 0.2927772066380513, 0.3985493188627816, -0.13031124226087165, -0.23608335448560192, -0.9764881400587166, 0.3985493188627816, -0.23608335448560192, 0.7158656555369742, -0.5533996911597937, -0.7649439156092551, 0.9274098799864349, 0.6100935433122431, 1.5620425533348183, -0.9764881400587166, -0.23608335448560192, -0.13031124226087165, -0.5533996911597937, -0.9764881400587166, -0.3418554667103322, -0.024539130036140444, 0.3985493188627816, -0.7649439156092551, -1.7168929256318313, -0.5533996911597937, -0.5533996911597937, -0.13031124226087165, 0.9274098799864349, 0.08123298218858983, -0.024539130036140444, -0.4476275789350634, 0.2927772066380513, 0.18700509441332103, -0.13031124226087165, 1.033181992211166, 0.8216377677617046, -1.188032364508178, 0.3985493188627816, -1.082260252283447, -1.6111208134071002, -1.3995765889576386, -0.13031124226087165, 1.5620425533348183, 0.9274098799864349, -0.5533996911597937, -0.6591718033845249, -2.2457534867554845, -1.082260252283447, -0.6591718033845249, -0.8707160278339855, 0.5043214310875128, -0.23608335448560192, 1.2447262166606274, -0.4476275789350634, -1.8226650378565616, 0.6100935433122431, -1.6111208134071002, -0.13031124226087165, -1.6111208134071002, 1.1389541044358964, 0.8216377677617046, 0.6100935433122431, 0.6100935433122431, -0.13031124226087165, -1.082260252283447, 1.5620425533348183, -0.024539130036140444, -0.5533996911597937, -0.4476275789350634, -1.082260252283447, -0.13031124226087165, -2.351525598980215, 1.456270441110088, -1.188032364508178, 0.6100935433122431, -0.5533996911597937, -1.7168929256318313, -2.139981374530753, -2.0342092623060233, 0.5043214310875128, 0.18700509441332103, -0.23608335448560192, 0.6100935433122431, -0.23608335448560192, 0.18700509441332103, 1.1389541044358964, 0.08123298218858983, -2.2457534867554845, -0.024539130036140444, -0.3418554667103322, -0.7649439156092551, -0.4476275789350634, -0.13031124226087165, 1.1389541044358964, -0.13031124226087165, -0.5533996911597937, 0.6100935433122431, 0.7158656555369742, -0.23608335448560192, 0.2927772066380513, -2.5630698234296765, 0.5043214310875128, -0.5533996911597937, -0.5533996911597937, 0.08123298218858983, -0.7649439156092551, -0.13031124226087165, 0.3985493188627816, 0.08123298218858983, -1.6111208134071002, -0.024539130036140444, -0.5533996911597937, 0.2927772066380513, -0.4476275789350634, 1.1389541044358964, 0.9274098799864349, -1.3995765889576386, 0.9274098799864349, -1.3995765889576386, -2.2457534867554845, 0.18700509441332103, 0.08123298218858983, -0.9764881400587166, 0.2927772066380513, -0.9764881400587166, -1.5053487011823699, -2.2457534867554845, -1.5053487011823699, 0.9274098799864349, -5.101600516823212, 0.5043214310875128, -0.3418554667103322, 0.7158656555369742, -1.082260252283447, -0.3418554667103322, -0.4476275789350634, 0.8216377677617046, -1.2938044767329084, -2.668841935654407, 1.1389541044358964, -0.4476275789350634, -0.3418554667103322, 0.3985493188627816, 0.3985493188627816, 0.08123298218858983, 0.6100935433122431, -0.024539130036140444, 1.1389541044358964, -0.4476275789350634, 0.8216377677617046, 0.08123298218858983, 0.7158656555369742, 0.08123298218858983, 0.3985493188627816, 0.9274098799864349, -0.8707160278339855, -0.13031124226087165, 0.8216377677617046, -0.3418554667103322, 1.1389541044358964, 0.5043214310875128, 1.7735867777842809, -0.5533996911597937, 0.3985493188627816, -0.4476275789350634, -0.23608335448560192, 0.18700509441332103, 0.18700509441332103, -0.13031124226087165, 0.18700509441332103, 1.033181992211166, -4.2554236190253665, -1.3995765889576386, 0.2927772066380513, -0.13031124226087165, 0.2927772066380513, 0.18700509441332103, 0.6100935433122431, -0.9764881400587166, -0.9764881400587166, 0.18700509441332103, 0.8216377677617046, -0.4476275789350634, 0.18700509441332103, -0.6591718033845249, 0.8216377677617046, 0.08123298218858983, -0.23608335448560192, -1.2938044767329084, 1.033181992211166, -3.4092467212275213, -0.5533996911597937, 0.3985493188627816, -1.2938044767329084, 0.3985493188627816, 0.3985493188627816, 0.3985493188627816, 1.2447262166606274, -0.23608335448560192, -1.2938044767329084, -0.23608335448560192, -1.188032364508178, 0.08123298218858983, 1.2447262166606274, -0.5533996911597937, -0.5533996911597937, -0.024539130036140444, 0.18700509441332103, -0.23608335448560192, -0.13031124226087165, -0.3418554667103322, -2.139981374530753, 0.5043214310875128, 0.5043214310875128, -0.024539130036140444, 0.8216377677617046, -0.13031124226087165, -0.024539130036140444, 0.8216377677617046, -0.6591718033845249, -0.3418554667103322, -0.4476275789350634, -0.3418554667103322, 0.08123298218858983, -0.6591718033845249, -1.928437150081292, 0.6100935433122431, -0.8707160278339855, -0.6591718033845249, 0.3985493188627816, -0.8707160278339855, 0.08123298218858983, -1.3995765889576386, -0.4476275789350634, -0.5533996911597937, -0.13031124226087165, -2.4572977112049452, 0.08123298218858983, 0.6100935433122431, 0.7158656555369742, -0.6591718033845249, -1.928437150081292, -0.9764881400587166, -0.6591718033845249, -0.3418554667103322, 0.18700509441332103, 0.5043214310875128, -1.188032364508178, -1.928437150081292, -0.6591718033845249, 1.1389541044358964, 0.6100935433122431, -2.5630698234296765, 0.5043214310875128, -0.3418554667103322, -0.5533996911597937, -1.6111208134071002, 1.033181992211166, -0.5533996911597937, 1.1389541044358964, 0.2927772066380513, -0.8707160278339855, -0.024539130036140444, -0.4476275789350634, 0.18700509441332103, 0.2927772066380513, -0.024539130036140444, 0.6100935433122431, -3.4092467212275213, -0.23608335448560192, -2.0342092623060233, 0.18700509441332103, -0.8707160278339855, -0.5533996911597937, 0.7158656555369742, -0.7649439156092551, -0.5533996911597937, -1.8226650378565616, 0.2927772066380513, 0.9274098799864349, 0.2927772066380513, -1.5053487011823699, 0.7158656555369742, -0.23608335448560192, 0.08123298218858983, -1.188032364508178, -0.8707160278339855, -0.4476275789350634, 0.3985493188627816, 0.8216377677617046, -0.13031124226087165, 1.879358890009011, -0.4476275789350634, -0.8707160278339855, -0.024539130036140444, -0.5533996911597937, -1.2938044767329084, -0.5533996911597937, -1.188032364508178, -1.5053487011823699]\n",
      "Outliers:  Rank\n",
      "43     2.7\n",
      "50     3.7\n",
      "270    3.7\n",
      "648    3.2\n",
      "830    1.9\n",
      "872    2.7\n",
      "891    3.5\n",
      "969    3.5\n",
      "Name: Rating, dtype: float64\n"
     ]
    }
   ],
   "source": [
    "#Exercício 8\n",
    "\n",
    "rating = imdb['Rating'].copy()\n",
    "\n",
    "media_rating = rating.mean()\n",
    "desvio_rating = rating.std()\n",
    "\n",
    "scores_z = []\n",
    "for rate in rating:\n",
    "    scores_z.append((rate - media_rating )/desvio_rating)\n",
    "\n",
    "print(\"Socres Z for Rating:\\n\", scores_z)\n",
    "\n",
    "outliers = rating[np.absolute(scores_z) > 3]\n",
    "print(\"Outliers: \", outliers)"
   ]
  },
  {
   "cell_type": "markdown",
   "metadata": {
    "colab_type": "text",
    "id": "6dCI8Elm1Qpg"
   },
   "source": [
    "#### 5.2.3.2 Detecção de ouliers com boxplot e  distância inter-quartil.\n",
    "\n",
    "\n",
    "Quando os seus dados não seguem uma distribuição normal, você pode detectar os *outliers* utilizando um boxplot. A detecção é feita através do cálculo da distância dos quartís. \n",
    "\n",
    "A regra nos diz que se um valor é menor que Q1 - 1.5xIQR ou maior que Q3 + 1.5xIQR, onde Q1 e Q3 são respectivamente o primeiro e terceiro quartís e IQR é a distância inter-quartil (Q3 - Q1), então esse valor é um *outlier*.\n",
    "\n",
    "Complete o código do exercicío #9 para calcular os quartis e indentificar os outliers da variável ***Rating***."
   ]
  },
  {
   "cell_type": "code",
   "execution_count": 22,
   "metadata": {
    "colab": {
     "base_uri": "https://localhost:8080/",
     "height": 425
    },
    "colab_type": "code",
    "executionInfo": {
     "elapsed": 1811,
     "status": "ok",
     "timestamp": 1593322559762,
     "user": {
      "displayName": "Rute Abreu",
      "photoUrl": "https://lh3.googleusercontent.com/a-/AOh14GiUpD-uropAPP9cuQxhGaGef5gUpubY536n0IPT=s64",
      "userId": "06754473900038904498"
     },
     "user_tz": 180
    },
    "id": "_4XIayxq7SvC",
    "outputId": "a0df8d55-60b9-4382-fbdb-0e88bd22379a"
   },
   "outputs": [
    {
     "name": "stdout",
     "output_type": "stream",
     "text": [
      "Outliers baixos:\n",
      "  Rank\n",
      "43     2.7\n",
      "50     3.7\n",
      "64     4.1\n",
      "238    3.9\n",
      "270    3.7\n",
      "402    3.9\n",
      "509    4.3\n",
      "526    3.9\n",
      "553    4.3\n",
      "582    4.2\n",
      "617    4.0\n",
      "648    3.2\n",
      "801    4.3\n",
      "830    1.9\n",
      "839    4.2\n",
      "872    2.7\n",
      "891    3.5\n",
      "953    4.3\n",
      "969    3.5\n",
      "Name: Rating, dtype: float64\n",
      "Outliers altos:\n",
      "  Series([], Name: Rating, dtype: float64)\n"
     ]
    }
   ],
   "source": [
    "#Exercício 9\n",
    "rating = imdb['Rating'].copy()\n",
    "\n",
    "Q1 = np.percentile(rating,25)\n",
    "Q3 = np.percentile(rating, 75)\n",
    "\n",
    "IQR = Q3 - Q1\n",
    "\n",
    "outliers_baixos = rating[(rating < Q1 - 1.5*IQR)]\n",
    "outliers_altos = rating[(rating > Q3 + 1.5*IQR)]\n",
    "\n",
    "print(\"Outliers baixos:\\n \", outliers_baixos)\n",
    "print(\"Outliers altos:\\n \", outliers_altos)"
   ]
  },
  {
   "cell_type": "markdown",
   "metadata": {
    "colab_type": "text",
    "id": "etg6pL18-JHX"
   },
   "source": [
    "Uma visualização dos outliers pode ser feita utilizando o gráfico boxplot. No exercício 10, u\n",
    "tilize o comando **`sns.boxplot(minhaVariavel)`** para obter o gráfico da variável ***Rating***"
   ]
  },
  {
   "cell_type": "code",
   "execution_count": 23,
   "metadata": {
    "colab": {
     "base_uri": "https://localhost:8080/",
     "height": 279
    },
    "colab_type": "code",
    "executionInfo": {
     "elapsed": 1799,
     "status": "ok",
     "timestamp": 1593322559763,
     "user": {
      "displayName": "Rute Abreu",
      "photoUrl": "https://lh3.googleusercontent.com/a-/AOh14GiUpD-uropAPP9cuQxhGaGef5gUpubY536n0IPT=s64",
      "userId": "06754473900038904498"
     },
     "user_tz": 180
    },
    "id": "jGPo7j06-mSV",
    "outputId": "bc1a062d-a46b-43e3-d2b3-93234903b8d4"
   },
   "outputs": [
    {
     "data": {
      "image/png": "[encoded data removed]",
      "text/plain": [
       "<Figure size 432x288 with 1 Axes>"
      ]
     },
     "metadata": {
      "needs_background": "light",
      "tags": []
     },
     "output_type": "display_data"
    }
   ],
   "source": [
    "#Exercícío 10\n",
    "box = sns.boxplot(imdb['Rating'])"
   ]
  },
  {
   "cell_type": "markdown",
   "metadata": {
    "colab_type": "text",
    "id": "gnxfkpqz_k2U"
   },
   "source": [
    "No gráfico boxplot podemos ver que valores abaixo de 4.5 já são considerados *outliers*. Confirmando os resultados do exercício anterior."
   ]
  },
  {
   "cell_type": "markdown",
   "metadata": {
    "colab_type": "text",
    "id": "VpX2PRV_cmx-"
   },
   "source": [
    "# 6 - Medidas de associação\n",
    "\n",
    "As medidas de asssociação visam compreender o grau de relacionamento entre as variáveis. Entender se o crescimento de uma variável está relacionado ao de outra, pode ser uma informação muito útil quando precisamos analisar um conjunto de dados. \n",
    "\n",
    "Isso porque as análises buscam entender o comportamento dos dados e extrair o máximo de informação possível que nos ajude a interpretá-los com coerência.\n",
    "\n",
    "Nos próximos tópicos iremos abordar duas maneiras de explorar a associação entre duas variáveis: os gráficos de dispersão e a análise de correlação.\n",
    "\n",
    "\n"
   ]
  },
  {
   "cell_type": "markdown",
   "metadata": {
    "colab_type": "text",
    "id": "TAz0dVwKDjtO"
   },
   "source": [
    "\n",
    "Que tal verificar se a receita do filme se relaciona de alguma maneira com sua avaliação? \n",
    "\n",
    "Para analisar essa hipotese vamos criar um gráfico de dispersão. No exercício abaixo utilize o método `scatter` no dataframe do imbd. Complete o código escolhendo as colunas ***Revenue_(Millions)*** e *Rating* para os parâmetros x e y respectivamente."
   ]
  },
  {
   "cell_type": "code",
   "execution_count": 24,
   "metadata": {
    "colab": {
     "base_uri": "https://localhost:8080/",
     "height": 297
    },
    "colab_type": "code",
    "executionInfo": {
     "elapsed": 1783,
     "status": "ok",
     "timestamp": 1593322559764,
     "user": {
      "displayName": "Rute Abreu",
      "photoUrl": "https://lh3.googleusercontent.com/a-/AOh14GiUpD-uropAPP9cuQxhGaGef5gUpubY536n0IPT=s64",
      "userId": "06754473900038904498"
     },
     "user_tz": 180
    },
    "id": "YK845riDLW5R",
    "outputId": "5e380475-4019-44c7-be63-4fa5c7496f48"
   },
   "outputs": [
    {
     "data": {
      "text/plain": [
       "<matplotlib.axes._subplots.AxesSubplot at 0x7fc81eb794e0>"
      ]
     },
     "execution_count": 24,
     "metadata": {
      "tags": []
     },
     "output_type": "execute_result"
    },
    {
     "data": {
      "image/png": "[encoded data removed]",
      "text/plain": [
       "<Figure size 432x288 with 1 Axes>"
      ]
     },
     "metadata": {
      "needs_background": "light",
      "tags": []
     },
     "output_type": "display_data"
    }
   ],
   "source": [
    "#Exercício 11\n",
    "\n",
    "#Remoção dos outliers das avaliações\n",
    "imdb_cp = imdb.drop(outliers_baixos.index, axis=0)\n",
    "\n",
    "#Remoção dos outlierrs da receita\n",
    "revenue = imdb['Revenue_(Millions)'].copy()\n",
    "\n",
    "Q1_re = np.percentile(revenue,25)\n",
    "Q3_re = np.percentile(revenue, 75)\n",
    "\n",
    "IQR_re = Q3_re - Q1_re\n",
    "\n",
    "outliers_baixos_re = revenue[(revenue < Q1_re - 1.5*IQR_re)]\n",
    "outliers_altos_re = revenue[(revenue > Q3_re + 1.5*IQR_re)]\n",
    "\n",
    "\n",
    "imdb_cp = imdb_cp.drop(outliers_altos_re.index, axis=0)\n",
    "imdb_cp = imdb_cp.drop(outliers_baixos_re.index, axis=0)\n",
    "\n",
    "\n",
    "#plot de dispersão\n",
    "imdb.plot.scatter(x = \"Revenue_(Millions)\", y = \"Rating\" )"
   ]
  },
  {
   "cell_type": "markdown",
   "metadata": {
    "colab_type": "text",
    "id": "1URe_BQ-Kcx0"
   },
   "source": [
    "Pelo gráfico obtido, parece que a receita pouco tem a ver com a avaliação, não é mesmo? Você já tinha ideia disso?\n",
    "\n",
    "Perceba que o crescimento da receita não mostra um aumento ou descremeto da notas, o mesmo acontece para o decrescimento da receita."
   ]
  },
  {
   "cell_type": "markdown",
   "metadata": {
    "colab_type": "text",
    "id": "Y82JuNFoKZ7N"
   },
   "source": [
    "Repita o exercicio, mas agora utilize a coluna de duração: ***Runtime_(Minutes)*** no lugar da coluna referente a receita. "
   ]
  },
  {
   "cell_type": "code",
   "execution_count": 25,
   "metadata": {
    "colab": {
     "base_uri": "https://localhost:8080/",
     "height": 297
    },
    "colab_type": "code",
    "executionInfo": {
     "elapsed": 2209,
     "status": "ok",
     "timestamp": 1593322560200,
     "user": {
      "displayName": "Rute Abreu",
      "photoUrl": "https://lh3.googleusercontent.com/a-/AOh14GiUpD-uropAPP9cuQxhGaGef5gUpubY536n0IPT=s64",
      "userId": "06754473900038904498"
     },
     "user_tz": 180
    },
    "id": "p9jY6Ig_OHs9",
    "outputId": "5173007f-8ee5-4ef9-9f16-32a52db30867"
   },
   "outputs": [
    {
     "data": {
      "text/plain": [
       "<matplotlib.axes._subplots.AxesSubplot at 0x7fc81ebe8c88>"
      ]
     },
     "execution_count": 25,
     "metadata": {
      "tags": []
     },
     "output_type": "execute_result"
    },
    {
     "data": {
      "image/png": "[encoded data removed]",
      "text/plain": [
       "<Figure size 432x288 with 1 Axes>"
      ]
     },
     "metadata": {
      "needs_background": "light",
      "tags": []
     },
     "output_type": "display_data"
    }
   ],
   "source": [
    "#Exercicio 12\n",
    "imdb.plot.scatter(x = \"Runtime_(Minutes)\", y = \"Rating\")"
   ]
  },
  {
   "cell_type": "markdown",
   "metadata": {
    "colab_type": "text",
    "id": "2B2Cfyc2Oj9R"
   },
   "source": [
    "Perceba que dessa vez conseguimos identificar algum grau de associação entre as variáveis. Ao que parece, à medida que a duração do filme aumenta, as notas de avaliação dos usuários também tendem a aumentar, indicando uma correlação positiva. \n",
    "\n",
    "\n",
    "Contudo, os dados não parecem seguir muito a risca a reta positiva, o que indica que essa correlação é fraca."
   ]
  },
  {
   "cell_type": "markdown",
   "metadata": {
    "colab_type": "text",
    "id": "OeeOJe21DoB2"
   },
   "source": [
    "## 6.2 Análise de correlação\n",
    "\n",
    "O gráfico de dispersão nos dá uma boa ideia da associação entre as variáveis. Mas e se pudessemos quantificar essa associação ? \n",
    "\n",
    "É isso que a análise de correlação faz, ela quantifica o grau de correlação, r, entre duas variáveis.\n",
    "\n",
    "A análise do valor r, se dá da seguinte maneira:\n",
    "\n",
    "* r > 0 - correlação positiva (as variaveis  tendem a crescer ou decrescer juntas)\n",
    "* r < 0 - correlação negativa (quando uma variável cresce a outra tende decrescer e vice-versa)\n",
    "* r = 1 ou muito próximo de 1 - correlação positiva forte \n",
    "* r = -1 ou muito próximo de -1  - correlação negativa forte\n",
    "\n",
    "\n",
    "Vamos refazer os exercícios anteriores, mas agora calculando o coefienciente de correlação.\n",
    "Nos exercícios #12 e #13, complete o código utilizando novamente os pares de variáveis: (Revenue_(Millions), Rating), e (*Runtime_(Minutes)*, *Rating*)"
   ]
  },
  {
   "cell_type": "code",
   "execution_count": 26,
   "metadata": {
    "colab": {
     "base_uri": "https://localhost:8080/",
     "height": 34
    },
    "colab_type": "code",
    "executionInfo": {
     "elapsed": 2197,
     "status": "ok",
     "timestamp": 1593322560202,
     "user": {
      "displayName": "Rute Abreu",
      "photoUrl": "https://lh3.googleusercontent.com/a-/AOh14GiUpD-uropAPP9cuQxhGaGef5gUpubY536n0IPT=s64",
      "userId": "06754473900038904498"
     },
     "user_tz": 180
    },
    "id": "R9-ckCAdHlz2",
    "outputId": "716e956b-ae5c-4c34-e187-b69bb1d978cd"
   },
   "outputs": [
    {
     "name": "stdout",
     "output_type": "stream",
     "text": [
      "O coeficiente de correlação entre receita do filme e avaliação é:  0.06230379810673178\n"
     ]
    }
   ],
   "source": [
    "#Exercício 12\n",
    "\n",
    "#Remoção dos outliers das colunas de receita e avaliação\n",
    "imdb_cp = imdb.drop(outliers_altos_re.index, axis=0)\n",
    "imdb_cp = imdb_cp.drop(outliers_baixos.index, axis=0)\n",
    "\n",
    "r1 = np.corrcoef(imdb_cp['Revenue_(Millions)'], imdb_cp['Rating'])\n",
    "\n",
    "print(\"O coeficiente de correlação entre receita do filme e avaliação é: \", r1[0][1])\n",
    "\n",
    "\n"
   ]
  },
  {
   "cell_type": "code",
   "execution_count": 27,
   "metadata": {
    "colab": {
     "base_uri": "https://localhost:8080/",
     "height": 34
    },
    "colab_type": "code",
    "executionInfo": {
     "elapsed": 2185,
     "status": "ok",
     "timestamp": 1593322560205,
     "user": {
      "displayName": "Rute Abreu",
      "photoUrl": "https://lh3.googleusercontent.com/a-/AOh14GiUpD-uropAPP9cuQxhGaGef5gUpubY536n0IPT=s64",
      "userId": "06754473900038904498"
     },
     "user_tz": 180
    },
    "id": "0Rl5K_RDUaIB",
    "outputId": "f6d18965-0127-43e6-845f-f418924d71d0"
   },
   "outputs": [
    {
     "name": "stdout",
     "output_type": "stream",
     "text": [
      "O coeficiente de correlação entre duração do filme e avaliação é:  0.3958617467292908\n"
     ]
    }
   ],
   "source": [
    "#Exercício 13\n",
    "\n",
    "#Remoção dos outliers de e avaliação\n",
    "imdb_cp = imdb.drop(outliers_baixos.index, axis=0)\n",
    "\n",
    "#Calculo do coeficiente de relçao entre ass colunas de duração do filme e avaliação\n",
    "r2 = np.corrcoef(imdb_cp['Runtime_(Minutes)'], imdb_cp['Rating'])\n",
    "\n",
    "print(\"O coeficiente de correlação entre duração do filme e avaliação é: \", r2[0][1])"
   ]
  },
  {
   "cell_type": "markdown",
   "metadata": {
    "colab_type": "text",
    "id": "jTglsJ7bV76b"
   },
   "source": [
    "Perceba que os coeficientes de correlação confirmaram nossas suspeitas feitas a partir da análise dos gráficos de dispersão."
   ]
  }
 ],
 "metadata": {
  "colab": {
   "authorship_tag": "ABX9TyOTtdVMZSv7v9c2h63sjDEV",
   "collapsed_sections": [],
   "name": "Roteiro_de_atividades_2_chave_de_correção",
   "provenance": []
  },
  "kernelspec": {
   "display_name": "Python 3",
   "language": "python",
   "name": "python3"
  },
  "language_info": {
   "codemirror_mode": {
    "name": "ipython",
    "version": 3
   },
   "file_extension": ".py",
   "mimetype": "text/x-python",
   "name": "python",
   "nbconvert_exporter": "python",
   "pygments_lexer": "ipython3",
   "version": "3.8.3"
  }
 },
 "nbformat": 4,
 "nbformat_minor": 1
}
