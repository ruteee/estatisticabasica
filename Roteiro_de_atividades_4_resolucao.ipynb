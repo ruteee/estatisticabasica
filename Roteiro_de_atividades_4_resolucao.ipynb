{
 "cells": [
  {
   "cell_type": "markdown",
   "metadata": {
    "colab_type": "text",
    "id": "O9yimDYsSymF"
   },
   "source": [
    "# Roteiro de atividades 4 "
   ]
  },
  {
   "cell_type": "markdown",
   "metadata": {
    "colab_type": "text",
    "id": "1u_qgqI8S15h"
   },
   "source": [
    "# Objetivo\n",
    "\n",
    "Fixar os conteúdos:\n",
    "\n",
    "* Variáveis aleatórias\n",
    "* Ideias de esperança e variância\n",
    "* Variáveis aleatórias discretas\n",
    "* Distribuições discretas\n",
    "* Variáveis aleatórias contínuas\n",
    "* Distribuições contínuas\n",
    "* Importância da distribuição Normal\n",
    "\n",
    "através de atividades desenvolvidas na linguagem programação python"
   ]
  },
  {
   "cell_type": "markdown",
   "metadata": {
    "colab_type": "text",
    "id": "mmFrkiDiqBL2"
   },
   "source": [
    "# 1 - Variáveis aleatórias\n",
    "\n",
    "Uma variável aleátoria é uma entidade que representa o resultado de um experimento probabilistico. Uma variável que assume um número finito de valores é chamada variável discreta, já quando a variável pode assumir um numero infinito ou incontavel de valores é chamada continua. Por exemplo uma variável que representa as saídas possíveis de um lançamento de dois dados é dita discreta. Já um que representa a altura de uma pessoa é dita continua pois pode assumir infinitos valores num dado intervalo. Por exemplo, imagine uma variável contínua que descreve a altura de um jovem entre os 10 e os 14 anos. É impossível dizer que ele só mediu um conjunto finito de alturas nesses 4 anos, como 1,40m , 1,50 m,e 1,6 m. Ele provavelmente mediu 1,4m , 1,41m, 1,441m, 1,442m e assim por diante. E esses valores podem ainda ser ainda decompostos de maneira ainda mais precisa. São infinitas as representações possíveis."
   ]
  },
  {
   "cell_type": "markdown",
   "metadata": {
    "colab_type": "text",
    "id": "gGelWPoFqFSC"
   },
   "source": [
    "# 2 - Como gerar variáveis aleatórias no python\n",
    "Existem algumas bibliotecas em python que oferecem a possibilidade de geração e manipulação de variáveis aleatórias. Neste roteiro iremos utilizar o ecossistema de código aberto **SciPy**, que é amplamente utilizado pela comunidade para a realização de operações matemáticas, estatísticas e probabilísticas. \n",
    " \n",
    "Para gerar variáveis aleatórias, nós vamos utilizar o módulo ***stats*** do SciPy, além disso vamos também incluir a biblioteca numpy para realização de operações matemáticas genéricas.\n",
    "\n",
    "Execute a célula abaixo para realizar estas importações\n",
    "\n",
    "\n"
   ]
  },
  {
   "cell_type": "code",
   "execution_count": 1,
   "metadata": {
    "colab": {},
    "colab_type": "code",
    "executionInfo": {
     "elapsed": 1361,
     "status": "ok",
     "timestamp": 1594613730411,
     "user": {
      "displayName": "Rute Abreu",
      "photoUrl": "https://lh3.googleusercontent.com/a-/AOh14GiUpD-uropAPP9cuQxhGaGef5gUpubY536n0IPT=s64",
      "userId": "06754473900038904498"
     },
     "user_tz": 180
    },
    "id": "iSoayhmGwJ0Z"
   },
   "outputs": [],
   "source": [
    "from scipy import stats\n",
    "import numpy as np"
   ]
  },
  {
   "cell_type": "markdown",
   "metadata": {
    "colab_type": "text",
    "id": "f3rCja1ZwR6N"
   },
   "source": [
    "O *stats* é um módulo de estatística do SciPy que contém funcionalidades desde geração de variáveis  aleatórias, distribuições de probabilidade, testes estatísticos à geração de funções de probabilidades artificiais. \n",
    " \n",
    "Na célula abaixo execute o comando ***`stats?`*** para obter uma lista de todas as funcionalidades disponíveis no stats."
   ]
  },
  {
   "cell_type": "code",
   "execution_count": 2,
   "metadata": {
    "colab": {},
    "colab_type": "code",
    "executionInfo": {
     "elapsed": 1799,
     "status": "ok",
     "timestamp": 1594613730890,
     "user": {
      "displayName": "Rute Abreu",
      "photoUrl": "https://lh3.googleusercontent.com/a-/AOh14GiUpD-uropAPP9cuQxhGaGef5gUpubY536n0IPT=s64",
      "userId": "06754473900038904498"
     },
     "user_tz": 180
    },
    "id": "54RHvF7o4UiJ"
   },
   "outputs": [],
   "source": [
    "#Exercício 1\n",
    "stats?"
   ]
  },
  {
   "cell_type": "markdown",
   "metadata": {
    "colab_type": "text",
    "id": "yIEKzykhALIk"
   },
   "source": [
    "# 3 - Gerando variáveis aleatórias discretas e sua função de distribuição associada\n",
    "\n",
    "\n",
    "Para gerar variáveis aleatórias discretas de maneira customizada, isto é, definindo os valores possíveis da variável e suas respectivas probabilidades usamos o método **`rv_discrete(name='Descrição da variável', values =(x, p))`** do módulo ***stats***.\n",
    " \n",
    "Neste método o parâmetro name é usado para definir uma descrição da variável, o parâmetro ***x*** são os valores que a variável pode assumir e o parâmetro ***p*** é a probabilidade de cada valor dentro do conjunto ***x*** ocorrer.\n",
    " \n",
    "Para fins de exemplificação, vamos definir a variável aleatória ***X*** como o número obtido no lançamento de um dado. Sabemos que: \n",
    " \n",
    "* Os valores possíveis de ***X*** são: $[1,2,3,4,5,6]$\n",
    "<br>\n",
    "* A probabilidade (p) de cada valor sair é: $[\\frac{1}{6}, \\frac{1}{6},\\frac{1}{6},\\frac{1}{6},\\frac{1}{6},\\frac{1}{6}]$\n",
    " \n",
    "No exercício abaixo, complete o código preenchendo os vetores x (valores possíveis) e p (probabilidade de cada valor) e gere a VA do exemplo acima. \n",
    " \n",
    "Caso não queira escrever os valores dos vetores \"na mão\":\n",
    "*  Use o comando **`np.arange(inicio da  sequencia, fim da sequência + 1)`**para gerar a sequência de valores possíveis de X (de 1 a 6)\n",
    " \n",
    "* Para gerar o vetor de probabilidades utilize o comando **`np.ones(tamanho do conjunto de valores) * probabilidade do valor acontecer`**\n",
    " \n",
    "\n",
    "\n"
   ]
  },
  {
   "cell_type": "code",
   "execution_count": 3,
   "metadata": {
    "colab": {},
    "colab_type": "code",
    "executionInfo": {
     "elapsed": 1878,
     "status": "ok",
     "timestamp": 1594613730984,
     "user": {
      "displayName": "Rute Abreu",
      "photoUrl": "https://lh3.googleusercontent.com/a-/AOh14GiUpD-uropAPP9cuQxhGaGef5gUpubY536n0IPT=s64",
      "userId": "06754473900038904498"
     },
     "user_tz": 180
    },
    "id": "JU8R0Dm9_nKc"
   },
   "outputs": [],
   "source": [
    "#Exercício 2\n",
    "x = np.arange(1,7)\n",
    "p = np.ones(6)*1/6\n",
    "vaLancamentoDado = stats.rv_discrete(name='Valor obtido no lançamento de um dado', values=(x, p))\n"
   ]
  },
  {
   "cell_type": "markdown",
   "metadata": {
    "colab_type": "text",
    "id": "1Zemqf18PaL8"
   },
   "source": [
    "Para simular um experimento com *n* lançamentos do dado, nós utilizamos método `rvs(size=n)`\n",
    "\n",
    "No próximo exercício utilize o comando `suaVariavel.rvs(size = 'quantidade de lançamentos)` para simular 100 lançamentos do dado. Armazene o resultado numa variável chamada lancamentosDado."
   ]
  },
  {
   "cell_type": "code",
   "execution_count": 4,
   "metadata": {
    "colab": {
     "base_uri": "https://localhost:8080/",
     "height": 85
    },
    "colab_type": "code",
    "executionInfo": {
     "elapsed": 1861,
     "status": "ok",
     "timestamp": 1594613730985,
     "user": {
      "displayName": "Rute Abreu",
      "photoUrl": "https://lh3.googleusercontent.com/a-/AOh14GiUpD-uropAPP9cuQxhGaGef5gUpubY536n0IPT=s64",
      "userId": "06754473900038904498"
     },
     "user_tz": 180
    },
    "id": "Tsu6tiZvPZUB",
    "outputId": "4836f2a5-3061-43f8-8a62-83df23a67856"
   },
   "outputs": [
    {
     "name": "stdout",
     "output_type": "stream",
     "text": [
      "Simulação de 100 lançamentos do dado \n",
      "  [1 4 3 2 1 3 1 6 5 2 4 5 2 3 1 3 2 6 1 3 6 6 6 5 6 4 1 5 4 2 2 4 3 5 4 1 1\n",
      " 4 5 3 2 1 1 1 1 2 3 3 1 1 6 5 3 5 4 1 3 2 1 1 3 2 6 6 4 6 1 2 1 1 5 6 5 2\n",
      " 1 5 5 3 4 2 4 6 1 3 4 3 5 4 6 4 1 3 4 3 4 3 4 2 6 3]\n"
     ]
    }
   ],
   "source": [
    "#Exercício 3\n",
    "lancamentosDado = vaLancamentoDado.rvs(size=100)\n",
    "print('Simulação de 100 lançamentos do dado \\n ', lancamentosDado)"
   ]
  },
  {
   "cell_type": "markdown",
   "metadata": {
    "colab_type": "text",
    "id": "P4hjUoQdRDC2"
   },
   "source": [
    "No próximo exercício complete o código para gerar um gráfico de barras (colunas) onde será possível visualizar a frequência de cada valor no experimento realizado. \n",
    " \n",
    "Como explicado em roteiros passados, para gerar um gráfico de barras é necessário definir a sequência de valores representado por cada barra, (no nosso caso, os valores que ***X*** pode assumir) e a altura de cada barra (no nosso caso a frequência de aparição de cada valor no experimento).\n",
    " \n",
    "**Antes de passar ao próximo exercício execute a célula abaixo para criar uma função que conta a frequência dos valores assumidos pela variável na execução $n$ experimentos.\n"
   ]
  },
  {
   "cell_type": "code",
   "execution_count": 5,
   "metadata": {
    "colab": {},
    "colab_type": "code",
    "executionInfo": {
     "elapsed": 1843,
     "status": "ok",
     "timestamp": 1594613730988,
     "user": {
      "displayName": "Rute Abreu",
      "photoUrl": "https://lh3.googleusercontent.com/a-/AOh14GiUpD-uropAPP9cuQxhGaGef5gUpubY536n0IPT=s64",
      "userId": "06754473900038904498"
     },
     "user_tz": 180
    },
    "id": "It9Uw-GYsMnK"
   },
   "outputs": [],
   "source": [
    "def contar_frequencias(resultados_lancamento, valores_possiveis):\n",
    "    list_valores_possiveis = list(valores_possiveis)\n",
    "    frequencias = np.zeros(len(list_valores_possiveis))\n",
    "    for resultaddo in resultados_lancamento:\n",
    "        idx = list_valores_possiveis.index(resultaddo)\n",
    "        frequencias[idx] += 1\n",
    "    return frequencias"
   ]
  },
  {
   "cell_type": "code",
   "execution_count": 6,
   "metadata": {
    "colab": {
     "base_uri": "https://localhost:8080/",
     "height": 623
    },
    "colab_type": "code",
    "executionInfo": {
     "elapsed": 2419,
     "status": "ok",
     "timestamp": 1594613731582,
     "user": {
      "displayName": "Rute Abreu",
      "photoUrl": "https://lh3.googleusercontent.com/a-/AOh14GiUpD-uropAPP9cuQxhGaGef5gUpubY536n0IPT=s64",
      "userId": "06754473900038904498"
     },
     "user_tz": 180
    },
    "id": "4uP-fKPGQ5s2",
    "outputId": "32258081-ff34-4d32-8817-16db28a6936e"
   },
   "outputs": [
    {
     "data": {
      "text/plain": [
       "Text(0, 0.5, 'Frequencia de resultados em 100 lançamentos')"
      ]
     },
     "execution_count": 6,
     "metadata": {
      "tags": []
     },
     "output_type": "execute_result"
    },
    {
     "data": {
      "image/png": "[encoded data removed]",
      "text/plain": [
       "<Figure size 720x720 with 1 Axes>"
      ]
     },
     "metadata": {
      "needs_background": "light",
      "tags": []
     },
     "output_type": "display_data"
    }
   ],
   "source": [
    "#Exercício 4\n",
    "import matplotlib.pyplot as plt\n",
    "import pandas as pd\n",
    "\n",
    "fig, ax = plt.subplots(figsize=(10,10))\n",
    "\n",
    "sequencia_x = x\n",
    "alturas = contar_frequencias(lancamentosDado, sequencia_x)\n",
    "\n",
    "ax.bar(x = sequencia_x, height = alturas)\n",
    "ax.set_xlabel('Valores possíveis para X')\n",
    "ax.set_ylabel(\"Frequencia de resultados em 100 lançamentos\")"
   ]
  },
  {
   "cell_type": "markdown",
   "metadata": {
    "colab_type": "text",
    "id": "n1UTW8WaOioy"
   },
   "source": [
    "Com a VA aleatória discreta e sua função de distribuição de probabilidade definida você pode agora realizar todas as operações comuns a essa distribuição, isto é $P(X \\leq x)$, $P(X=x)$, $E(X)$ e $Var(X)$. Mas, veremos isso um pouco mais a frente."
   ]
  },
  {
   "cell_type": "markdown",
   "metadata": {
    "colab_type": "text",
    "id": "iBm-miTcZPC-"
   },
   "source": [
    "## 3.1. Gerando variáveis aleatórias discretas a partir de uma distribuição de probabilidade\n",
    "O módulo scipy disponibiliza a implementação do comportamento de 11 tipos diferentes de distribuições de probabilidade discretas. \n",
    " \n",
    "Uma distribuição de probabilidade discreta descreve a probabilidade dos valores possíveis que uma variável aleatória (VA) discreta pode assumir. Assim, com a distribuição de uma VA discreta em mãos é possível dizer qual a probabilidade exata de cada valor da variável, isto é P(X = x). \n",
    " \n",
    "No ScipY para gerar uma VA discreta que segue uma determinada distribuição é necessário definir a distribuição desejada e os parâmetros relativos a cada distribuição.\n",
    " \n",
    "Neste exemplo, apenas para fins de aprendizagem iremos gerar uma VA discreta que segue a distribuição de Bernoulli. A variável de Bernoulli possui apenas dois valores possíveis 0 e 1, sendo 1 considerado o sucesso do evento e 0 a falha. Para gerar uma variável Bernoulli precisamos definir o parâmetro ***p***  que indica a probabilidade de sucesso.\n",
    " \n",
    "Crie uma variável chamada bernoulli para armazenar a instância da distribuição de Bernoulli com probabilidade de sucesso ***p*** = 0.7, e preencha-a utilizando o comando stats.bernoulli(p = 'probabilidade de sucesso').\n"
   ]
  },
  {
   "cell_type": "code",
   "execution_count": 7,
   "metadata": {
    "colab": {},
    "colab_type": "code",
    "executionInfo": {
     "elapsed": 2397,
     "status": "ok",
     "timestamp": 1594613731584,
     "user": {
      "displayName": "Rute Abreu",
      "photoUrl": "https://lh3.googleusercontent.com/a-/AOh14GiUpD-uropAPP9cuQxhGaGef5gUpubY536n0IPT=s64",
      "userId": "06754473900038904498"
     },
     "user_tz": 180
    },
    "id": "BB4FvcEr8lDI"
   },
   "outputs": [],
   "source": [
    "#Exercício 5\n",
    "bernoulli = stats.bernoulli(p=0.7)"
   ]
  },
  {
   "cell_type": "markdown",
   "metadata": {
    "colab_type": "text",
    "id": "rpE02txwZus-"
   },
   "source": [
    "Desse modo, você definiu uma variável aleatória discreta X com as seguintes características: \n",
    " \n",
    "* Os valores possíveis são $[0,1]$ \n",
    " \n",
    "* A probabilidade de ocorrência de cada valor é $[1-p, p] = [0.3, 0.7]$\n",
    " \n",
    "Nesse caso a variável aleatória é simplesmente a saída de um experimento de Bernoulli.\n",
    " \n",
    " \n",
    "No próximo exercício crie uma variável chamada `rvsBernoulli` e armazene o resultado da execução de 100 experimentos de bernoulli, utilizado o comando `bernoulli.rvs(size=número de repetições do experimento)`\n"
   ]
  },
  {
   "cell_type": "markdown",
   "metadata": {
    "colab_type": "text",
    "id": "J_sTzQF1O8Mn"
   },
   "source": [
    "Utilize a função print do python para visualizar a influência do parâmetro p na \n",
    "variável criada."
   ]
  },
  {
   "cell_type": "code",
   "execution_count": 8,
   "metadata": {
    "colab": {
     "base_uri": "https://localhost:8080/",
     "height": 68
    },
    "colab_type": "code",
    "executionInfo": {
     "elapsed": 2375,
     "status": "ok",
     "timestamp": 1594613731584,
     "user": {
      "displayName": "Rute Abreu",
      "photoUrl": "https://lh3.googleusercontent.com/a-/AOh14GiUpD-uropAPP9cuQxhGaGef5gUpubY536n0IPT=s64",
      "userId": "06754473900038904498"
     },
     "user_tz": 180
    },
    "id": "KZur9logWR_C",
    "outputId": "2ed7b2da-03ec-493b-ad29-705fecb86a42"
   },
   "outputs": [
    {
     "name": "stdout",
     "output_type": "stream",
     "text": [
      "[0 0 0 1 0 1 1 1 1 0 1 1 1 1 0 1 0 0 0 1 1 0 0 0 1 1 1 1 1 1 1 0 1 1 1 1 0\n",
      " 0 1 1 1 1 1 0 1 0 1 1 1 1 1 1 1 1 1 1 1 1 1 1 1 1 1 0 1 0 1 1 0 1 1 0 1 1\n",
      " 1 1 0 1 1 0 1 1 1 0 1 1 1 0 1 1 1 0 1 1 1 0 1 0 1 1]\n"
     ]
    }
   ],
   "source": [
    "#Exercício 6\n",
    "\n",
    "vrsBernoulli = bernoulli.rvs(size=100)\n",
    "print(vrsBernoulli)"
   ]
  },
  {
   "cell_type": "markdown",
   "metadata": {
    "colab_type": "text",
    "id": "enGDdwopJNDb"
   },
   "source": [
    "No próximo exercício complete o código para gerar um gráfico de barras (colunas) onde será possível visualizar a frequência de cada valor no experimento realizado. \n"
   ]
  },
  {
   "cell_type": "code",
   "execution_count": 9,
   "metadata": {
    "colab": {
     "base_uri": "https://localhost:8080/",
     "height": 623
    },
    "colab_type": "code",
    "executionInfo": {
     "elapsed": 3076,
     "status": "ok",
     "timestamp": 1594613732307,
     "user": {
      "displayName": "Rute Abreu",
      "photoUrl": "https://lh3.googleusercontent.com/a-/AOh14GiUpD-uropAPP9cuQxhGaGef5gUpubY536n0IPT=s64",
      "userId": "06754473900038904498"
     },
     "user_tz": 180
    },
    "id": "2j2MAlBJ6C7_",
    "outputId": "2b5a7ded-328f-491f-f0b0-5b242625fdf7"
   },
   "outputs": [
    {
     "data": {
      "text/plain": [
       "Text(0, 0.5, 'Frequencia de resultados em 1000 experimentos')"
      ]
     },
     "execution_count": 9,
     "metadata": {
      "tags": []
     },
     "output_type": "execute_result"
    },
    {
     "data": {
      "image/png": "[encoded data removed]",
      "text/plain": [
       "<Figure size 720x720 with 1 Axes>"
      ]
     },
     "metadata": {
      "needs_background": "light",
      "tags": []
     },
     "output_type": "display_data"
    }
   ],
   "source": [
    "fig, ax = plt.subplots(figsize=(10,10))\n",
    "\n",
    "sequencia_x = [0,1]\n",
    "alturas = contar_frequencias(vrsBernoulli, sequencia_x)\n",
    "\n",
    "ax.bar(x = sequencia_x, height = alturas)\n",
    "ax.set_xlabel('Valores possíveis para X')\n",
    "ax.set_ylabel(\"Frequencia de resultados em 1000 experimentos\")"
   ]
  },
  {
   "cell_type": "markdown",
   "metadata": {
    "colab_type": "text",
    "id": "Np6Fp6IoW9C9"
   },
   "source": [
    "Um exemplo comum que mostra o uso de uma variável aleatória de Bernoulli, é o da VA que representa  'o lançamento de uma moeda ser coroa' considerando o lançamento de uma moeda justa, ou seja que a probabilidade de ser cara ou coroa é de 50%. \n",
    " \n",
    "Perceba que se modelarmos como sucesso o evento 'ser coroa' com probabilidade p = 0.5, conseguimos representar esse experimento com uma variável aleatória de Bernoulli com p = 0.5."
   ]
  },
  {
   "cell_type": "markdown",
   "metadata": {
    "colab_type": "text",
    "id": "PQ671NV9ZUPR"
   },
   "source": [
    "## 3.2. Gerando variáveis aleatórias contínuas a partir de uma distribuição de probabilidade\n",
    "\n",
    " \n",
    "Novamente, para gerar a variável aleatória no python precisamos definir a distribuição que ela segue. O SciPy nos disponibiliza 87 distribuições contínuas possíveis. No nosso caso, escolheremos a distribuição normal, outra vez apenas para fins de aprendizado. \n",
    " \n",
    "No caso da distribuição de probabilidade de uma variável aleatória ***X***  continua, a probabilidade de X assumir um valor específico ***x*** (P(X = x) é sempre 0. Isso porque, quando falamos de valores contínuos, é impossível admitir que ***x*** assuma apenas um conjunto finito de valores em um dado intervalo. \n",
    " \n",
    "Por isso, podemos apenas calcular P(X$\\leq$ x) ou seu complemento. \n",
    " \n",
    "No exercício abaixo crie uma variável chamada **`normal`** para armazenar uma instância da distribuição normal padrão (médio 0 e variância 1). Para fazer essa operação utilize o comando **`stats.norm()`**.\n",
    " \n",
    "Neste caso, estamos criando uma variável aleatória X normal com as seguintes características:\n",
    " \n",
    "* Os valores possíveis para X definidos por todos os valores no intervalo de $[-\\infty,\\infty]$\n",
    "* A função que define o comportamento de VA contínua é a  função densidade de probabilidade $f(x) = \\frac{(\\exp (\\frac{-x^2}{2})}{\\sqrt(2\\pi)}$ \n",
    "* A função de distribuição acumulada, isto é $P(X \\leq x)$, é dada por $\\int_{-\\infty}^{x} f(x) {d}x$\n",
    "\n"
   ]
  },
  {
   "cell_type": "code",
   "execution_count": 10,
   "metadata": {
    "colab": {},
    "colab_type": "code",
    "executionInfo": {
     "elapsed": 3056,
     "status": "ok",
     "timestamp": 1594613732308,
     "user": {
      "displayName": "Rute Abreu",
      "photoUrl": "https://lh3.googleusercontent.com/a-/AOh14GiUpD-uropAPP9cuQxhGaGef5gUpubY536n0IPT=s64",
      "userId": "06754473900038904498"
     },
     "user_tz": 180
    },
    "id": "XBT1a65Lxdd4"
   },
   "outputs": [],
   "source": [
    "#Exercício 5\n",
    "\n",
    "normal = stats.norm()\n"
   ]
  },
  {
   "cell_type": "markdown",
   "metadata": {
    "colab_type": "text",
    "id": "FgR4ZYsj4w3V"
   },
   "source": [
    "\n",
    "Agora crie uma variável chamada `rvsNormal` para as saídas da execução de 100 experimentos normais, para isso utilize o comando `.rvs(size = 'número de experimentos')`.\n",
    "\n",
    "\n"
   ]
  },
  {
   "cell_type": "markdown",
   "metadata": {
    "colab_type": "text",
    "id": "iSapvkK1xzxh"
   },
   "source": [
    "Utilize a função print para observar os valores gerados."
   ]
  },
  {
   "cell_type": "code",
   "execution_count": 11,
   "metadata": {
    "colab": {
     "base_uri": "https://localhost:8080/",
     "height": 306
    },
    "colab_type": "code",
    "executionInfo": {
     "elapsed": 3035,
     "status": "ok",
     "timestamp": 1594613732311,
     "user": {
      "displayName": "Rute Abreu",
      "photoUrl": "https://lh3.googleusercontent.com/a-/AOh14GiUpD-uropAPP9cuQxhGaGef5gUpubY536n0IPT=s64",
      "userId": "06754473900038904498"
     },
     "user_tz": 180
    },
    "id": "HIEjLL-yxy40",
    "outputId": "17c7cb32-b5e9-4e5f-81f7-8c49be5b7bdf"
   },
   "outputs": [
    {
     "name": "stdout",
     "output_type": "stream",
     "text": [
      "[-1.28673897  1.0848043  -0.56191796  0.49405885 -1.74934575  1.11982733\n",
      "  0.38146221  0.94586165  0.4441888   0.11373647 -0.34042032  0.50972232\n",
      " -0.13063345  1.8890002   0.47666321  0.25040654 -1.43511384 -0.00424475\n",
      "  2.54993168  0.2082015  -0.63142926  0.81163986  0.56480599  2.42893156\n",
      "  0.86477361  1.74670272 -0.08917911 -0.16784783 -1.74993549  1.89647588\n",
      "  0.89487522  0.22185885  0.26134269  0.63992331 -0.45964338  0.74552612\n",
      " -0.27730171  1.01380657 -1.08327108 -0.07022051  1.11114257 -0.67036284\n",
      " -0.92754825 -0.39371606 -0.46066649  0.21580903 -0.41172624  0.93082347\n",
      " -0.80779248  0.64083758 -0.10648469  0.56376681  0.28203261 -0.025335\n",
      "  0.79191449 -1.13137058 -0.44786859 -1.07789414  0.20681636 -0.01875169\n",
      "  0.95736704 -1.20756648  0.45970861 -0.09620668 -0.49869794  2.52400789\n",
      " -0.63361302 -0.86736076  1.2277736   0.49822389 -0.38016107  0.25986228\n",
      "  0.18074006  1.09035853  0.2980335   0.72957089  0.29238035  0.05714931\n",
      "  0.74975656 -1.03260114  0.14070451 -0.81687152 -1.34607355  1.26575656\n",
      " -0.38631194 -0.12535842 -0.33850084  0.49635883 -2.20577667  0.3754002\n",
      "  2.28554349 -1.23904395 -1.05495557  0.71562264 -2.18148356  1.44341732\n",
      " -2.64541467  1.45505737  0.33862521  0.37440129]\n"
     ]
    }
   ],
   "source": [
    "#Exercício 6\n",
    "vrsNormal = normal.rvs(size=100)\n",
    "\n",
    "print(vrsNormal)"
   ]
  },
  {
   "cell_type": "markdown",
   "metadata": {
    "colab_type": "text",
    "id": "odxqyWROJSWh"
   },
   "source": [
    "No próximo exercício complete o código para gerar um histograma onde será possivel visualizar a frequência dos intevalos de x no exerimento realizado. "
   ]
  },
  {
   "cell_type": "code",
   "execution_count": 12,
   "metadata": {
    "colab": {
     "base_uri": "https://localhost:8080/",
     "height": 293
    },
    "colab_type": "code",
    "executionInfo": {
     "elapsed": 3012,
     "status": "ok",
     "timestamp": 1594613732312,
     "user": {
      "displayName": "Rute Abreu",
      "photoUrl": "https://lh3.googleusercontent.com/a-/AOh14GiUpD-uropAPP9cuQxhGaGef5gUpubY536n0IPT=s64",
      "userId": "06754473900038904498"
     },
     "user_tz": 180
    },
    "id": "ZUsKqv65IGXf",
    "outputId": "6922f730-c103-4e74-fa9d-cdff90f13604"
   },
   "outputs": [
    {
     "data": {
      "image/png": "[encoded data removed]",
      "text/plain": [
       "<Figure size 432x288 with 1 Axes>"
      ]
     },
     "metadata": {
      "needs_background": "light",
      "tags": []
     },
     "output_type": "display_data"
    }
   ],
   "source": [
    "histograma = plt.hist(vrsNormal)\n",
    "xl = plt.xlabel('Variável aleatória continua com distribuição Normal')\n",
    "yl = plt.ylabel('Frequência de resultados em 1000 experimentos')"
   ]
  },
  {
   "cell_type": "markdown",
   "metadata": {
    "colab_type": "text",
    "id": "m85XHXkUqQZU"
   },
   "source": [
    "# 4 - Valor esperado de variáveis aleatórias\n",
    "\n",
    "Quando falamos de média de variáveis aleatórias, falamos de valor esperado ***E(x)***. O valor esperado ou esperança de uma variável é o valor médio que a variável assume depois de várias repetições do mesmo experimento. \n",
    " \n",
    "Para variáveis aleatórias discretas:\n",
    " \n",
    "* É definido pela equação abaixo:\n",
    " \n",
    "<center> $E(x) = \\sum_{i}^n x_i \\cdot p(x_i)$\n",
    " \n",
    "Onde $x_i$ é o valor assumido pela variável, $p(x_i)$ é a probabilidade do valor ocorrer e $n representa o total de valores assumidos pela variável.</center>\n",
    " \n",
    "Para variáveis aleatórias contínuas:\n",
    " \n",
    "<center> $E(x) = \\int_{-\\infty}^{\\infty} x f(X) dx$ \n",
    " \n",
    "Onde x é o valor da variável e f(X) a função densidade de probabilidade. </center>\n",
    " \n",
    " \n",
    " \n",
    " \n",
    "Para calcular esse valor vamos novamente utilizar o método .mean() na VA que desejamos saber o valor esperado.\n",
    "No exercício abaixo complete o código para calcular o valor esperado das VAs que criamos anteriormente, nomeadamente as variáveis vaBernoulli, vaNormal e vaLancamentoDado.\n",
    "\n"
   ]
  },
  {
   "cell_type": "code",
   "execution_count": 13,
   "metadata": {
    "colab": {
     "base_uri": "https://localhost:8080/",
     "height": 68
    },
    "colab_type": "code",
    "executionInfo": {
     "elapsed": 2984,
     "status": "ok",
     "timestamp": 1594613732313,
     "user": {
      "displayName": "Rute Abreu",
      "photoUrl": "https://lh3.googleusercontent.com/a-/AOh14GiUpD-uropAPP9cuQxhGaGef5gUpubY536n0IPT=s64",
      "userId": "06754473900038904498"
     },
     "user_tz": 180
    },
    "id": "IRyvrOsFGeBg",
    "outputId": "c55644ed-e583-4d9a-a6d0-b1711370cc78"
   },
   "outputs": [
    {
     "name": "stdout",
     "output_type": "stream",
     "text": [
      "O valor esperado da variável aleatória de Bernoulli é:  0.7\n",
      "O valor esperado da variável aleatória Normal é:  0.0\n",
      "O valor esperado da variável aleatória do Lançamento de um dado é:  3.5\n"
     ]
    }
   ],
   "source": [
    "#Exercício 7\n",
    "\n",
    "esperancaVaBernoulli = bernoulli.mean()\n",
    "print(\"O valor esperado da variável aleatória de Bernoulli é: \", esperancaVaBernoulli)\n",
    "\n",
    "esperancaNormal = normal.mean() \n",
    "print(\"O valor esperado da variável aleatória Normal é: \", esperancaNormal)\n",
    "\n",
    "esperancaLancamentoDado =  vaLancamentoDado.mean()\n",
    "print(\"O valor esperado da variável aleatória do Lançamento de um dado é: \", esperancaLancamentoDado)\n",
    "\n"
   ]
  },
  {
   "cell_type": "markdown",
   "metadata": {
    "colab_type": "text",
    "id": "UehVw1j6tIGb"
   },
   "source": [
    "# 5 - Variância de variáveis aleatórias\n",
    "\n",
    "A variância ($ var(x)$) de uma variável aleatória indica o quão dispersos estão nossos dados em relação ao valor esperado.\n",
    "\n",
    "\n",
    "Para variáveis aleatórias discretas:\n",
    "\n",
    "* É dada pela seguinte equação:\n",
    "\n",
    "<center> $ \\sigma^2 = E(x_i - E(X)^2) = E(X) - E(X^2)$ </center>\n",
    "\n",
    "\n",
    "\n",
    "Para variáveis aleatórias contínuas:\n",
    "*É dada pela equação\n",
    "\n",
    "<center> $Var(X) = \\int_{-\\infty}^{x} [x - E(X)]^2 f(x) dx$ </center>\n",
    "No exercício abaixo complete o código para calcular o variância das VAs que criamos anteriormente, nomeadamente as variáveis vaBernoulli, vaNormal e vaLancamentoDado.\n"
   ]
  },
  {
   "cell_type": "code",
   "execution_count": 14,
   "metadata": {
    "colab": {
     "base_uri": "https://localhost:8080/",
     "height": 68
    },
    "colab_type": "code",
    "executionInfo": {
     "elapsed": 2951,
     "status": "ok",
     "timestamp": 1594613732313,
     "user": {
      "displayName": "Rute Abreu",
      "photoUrl": "https://lh3.googleusercontent.com/a-/AOh14GiUpD-uropAPP9cuQxhGaGef5gUpubY536n0IPT=s64",
      "userId": "06754473900038904498"
     },
     "user_tz": 180
    },
    "id": "DgBtrdOlQGpU",
    "outputId": "ac6670ab-99ae-4a0c-8953-2285e3f39d05"
   },
   "outputs": [
    {
     "name": "stdout",
     "output_type": "stream",
     "text": [
      "A variância esperado da variável aleatória de Bernoulli é:  0.21000000000000002\n",
      "A variância esperado da variável aleatória Normal é:  1.0\n",
      "A variância da variável aleatória do Lançamento de um dado é:  2.916666666666666\n"
     ]
    }
   ],
   "source": [
    "#Exercício 8\n",
    "\n",
    "varianciaVaBernoulli = bernoulli.var()\n",
    "print(\"A variância esperado da variável aleatória de Bernoulli é: \", varianciaVaBernoulli)\n",
    "\n",
    "varianciaNormal = normal.var() \n",
    "print(\"A variância esperado da variável aleatória Normal é: \", varianciaNormal)\n",
    "\n",
    "varianciaLancamentoDado =  vaLancamentoDado.var()\n",
    "print(\"A variância da variável aleatória do Lançamento de um dado é: \", varianciaLancamentoDado)"
   ]
  },
  {
   "cell_type": "markdown",
   "metadata": {
    "colab_type": "text",
    "id": "d7S4KvN_tOXS"
   },
   "source": [
    "# 6 - Como calcular P($X \\leq x$) e P($X=x$) em python\n",
    "Agora que geramos nossas variáveis aleatórias discretas e contínuas, vamos aprender como calcular a probabilidade dessas variáveis assumirem seus possíveis valores. \n",
    " \n",
    "Como discutido anteriormente, somente faz sentido calcular a probabilidade de uma variável $X$ assumir um valor $x$ para variáveis discretas. Enquanto que a probabilidade da VA $X$ ser menor ou igual que um determinado valor $x$ é factível para ambos os casos.\n",
    " \n",
    "A função $P(X=x)$ é chamada de função de densidade de probabilidade e é uma função que associa cada valor $x$ a um valor de probabilidade.\n",
    " \n",
    "A função $P(X\\leq x)$ também simbolizada por $F(x)$ é denominada função de distribuição acumulada define a probabilidade de X ser menor ou igual a um determinado valor.\n",
    " \n",
    "Quando criamos uma variável aleatória discreta ou  utilizando o módulo ***stats***, podemos facilmente calcular $P(X=x)$ e $P(X \\leq x)$ através dos métodos:\n",
    " \n",
    "* **`.pmf(x)`** (probability mass function)  - $(P(X=x)$\n",
    "* **`.cdf(x)`** (cumullated distribution function) e  respectivamente. - $P(X \\leq x)$\n",
    " \n",
    "No próximo exercício complete o código, utilizando as variáveis aleatórias criadas anteriormente e os métodos `cdf()` e `pmf()` para calcular:\n",
    " \n",
    "* A probabilidade de sair o valor 5 no lançamento de um dado.\n",
    "* A probabilidade de sair um valor menor que 3 no lançamento de um dado.\n",
    "* A probabilidade de X = 1 na VA discreta com distribuição de Bernoulli.\n",
    "* A probabilidade de X ser menor/igual que 0.5 na VA com distribuição normal $P(X <=0.5)$\n",
    "\n",
    " \n",
    "Armazene os resultados na variáveis pDado, pBern e pNormal respectivamente. \n"
   ]
  },
  {
   "cell_type": "code",
   "execution_count": 15,
   "metadata": {
    "colab": {
     "base_uri": "https://localhost:8080/",
     "height": 68
    },
    "colab_type": "code",
    "executionInfo": {
     "elapsed": 2924,
     "status": "ok",
     "timestamp": 1594613732315,
     "user": {
      "displayName": "Rute Abreu",
      "photoUrl": "https://lh3.googleusercontent.com/a-/AOh14GiUpD-uropAPP9cuQxhGaGef5gUpubY536n0IPT=s64",
      "userId": "06754473900038904498"
     },
     "user_tz": 180
    },
    "id": "m15JuwOtQ2ec",
    "outputId": "7c57f7dd-77af-4340-89be-8b18e443932a"
   },
   "outputs": [
    {
     "name": "stdout",
     "output_type": "stream",
     "text": [
      "A probabilidade de sair 6 no lançamento do dado é:  0.16666666666666666\n",
      "A probabilidade da variavel assumir valor 1 é:  0.7\n",
      "A probabilidade da variavel assumir valor menor/igual a 0.5 é:  0.6914624612740131\n"
     ]
    }
   ],
   "source": [
    "#Execício 9\n",
    "\n",
    "pDado = vaLancamentoDado.pmf(6)\n",
    "print(\"A probabilidade de sair 6 no lançamento do dado é: \", pDado)\n",
    "\n",
    "pBernoulli = bernoulli.pmf(1)\n",
    "print(\"A probabilidade da variavel assumir valor 1 é: \" , pBernoulli)\n",
    "\n",
    "pNormal = normal.cdf(0.5)\n",
    "\n",
    "print(\"A probabilidade da variavel assumir valor menor/igual a 0.5 é: \", pNormal)\n",
    "\n"
   ]
  },
  {
   "cell_type": "markdown",
   "metadata": {
    "colab_type": "text",
    "id": "_Mk__FBwZnMi"
   },
   "source": [
    "# 7 - Distribuiições de probabilidade\n",
    "\n",
    "As distribuições de probabilidades são modelos matemáticos que descrevem o comportamento de fenômenos aleatórios, elas relacionam variáveis aleatórias a valores de probabilidades e são aplamente utilizadas na modelagem de fenômenos naturais.\n",
    "\n",
    "Formalmente eles definem a regra geral para funções de probabilidades  e funções de densidade de probabilidade. Estes modelos reacaem duas categorias: \n",
    "\n",
    "* Distribuição de probabilidade discreta (Para variáveis aleatórias discreta)\n",
    "* Distribuição de probabilidade contínua (Para variáveis aleatórias contínuas)"
   ]
  },
  {
   "cell_type": "markdown",
   "metadata": {
    "colab_type": "text",
    "id": "xMxEVDRIZwQX"
   },
   "source": [
    "## 7.1 Distribuições discretas"
   ]
  },
  {
   "cell_type": "markdown",
   "metadata": {
    "colab_type": "text",
    "id": "5Ag6f-6TZ8ej"
   },
   "source": [
    "### 7.1.1 Bernoulli\n",
    "\n",
    "Como visto anteriormente, a distribuição de probabilidade de Bernoulli possui espaço amostral $\\Omega = [0,1]$, onde o eveto 0 representa o evento de falha e 1 representa o evento de sucesso.\n",
    "\n",
    "A função de distrbuição de probabilidade é dada por:\n",
    "\n",
    "\n",
    "\n",
    "* $ p $, para $x = 1$\n",
    "*   $1 -p$, para $x = 0$\n",
    "\n",
    "Ou seja, $P(X=x) = f(x) = p^x\\cdot (1-p)^{(1-x)}$\n",
    "\n",
    "\n",
    "No exercício abaixo, preencha o valor das probabilidades de sucesso e falha, sabendo que a probiliadade de sucesso deve ser igual a 0.9.\n",
    "\n",
    "Após isso crie uma variavel  chamada `bernoulli` e armazene uma instância da distribuição de bernoulli utilizando o comando `stats.bernoulli(p = 'probabilidade de sucesso')`.\n",
    "</center>"
   ]
  },
  {
   "cell_type": "code",
   "execution_count": 16,
   "metadata": {
    "colab": {},
    "colab_type": "code",
    "executionInfo": {
     "elapsed": 2899,
     "status": "ok",
     "timestamp": 1594613732316,
     "user": {
      "displayName": "Rute Abreu",
      "photoUrl": "https://lh3.googleusercontent.com/a-/AOh14GiUpD-uropAPP9cuQxhGaGef5gUpubY536n0IPT=s64",
      "userId": "06754473900038904498"
     },
     "user_tz": 180
    },
    "id": "90ZYR1oxXkCL"
   },
   "outputs": [],
   "source": [
    "#Exercício 10\n",
    "\n",
    "#Defina a probabilidade de sucesso\n",
    "pSucesso = 0.9\n",
    "\n",
    "#Defina a probablidade de falha\n",
    "pFalha = 1 - pSucesso\n",
    "\n",
    "bernoulli = stats.bernoulli(p=pSucesso)"
   ]
  },
  {
   "cell_type": "markdown",
   "metadata": {
    "colab_type": "text",
    "id": "HHtjY6iXnKng"
   },
   "source": [
    "Agora vamos gerar uma visulização para a função de distribuiição de probablidadade de Bernoulli.\n",
    "\n",
    "No exercício abaixo complete o código, utilizando os atributos a e b da variável de Bernoulli para preencher o atributo $x$ dos gráfico.\n"
   ]
  },
  {
   "cell_type": "code",
   "execution_count": 17,
   "metadata": {
    "colab": {
     "base_uri": "https://localhost:8080/",
     "height": 513
    },
    "colab_type": "code",
    "executionInfo": {
     "elapsed": 2876,
     "status": "ok",
     "timestamp": 1594613732316,
     "user": {
      "displayName": "Rute Abreu",
      "photoUrl": "https://lh3.googleusercontent.com/a-/AOh14GiUpD-uropAPP9cuQxhGaGef5gUpubY536n0IPT=s64",
      "userId": "06754473900038904498"
     },
     "user_tz": 180
    },
    "id": "Bq9O7lCHnJog",
    "outputId": "62899bbc-de06-4961-a8f6-5189d4e8b4bc"
   },
   "outputs": [
    {
     "data": {
      "image/png": "[encoded data removed]",
      "text/plain": [
       "<Figure size 576x576 with 1 Axes>"
      ]
     },
     "metadata": {
      "needs_background": "light",
      "tags": []
     },
     "output_type": "display_data"
    }
   ],
   "source": [
    "#Exercício 11\n",
    "\n",
    "fig, ax = plt.subplots(figsize=(8,8))\n",
    "\n",
    "x = [bernoulli.a, bernoulli.b]\n",
    "\n",
    "stem_plot = ax.stem(x, bernoulli.pmf(x), basefmt=\" \", use_line_collection=True)\n",
    "plt.xticks([0,1])\n",
    "plt.xlabel('Variável aleatória (X)')\n",
    "plt.ylabel( 'f(X)')\n",
    "title = plt.title(\"Função distribuição de probabilidade de Bernoulli com p = \" + str(pSucesso))\n"
   ]
  },
  {
   "cell_type": "markdown",
   "metadata": {
    "colab_type": "text",
    "id": "vXr2EwsRbALr"
   },
   "source": [
    "### 7.1.2 Binomial\n",
    "\n",
    "A distribuição de probabiliade Binomial estpa intimamente ligada a distribuição de Bernoulli. Sendo esta considerada uma generalização daquela. Um experimento binomial consiste da repetição de $n$ experimentos de Bernoulli independentes com probablidadade de sucesso $p$ e probablidade de falha $1-p$.\n",
    "\n",
    "A distribuição binomial descreve a probabilidae de se obter $X = k$  sucessos num experimento binomial.\n",
    "\n",
    "\n",
    "Sua função de distribuição de probabilidae é definida como:\n",
    "\n",
    "* $  P(X=x) = f(x) =\\binom{n}{x} p^{x}(1-p)^{n -x} $\n",
    "\n",
    "Onde $x$ representa o número de sucessos desejados, $n$ é numero de experimentos de Bernnoulli e $p$ a probabilidade de sucesso de cada experimento.\n",
    "\n",
    "Seu valor esperado é definido por $E(X) = n\\cdot p$ e sua variância é definida por $Var(X) = np(1-p)$\n"
   ]
  },
  {
   "cell_type": "markdown",
   "metadata": {
    "colab_type": "text",
    "id": "eVz1KbvuJt5G"
   },
   "source": [
    "No exercício abaixo crie uma variável chamada ***binomial*** e armazene nela uma instancia da distribuição binomial parametrizada com $n$ = 100 e $p$ = 0.6. Para realizar esta operação escolha o método ***binom*** do modulo ***stats*** ."
   ]
  },
  {
   "cell_type": "code",
   "execution_count": 18,
   "metadata": {
    "colab": {},
    "colab_type": "code",
    "executionInfo": {
     "elapsed": 2854,
     "status": "ok",
     "timestamp": 1594613732317,
     "user": {
      "displayName": "Rute Abreu",
      "photoUrl": "https://lh3.googleusercontent.com/a-/AOh14GiUpD-uropAPP9cuQxhGaGef5gUpubY536n0IPT=s64",
      "userId": "06754473900038904498"
     },
     "user_tz": 180
    },
    "id": "8Nlu7O_4pHzb"
   },
   "outputs": [],
   "source": [
    "#Exercício 12\n",
    "\n",
    "binomial = stats.binom(n = 100, p =0.6)\n"
   ]
  },
  {
   "cell_type": "markdown",
   "metadata": {
    "colab_type": "text",
    "id": "yYMqvzTRPARv"
   },
   "source": [
    "Para gerar os gráficos da função distribuição de probabilidade e da função acumulada de distribuição de probabilidade vamos utilizar os métodos pmf (probability mass function) e cdf (cummulated distribution function) da variável binomial que definimos.\n",
    "\n",
    "Complete o código para gerar as dois gráficos. "
   ]
  },
  {
   "cell_type": "code",
   "execution_count": 19,
   "metadata": {
    "colab": {
     "base_uri": "https://localhost:8080/",
     "height": 606
    },
    "colab_type": "code",
    "executionInfo": {
     "elapsed": 4059,
     "status": "ok",
     "timestamp": 1594613733540,
     "user": {
      "displayName": "Rute Abreu",
      "photoUrl": "https://lh3.googleusercontent.com/a-/AOh14GiUpD-uropAPP9cuQxhGaGef5gUpubY536n0IPT=s64",
      "userId": "06754473900038904498"
     },
     "user_tz": 180
    },
    "id": "o9ttsRaDEHgx",
    "outputId": "949c8411-61d2-4b0d-d578-242b83688f9c"
   },
   "outputs": [
    {
     "data": {
      "image/png": "[encoded data removed]",
      "text/plain": [
       "<Figure size 720x720 with 2 Axes>"
      ]
     },
     "metadata": {
      "needs_background": "light",
      "tags": []
     },
     "output_type": "display_data"
    }
   ],
   "source": [
    "#Exercício 13\n",
    "x = np.arange(0,125)\n",
    "\n",
    "fig, ax = plt.subplots(figsize=(10,10), nrows=2)\n",
    "\n",
    "ax[0].stem(x, binomial.pmf(x),  basefmt=\" \", use_line_collection=True)\n",
    "ax[0].set_xlabel('Função distribuição de probabilidade')\n",
    "ax[0].set_ylabel('f(x)')\n",
    "\n",
    "\n",
    "\n",
    "ax[1].plot(x, binomial.cdf(x))\n",
    "ax[1].set_xlabel('Função de distribuição de probabilidade acumulada')\n",
    "ax[1].set_ylabel('F(x)')\n",
    "\n",
    "\n",
    "plt.show()\n"
   ]
  },
  {
   "cell_type": "markdown",
   "metadata": {
    "colab_type": "text",
    "id": "LYPm64zbbDtt"
   },
   "source": [
    "### 7.1.3 Poisson\n",
    "\n",
    "A distribuição de Poisson descreve resultados de experimentos aleatórios de bernoulli que ocorrem aleátoriamente, com uma taxa média de sucesso $\\lambda$. \n",
    "\n",
    "Desse modo a probabillidade de Poisson $P(X \\leq x)$ nos diz qual é a probabilidade de ocorrerem $x$ sucessos, sabendo que a média de sucessos num determinado intervalo é $\\lambda$;\n",
    "\n",
    "Sua função de distribuição de probabilidade é definida por:\n",
    "\n",
    "* $ P(X  = x ) = f(x) = \\frac{ \\lambda^x \\cdot \\exp^{-\\lambda}}{x!} $\n",
    "\n",
    "O valor esperado dessa distribuição é dado por $E(X) = \\lambda$ e sua variância é dada por $Var(X) = \\lambda$\n",
    "\n",
    "\n",
    "No próximo exercício crie uma instância da distribuição de poisson com média $mu = 4 $. Utilize o método **poisson** do módulo ***stats***  passando a média como parâmetro e armazene o resultado numa variável chamada poisson."
   ]
  },
  {
   "cell_type": "code",
   "execution_count": 20,
   "metadata": {
    "colab": {},
    "colab_type": "code",
    "executionInfo": {
     "elapsed": 4037,
     "status": "ok",
     "timestamp": 1594613733541,
     "user": {
      "displayName": "Rute Abreu",
      "photoUrl": "https://lh3.googleusercontent.com/a-/AOh14GiUpD-uropAPP9cuQxhGaGef5gUpubY536n0IPT=s64",
      "userId": "06754473900038904498"
     },
     "user_tz": 180
    },
    "id": "LyPpSaiQROBB"
   },
   "outputs": [],
   "source": [
    "#Exercício 14\n",
    "poisson = stats.poisson(4)\n"
   ]
  },
  {
   "cell_type": "markdown",
   "metadata": {
    "colab_type": "text",
    "id": "uJmAXUCoSPjM"
   },
   "source": [
    "Complete o código do exercício abaixo para gerar as visualizações da função de distribuição de probabilidade e da função de distribuição acumulada. Novamente utilize os métodos `pmf()` e `cdf()` passsando o vetor x como parâmetro."
   ]
  },
  {
   "cell_type": "code",
   "execution_count": 21,
   "metadata": {
    "colab": {
     "base_uri": "https://localhost:8080/",
     "height": 606
    },
    "colab_type": "code",
    "executionInfo": {
     "elapsed": 4009,
     "status": "ok",
     "timestamp": 1594613733543,
     "user": {
      "displayName": "Rute Abreu",
      "photoUrl": "https://lh3.googleusercontent.com/a-/AOh14GiUpD-uropAPP9cuQxhGaGef5gUpubY536n0IPT=s64",
      "userId": "06754473900038904498"
     },
     "user_tz": 180
    },
    "id": "EijgSDNL6djy",
    "outputId": "9200ae21-4668-4a11-ceeb-7757574cc316"
   },
   "outputs": [
    {
     "data": {
      "image/png": "[encoded data removed]",
      "text/plain": [
       "<Figure size 720x720 with 2 Axes>"
      ]
     },
     "metadata": {
      "needs_background": "light",
      "tags": []
     },
     "output_type": "display_data"
    }
   ],
   "source": [
    "#Exercício 15\n",
    "\n",
    "x = np.arange(0,100)\n",
    "fig, ax = plt.subplots(figsize=(10,10), nrows=2)\n",
    "\n",
    "ax[0].stem(x, poisson.pmf(x),  basefmt=\" \", use_line_collection=True)\n",
    "ax[0].set_xlabel('Função distribuição de probabilidade')\n",
    "ax[0].set_ylabel('f(x)')\n",
    "\n",
    "\n",
    "ax[1].plot(x, poisson.cdf(x))\n",
    "ax[1].set_xlabel('Função de distribuição de probabilidade acumulada')\n",
    "ax[1].set_ylabel('F(x)')\n",
    "plt.show()"
   ]
  },
  {
   "cell_type": "markdown",
   "metadata": {
    "colab_type": "text",
    "id": "vZnrocDaZ34w"
   },
   "source": [
    "## 7.2 Distribuições de probablidade contínuas"
   ]
  },
  {
   "cell_type": "markdown",
   "metadata": {
    "colab_type": "text",
    "id": "7NYbkDd1bIKx"
   },
   "source": [
    "### 7.2.1 Normal\n",
    " \n",
    "A distribuição normal é uma das mais 'comuns' na natureza. Isto quer dizer que existem diversos fenômenos naturais que podem ser modelados por ela. Além disso ela é uma das mais importantes na estatística por ser utilizada para aproximar outras distribuições e por suas propriedades.\n",
    " \n",
    "A função de densidade de probabilidade da distribuição normal é definida por:\n",
    " \n",
    "## <center> $ f(x) = \\frac{(\\exp (\\frac{-(x - \\mu)^2}{2\\sigma})}{\\sqrt(2\\pi \\sigma^2)}$ \n",
    " \n",
    " \n",
    "Onde $\\sigma ^2$ é a variância da distribuição e $\\mu$ é a média. Esses parâmetros são necessários para geração da função. Quando  $\\mu = 0$ e $\\sigma = 1$ a distribuição é dita padrão. \n",
    " \n",
    "A distribuição normal possui algumas propriedades interessantes:\n",
    " \n",
    "* A função de densidade não é integrável analiticamente, por isso sua integral pode ser computada apenas computacionalmente.\n",
    "* Sua forma lembra um sino, por isso às vezes é chamada de \n",
    "* Seu maior valor corresponde a aplicação da função em $x = \\mu$\n",
    "* A função de densidade é simétrica em relação à média e tende a 0, quando x tende à $\\infty$ ou $-\\infty$\n",
    " \n",
    "Seu valor esperado $E(X)$ é a própria média $\\mu$, assim como a variância é definida por $\\sigma$ \n",
    " \n",
    "No exercício abaixo utilize o comando `stats.norm()` para gerar uma distribuição normal padrão.   \n",
    "\n"
   ]
  },
  {
   "cell_type": "code",
   "execution_count": 22,
   "metadata": {
    "colab": {},
    "colab_type": "code",
    "executionInfo": {
     "elapsed": 3982,
     "status": "ok",
     "timestamp": 1594613733544,
     "user": {
      "displayName": "Rute Abreu",
      "photoUrl": "https://lh3.googleusercontent.com/a-/AOh14GiUpD-uropAPP9cuQxhGaGef5gUpubY536n0IPT=s64",
      "userId": "06754473900038904498"
     },
     "user_tz": 180
    },
    "id": "xYTg6BVvcnrO"
   },
   "outputs": [],
   "source": [
    "#Exercício 16\n",
    "\n",
    "normal = stats.norm()"
   ]
  },
  {
   "cell_type": "markdown",
   "metadata": {
    "colab_type": "text",
    "id": "QJrfhMtpczet"
   },
   "source": [
    "Complete o código para gerar os gráficos da distribuição normal."
   ]
  },
  {
   "cell_type": "code",
   "execution_count": 23,
   "metadata": {
    "colab": {
     "base_uri": "https://localhost:8080/",
     "height": 606
    },
    "colab_type": "code",
    "executionInfo": {
     "elapsed": 5482,
     "status": "ok",
     "timestamp": 1594613735063,
     "user": {
      "displayName": "Rute Abreu",
      "photoUrl": "https://lh3.googleusercontent.com/a-/AOh14GiUpD-uropAPP9cuQxhGaGef5gUpubY536n0IPT=s64",
      "userId": "06754473900038904498"
     },
     "user_tz": 180
    },
    "id": "2ulHXqnMcyeo",
    "outputId": "70304847-1ee5-407b-8a8f-3f5f6db07234"
   },
   "outputs": [
    {
     "data": {
      "image/png": "[encoded data removed]",
      "text/plain": [
       "<Figure size 720x720 with 2 Axes>"
      ]
     },
     "metadata": {
      "needs_background": "light",
      "tags": []
     },
     "output_type": "display_data"
    }
   ],
   "source": [
    "#Exercício 17\n",
    "\n",
    "x = np.linspace(-20,20, 500)\n",
    "\n",
    "fig, ax = plt.subplots(figsize=(10,10), nrows=2)\n",
    "\n",
    "ax[0].plot(x, normal.pdf(x))\n",
    "ax[0].set_xlabel('Função densidade de probabilidade')\n",
    "ax[0].set_ylabel('f(x) - Densidade de probabilidade')\n",
    "\n",
    "\n",
    "ax[1].plot(x,normal.cdf(x))\n",
    "ax[1].set_xlabel('Função de distribuição de probabilidade acumulada')\n",
    "ax[1].set_ylabel('F(x)')\n",
    "plt.show()"
   ]
  },
  {
   "cell_type": "markdown",
   "metadata": {
    "colab_type": "text",
    "id": "y9cmLuxIbIgp"
   },
   "source": [
    "### 7.2.2 Exponencial\n",
    "\n",
    "A distribuição exponencial é caracterizada apenas pelo $\\lambda$. Ela é comumente utilizada na estimativa do tempo de vida de materiais, tempo de espera em filas, entre outros.  \n",
    " \n",
    "Sua função de densidade de probabilidade é definida por:\n",
    " \n",
    "<center> $ f(X) = \\lambda \\exp^{-\\lambda x}$ para $ x \\geq 0$  </center>\n",
    "<center>  0, para $x < 0$ </center>\n",
    " \n",
    "O valor esperado $E(X)$ é definido por:\n",
    "* $E(X) = \\frac{1}{\\lambda}$\n",
    " \n",
    "E sua variância $Var(X)$ é definida por:\n",
    " \n",
    "* $ Var(X) = \\frac{1}{\\lambda ^2} $\n",
    " \n",
    "No exercício, complete o código abaixo definindo o parâmetro *mu* como 4 e o parâmetro scale com o valor $\\frac{1}{mu}$, esse valor será o parâmetro $\\lambda$ da distribuição exponencial."
   ]
  },
  {
   "cell_type": "code",
   "execution_count": 24,
   "metadata": {
    "colab": {},
    "colab_type": "code",
    "executionInfo": {
     "elapsed": 5460,
     "status": "ok",
     "timestamp": 1594613735064,
     "user": {
      "displayName": "Rute Abreu",
      "photoUrl": "https://lh3.googleusercontent.com/a-/AOh14GiUpD-uropAPP9cuQxhGaGef5gUpubY536n0IPT=s64",
      "userId": "06754473900038904498"
     },
     "user_tz": 180
    },
    "id": "tW_VVNKbmnCY"
   },
   "outputs": [],
   "source": [
    "#Exercício 18\n",
    "mu = 4\n",
    "exp = stats.expon(scale = 1/mu)\n"
   ]
  },
  {
   "cell_type": "markdown",
   "metadata": {
    "colab_type": "text",
    "id": "8Agu0PoRTveK"
   },
   "source": [
    "Complete o código para gerar os gráficos da distribuição exponencial."
   ]
  },
  {
   "cell_type": "code",
   "execution_count": 25,
   "metadata": {
    "colab": {
     "base_uri": "https://localhost:8080/",
     "height": 606
    },
    "colab_type": "code",
    "executionInfo": {
     "elapsed": 5444,
     "status": "ok",
     "timestamp": 1594613735067,
     "user": {
      "displayName": "Rute Abreu",
      "photoUrl": "https://lh3.googleusercontent.com/a-/AOh14GiUpD-uropAPP9cuQxhGaGef5gUpubY536n0IPT=s64",
      "userId": "06754473900038904498"
     },
     "user_tz": 180
    },
    "id": "rQnJhbPRmvRZ",
    "outputId": "7c4ac994-9d9b-4ee1-acdd-f2fa29c221a6"
   },
   "outputs": [
    {
     "data": {
      "image/png": "[encoded data removed]",
      "text/plain": [
       "<Figure size 720x720 with 2 Axes>"
      ]
     },
     "metadata": {
      "needs_background": "light",
      "tags": []
     },
     "output_type": "display_data"
    }
   ],
   "source": [
    "#Exercício 19\n",
    "x = np.linspace(0, 20, 500)\n",
    "\n",
    "fig, ax = plt.subplots(figsize=(10,10), nrows=2)\n",
    "\n",
    "ax[0].plot(x, normal.pdf(x))\n",
    "ax[0].set_xlabel('Densidade de probabilidade')\n",
    "ax[0].set_ylabel('f(x)')\n",
    "\n",
    "ax[1].plot(x,normal.cdf(x))\n",
    "ax[1].set_xlabel(' Distribuição de probabilidade acumulada')\n",
    "ax[1].set_ylabel('F(x)')\n",
    "\n",
    "\n",
    "plt.show()\n"
   ]
  },
  {
   "cell_type": "markdown",
   "metadata": {
    "colab_type": "text",
    "id": "FzsUEqdTd2hD"
   },
   "source": [
    "# 8 - Propriedades da variáveis aleatorias\n",
    "\n",
    "As variáveis aleatórias possuem algumas propriedades peculiares, por exemplo: dado $n$ variáveis aleatórias $X$ e $Y$ que não seguem uma distribuição normal, a soma dessas variáveis gera uma variável de distribuição aproximadamente normal, além disso a média e variância da nova distribuição são definidas pela soma das médias e variâncias, respectivamente, das variáveis aleatórias com distribuições arbitrárias.\n",
    " \n",
    "Esse resultado pode ser obtido tanto com soma de variáveis de distribuições simétricas quanto com distribuições assimétricas e é chamado de Teorema do limite central. \n",
    " \n",
    "Nos próximos exercícios vamos visualizar na prática esses conceitos. \n"
   ]
  },
  {
   "cell_type": "markdown",
   "metadata": {
    "colab_type": "text",
    "id": "iYNvbSd_d80d"
   },
   "source": [
    "## 8.1 - Soma de variáveis simetricas\n",
    "\n",
    "Neste exercício nós vamos somar 2 variáveis aleatórias seguindo uma distribuição binomial simétricas. Para visualizar a distribuição final iremos utilizar um estimador de função de distribuição conhecido como KDE.\n",
    "\n",
    " O KDE (Kernel Density Estimation) é um método a-paramétrico capaz de fornecer uma estimativa completa da função distribuição/densidade de probabilidade, incluindo as funções de densidade e acumulada.  Neste caso nós iremos apenas fazer utilizar o método de plot KDE do pandas apenas para estimar a função de distribuição visualmente.\n",
    "\n",
    " No exercício abaixo, modifique a expressão definida em rvGenérica para acrescentar à soma mais variáveis aleatória. Observe o que acontece com a função de densidade estimada quando você soma mais variáveis.\n",
    "\n",
    "\n",
    "\n",
    "\n"
   ]
  },
  {
   "cell_type": "code",
   "execution_count": 26,
   "metadata": {
    "colab": {
     "base_uri": "https://localhost:8080/",
     "height": 286
    },
    "colab_type": "code",
    "executionInfo": {
     "elapsed": 5421,
     "status": "ok",
     "timestamp": 1594613735069,
     "user": {
      "displayName": "Rute Abreu",
      "photoUrl": "https://lh3.googleusercontent.com/a-/AOh14GiUpD-uropAPP9cuQxhGaGef5gUpubY536n0IPT=s64",
      "userId": "06754473900038904498"
     },
     "user_tz": 180
    },
    "id": "IOdraLsfwn9T",
    "outputId": "becc3247-6a4d-4a71-ec22-197b1af392d3"
   },
   "outputs": [
    {
     "data": {
      "text/plain": [
       "<matplotlib.axes._subplots.AxesSubplot at 0x7f7d692bda58>"
      ]
     },
     "execution_count": 26,
     "metadata": {
      "tags": []
     },
     "output_type": "execute_result"
    },
    {
     "data": {
      "image/png": "[encoded data removed]",
      "text/plain": [
       "<Figure size 432x288 with 1 Axes>"
      ]
     },
     "metadata": {
      "needs_background": "light",
      "tags": []
     },
     "output_type": "display_data"
    }
   ],
   "source": [
    "#Exercício 20\n",
    "\n",
    "binomial = stats.binom(n = 100, p =0.5)\n",
    "rv_binomial = binomial.rvs(size=1000)\n",
    "\n",
    "rvGenerica = rv_binomial + rv_binomial \n",
    "rvGenericaSeries = pd.Series(rvGenerica)\n",
    "\n",
    "rvGenericaSeries.plot.kde()\n",
    "\n"
   ]
  },
  {
   "cell_type": "markdown",
   "metadata": {
    "colab_type": "text",
    "id": "L21Apj8m5-lm"
   },
   "source": [
    "## 8.2 - Soma de variáveis assimétricas\n",
    "\n",
    "No próximo exercício, vamos somar duas variáveis aleatórias assimétricas que seguem a distribuição exponencial com parâmetro $\\lambda = 0.25$. \n",
    " \n",
    "Modifique a expressão de rvGenerica para acrescentar a soma mais variáveis e visualizar o efeito desta alteração na forma da função de densidade resultante.\n",
    "\n"
   ]
  },
  {
   "cell_type": "code",
   "execution_count": 27,
   "metadata": {
    "colab": {
     "base_uri": "https://localhost:8080/",
     "height": 282
    },
    "colab_type": "code",
    "executionInfo": {
     "elapsed": 5401,
     "status": "ok",
     "timestamp": 1594613735073,
     "user": {
      "displayName": "Rute Abreu",
      "photoUrl": "https://lh3.googleusercontent.com/a-/AOh14GiUpD-uropAPP9cuQxhGaGef5gUpubY536n0IPT=s64",
      "userId": "06754473900038904498"
     },
     "user_tz": 180
    },
    "id": "L1WfF2Px1P-O",
    "outputId": "4d7dc6ec-256a-4c7b-d4bf-f37ae86210b9"
   },
   "outputs": [
    {
     "data": {
      "text/plain": [
       "<matplotlib.axes._subplots.AxesSubplot at 0x7f7d6916c2b0>"
      ]
     },
     "execution_count": 27,
     "metadata": {
      "tags": []
     },
     "output_type": "execute_result"
    },
    {
     "data": {
      "image/png": "[encoded data removed]",
      "text/plain": [
       "<Figure size 432x288 with 1 Axes>"
      ]
     },
     "metadata": {
      "needs_background": "light",
      "tags": []
     },
     "output_type": "display_data"
    }
   ],
   "source": [
    "#Exercício 21\n",
    "\n",
    "mu = 4\n",
    "exp = stats.expon(scale = 1/mu)\n",
    "rv_exp = exp.rvs(size=1000)\n",
    "\n",
    "mu1 = 2\n",
    "exp_1 = stats.expon(scale = 1/mu1)\n",
    "rv_exp_1 = exp_1.rvs(size=1000)\n",
    "\n",
    "rvGenerica =  rv_exp + rv_exp_1  + rv_exp \n",
    "rvGenericaSeries = pd.Series(rvGenerica)\n",
    "\n",
    "rvGenericaSeries.plot.kde()\n"
   ]
  },
  {
   "cell_type": "markdown",
   "metadata": {
    "colab_type": "text",
    "id": "N4JfK_dpd-ky"
   },
   "source": [
    "# 9 - Geração de função de probabilidade de dados continuos reais utilizando  KDE (função aproximada)\n",
    "\n",
    " \n",
    "Na vida real nem sempre temos as funções de probabilidade ao nosso dispor, geralmente temos apenas a amostra de dados. Muitas vezes não fazemos ideia de que distribuição que esse conjunto de dados segue, tornando difícil a análise dos dados.\n",
    " \n",
    "Uma maneira de ter uma ideia da distribuição dos dados é plotando um histograma, contudo o histograma nos fornece apenas uma visualização. Não é possível calcular a probabilidade de um evento com ele.\n",
    " \n",
    "Uma maneira de driblar essa situação é criando uma estimativa da função de distribuição de probabilidade utilizando o método KDE. O KDE utiliza distribuições normais para estimar estimar a função de densidade. \n",
    " \n",
    "No exercício abaixo nós vamos utilizar novamente a base de dados do [IMBD](https://drive.google.com/file/d/1IaMRQhe-5w9xo-RG3pb_AVZ4OziEkUlL/view?usp=sharing) para gerar a função de distribuição probabilidade estimada da variável ***Rating***. \n",
    " \n",
    "Faça o upload do csv para colab e complete o código passando a variável Rating como parâmetro do método `kde.gaussian_kde`.\n"
   ]
  },
  {
   "cell_type": "code",
   "execution_count": 28,
   "metadata": {
    "colab": {},
    "colab_type": "code",
    "executionInfo": {
     "elapsed": 5853,
     "status": "ok",
     "timestamp": 1594613735547,
     "user": {
      "displayName": "Rute Abreu",
      "photoUrl": "https://lh3.googleusercontent.com/a-/AOh14GiUpD-uropAPP9cuQxhGaGef5gUpubY536n0IPT=s64",
      "userId": "06754473900038904498"
     },
     "user_tz": 180
    },
    "id": "xYSpXjeq9Kjs"
   },
   "outputs": [],
   "source": [
    "#Exercício 22\n",
    "\n",
    "imdbDF = pd.read_csv(\"imdb.csv\", index_col=0)\n",
    "imdbDF.dropna(inplace=True)\n",
    "\n",
    "rating = imdbDF['Rating']\n",
    "\n",
    "fdp = stats.kde.gaussian_kde(rating)\n"
   ]
  },
  {
   "cell_type": "markdown",
   "metadata": {
    "colab_type": "text",
    "id": "KlJk6ISZDgSf"
   },
   "source": [
    "Agora que você criou uma função de distribuição estimada, é possível definir a probabilidade estimada de $X  =x $.\n",
    "\n",
    "No exercício abaixo calcule a probabilidade da nota ser 7.5. \n"
   ]
  },
  {
   "cell_type": "code",
   "execution_count": 29,
   "metadata": {
    "colab": {
     "base_uri": "https://localhost:8080/",
     "height": 51
    },
    "colab_type": "code",
    "executionInfo": {
     "elapsed": 5838,
     "status": "ok",
     "timestamp": 1594613735548,
     "user": {
      "displayName": "Rute Abreu",
      "photoUrl": "https://lh3.googleusercontent.com/a-/AOh14GiUpD-uropAPP9cuQxhGaGef5gUpubY536n0IPT=s64",
      "userId": "06754473900038904498"
     },
     "user_tz": 180
    },
    "id": "6uij9qsXDfeZ",
    "outputId": "0e5c8501-d8e7-4bda-99c6-954abbf05289"
   },
   "outputs": [
    {
     "name": "stdout",
     "output_type": "stream",
     "text": [
      "A probablidade da nota ser 7.5 é:  0.3707925353968115\n",
      "A probablidade da nota ser <= 7 é:  0.5563569394574055\n"
     ]
    }
   ],
   "source": [
    "#Exercício 23\n",
    "\n",
    "p75 = fdp.pdf(7.5)\n",
    "\n",
    "print(\"A probablidade da nota ser 7.5 é: \", p75[0])\n",
    "\n",
    "#Para calcular P(X<= x ), você pode integrar a PDF.\n",
    "pMenor7 = fdp.integrate_box_1d(-np.inf, 7)\n",
    "\n",
    "print(\"A probablidade da nota ser <= 7 é: \", pMenor7)\n"
   ]
  }
 ],
 "metadata": {
  "colab": {
   "authorship_tag": "ABX9TyPoWpki8CYVLLukfoW8OzEn",
   "collapsed_sections": [],
   "name": "Roteiro_de_atividades_4_chave_de_resposta.ipynb",
   "provenance": [],
   "toc_visible": true
  },
  "kernelspec": {
   "display_name": "Python 3",
   "language": "python",
   "name": "python3"
  },
  "language_info": {
   "codemirror_mode": {
    "name": "ipython",
    "version": 3
   },
   "file_extension": ".py",
   "mimetype": "text/x-python",
   "name": "python",
   "nbconvert_exporter": "python",
   "pygments_lexer": "ipython3",
   "version": "3.8.3"
  }
 },
 "nbformat": 4,
 "nbformat_minor": 1
}
