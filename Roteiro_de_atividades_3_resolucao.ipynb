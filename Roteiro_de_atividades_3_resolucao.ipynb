{
 "cells": [
  {
   "cell_type": "markdown",
   "metadata": {
    "colab_type": "text",
    "id": "x-E-ZItWsBCm"
   },
   "source": [
    "# Roteiro de atividades 3 - Introdução à Probabilidade/ Probabilidade Condicional / Teorema de Bayes"
   ]
  },
  {
   "cell_type": "markdown",
   "metadata": {
    "colab_type": "text",
    "id": "x_3iEHD3tZ50"
   },
   "source": [
    "# Objetivo\n",
    "\n",
    "Trabalhar com a base de dados **PoliceKillings** com ajuda da ferramenta Google Colab e utilização da linguagem de programação Python, de maneira a fixar os Seguintes conteúdos: \n",
    "\n",
    "*   Introdução à probabilidade\n",
    "*   Probabilidade condicional\n",
    "*   Teorema de Bayes"
   ]
  },
  {
   "cell_type": "markdown",
   "metadata": {
    "colab_type": "text",
    "id": "KY6-xiDh5sJa"
   },
   "source": [
    "# 1 Obtendo a base de dados\n",
    "\n",
    "Neste roteiro vamos seguir um caminho um pouco diferente para obter a base de dados. Ao ínves de usar uma base nova, usaremos a mesma base do **roteiro #1**. Como vocês devem lembrar nós já realizamos as etapas de tratamento de dados nessa base, por isso você não precisará refazer esta etapa da análise. \n",
    "\n",
    "Para obter a base já com os devidos tratamentos, acesse esse [link](https://drive.google.com/file/d/1LVEwJNUi-G3Il1wS8U_sh7vk1kSrC5-E/view?usp=sharing) do google drive e faça o download do arquivo.\n",
    "\n",
    "## 1.1 - Subindo a base de dados para o Colab\n",
    "\n",
    "Para subir a nossa base de dados para o Colab, você deve clicar no icone com formato de pasta (files) no menu lateral esquerdo e em seguida na opção upload. Após isto, navegue até a base de dados descompactada e escolha o arquivo polliceKillings.csv."
   ]
  },
  {
   "cell_type": "markdown",
   "metadata": {
    "colab_type": "text",
    "id": "tXLrFjPH7wDs"
   },
   "source": [
    "# 2 - Leitura dos dados e importação das bibliotecas iniciais\n",
    "\n",
    "Para realizar a leitura da nossa base de dados, iremos novamente fazer a inclusão da biblioteca `Pandas` e utilizar o comando `read_cvs(\"seuArquivo.csv\", index_col =0)`. \n",
    "\n",
    "Além da **Pandas**, iremos incluir a biblioteca **numpy** para lidar com futuras operações matematicas e manipulação de vetores e matrizes.\n",
    "\n",
    "Complete o código do exércício #1 utilizando o método  `read_csv()` para armazenar a base dados na variável policeKillingsDF.\n",
    "\n",
    "Lembre-se que no pandas chamamos essa representaçao de Dataframe."
   ]
  },
  {
   "cell_type": "code",
   "execution_count": 1,
   "metadata": {
    "colab": {},
    "colab_type": "code",
    "executionInfo": {
     "elapsed": 996,
     "status": "ok",
     "timestamp": 1593876048019,
     "user": {
      "displayName": "Rute Abreu",
      "photoUrl": "https://lh3.googleusercontent.com/a-/AOh14GiUpD-uropAPP9cuQxhGaGef5gUpubY536n0IPT=s64",
      "userId": "06754473900038904498"
     },
     "user_tz": 180
    },
    "id": "P7O6w1hTmaj6"
   },
   "outputs": [],
   "source": [
    "import pandas as pd\n",
    "import numpy as np\n",
    "\n",
    "\n",
    "policeKillingsDF = pd.read_csv(\"policeKillings.csv\", index_col=0)\n",
    "policeKillingsDF.reset_index(drop=True, inplace=True)"
   ]
  },
  {
   "cell_type": "markdown",
   "metadata": {
    "colab_type": "text",
    "id": "_QUyjfz4FzpK"
   },
   "source": [
    "\n",
    "Adendos da seção: Apesar da descrição do dataset ser a mesma do roteiro #1, vou deixar disponível aqui pra você consultarem mais rápido caso precisem entender o que cada variável representa.\n",
    "# 3 - Descrição do dataset\n",
    "\n",
    "Este dataset trata de mortes de civís executadas por policíais nos Estados Unidos. Se trata de uma base de dados construída pelo Wahsington Post entre os meses de Janeiro de 2015 à dezembro de 2017. \n",
    "\n",
    "Essa base começou a ser  montada após o assassinato de Michael Brown na cidade de Ferguson, estado do Missouri, evento que deu inicio ao movimento **Black Lives Matter**. \n",
    "\n",
    "Você pode ver uma breve descrição de cada coluna na lista abaixo:\n",
    "\n",
    "* name - O nome da pessoa assassinada\n",
    "* date - A data do acontecimento\n",
    "* manner_of_death - A maneira pela qual o assassinato se deu.\n",
    "* armed - O tipo de arma utilizada pelo civíl.\n",
    "* age - A idade da civíl\n",
    "* gender - O gênero biológico.\n",
    "* race - A raça\n",
    "* city - A cidade onde aconteceu o evento\n",
    "* state - O estado onde aconteceu o evento\n",
    "* signs_of_mental_illness - Se a vítima estava passando por alguma crise de saúde mental\n",
    "* threat_level - O nível de ameaça que individuo apresentava\n",
    "* flee - Se a pessoa estava em fuga\n",
    "* body_camera - Se a pessoa usava alguma camera."
   ]
  },
  {
   "cell_type": "markdown",
   "metadata": {
    "colab_type": "text",
    "id": "XygjxS-7gAY7"
   },
   "source": [
    "No exercício #2 visualize as cinco primeiras linhas do seu *dataset* usando o comando ` meuDataset.head()`. Isso te ajudará a entender melhor como são os seus dados, visualizando, por exemplo, se são catégoricos ou continuos."
   ]
  },
  {
   "cell_type": "code",
   "execution_count": 2,
   "metadata": {
    "colab": {
     "base_uri": "https://localhost:8080/",
     "height": 204
    },
    "colab_type": "code",
    "executionInfo": {
     "elapsed": 958,
     "status": "ok",
     "timestamp": 1593876048022,
     "user": {
      "displayName": "Rute Abreu",
      "photoUrl": "https://lh3.googleusercontent.com/a-/AOh14GiUpD-uropAPP9cuQxhGaGef5gUpubY536n0IPT=s64",
      "userId": "06754473900038904498"
     },
     "user_tz": 180
    },
    "id": "T6Sd5Imhj2C9",
    "outputId": "35a6b6ec-ce09-4733-f9f0-29984735c78a"
   },
   "outputs": [
    {
     "data": {
      "text/html": [
       "<div>\n",
       "<style scoped>\n",
       "    .dataframe tbody tr th:only-of-type {\n",
       "        vertical-align: middle;\n",
       "    }\n",
       "\n",
       "    .dataframe tbody tr th {\n",
       "        vertical-align: top;\n",
       "    }\n",
       "\n",
       "    .dataframe thead th {\n",
       "        text-align: right;\n",
       "    }\n",
       "</style>\n",
       "<table border=\"1\" class=\"dataframe\">\n",
       "  <thead>\n",
       "    <tr style=\"text-align: right;\">\n",
       "      <th></th>\n",
       "      <th>id</th>\n",
       "      <th>name</th>\n",
       "      <th>date</th>\n",
       "      <th>manner_of_death</th>\n",
       "      <th>armed</th>\n",
       "      <th>age</th>\n",
       "      <th>gender</th>\n",
       "      <th>race</th>\n",
       "      <th>city</th>\n",
       "      <th>state</th>\n",
       "      <th>signs_of_mental_illness</th>\n",
       "      <th>threat_level</th>\n",
       "      <th>flee</th>\n",
       "      <th>body_camera</th>\n",
       "      <th>month</th>\n",
       "      <th>year</th>\n",
       "    </tr>\n",
       "  </thead>\n",
       "  <tbody>\n",
       "    <tr>\n",
       "      <th>0</th>\n",
       "      <td>268</td>\n",
       "      <td>Donald Lewis Matkins</td>\n",
       "      <td>2015-01-03</td>\n",
       "      <td>shot</td>\n",
       "      <td>gun</td>\n",
       "      <td>49</td>\n",
       "      <td>M</td>\n",
       "      <td>W</td>\n",
       "      <td>Barton</td>\n",
       "      <td>Mississippi</td>\n",
       "      <td>False</td>\n",
       "      <td>attack</td>\n",
       "      <td>Not fleeing</td>\n",
       "      <td>False</td>\n",
       "      <td>Jan</td>\n",
       "      <td>2015</td>\n",
       "    </tr>\n",
       "    <tr>\n",
       "      <th>1</th>\n",
       "      <td>194</td>\n",
       "      <td>Charly Leundeu Keunang</td>\n",
       "      <td>2015-01-03</td>\n",
       "      <td>shot and Tasered</td>\n",
       "      <td>unarmed</td>\n",
       "      <td>43</td>\n",
       "      <td>M</td>\n",
       "      <td>B</td>\n",
       "      <td>Los Angeles</td>\n",
       "      <td>California</td>\n",
       "      <td>True</td>\n",
       "      <td>attack</td>\n",
       "      <td>Not fleeing</td>\n",
       "      <td>True</td>\n",
       "      <td>Jan</td>\n",
       "      <td>2015</td>\n",
       "    </tr>\n",
       "    <tr>\n",
       "      <th>2</th>\n",
       "      <td>195</td>\n",
       "      <td>Hung Trieu</td>\n",
       "      <td>2015-01-03</td>\n",
       "      <td>shot</td>\n",
       "      <td>gun</td>\n",
       "      <td>35</td>\n",
       "      <td>M</td>\n",
       "      <td>A</td>\n",
       "      <td>Houston</td>\n",
       "      <td>Texas</td>\n",
       "      <td>False</td>\n",
       "      <td>attack</td>\n",
       "      <td>Not fleeing</td>\n",
       "      <td>False</td>\n",
       "      <td>Jan</td>\n",
       "      <td>2015</td>\n",
       "    </tr>\n",
       "    <tr>\n",
       "      <th>3</th>\n",
       "      <td>533</td>\n",
       "      <td>Shawn Clyde</td>\n",
       "      <td>2015-01-04</td>\n",
       "      <td>shot</td>\n",
       "      <td>knife</td>\n",
       "      <td>36</td>\n",
       "      <td>M</td>\n",
       "      <td>W</td>\n",
       "      <td>Hamilton</td>\n",
       "      <td>New Jersey</td>\n",
       "      <td>False</td>\n",
       "      <td>attack</td>\n",
       "      <td>Not fleeing</td>\n",
       "      <td>False</td>\n",
       "      <td>Jan</td>\n",
       "      <td>2015</td>\n",
       "    </tr>\n",
       "    <tr>\n",
       "      <th>4</th>\n",
       "      <td>267</td>\n",
       "      <td>Robert Washington</td>\n",
       "      <td>2015-01-04</td>\n",
       "      <td>shot</td>\n",
       "      <td>gun</td>\n",
       "      <td>37</td>\n",
       "      <td>M</td>\n",
       "      <td>B</td>\n",
       "      <td>Hawthorne</td>\n",
       "      <td>California</td>\n",
       "      <td>False</td>\n",
       "      <td>attack</td>\n",
       "      <td>Not fleeing</td>\n",
       "      <td>False</td>\n",
       "      <td>Jan</td>\n",
       "      <td>2015</td>\n",
       "    </tr>\n",
       "  </tbody>\n",
       "</table>\n",
       "</div>"
      ],
      "text/plain": [
       "    id                    name        date  ... body_camera month  year\n",
       "0  268    Donald Lewis Matkins  2015-01-03  ...       False   Jan  2015\n",
       "1  194  Charly Leundeu Keunang  2015-01-03  ...        True   Jan  2015\n",
       "2  195              Hung Trieu  2015-01-03  ...       False   Jan  2015\n",
       "3  533             Shawn Clyde  2015-01-04  ...       False   Jan  2015\n",
       "4  267       Robert Washington  2015-01-04  ...       False   Jan  2015\n",
       "\n",
       "[5 rows x 16 columns]"
      ]
     },
     "execution_count": 2,
     "metadata": {
      "tags": []
     },
     "output_type": "execute_result"
    }
   ],
   "source": [
    "#Exercicíio 2\n",
    "\n",
    "policeKillingsDF.head()"
   ]
  },
  {
   "cell_type": "markdown",
   "metadata": {
    "colab_type": "text",
    "id": "QV9t8yChHfj_"
   },
   "source": [
    "# 4 - Introdução a probabilidade\n",
    "\n",
    "A probabilidade nos diz qual é a chance de um determinado evento ocorrer. Sua definição matemática é dada pela equação abaixo:\n",
    "\n",
    "### <center> $ P(x) = \\frac{nº\\ de\\ casos\\ em\\ que\\ x\\ pode \\ ocorrer}{numero\\ total\\ de\\ casos}$ </center>\n",
    "\n",
    "O número total de casos quem compõe  é chamado de espaço amostral: $\\Omega$. <br>\n",
    "O valor de uma probabiliadade varia sempre de 0 a 1 (0% - 100%). Portanto, $  0 \\leq P(x) \\leq 1$. Quando a probabilidade de um evento é 1, chamamos esse evento de evento certo. Já quando é ela 0, chamamos de evento impossível.\n",
    "\n",
    "Formalmente, a probabilidade de um evento A, ocorrer em um espaço amostral $\\Omega$ obedece algumas propriedades:\n",
    "\n",
    "* $P(A) \\geq 0$\n",
    "* $P(\\Omega) = 1$\n",
    "* $ Se A_1, A_2, A_3,...A_N$ são eventos multuamente exclusivos então $P(\\cup_i^{n} A_i) =  \\sum_i^n P(A_i)$\n",
    "\n",
    "Além disso, a partir dessas propriedades fundamentais, derivamos as seguintes:\n",
    "\n",
    "Se $A^c$ é o evento complementar de $A$, então:\n",
    "\n",
    "* $ A\\cup A^c = \\Omega$\n",
    "* $A \\cap A^c = \\emptyset $\n",
    "* $ P(A^c) = 1 - P(A) $"
   ]
  },
  {
   "cell_type": "markdown",
   "metadata": {
    "colab_type": "text",
    "id": "AmVXjRm0PRAd"
   },
   "source": [
    "## 4.1 Exploração do dataset através do cáculo de probabilidades marginais\n",
    "\n",
    "Nos próximos exercícios vamos extrair algumas informações dos nossos dados através do cálculo de probabiidade. Para isso vamos escolher alguns aspectos que queremos investigar e usar a definição formal de probabilidade."
   ]
  },
  {
   "cell_type": "markdown",
   "metadata": {
    "colab_type": "text",
    "id": "KjkYiqT6m-w9"
   },
   "source": [
    "### 4.1.1 Probabilidade dos individuos assassinados serem do gênero masculino e feminino\n",
    "\n",
    "Você tem alguma ideia de qual gênero tem maior probabilidade de ocorrência dentre os dados de assassinatos coletados?\n",
    "\n",
    "Bem, sabemos que a nossa base de dados é composta por assassinatos de pessoas por policiais americanos. Assim, cada entrada (linha) representa a morte de civíl que pode ser do gênero Masculino (M) ou Feminino (F).\n",
    "\n",
    "Então, vamos as definções. Precisamos saber quais eventos estamos interessados em calcular a probabilidade e quem é o nosso universo, o nosso espaço amostral.\n",
    "\n",
    "É razoável definir como espaço amostral o conjunto de todos os assassinatos declarados na base de dados.\n",
    "\n",
    "E o evento? O que queremos saber é: qual é a probabilidade do individuo asssassinado ser do gênero masculino e qual a probabilidade de ele ser do gênero feminino. Então temos dois eventos: \n",
    "\n",
    "\n",
    "*   A pessoa morta é do gênero feminino\n",
    "*   A pessoa morte é do gênero masculino\n",
    "\n",
    "Contudo, sabemos que o evento \"ser do gênero feminino\" é complementar ao evento \"ser do gênero masculino\". Lembre-se: estamos falando de sexo biológico, não de identidade de gênero.\n",
    "\n",
    "Portanto, só precisamos calcular uma dessas probabilidades e usar a propriedade evento complementar.\n",
    "\n",
    "Então vamos ao exercício:\n",
    "\n",
    "Para realizar a contagem dos eventos por gênero, iremos utilizar novamente o método `groupby()` da bilioteca Pandas. Como você viu nos roteiros passados, sempre que usamos um metodo de agrupamento é necessário dizer como será feita de agregação dos dados. No nosso caso, vamos utilizar o metodo `size()` para realizar a contagem.\n",
    "\n",
    "No exercício 3 utilize o comando **`meuDataset.groupby(\"colunaQueQueroAGrupar\").size()`** para realizar o agrupamento das pessoas por gênero. Armazene esse resultado na variável **` mortes_por_genero`**.\n",
    "\n",
    "Após fazer essa operação, complete as demais etapas código para separar o valor de cada contagem. Utilize a definição formal de probabilidade para calcular a probabilidade $P(M)$ e a propriedade do complementar para descobrir a probablidade $P(F)$.\n",
    "\n"
   ]
  },
  {
   "cell_type": "code",
   "execution_count": 3,
   "metadata": {
    "colab": {
     "base_uri": "https://localhost:8080/",
     "height": 153
    },
    "colab_type": "code",
    "executionInfo": {
     "elapsed": 931,
     "status": "ok",
     "timestamp": 1593876048026,
     "user": {
      "displayName": "Rute Abreu",
      "photoUrl": "https://lh3.googleusercontent.com/a-/AOh14GiUpD-uropAPP9cuQxhGaGef5gUpubY536n0IPT=s64",
      "userId": "06754473900038904498"
     },
     "user_tz": 180
    },
    "id": "8BtYQlP0yzRX",
    "outputId": "236d05d7-2e12-4431-90ed-26219d8832d0"
   },
   "outputs": [
    {
     "name": "stdout",
     "output_type": "stream",
     "text": [
      "Mortes por gênero\n",
      "\n",
      "  gender\n",
      "F      94\n",
      "M    2160\n",
      "dtype: int64\n",
      "Probabilidade da pessoa morta ser do sexo masculino  0.9582963620230701\n",
      "Probabilidade da pessoa morta ser do sexo feminino  0.041703637976929886\n"
     ]
    }
   ],
   "source": [
    "#Exercício 3\n",
    "mortes_por_genero = policeKillingsDF.groupby(\"gender\").size()\n",
    "print(\"Mortes por gênero\\n\\n \", mortes_por_genero)\n",
    "\n",
    "numero_casos_masculino = mortes_por_genero[1]\n",
    "numero_casos_feminino = mortes_por_genero[0]\n",
    "\n",
    "numeroTotalDeCasos = numero_casos_feminino + numero_casos_masculino\n",
    "\n",
    "probabilidade_masculino = numero_casos_masculino / (numeroTotalDeCasos)\n",
    "probabilidade_feminino = 1 - probabilidade_masculino\n",
    "\n",
    "print(\"Probabilidade da pessoa morta ser do sexo masculino \", probabilidade_masculino)\n",
    "print(\"Probabilidade da pessoa morta ser do sexo feminino \", probabilidade_feminino)\n"
   ]
  },
  {
   "cell_type": "markdown",
   "metadata": {
    "colab_type": "text",
    "id": "7NVXaUSg8g2T"
   },
   "source": [
    "### 4.1.2 Probabilidade do individuo assassinado ter mais de 20 anos.\n",
    "\n",
    "Para calcular probabilidade do indivíduo ter mais de 20 anos, teremos que novamente fazer a contagem desse evento. Dessa vez faremos, digamos, mais artesanalmente. \n",
    "\n",
    "Primeiro você precisará contar todas as entradas do *dataset* em que a idade da pessoa é maior que 20 anos. Após isso, contabilize o número total de entradas e use a definição de probabilidade para obter o resultado.\n",
    "\n",
    "Complete o código do exercício #4 para realizar essas operações.\n",
    "\n"
   ]
  },
  {
   "cell_type": "code",
   "execution_count": 4,
   "metadata": {
    "colab": {
     "base_uri": "https://localhost:8080/",
     "height": 51
    },
    "colab_type": "code",
    "executionInfo": {
     "elapsed": 1401,
     "status": "ok",
     "timestamp": 1593876048521,
     "user": {
      "displayName": "Rute Abreu",
      "photoUrl": "https://lh3.googleusercontent.com/a-/AOh14GiUpD-uropAPP9cuQxhGaGef5gUpubY536n0IPT=s64",
      "userId": "06754473900038904498"
     },
     "user_tz": 180
    },
    "id": "64H8y3-8NxRu",
    "outputId": "09aca93c-b338-4374-cee0-dc1ac14275b7"
   },
   "outputs": [
    {
     "name": "stdout",
     "output_type": "stream",
     "text": [
      "Número de eventos em que o inndividuo tinha mais de 20 anos:  2077\n",
      "A probabilidade do indivíduo assassinado ter mais de 20 anos é:  0.9214729370008873\n"
     ]
    }
   ],
   "source": [
    "#Exercício 4\n",
    "\n",
    "#Extração de um subdataset contendo apenas as colunas de idade.\n",
    "subDFIdade = policeKillingsDF[['age']]\n",
    "\n",
    "countMascMaiorQue20 = 0\n",
    "countTotal = len(subDFIdade)\n",
    "\n",
    "for indice, linha in subDFIdade.iterrows():\n",
    "    if linha['age'] > 20:\n",
    "        countMascMaiorQue20 +=1\n",
    "\n",
    "print(\"Número de eventos em que o inndividuo tinha mais de 20 anos: \",countMascMaiorQue20)\n",
    "probabilidadeMaisDe20 = countMascMaiorQue20/countTotal\n",
    "\n",
    "print(\"A probabilidade do indivíduo assassinado ter mais de 20 anos é: \", probabilidadeMaisDe20)\n"
   ]
  },
  {
   "cell_type": "markdown",
   "metadata": {
    "colab_type": "text",
    "id": "ZVI7oUfUKy6H"
   },
   "source": [
    "#5 - Probabilidade condicional\n",
    "\n",
    "Probabilidade condicional é um conceito estátistico que estuda a probabilidade de um evento ocorrer dado que outro evento já ocorreu. Desse modo a P(A|B) (lê-se probabilidade de A dado B), é a probabilidade do evento A ocorrer, sabendo que o evento B já ocorreu. \n",
    "\n",
    "A sua definição é dada pela equação abaixo:\n",
    "#### <center> $P(A|B) = \\frac{P(A \\cap B)}{P(B)}$ <br> </center>\n",
    "\n",
    "Se o evento A é independente do evento B, então $P(A \\cap B) = P(A) \\cdot P(B)$, e a equação da probabilide condicional pode ser reescrita da seguite maneira:\n",
    "\n",
    "#### <center> $P(A|B) = \\frac{P(A) \\cdot P(B)}{P(B)}$\n",
    "\n",
    "Nos próximos exercícios você vai exercitar esse conceito utilizando a nossa base de dados."
   ]
  },
  {
   "cell_type": "markdown",
   "metadata": {
    "colab_type": "text",
    "id": "LHOhc6bWMP8N"
   },
   "source": [
    "## 5.1 Probabilidade de um indíviduo do sexo masculino ter sido assasinado no estado do Texas.\n",
    "\n",
    "Para descobrir essa infomração nós vamos usar o conceito de probabilidade condicional. Mas antes de iniciar o cálculo desta probabilidade, precisamos definir quem são os nossos eventos. \n",
    "\n",
    "Vamos chamar de **M** o evento que já sabemos que ocorreu, ou seja, a pessoa assassinada era do sexo masculino, e de **T** o evento relativo a pessoa ter sido assassinada no estado do Texas. \n",
    "\n",
    "Para sumarizar o nosso problema, seguem as definições:\n",
    "\n",
    "* $M $- A pessoa assassinada é do sexo masculino.\n",
    "* $T$ - A pessoa foi assassinada no estado do Texas.\n",
    "* $P(T | M)$  - Probabilidade da pessoa ter sido assassinada no estado do Texas, dado que era do sexo masculino.\n",
    "\n",
    "Desse modo a probabilidade que queremos calcular é:\n",
    "\n",
    "### <center>$P(T | M) = \\frac{P(T \\cap M)}{P(M)}$ </center>\n",
    "\n",
    "Quando estamos trabalhando com dados reais, nem sempre sabemos sobre sua natureza ou como variáveis se relacionam umas com  as outras.  Por isso, é perigoso fazer afirmações sobre os dados antes de explorá-los bem. \n",
    "\n",
    "Por exemplo, inicialmente parece ser razoável afirmar que  estado onde individuo morreu independe ele do ser sexo masculino, não é? Mas será que isso é mesmo verdade?\n",
    "\n",
    "Para descobrir isso vamos calcular a probabilidade condicional de duas maneiras:\n",
    "\n",
    "* 1ª - Utilizando o principio da contagem\n",
    "* 2ª - Considerando que as eventos são independentes, o que implica que: $P(T \\cap M) = P(T) \\cdot P(M)$\n",
    "\n"
   ]
  },
  {
   "cell_type": "markdown",
   "metadata": {
    "colab_type": "text",
    "id": "T9Pr2FA-vuyt"
   },
   "source": [
    "### 5.1.1 - Cálculo utilizando principio da contagem\n",
    "\n",
    "Incialmente nós precisamos extrair um subcocnjunto do dataset contendo apenas as nossas variáveis de interesse, nesse caso ***gender*** e ***state***.\n",
    "\n",
    "Armazene na variável **`subDFGeneroEstado`** um subconjunto do nosso dataset apenas com as variáveis ***gender*** e ***state***, para isso utilize o comando **`meuDataset[['variavel_1, variavel_2']]`.**"
   ]
  },
  {
   "cell_type": "code",
   "execution_count": 5,
   "metadata": {
    "colab": {},
    "colab_type": "code",
    "executionInfo": {
     "elapsed": 1380,
     "status": "ok",
     "timestamp": 1593876048522,
     "user": {
      "displayName": "Rute Abreu",
      "photoUrl": "https://lh3.googleusercontent.com/a-/AOh14GiUpD-uropAPP9cuQxhGaGef5gUpubY536n0IPT=s64",
      "userId": "06754473900038904498"
     },
     "user_tz": 180
    },
    "id": "WavXLfOP8yQG"
   },
   "outputs": [],
   "source": [
    "#Exercício 5\n",
    "\n",
    "#Extração de um subdataset contendo apenas as colunas de idade e estado.\n",
    "subDFGeneroEstado = policeKillingsDF[['gender', 'state']]\n"
   ]
  },
  {
   "cell_type": "markdown",
   "metadata": {
    "colab_type": "text",
    "id": "x9X_KONo87Gt"
   },
   "source": [
    "Agora que já temos o nosso conjunto, vamos fazer a contagem dos eventos em que o individuo é do sexo masculino e morreu no estado texas, ou seja a contagem da interseção M $\\cap$ T.\n",
    "\n",
    "A definição de probabilidade condicional exige a obtenção da probabilidade marginal do evento que temos certeza (no nosso caso, o gênero da pessoa). Por isso, você também precisará fazer a contagem de todos os eventos em que o indivíduo é do sexo masculino.\n",
    "\n",
    "Complete o código da célula abaixo, para calcular o valor das variaveis de contagem `countMasculino` e `countMasculinoETexas`."
   ]
  },
  {
   "cell_type": "code",
   "execution_count": 6,
   "metadata": {
    "colab": {},
    "colab_type": "code",
    "executionInfo": {
     "elapsed": 1365,
     "status": "ok",
     "timestamp": 1593876048523,
     "user": {
      "displayName": "Rute Abreu",
      "photoUrl": "https://lh3.googleusercontent.com/a-/AOh14GiUpD-uropAPP9cuQxhGaGef5gUpubY536n0IPT=s64",
      "userId": "06754473900038904498"
     },
     "user_tz": 180
    },
    "id": "kEk3jLd3YGkc"
   },
   "outputs": [],
   "source": [
    "#Probabilidade utilizando o principio da contagem.\n",
    "countMasculinoETexas = 0\n",
    "countMasculino = 0\n",
    "\n",
    "#total de eventos possíveis\n",
    "countTotal = len(subDFGeneroEstado)\n",
    "\n",
    "#Contagem de eventos pertecentes a interseção\n",
    "for indice, linha in subDFGeneroEstado.iterrows():\n",
    "    if linha['gender'] == 'M':\n",
    "        countMasculino +=1\n",
    "        if linha['state'] == 'Texas':\n",
    "            countMasculinoETexas +=1\n",
    "\n"
   ]
  },
  {
   "cell_type": "markdown",
   "metadata": {
    "colab_type": "text",
    "id": "9CMqccjP_m8Z"
   },
   "source": [
    "Agora que você já tem as contagens, calcule as probabilidades P(M) e P(M $\\cap$ T) , utilizando a definição formal de probabilidade.\n",
    "\n",
    "Por fim, calcule a probabilidade condicional utilizando sua definição e os resultados obtidos."
   ]
  },
  {
   "cell_type": "code",
   "execution_count": 7,
   "metadata": {
    "colab": {
     "base_uri": "https://localhost:8080/",
     "height": 34
    },
    "colab_type": "code",
    "executionInfo": {
     "elapsed": 1353,
     "status": "ok",
     "timestamp": 1593876048525,
     "user": {
      "displayName": "Rute Abreu",
      "photoUrl": "https://lh3.googleusercontent.com/a-/AOh14GiUpD-uropAPP9cuQxhGaGef5gUpubY536n0IPT=s64",
      "userId": "06754473900038904498"
     },
     "user_tz": 180
    },
    "id": "N9EJMzgg_mE1",
    "outputId": "0b651e03-62f2-45e5-f1ba-27f0ee4a32bb"
   },
   "outputs": [
    {
     "name": "stdout",
     "output_type": "stream",
     "text": [
      "A probabilidade ser do texas dado que é do sexo masculino:  0.08796296296296297\n"
     ]
    }
   ],
   "source": [
    "#Probabilidade de ser do sexo masculino\n",
    "probMasculino = countMasculino/countTotal\n",
    "\n",
    "#probablidade de ser do sexo mamsculino e ter sido assassinado no texas.\n",
    "probMasculinoTexas = countMasculinoETexas/countTotal\n",
    "\n",
    "probCondicional =  probMasculinoTexas/probMasculino\n",
    "print(\"A probabilidade ser do texas dado que é do sexo masculino: \", probCondicional)"
   ]
  },
  {
   "cell_type": "markdown",
   "metadata": {
    "colab_type": "text",
    "id": "-BFdi-VFQCkD"
   },
   "source": [
    "### 5.1.2 - Cálculo assumindo independência\n",
    "Agora você já sabe qual é o valor da probabilidade $P(T | M)$ utilizando o principio da contagem. Mas será que essas variáveis são independentes? Vamos descobrir isso calculando novamente a probabilidade condicional, mas agora assumindo independência das variáveis. \n",
    "\n",
    "Complete o código da célula abaixo para realizar essa operação. \n",
    "\n",
    "* Dica: Utilize a definição da probabilidade da interção para eventos independentes."
   ]
  },
  {
   "cell_type": "code",
   "execution_count": 8,
   "metadata": {
    "colab": {
     "base_uri": "https://localhost:8080/",
     "height": 34
    },
    "colab_type": "code",
    "executionInfo": {
     "elapsed": 1758,
     "status": "ok",
     "timestamp": 1593876048953,
     "user": {
      "displayName": "Rute Abreu",
      "photoUrl": "https://lh3.googleusercontent.com/a-/AOh14GiUpD-uropAPP9cuQxhGaGef5gUpubY536n0IPT=s64",
      "userId": "06754473900038904498"
     },
     "user_tz": 180
    },
    "id": "8uyigkZ5QBok",
    "outputId": "06232bfc-5924-4537-f712-5428bd04823b"
   },
   "outputs": [
    {
     "name": "stdout",
     "output_type": "stream",
     "text": [
      "A probabilidade condicional considerando independência é:  0.08873114463176575\n"
     ]
    }
   ],
   "source": [
    "#Exercício 6\n",
    "#Probabilidade assumindo indenpendência entre os eventos\n",
    "countMasculino = 0\n",
    "countTexas = 0\n",
    "countTotal = len(subDFGeneroEstado)\n",
    "\n",
    "for indice, linha in subDFGeneroEstado.iterrows():\n",
    "    if linha['gender'] == 'M':\n",
    "        countMasculino +=1\n",
    "    if linha['state'] == 'Texas':\n",
    "        countTexas +=1\n",
    "\n",
    "probMasculino = countMasculino/countTotal\n",
    "probTexas = countTexas/countTotal\n",
    "\n",
    "probInterseção = probMasculino*probTexas\n",
    "probCondicionalInd = probTexas*probMasculino/(probMasculino)\n",
    "\n",
    "print('A probabilidade condicional considerando independência é: ', probCondicionalInd)"
   ]
  },
  {
   "cell_type": "markdown",
   "metadata": {
    "colab_type": "text",
    "id": "FKVWCtvua34V"
   },
   "source": [
    "Interessante esse resultado, não é? Agora que você calculou das duas maneiras, os eventos são ou não independentes?"
   ]
  },
  {
   "cell_type": "markdown",
   "metadata": {
    "colab_type": "text",
    "id": "rWeoFqJnK5C1"
   },
   "source": [
    "#6 - Teorema de Bayes\n",
    "\n",
    "Outra forma de calcular a probabilidade condicional é utilizando o teorema de Bayes. Ele costuma ser utilizado em situações em que se precisa quantificar a veracidade de um evento que já ocorreu, dado que já conhecemos algumas evidências. \n",
    "\n",
    "Sua definição é dada pela equação abaixo:\n",
    "\n",
    "#### <center> $P(B|A) = \\frac{P(A|B) \\cdot P(B)}{P(A)}$\n",
    "\n",
    "No próximo exercício você vai calcular a probabilidade condicional reversa da que calculamos no exercício 5.\n"
   ]
  },
  {
   "cell_type": "markdown",
   "metadata": {
    "colab_type": "text",
    "id": "_k4zLVBlevRw"
   },
   "source": [
    "## 6.1 Probabilidade de um individuo assassinado no texas ser do sexo masculino.\n",
    "No exercício #7, vamos calcular a probabilidade reversa do exercício anterior, isto é vamos calcular a probabilidade do individuo assassinado ser do sexo masculino dado que morreu no estado do Texas.\n",
    "\n",
    "Vamos nomear os eventos da mesma maneira:\n",
    "\n",
    "* $M $- A pessoa assassinada é do sexo masculino.\n",
    "* $T$ - A pessoa foi assassinada no estado do Texas.\n",
    "* $P(M | T)$  - Probabilidade da pessoa ser do sexo masculino, dado que o assassinato ocorreu no estado do Texas.\n",
    "\n",
    "\n",
    "Portanto,\n",
    "\n",
    "#### <center> $P(M|T) = \\frac{P(T|M) \\cdot P(M)}{P(T)}$\n",
    "\n",
    "Complete o código do exercício #7 , utilizando a definição acima e os resultados armazendos dos 2 últimos exercícios para calcular P(M|T).\n"
   ]
  },
  {
   "cell_type": "code",
   "execution_count": 9,
   "metadata": {
    "colab": {
     "base_uri": "https://localhost:8080/",
     "height": 34
    },
    "colab_type": "code",
    "executionInfo": {
     "elapsed": 1741,
     "status": "ok",
     "timestamp": 1593876048958,
     "user": {
      "displayName": "Rute Abreu",
      "photoUrl": "https://lh3.googleusercontent.com/a-/AOh14GiUpD-uropAPP9cuQxhGaGef5gUpubY536n0IPT=s64",
      "userId": "06754473900038904498"
     },
     "user_tz": 180
    },
    "id": "_V-g9OxBWVu1",
    "outputId": "d4a0789f-d5bd-49b9-d801-18e9c63c2ba6"
   },
   "outputs": [
    {
     "name": "stdout",
     "output_type": "stream",
     "text": [
      "A probabilidade condicional P(M|T) é:  0.9500000000000001\n"
     ]
    }
   ],
   "source": [
    "#Exercício 7\n",
    "probCondicionalReversa = (probCondicional * probMasculino)/probTexas\n",
    "print(\"A probabilidade condicional P(M|T) é: \", probCondicionalReversa)"
   ]
  }
 ],
 "metadata": {
  "colab": {
   "authorship_tag": "ABX9TyPG/h2YeJYtYv1o91QDLKdF",
   "collapsed_sections": [],
   "name": "Roteiro_de_atividades_3_chave_de_correção 3.ipynb",
   "provenance": [],
   "toc_visible": true
  },
  "kernelspec": {
   "display_name": "Python 3",
   "language": "python",
   "name": "python3"
  },
  "language_info": {
   "codemirror_mode": {
    "name": "ipython",
    "version": 3
   },
   "file_extension": ".py",
   "mimetype": "text/x-python",
   "name": "python",
   "nbconvert_exporter": "python",
   "pygments_lexer": "ipython3",
   "version": "3.8.3"
  }
 },
 "nbformat": 4,
 "nbformat_minor": 1
}
