{
 "cells": [
  {
   "cell_type": "markdown",
   "metadata": {
    "colab_type": "text",
    "id": "O9yimDYsSymF"
   },
   "source": [
    "# Roteiro de atividades 4 "
   ]
  },
  {
   "cell_type": "markdown",
   "metadata": {
    "colab_type": "text",
    "id": "1u_qgqI8S15h"
   },
   "source": [
    "# Objetivo\n",
    "\n",
    "Fixar os conteúdos:\n",
    "\n",
    "* Variáveis aleatórias\n",
    "* Ideias de esperança e variância\n",
    "* Variáveis aleatórias discretas\n",
    "* Distribuições discretas\n",
    "* Variáveis aleatórias contínuas\n",
    "* Distribuições contínuas\n",
    "* Importância da distribuição Normal\n",
    "\n",
    "através de atividades desenvolvidas na linguagem programação python"
   ]
  },
  {
   "cell_type": "markdown",
   "metadata": {
    "colab_type": "text",
    "id": "mmFrkiDiqBL2"
   },
   "source": [
    "# 1 - Variáveis aleatórias\n",
    "\n",
    "Uma variável aleátoria é uma entidade que representa o resultado de um experimento probabilistico. Uma variável que assume um número finito de valores é chamada variável discreta, já quando a variável pode assumir um numero infinito ou incontavel de valores é chamada continua. Por exemplo uma variável que representa as saídas possíveis de um lançamento de dois dados é dita discreta. Já um que representa a altura de uma pessoa é dita continua pois pode assumir infinitos valores num dado intervalo. Por exemplo, imagine uma variável contínua que descreve a altura de um jovem entre os 10 e os 14 anos. É impossível dizer que ele só mediu um conjunto finito de alturas nesses 4 anos, como 1,40m , 1,50 m,e 1,6 m. Ele provavelmente mediu 1,4m , 1,41m, 1,441m, 1,442m e assim por diante. E esses valores podem ainda ser ainda decompostos de maneira ainda mais precisa. São infinitas as representações possíveis."
   ]
  },
  {
   "cell_type": "markdown",
   "metadata": {
    "colab_type": "text",
    "id": "gGelWPoFqFSC"
   },
   "source": [
    "# 2 - Como gerar variáveis aleatórias no python\n",
    "Existem algumas bibliotecas em python que oferecem a possibilidade de geração e manipulação de variáveis aleatórias. Neste roteiro iremos utilizar o ecossistema de código aberto **SciPy**, que é amplamente utilizado pela comunidade para a realização de operações matemáticas, estatísticas e probabilísticas. \n",
    " \n",
    "Para gerar variáveis aleatórias, nós vamos utilizar o módulo ***stats*** do SciPy, além disso vamos também incluir a biblioteca numpy para realização de operações matemáticas genéricas.\n",
    "\n",
    "Execute a célula abaixo para realizar estas importações.\n",
    "\n",
    "\n"
   ]
  },
  {
   "cell_type": "code",
   "execution_count": null,
   "metadata": {
    "colab": {},
    "colab_type": "code",
    "id": "iSoayhmGwJ0Z"
   },
   "outputs": [],
   "source": [
    "from scipy import stats\n",
    "import numpy as np"
   ]
  },
  {
   "cell_type": "markdown",
   "metadata": {
    "colab_type": "text",
    "id": "f3rCja1ZwR6N"
   },
   "source": [
    "O *stats* é um módulo de estatística do SciPy que contém funcionalidades desde geração de variáveis  aleatórias, distribuições de probabilidade, testes estatísticos à geração de funções de probabilidades artificiais. \n",
    " \n",
    "Na célula abaixo execute o comando ***`stats?`*** para obter uma lista de todas as funcionalidades disponíveis no stats."
   ]
  },
  {
   "cell_type": "code",
   "execution_count": null,
   "metadata": {
    "colab": {},
    "colab_type": "code",
    "id": "54RHvF7o4UiJ"
   },
   "outputs": [],
   "source": [
    "#Exercício 1"
   ]
  },
  {
   "cell_type": "markdown",
   "metadata": {
    "colab_type": "text",
    "id": "yIEKzykhALIk"
   },
   "source": [
    "# 3 - Gerando variáveis aleatórias discretas e sua função de distribuição associada\n",
    "\n",
    "\n",
    "Para gerar variáveis aleatórias discretas de maneira customizada, isto é, definindo os valores possíveis da variável e suas respectivas probabilidades usamos o método **`rv_discrete(name='Descrição da variável', values =(x, p))`** do módulo ***stats***.\n",
    " \n",
    "Neste método o parâmetro name é usado para definir uma descrição da variável, o parâmetro ***x*** são os valores que a variável pode assumir e o parâmetro ***p*** é a probabilidade de cada valor dentro do conjunto ***x*** ocorrer.\n",
    " \n",
    "Para fins de exemplificação, vamos definir a variável aleatória ***X*** como o número obtido no lançamento de um dado. Sabemos que: \n",
    " \n",
    "* Os valores possíveis de ***X*** são: $[1,2,3,4,5,6]$\n",
    "<br>\n",
    "* A probabilidade (p) de cada valor sair é: $[\\frac{1}{6}, \\frac{1}{6},\\frac{1}{6},\\frac{1}{6},\\frac{1}{6},\\frac{1}{6}]$\n",
    " \n",
    "No exercício abaixo, complete o código preenchendo os vetores x (valores possíveis) e p (probabilidade de cada valor) e gere a VA do exemplo acima. \n",
    " \n",
    "Caso não queira escrever os valores dos vetores \"na mão\":\n",
    "*  Use o comando **`np.arange(inicio da  sequencia, fim da sequência + 1)`**para gerar a sequência de valores possíveis de X (de 1 a 6)\n",
    " \n",
    "* Para gerar o vetor de probabilidades utilize o comando **`np.ones(tamanho do conjunto de valores) * probabilidade do valor acontecer`**\n",
    " \n",
    "\n",
    "\n"
   ]
  },
  {
   "cell_type": "code",
   "execution_count": null,
   "metadata": {
    "colab": {},
    "colab_type": "code",
    "id": "JU8R0Dm9_nKc"
   },
   "outputs": [],
   "source": [
    "#Exercício 2\n",
    "x = \n",
    "p = \n",
    "vaLancamentoDado = stats.rv_discrete(name='Valor obtido no lançamento de um dado', values=(x, p))\n"
   ]
  },
  {
   "cell_type": "markdown",
   "metadata": {
    "colab_type": "text",
    "id": "1Zemqf18PaL8"
   },
   "source": [
    "Para simular um experimento com *n* lançamentos do dado, nós utilizamos método `rvs(size=n)`\n",
    "\n",
    "No próximo exercício utilize o comando `suaVariavel.rvs(size = 'quantidade de lançamentos)` para simular 100 lançamentos do dado. Armazene o resultado numa variável chamada lancamentosDado.\n"
   ]
  },
  {
   "cell_type": "code",
   "execution_count": null,
   "metadata": {
    "colab": {},
    "colab_type": "code",
    "id": "Tsu6tiZvPZUB"
   },
   "outputs": [],
   "source": [
    "#Exercício 3\n",
    "\n",
    "print('Simulação de 100 lançamentos do dado \\n ', lancamentosDado)"
   ]
  },
  {
   "cell_type": "markdown",
   "metadata": {
    "colab_type": "text",
    "id": "P4hjUoQdRDC2"
   },
   "source": [
    "No próximo exercício complete o código para gerar um gráfico de barras (colunas) onde será possível visualizar a frequência de cada valor no experimento realizado. \n",
    " \n",
    "Como explicado em roteiros passados, para gerar um gráfico de barras é necessário definir a sequência de valores representado por cada barra, (no nosso caso, os valores que ***X*** pode assumir) e a altura de cada barra (no nosso caso a frequência de aparição de cada valor no experimento).\n",
    " \n",
    "**Antes de passar ao próximo exercício execute a célula abaixo para criar uma função que conta a frequência dos valores assumidos pela variável na execução $n$ experimentos.\n"
   ]
  },
  {
   "cell_type": "code",
   "execution_count": null,
   "metadata": {
    "colab": {},
    "colab_type": "code",
    "id": "It9Uw-GYsMnK"
   },
   "outputs": [],
   "source": [
    "def contar_frequencias(resultados_lancamento, valores_possiveis):\n",
    "    list_valores_possiveis = list(valores_possiveis)\n",
    "    frequencias = np.zeros(len(list_valores_possiveis))\n",
    "    for resultaddo in resultados_lancamento:\n",
    "        idx = list_valores_possiveis.index(resultaddo)\n",
    "        frequencias[idx] += 1\n",
    "    return frequencias"
   ]
  },
  {
   "cell_type": "code",
   "execution_count": null,
   "metadata": {
    "colab": {},
    "colab_type": "code",
    "id": "4uP-fKPGQ5s2"
   },
   "outputs": [],
   "source": [
    "#Exercício 4\n",
    "import matplotlib.pyplot as plt\n",
    "import pandas as pd\n",
    "\n",
    "fig, ax = plt.subplots(figsize=(10,10))\n",
    "\n",
    "sequencia_x = x\n",
    "alturas = contar_frequencias(lancamentosDado, )\n",
    "\n",
    "ax.bar(x = sequencia_x, height = )\n",
    "ax.set_xlabel('Valores possíveis para X')\n",
    "ax.set_ylabel(\"Frequencia de resultados em 100 lançamentos\")"
   ]
  },
  {
   "cell_type": "markdown",
   "metadata": {
    "colab_type": "text",
    "id": "n1UTW8WaOioy"
   },
   "source": [
    "Com a VA aleatória discreta e sua função de distribuição de probabilidade definida você pode agora realizar todas as operações comuns a essa distribuição, isto é $P(X \\leq x)$, $P(X=x)$, $E(X)$ e $Var(X)$. Mas, veremos isso um pouco mais a frente."
   ]
  },
  {
   "cell_type": "markdown",
   "metadata": {
    "colab_type": "text",
    "id": "iBm-miTcZPC-"
   },
   "source": [
    "## 3.1. Gerando variáveis aleatórias discretas a partir de uma distribuição de probabilidade\n",
    "O módulo scipy disponibiliza a implementação do comportamento de 11 tipos diferentes de distribuições de probabilidade discretas. \n",
    " \n",
    "Uma distribuição de probabilidade discreta descreve a probabilidade dos valores possíveis que uma variável aleatória (VA) discreta pode assumir. Assim, com a distribuição de uma VA discreta em mãos é possível dizer qual a probabilidade exata de cada valor da variável, isto é P(X = x). \n",
    " \n",
    "No ScipY para gerar uma VA discreta que segue uma determinada distribuição é necessário definir a distribuição desejada e os parâmetros relativos a cada distribuição.\n",
    " \n",
    "Neste exemplo, apenas para fins de aprendizagem iremos gerar uma VA discreta que segue a distribuição de Bernoulli. A variável de Bernoulli possui apenas dois valores possíveis 0 e 1, sendo 1 considerado o sucesso do evento e 0 a falha. Para gerar uma variável Bernoulli precisamos definir o parâmetro ***p***  que indica a probabilidade de sucesso.\n",
    " \n",
    "Crie uma variável chamada bernoulli para armazenar a instância da distribuição de Bernoulli com probabilidade de sucesso ***p*** = 0.7, e preencha-a utilizando o comando `stats.bernoulli(p = 'probabilidade de sucesso')`.\n",
    "\n"
   ]
  },
  {
   "cell_type": "code",
   "execution_count": null,
   "metadata": {
    "colab": {},
    "colab_type": "code",
    "id": "BB4FvcEr8lDI"
   },
   "outputs": [],
   "source": [
    "#Exercício 5"
   ]
  },
  {
   "cell_type": "markdown",
   "metadata": {
    "colab_type": "text",
    "id": "rpE02txwZus-"
   },
   "source": [
    "Desse modo, você definiu uma variável aleatória discreta X com as seguintes características: \n",
    " \n",
    "* Os valores possíveis são $[0,1]$ \n",
    " \n",
    "* A probabilidade de ocorrência de cada valor é $[1-p, p] = [0.3, 0.7]$\n",
    " \n",
    "Nesse caso a variável aleatória é simplesmente a saída de um experimento de Bernoulli.\n",
    " \n",
    " \n",
    "No próximo exercício crie uma variável chamada `rvsBernoulli` e armazene o resultado da execução de 100 experimentos de bernoulli, utilizado o comando `bernoulli.rvs(size=número de repetições do experimento)`\n"
   ]
  },
  {
   "cell_type": "markdown",
   "metadata": {
    "colab_type": "text",
    "id": "J_sTzQF1O8Mn"
   },
   "source": [
    "Utilize a função print do python para visualizar a influência do parâmetro p na \n",
    "variável criada."
   ]
  },
  {
   "cell_type": "code",
   "execution_count": null,
   "metadata": {
    "colab": {
     "base_uri": "https://localhost:8080/",
     "height": 68
    },
    "colab_type": "code",
    "executionInfo": {
     "elapsed": 2149,
     "status": "ok",
     "timestamp": 1594609460765,
     "user": {
      "displayName": "Rute Abreu",
      "photoUrl": "https://lh3.googleusercontent.com/a-/AOh14GiUpD-uropAPP9cuQxhGaGef5gUpubY536n0IPT=s64",
      "userId": "06754473900038904498"
     },
     "user_tz": 180
    },
    "id": "KZur9logWR_C",
    "outputId": "c891e857-ed52-4f55-9aa1-db118e6b1fc3"
   },
   "outputs": [
    {
     "name": "stdout",
     "output_type": "stream",
     "text": [
      "[1 0 1 0 1 1 1 1 1 1 0 1 1 0 0 1 1 1 0 0 1 1 0 1 0 1 1 1 1 1 1 1 0 1 1 1 0\n",
      " 1 1 1 0 1 0 1 1 1 1 1 1 1 0 1 1 0 1 1 1 1 0 1 1 1 1 0 1 1 1 1 0 1 1 0 1 1\n",
      " 0 1 1 0 1 1 1 1 1 1 1 1 0 1 1 1 1 1 1 1 1 0 1 1 0 1]\n"
     ]
    }
   ],
   "source": [
    "#Exercício 6\n"
   ]
  },
  {
   "cell_type": "markdown",
   "metadata": {
    "colab_type": "text",
    "id": "enGDdwopJNDb"
   },
   "source": [
    "No próximo exercício complete o código para gerar um gráfico de barras (colunas) onde será possível visualizar a frequência de cada valor no experimento realizado. \n"
   ]
  },
  {
   "cell_type": "code",
   "execution_count": null,
   "metadata": {
    "colab": {},
    "colab_type": "code",
    "id": "2j2MAlBJ6C7_"
   },
   "outputs": [],
   "source": [
    "fig, ax = plt.subplots(figsize=(10,10))\n",
    "\n",
    "sequencia_x = [0,1]\n",
    "alturas = contar_frequencias(, )\n",
    "\n",
    "ax.bar(x = sequencia_x, height = alturas)\n",
    "ax.set_xlabel('Valores possíveis para X')\n",
    "ax.set_ylabel(\"Frequencia de resultados em 1000 experimentos\")"
   ]
  },
  {
   "cell_type": "markdown",
   "metadata": {
    "colab_type": "text",
    "id": "Np6Fp6IoW9C9"
   },
   "source": [
    "Um exemplo comum que mostra o uso de uma variável aleatória de Bernoulli, é o da VA que representa  'o lançamento de uma moeda ser coroa' considerando o lançamento de uma moeda justa, ou seja que a probabilidade de ser cara ou coroa é de 50%. \n",
    " \n",
    "Perceba que se modelarmos como sucesso o evento 'ser coroa' com probabilidade p = 0.5, conseguimos representar esse experimento com uma variável aleatória de Bernoulli com p = 0.5."
   ]
  },
  {
   "cell_type": "markdown",
   "metadata": {
    "colab_type": "text",
    "id": "PQ671NV9ZUPR"
   },
   "source": [
    "## 3.2. Gerando variáveis aleatórias contínuas a partir de uma distribuição de probabilidade\n",
    "\n",
    " \n",
    "Novamente, para gerar a variável aleatória no python precisamos definir a distribuição que ela segue. O SciPy nos disponibiliza 87 distribuições contínuas possíveis. No nosso caso, escolheremos a distribuição normal, outra vez apenas para fins de aprendizado. \n",
    " \n",
    "No caso da distribuição de probabilidade de uma variável aleatória ***X***  continua, a probabilidade de X assumir um valor específico ***x*** (P(X = x) é sempre 0. Isso porque, quando falamos de valores contínuos, é impossível admitir que ***x*** assuma apenas um conjunto finito de valores em um dado intervalo. \n",
    " \n",
    "Por isso, podemos apenas calcular P(X$\\leq$ x) ou seu complemento. \n",
    " \n",
    "No exercício abaixo crie uma variável chamada **`normal`** para armazenar uma instância da distribuição normal padrão (médio 0 e variância 1). Para fazer essa operação utilize o comando **`stats.norm()`**.\n",
    " \n",
    "Neste caso, estamos criando uma variável aleatória X normal com as seguintes características:\n",
    " \n",
    "* Os valores possíveis para X definidos por todos os valores no intervalo de $[-\\infty,\\infty]$\n",
    "* A função que define o comportamento de VA contínua é a  função densidade de probabilidade $f(x) = \\frac{(\\exp (\\frac{-x^2}{2})}{\\sqrt(2\\pi)}$ \n",
    "* A função de distribuição acumulada, isto é $P(X \\leq x)$, é dada por $\\int_{-\\infty}^{x} f(x) {d}x$\n",
    "\n"
   ]
  },
  {
   "cell_type": "code",
   "execution_count": null,
   "metadata": {
    "colab": {},
    "colab_type": "code",
    "id": "XBT1a65Lxdd4"
   },
   "outputs": [],
   "source": [
    "#Exercício 5\n"
   ]
  },
  {
   "cell_type": "markdown",
   "metadata": {
    "colab_type": "text",
    "id": "FgR4ZYsj4w3V"
   },
   "source": [
    "\n",
    "Agora crie uma variável chamada `rvsNormal` para as saídas da execução de 100 experimentos normais, para isso utilize o comando `.rvs(size = 'número de experimentos')`.\n",
    "\n",
    "\n"
   ]
  },
  {
   "cell_type": "markdown",
   "metadata": {
    "colab_type": "text",
    "id": "iSapvkK1xzxh"
   },
   "source": [
    "Utilize a função print para observar os valores gerados."
   ]
  },
  {
   "cell_type": "code",
   "execution_count": null,
   "metadata": {
    "colab": {},
    "colab_type": "code",
    "id": "HIEjLL-yxy40"
   },
   "outputs": [],
   "source": [
    "#Exercício 6\n"
   ]
  },
  {
   "cell_type": "markdown",
   "metadata": {
    "colab_type": "text",
    "id": "odxqyWROJSWh"
   },
   "source": [
    "No próximo exercício complete o código para gerar um histograma de rvsNormal onde será possivel visualizar a frequência dos intevalos de x no exerimento realizado. "
   ]
  },
  {
   "cell_type": "code",
   "execution_count": null,
   "metadata": {
    "colab": {},
    "colab_type": "code",
    "id": "ZUsKqv65IGXf"
   },
   "outputs": [],
   "source": [
    "histograma = plt.hist( )\n",
    "xl = plt.xlabel('Variável aleatória continua com distribuição Normal')\n",
    "yl = plt.ylabel('Frequência de resultados em 1000 experimentos')"
   ]
  },
  {
   "cell_type": "markdown",
   "metadata": {
    "colab_type": "text",
    "id": "m85XHXkUqQZU"
   },
   "source": [
    "# 4 - Valor esperado de variáveis aleatórias\n",
    "\n",
    "Quando falamos de média de variáveis aleatórias, falamos de valor esperado ***E(x)***. O valor esperado ou esperança de uma variável é o valor médio que a variável assume depois de várias repetições do mesmo experimento. \n",
    " \n",
    "Para variáveis aleatórias discretas:\n",
    " \n",
    "* É definido pela equação abaixo:\n",
    " \n",
    "<center> $E(x) = \\sum_{i}^n x_i \\cdot p(x_i)$\n",
    " \n",
    "Onde $x_i$ é o valor assumido pela variável, $p(x_i)$ é a probabilidade do valor ocorrer e $n representa o total de valores assumidos pela variável.</center>\n",
    " \n",
    "Para variáveis aleatórias contínuas:\n",
    " \n",
    "<center> $E(x) = \\int_{-\\infty}^{\\infty} x f(X) dx$ \n",
    " \n",
    "Onde x é o valor da variável e f(X) a função densidade de probabilidade. </center>\n",
    " \n",
    " \n",
    " \n",
    " \n",
    "Para calcular esse valor vamos novamente utilizar o método .mean() na VA que desejamos saber o valor esperado.\n",
    "No exercício abaixo complete o código para calcular o valor esperado das VAs que criamos anteriormente, nomeadamente as variáveis vaBernoulli, vaNormal e vaLancamentoDado.\n",
    "\n"
   ]
  },
  {
   "cell_type": "code",
   "execution_count": null,
   "metadata": {
    "colab": {},
    "colab_type": "code",
    "id": "IRyvrOsFGeBg"
   },
   "outputs": [],
   "source": [
    "#Exercício 7\n",
    "\n",
    "esperancaVaBernoulli = bernoulli.mean()\n",
    "print(\"O valor esperado da variável aleatória de Bernoulli é: \", esperancaVaBernoulli)\n",
    "\n",
    "esperancaNormal = \n",
    "print(\"O valor esperado da variável aleatória Normal é: \", esperancaNormal)\n",
    "\n",
    "esperancaLancamentoDado =  vaLancamentoDado.mean()\n",
    "print(\"O valor esperado da variável aleatória do Lançamento de um dado é: \", esperancaLancamentoDado)\n",
    "\n"
   ]
  },
  {
   "cell_type": "markdown",
   "metadata": {
    "colab_type": "text",
    "id": "UehVw1j6tIGb"
   },
   "source": [
    "# 5 - Variância de variáveis aleatórias\n",
    "\n",
    "A variância ($ var(x)$) de uma variável aleatória indica o quão dispersos estão nossos dados em relação ao valor esperado.\n",
    "\n",
    "\n",
    "Para variáveis aleatórias discretas:\n",
    "\n",
    "* É dada pela seguinte equação:\n",
    "\n",
    "<center> $ \\sigma^2 = E(x_i - E(X)^2) = E(X) - E(X^2)$ </center>\n",
    "\n",
    "\n",
    "\n",
    "Para variáveis aleatórias contínuas:\n",
    "*É dada pela equação\n",
    "\n",
    "<center> $Var(X) = \\int_{-\\infty}^{x} [x - E(X)]^2 f(x) dx$ </center>\n",
    "No exercício abaixo complete o código para calcular o variância das VAs que criamos anteriormente, nomeadamente as variáveis vaBernoulli, vaNormal e vaLancamentoDado.\n"
   ]
  },
  {
   "cell_type": "code",
   "execution_count": null,
   "metadata": {
    "colab": {},
    "colab_type": "code",
    "id": "DgBtrdOlQGpU"
   },
   "outputs": [],
   "source": [
    "#Exercício 8\n",
    "\n",
    "varianciaVaBernoulli = \n",
    "print(\"A variância esperado da variável aleatória de Bernoulli é: \", varianciaVaBernoulli)\n",
    "\n",
    "varianciaNormal = \n",
    "print(\"A variância esperado da variável aleatória Normal é: \", varianciaNormal)\n",
    "\n",
    "varianciaLancamentoDado =  \n",
    "print(\"A variância da variável aleatória do Lançamento de um dado é: \", varianciaLancamentoDado)"
   ]
  },
  {
   "cell_type": "markdown",
   "metadata": {
    "colab_type": "text",
    "id": "d7S4KvN_tOXS"
   },
   "source": [
    "# 6 - Como calcular P($X \\leq x$) e P($X=x$) em python\n",
    "Agora que geramos nossas variáveis aleatórias discretas e contínuas, vamos aprender como calcular a probabilidade dessas variáveis assumirem seus possíveis valores. \n",
    " \n",
    "Como discutido anteriormente, somente faz sentido calcular a probabilidade de uma variável $X$ assumir um valor $x$ para variáveis discretas. Enquanto que a probabilidade da VA $X$ ser menor ou igual que um determinado valor $x$ é factível para ambos os casos.\n",
    " \n",
    "A função $P(X=x)$ é chamada de função de densidade de probabilidade e é uma função que associa cada valor $x$ a um valor de probabilidade.\n",
    " \n",
    "A função $P(X\\leq x)$ também simbolizada por $F(x)$ é denominada função de distribuição acumulada define a probabilidade de X ser menor ou igual a um determinado valor.\n",
    " \n",
    "Quando criamos uma variável aleatória discreta ou  utilizando o módulo ***stats***, podemos facilmente calcular $P(X=x)$ e $P(X \\leq x)$ através dos métodos:\n",
    " \n",
    "* **`.pmf(x)`** (probability mass function)  - $(P(X=x)$\n",
    "* **`.cdf(x)`** (cumullated distribution function) e  respectivamente. - $P(X \\leq x)$\n",
    " \n",
    "No próximo exercício complete o código, utilizando as variáveis aleatórias criadas anteriormente e os métodos `cdf()` e `pmf()` para calcular:\n",
    " \n",
    "* A probabilidade de sair o valor 5 no lançamento de um dado.\n",
    "* A probabilidade de sair um valor menor que 3 no lançamento de um dado.\n",
    "* A probabilidade de X = 1 na VA discreta com distribuição de Bernoulli.\n",
    "* A probabilidade de X ser menor/igual que 0.5 na VA com distribuição normal $P(X <=0.5)$\n",
    "\n",
    " \n",
    "Armazene os resultados na variáveis pDado, pBern e pNormal respectivamente. \n"
   ]
  },
  {
   "cell_type": "code",
   "execution_count": null,
   "metadata": {
    "colab": {},
    "colab_type": "code",
    "id": "m15JuwOtQ2ec"
   },
   "outputs": [],
   "source": [
    "#Execício 9\n",
    "\n",
    "pDado = \n",
    "print(\"A probabilidade de sair 6 no lançamento do dado é: \", pDado)\n",
    "\n",
    "pBernoulli = \n",
    "print(\"A probabilidade da variavel assumir valor 1 é: \" , pBernoulli)\n",
    "\n",
    "pNormal = normal.cdf(0.5)\n",
    "\n",
    "print(\"A probabilidade da variavel assumir valor menor/igual a 0.5 é: \", pNormal)\n",
    "\n"
   ]
  },
  {
   "cell_type": "markdown",
   "metadata": {
    "colab_type": "text",
    "id": "_Mk__FBwZnMi"
   },
   "source": [
    "# 7 - Distribuiições de probabilidade\n",
    "\n",
    "As distribuições de probabilidades são modelos matemáticos que descrevem o comportamento de fenômenos aleatórios, elas relacionam variáveis aleatórias a valores de probabilidades e são aplamente utilizadas na modelagem de fenômenos naturais.\n",
    "\n",
    "Formalmente eles definem a regra geral para funções de probabilidades  e funções de densidade de probabilidade. Estes modelos reacaem duas categorias: \n",
    "\n",
    "* Distribuição de probabilidade discreta (Para variáveis aleatórias discreta)\n",
    "* Distribuição de probabilidade contínua (Para variáveis aleatórias contínuas)"
   ]
  },
  {
   "cell_type": "markdown",
   "metadata": {
    "colab_type": "text",
    "id": "xMxEVDRIZwQX"
   },
   "source": [
    "## 7.1 Distribuições discretas"
   ]
  },
  {
   "cell_type": "markdown",
   "metadata": {
    "colab_type": "text",
    "id": "5Ag6f-6TZ8ej"
   },
   "source": [
    "### 7.1.1 Bernoulli\n",
    "\n",
    "Como visto anteriormente, a distribuição de probabilidade de Bernoulli possui espaço amostral $\\Omega = [0,1]$, onde o eveto 0 representa o evento de falha e 1 representa o evento de sucesso.\n",
    "\n",
    "A função de distrbuição de probabilidade é dada por:\n",
    "\n",
    "\n",
    "\n",
    "* $ p $, para $x = 1$\n",
    "*   $1 -p$, para $x = 0$\n",
    "\n",
    "Ou seja, $P(X=x) = f(x) = p^x\\cdot (1-p)^{(1-x)}$\n",
    "\n",
    "\n",
    "No exercício abaixo, preencha o valor das probabilidades de sucesso e falha, sabendo que a probiliadade de sucesso deve ser igual a 0.9.\n",
    "\n",
    "Após isso crie uma variavel  chamada `bernoulli` e armazene uma instância da distribuição de bernoulli utilizando o comando `stats.bernoulli(p = 'probabilidade de sucesso')`.\n",
    "</center>"
   ]
  },
  {
   "cell_type": "code",
   "execution_count": null,
   "metadata": {
    "colab": {},
    "colab_type": "code",
    "id": "90ZYR1oxXkCL"
   },
   "outputs": [],
   "source": [
    "#Exercício 10\n",
    "\n",
    "#Defina a probabilidade de sucesso\n",
    "pSucesso = \n",
    "\n",
    "#Defina a probablidade de falha\n",
    "pFalha = \n",
    "\n",
    "bernoulli = "
   ]
  },
  {
   "cell_type": "markdown",
   "metadata": {
    "colab_type": "text",
    "id": "HHtjY6iXnKng"
   },
   "source": [
    "Agora vamos gerar uma visulização para a função de distribuiição de probablidadade de Bernoulli.\n",
    "\n",
    "No exercício abaixo complete o código, utilizando os atributos a e b da variável de Bernoulli para preencher o atributo $x$ dos gráfico.\n"
   ]
  },
  {
   "cell_type": "code",
   "execution_count": null,
   "metadata": {
    "colab": {},
    "colab_type": "code",
    "id": "Bq9O7lCHnJog"
   },
   "outputs": [],
   "source": [
    "#Exercício 11\n",
    "\n",
    "fig, ax = plt.subplots(figsize=(8,8))\n",
    "\n",
    "x = [ , bernoulli.b]\n",
    "\n",
    "stem_plot = ax.stem(x, bernoulli.pmf(x), basefmt=\" \", use_line_collection=True)\n",
    "plt.xticks([0,1])\n",
    "plt.xlabel('Variável aleatória (X)')\n",
    "plt.ylabel( 'f(X)')\n",
    "title = plt.title(\"Função distribuição de probabilidade de Bernoulli com p = \" + str(pSucesso))\n"
   ]
  },
  {
   "cell_type": "markdown",
   "metadata": {
    "colab_type": "text",
    "id": "vXr2EwsRbALr"
   },
   "source": [
    "### 7.1.2 Binomial\n",
    "\n",
    "A distribuição de probabiliade Binomial estpa intimamente ligada a distribuição de Bernoulli. Sendo esta considerada uma generalização daquela. Um experimento binomial consiste da repetição de $n$ experimentos de Bernoulli independentes com probablidadade de sucesso $p$ e probablidade de falha $1-p$.\n",
    "\n",
    "A distribuição binomial descreve a probabilidae de se obter $X = k$  sucessos num experimento binomial.\n",
    "\n",
    "\n",
    "Sua função de distribuição de probabilidae é definida como:\n",
    "\n",
    "* $  P(X=x) = f(x) =\\binom{n}{x} p^{x}(1-p)^{n -x} $\n",
    "\n",
    "Onde $x$ representa o número de sucessos desejados, $n$ é numero de experimentos de Bernnoulli e $p$ a probabilidade de sucesso de cada experimento.\n",
    "\n",
    "Seu valor esperado é definido por $E(X) = n\\cdot p$ e sua variância é definida por $Var(X) = np(1-p)$\n"
   ]
  },
  {
   "cell_type": "markdown",
   "metadata": {
    "colab_type": "text",
    "id": "eVz1KbvuJt5G"
   },
   "source": [
    "No exercício abaixo crie uma variável chamada ***binomial*** e armazene nela uma instancia da distribuição binomial parametrizada com $n$ = 100 e $p$ = 0.6. Para realizar esta operação escolha o método ***binom*** do modulo ***stats*** ."
   ]
  },
  {
   "cell_type": "code",
   "execution_count": null,
   "metadata": {
    "colab": {},
    "colab_type": "code",
    "id": "8Nlu7O_4pHzb"
   },
   "outputs": [],
   "source": [
    "#Exercício 12\n",
    "\n"
   ]
  },
  {
   "cell_type": "markdown",
   "metadata": {
    "colab_type": "text",
    "id": "yYMqvzTRPARv"
   },
   "source": [
    "Para gerar os gráficos da função distribuição de probabilidade e da função acumulada de distribuição de probabilidade vamos utilizar os métodos pmf (probability mass function) e cdf (cummulated distribution function) da variável binomial que definimos.\n",
    "\n",
    "Complete o código para gerar as dois gráficos. "
   ]
  },
  {
   "cell_type": "code",
   "execution_count": null,
   "metadata": {
    "colab": {},
    "colab_type": "code",
    "id": "o9ttsRaDEHgx"
   },
   "outputs": [],
   "source": [
    "#Exercício 13\n",
    "x = np.arange(0,125)\n",
    "\n",
    "fig, ax = plt.subplots(figsize=(10,10), nrows=2)\n",
    "\n",
    "ax[0].stem(x, binomial.pmf(x),  basefmt=\" \", use_line_collection=True)\n",
    "ax[0].set_xlabel('Função distribuição de probabilidade')\n",
    "ax[0].set_ylabel('f(x)')\n",
    "\n",
    "\n",
    "\n",
    "ax[1].plot(x,  )\n",
    "ax[1].set_xlabel('Função de distribuição de probabilidade acumulada')\n",
    "ax[1].set_ylabel('F(x)')\n",
    "\n",
    "\n",
    "plt.show()\n"
   ]
  },
  {
   "cell_type": "markdown",
   "metadata": {
    "colab_type": "text",
    "id": "LYPm64zbbDtt"
   },
   "source": [
    "### 7.1.3 Poisson\n",
    "\n",
    "A distribuição de Poisson descreve resultados de experimentos aleatórios de bernoulli que ocorrem aleátoriamente, com uma taxa média de sucesso $\\lambda$. \n",
    "\n",
    "Desse modo a probabillidade de Poisson $P(X \\leq x)$ nos diz qual é a probabilidade de ocorrerem $x$ sucessos, sabendo que a média de sucessos num determinado intervalo é $\\lambda$;\n",
    "\n",
    "Sua função de distribuição de probabilidade é definida por:\n",
    "\n",
    "* $ P(X  = x ) = f(x) = \\frac{ \\lambda^x \\cdot \\exp^{-\\lambda}}{x!} $\n",
    "\n",
    "O valor esperado dessa distribuição é dado por $E(X) = \\lambda$ e sua variância é dada por $Var(X) = \\lambda$\n",
    "\n",
    "\n",
    "No próximo exercício crie uma instância da distribuição de poisson com média $mu = 4 $. Utilize o método **poisson** do módulo ***stats***  passando a média como parâmetro e armazene o resultado numa variável chamada poisson."
   ]
  },
  {
   "cell_type": "code",
   "execution_count": null,
   "metadata": {
    "colab": {},
    "colab_type": "code",
    "id": "LyPpSaiQROBB"
   },
   "outputs": [],
   "source": [
    "#Exercício 14\n",
    "poisson = \n"
   ]
  },
  {
   "cell_type": "markdown",
   "metadata": {
    "colab_type": "text",
    "id": "uJmAXUCoSPjM"
   },
   "source": [
    "Complete o código do exercício abaixo para gerar as visualizações da função de distribuição de probabilidade e da função de distribuição acumulada. Novamente utilize os métodos `pmf()` e `cdf()` passsando o vetor x como parâmetro."
   ]
  },
  {
   "cell_type": "code",
   "execution_count": null,
   "metadata": {
    "colab": {},
    "colab_type": "code",
    "id": "EijgSDNL6djy"
   },
   "outputs": [],
   "source": [
    "#Exercício 15\n",
    "\n",
    "x = np.arange(0,100)\n",
    "fig, ax = plt.subplots(figsize=(10,10), nrows=2)\n",
    "\n",
    "ax[0].stem(x,  ,  basefmt=\" \", use_line_collection=True)\n",
    "ax[0].set_xlabel('Função distribuição de probabilidade')\n",
    "ax[0].set_ylabel('f(x)')\n",
    "\n",
    "\n",
    "ax[1].plot(x, poisson.cdf(x))\n",
    "ax[1].set_xlabel('Função de distribuição de probabilidade acumulada')\n",
    "ax[1].set_ylabel('F(x)')\n",
    "plt.show()"
   ]
  },
  {
   "cell_type": "markdown",
   "metadata": {
    "colab_type": "text",
    "id": "vZnrocDaZ34w"
   },
   "source": [
    "## 7.2 Distribuições de probablidade contínuas"
   ]
  },
  {
   "cell_type": "markdown",
   "metadata": {
    "colab_type": "text",
    "id": "7NYbkDd1bIKx"
   },
   "source": [
    "### 7.2.1 Normal\n",
    " \n",
    "A distribuição normal é uma das mais 'comuns' na natureza. Isto quer dizer que existem diversos fenômenos naturais que podem ser modelados por ela. Além disso ela é uma das mais importantes na estatística por ser utilizada para aproximar outras distribuições e por suas propriedades.\n",
    " \n",
    "A função de densidade de probabilidade da distribuição normal é definida por:\n",
    " \n",
    "## <center> $ f(x) = \\frac{(\\exp (\\frac{-(x - \\mu)^2}{2\\sigma})}{\\sqrt(2\\pi \\sigma^2)}$ \n",
    " \n",
    " \n",
    "Onde $\\sigma ^2$ é a variância da distribuição e $\\mu$ é a média. Esses parâmetros são necessários para geração da função. Quando  $\\mu = 0$ e $\\sigma = 1$ a distribuição é dita padrão. \n",
    " \n",
    "A distribuição normal possui algumas propriedades interessantes:\n",
    " \n",
    "* A função de densidade não é integrável analiticamente, por isso sua integral pode ser computada apenas computacionalmente.\n",
    "* Sua forma lembra um sino, por isso às vezes é chamada de \n",
    "* Seu maior valor corresponde a aplicação da função em $x = \\mu$\n",
    "* A função de densidade é simétrica em relação à média e tende a 0, quando x tende à $\\infty$ ou $-\\infty$\n",
    " \n",
    "Seu valor esperado $E(X)$ é a própria média $\\mu$, assim como a variância é definida por $\\sigma$ \n",
    " \n",
    "No exercício abaixo utilize o comando `stats.norm()` para gerar uma distribuição normal padrão.   \n",
    "\n"
   ]
  },
  {
   "cell_type": "code",
   "execution_count": null,
   "metadata": {
    "colab": {},
    "colab_type": "code",
    "id": "xYTg6BVvcnrO"
   },
   "outputs": [],
   "source": [
    "#Exercício 16\n",
    "\n",
    "normal = "
   ]
  },
  {
   "cell_type": "markdown",
   "metadata": {
    "colab_type": "text",
    "id": "_32Fyn-IRfrl"
   },
   "source": [
    "Complete o código abaixo para gerar os gráficos das distribuição."
   ]
  },
  {
   "cell_type": "code",
   "execution_count": null,
   "metadata": {
    "colab": {},
    "colab_type": "code",
    "id": "2ulHXqnMcyeo"
   },
   "outputs": [],
   "source": [
    "#Exercício 17\n",
    "\n",
    "x = np.linspace(-20,20, 500)\n",
    "\n",
    "fig, ax = plt.subplots(figsize=(10,10), nrows=2)\n",
    "\n",
    "ax[0].plot(x, normal.pdf(x))\n",
    "ax[0].set_xlabel('Função densidade de probabilidade')\n",
    "ax[0].set_ylabel('f(x) - Densidade de probabilidade')\n",
    "\n",
    "\n",
    "ax[1].plot( )\n",
    "ax[1].set_xlabel('Função de distribuição de probabilidade acumulada')\n",
    "ax[1].set_ylabel('F(x)')\n",
    "plt.show()"
   ]
  },
  {
   "cell_type": "markdown",
   "metadata": {
    "colab_type": "text",
    "id": "y9cmLuxIbIgp"
   },
   "source": [
    "### 7.2.2 Exponencial\n",
    "\n",
    "A distribuição exponencial é caracterizada apenas pelo $\\lambda$. Ela é comumente utilizada na estimativa do tempo de vida de materiais, tempo de espera em filas, entre outros.  \n",
    " \n",
    "Sua função de densidade de probabilidade é definida por:\n",
    " \n",
    "<center> $ f(X) = \\lambda \\exp^{-\\lambda x}$ para $ x \\geq 0$  </center>\n",
    "<center>  0, para $x < 0$ </center>\n",
    " \n",
    "O valor esperado $E(X)$ é definido por:\n",
    "* $E(X) = \\frac{1}{\\lambda}$\n",
    " \n",
    "E sua variância $Var(X)$ é definida por:\n",
    " \n",
    "* $ Var(X) = \\frac{1}{\\lambda ^2} $\n",
    " \n",
    "No exercício, complete o código abaixo definindo o parâmetro *mu* como 4 e o parâmetro scale com o valor $\\frac{1}{mu}$, esse valor será o parâmetro $\\lambda$ da distribuição exponencial."
   ]
  },
  {
   "cell_type": "code",
   "execution_count": null,
   "metadata": {
    "colab": {},
    "colab_type": "code",
    "id": "tW_VVNKbmnCY"
   },
   "outputs": [],
   "source": [
    "#Exercício 18\n",
    "mu = \n",
    "exp = stats.expon(scale = 1/mu)\n"
   ]
  },
  {
   "cell_type": "markdown",
   "metadata": {
    "colab_type": "text",
    "id": "21H0S3hvTZWt"
   },
   "source": [
    "Complete o código para gerar os gráficos da distribuição exponencial."
   ]
  },
  {
   "cell_type": "code",
   "execution_count": null,
   "metadata": {
    "colab": {},
    "colab_type": "code",
    "id": "rQnJhbPRmvRZ"
   },
   "outputs": [],
   "source": [
    "#Exercício 19\n",
    "x = np.linspace(0, 20, 500)\n",
    "\n",
    "fig, ax = plt.subplots(figsize=(10,10), nrows=2)\n",
    "\n",
    "ax[0].plot(x, normal.pdf(x))\n",
    "ax[0].set_xlabel('Densidade de probabilidade')\n",
    "ax[0].set_ylabel('f(x)')\n",
    "\n",
    "ax[1].plot(x,normal.cdf(x))\n",
    "ax[1].set_xlabel(' Distribuição de probabilidade acumulada')\n",
    "ax[1].set_ylabel('F(x)')\n",
    "\n",
    "\n",
    "plt.show()\n"
   ]
  },
  {
   "cell_type": "markdown",
   "metadata": {
    "colab_type": "text",
    "id": "FzsUEqdTd2hD"
   },
   "source": [
    "# 8 - Propriedades da variáveis aleatorias\n",
    "\n",
    "As variáveis aleatórias possuem algumas propriedades peculiares, por exemplo: dado $n$ variáveis aleatórias $X$ e $Y$ que não seguem uma distribuição normal, a soma dessas variáveis gera uma variável de distribuição aproximadamente normal, além disso a média e variância da nova distribuição são definidas pela soma das médias e variâncias, respectivamente, das variáveis aleatórias com distribuições arbitrárias.\n",
    " \n",
    "Esse resultado pode ser obtido tanto com soma de variáveis de distribuições simétricas quanto com distribuições assimétricas e é chamado de Teorema do limite central. \n",
    " \n",
    "Nos próximos exercícios vamos visualizar na prática esses conceitos. \n"
   ]
  },
  {
   "cell_type": "markdown",
   "metadata": {
    "colab_type": "text",
    "id": "iYNvbSd_d80d"
   },
   "source": [
    "## 8.1 - Soma de variáveis simetricas\n",
    "\n",
    "Neste exercício nós vamos somar 2 variáveis aleatórias seguindo uma distribuição binomial simétricas. Para visualizar a distribuição final iremos utilizar um estimador de função de distribuição conhecido como KDE.\n",
    "\n",
    " O KDE (Kernel Density Estimation) é um método a-paramétrico capaz de fornecer uma estimativa completa da função distribuição/densidade de probabilidade, incluindo as funções de densidade e acumulada.  Neste caso nós iremos apenas fazer utilizar o método de plot KDE do pandas apenas para estimar a função de distribuição visualmente.\n",
    "\n",
    " No exercício abaixo, modifique a expressão definida em rvGenérica para acrescentar à soma mais variáveis aleatória. Observe o que acontece com a função de densidade estimada quando você soma mais variáveis.\n",
    "\n",
    "\n",
    "\n",
    "\n"
   ]
  },
  {
   "cell_type": "code",
   "execution_count": null,
   "metadata": {
    "colab": {},
    "colab_type": "code",
    "id": "IOdraLsfwn9T"
   },
   "outputs": [],
   "source": [
    "#Exercício 20\n",
    "\n",
    "binomial = stats.binom(n = 100, p =0.5)\n",
    "rv_binomial = binomial.rvs(size=1000)\n",
    "\n",
    "rvGenerica = rv_binomial + rv_binomial \n",
    "rvGenericaSeries = pd.Series(rvGenerica)\n",
    "\n",
    "rvGenericaSeries.plot.kde()\n",
    "\n"
   ]
  },
  {
   "cell_type": "markdown",
   "metadata": {
    "colab_type": "text",
    "id": "L21Apj8m5-lm"
   },
   "source": [
    "## 8.2 - Soma de variáveis assimétricas\n",
    "\n",
    "No próximo exercício, vamos somar duas variáveis aleatórias assimétricas que seguem a distribuição exponencial com parâmetro $\\lambda = 0.25$. \n",
    " \n",
    "Modifique a expressão de rvGenerica para acrescentar a soma mais variáveis e visualizar o efeito desta alteração na forma da função de densidade resultante.\n",
    "\n"
   ]
  },
  {
   "cell_type": "code",
   "execution_count": null,
   "metadata": {
    "colab": {},
    "colab_type": "code",
    "id": "L1WfF2Px1P-O"
   },
   "outputs": [],
   "source": [
    "#Exercício 21\n",
    "\n",
    "mu = 4\n",
    "exp = stats.expon(scale = 1/mu)\n",
    "rv_exp = exp.rvs(size=1000)\n",
    "\n",
    "mu1 = 2\n",
    "exp_1 = stats.expon(scale = 1/mu1)\n",
    "rv_exp_1 = exp_1.rvs(size=1000)\n",
    "\n",
    "rvGenerica =  rv_exp + rv_exp_1  + rv_exp \n",
    "rvGenericaSeries = pd.Series(rvGenerica)\n",
    "\n",
    "rvGenericaSeries.plot.kde()\n"
   ]
  },
  {
   "cell_type": "markdown",
   "metadata": {
    "colab_type": "text",
    "id": "N4JfK_dpd-ky"
   },
   "source": [
    "# 9 - Geração de função de probabilidade de dados contínuos reais utilizando  KDE (função aproximada)\n",
    "\n",
    " \n",
    "Na vida real nem sempre temos as funções de probabilidade ao nosso dispor, geralmente temos apenas a amostra de dados. Muitas vezes não fazemos ideia de que distribuição que esse conjunto de dados segue, tornando difícil a análise dos dados.\n",
    " \n",
    "Uma maneira de ter uma ideia da distribuição dos dados é plotando um histograma, contudo o histograma nos fornece apenas uma visualização. Não é possível calcular a probabilidade de um evento com ele.\n",
    " \n",
    "Uma maneira de driblar essa situação é criando uma estimativa da função de distribuição de probabilidade utilizando o método KDE. O KDE utiliza distribuições normais para estimar estimar a função de densidade. \n",
    " \n",
    "No exercício abaixo nós vamos utilizar novamente a base de dados do [IMBD](https://drive.google.com/file/d/1IaMRQhe-5w9xo-RG3pb_AVZ4OziEkUlL/view?usp=sharing) para gerar a função de distribuição probabilidade estimada da variável ***Rating***. \n",
    " \n",
    "Faça o upload do csv para colab e complete o código passando a variável Rating como parâmetro do método `kde.gaussian_kde`.\n"
   ]
  },
  {
   "cell_type": "code",
   "execution_count": null,
   "metadata": {
    "colab": {},
    "colab_type": "code",
    "id": "xYSpXjeq9Kjs"
   },
   "outputs": [],
   "source": [
    "#Exercício 22\n",
    "\n",
    "imdbDF = pd.read_csv(\"imdb.csv\", index_col=0)\n",
    "imdbDF.dropna(inplace=True)\n",
    "\n",
    "rating = imdbDF['Rating']\n",
    "\n",
    "fdp = stats.kde.gaussian_kde( )\n"
   ]
  },
  {
   "cell_type": "markdown",
   "metadata": {
    "colab_type": "text",
    "id": "KlJk6ISZDgSf"
   },
   "source": [
    "Agora que você criou uma função de distribuição estimada, é possível definir a probabilidade estimada de $X  =x $.\n",
    "\n",
    "No exercício abaixo calcule a probabilidade da nota ser 7.5. \n"
   ]
  },
  {
   "cell_type": "code",
   "execution_count": null,
   "metadata": {
    "colab": {},
    "colab_type": "code",
    "id": "6uij9qsXDfeZ"
   },
   "outputs": [],
   "source": [
    "##Exercício 23\n",
    "\n",
    "p75 = \n",
    "\n",
    "print(\"A probablidade da nota ser 7.5 é: \", p75[0])\n",
    "\n",
    "#Para calcular P(X<= x ), você pode integrar a PDF.\n",
    "pMenor7 = fdp.integrate_box_1d(-np.inf, 7)\n",
    "\n",
    "print(\"A probablidade da nota ser <= 7 é: \", pMenor7)\n"
   ]
  }
 ],
 "metadata": {
  "colab": {
   "authorship_tag": "ABX9TyO/2/Q0UNjQsya34qndfXqf",
   "collapsed_sections": [],
   "name": "roteiro_de_atividades_4.ipynb",
   "provenance": [
    {
     "file_id": "1WGNfsrOqa-FnKatuC-oa259miEyJ63vj",
     "timestamp": 1594611193083
    }
   ],
   "toc_visible": true
  },
  "kernelspec": {
   "display_name": "Python 3",
   "language": "python",
   "name": "python3"
  },
  "language_info": {
   "codemirror_mode": {
    "name": "ipython",
    "version": 3
   },
   "file_extension": ".py",
   "mimetype": "text/x-python",
   "name": "python",
   "nbconvert_exporter": "python",
   "pygments_lexer": "ipython3",
   "version": "3.8.3"
  }
 },
 "nbformat": 4,
 "nbformat_minor": 1
}
