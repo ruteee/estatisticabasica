{
 "cells": [
  {
   "cell_type": "markdown",
   "metadata": {
    "colab_type": "text",
    "id": "liR-koIl5anV"
   },
   "source": [
    "## Roteiro 1 - Tipos de dados/Introdução à Análise Descritiva/ Tabelas e Gráficos (1ª semana)\n",
    "\n"
   ]
  },
  {
   "cell_type": "markdown",
   "metadata": {
    "colab_type": "text",
    "id": "t1GuOIi3Vr3w"
   },
   "source": [
    "Observação: Vocês deverão fazer uma cópia deste notebook e editar seu próŕio arquivo"
   ]
  },
  {
   "cell_type": "markdown",
   "metadata": {
    "colab_type": "text",
    "id": "i1BBTqXC6zmX"
   },
   "source": [
    "## Objetivo\n",
    "\n",
    "Trabalhar com a base de dados PolliceKillingUS com ajuda da ferramenta Google Colab e utilização da linguagem de programação Python, de maneira a fixar os Seguintes conteúdos: \n",
    "*   Tipos de dados\n",
    "*   Introdução à análise descritiva\n",
    "*   Tabelas e gráficos"
   ]
  },
  {
   "cell_type": "markdown",
   "metadata": {
    "colab_type": "text",
    "id": "CbDlEMQO-aQ_"
   },
   "source": [
    "# 1- Obtendo a base dados\n",
    "\n",
    "\n",
    "Para obter a base de desse roteiro iremos utilizar o Kaggle. O Kaggle é uma plataforma onde empresas e pessoas físicas postam bases de dados e criam competições de aprendizado de máquina, *deep learning* e análise de dados. No nosso caso, você não irá entrar em nenhuma competição, apenas fazer o *download* da base de dados. \n",
    "\n",
    "Para isso, vá até o endereço  https://www.kaggle.com . Se você não possui uma conta terá que criar, então escolha uma das opções cadastro e faça *login* em seguida. \n",
    "\n",
    "Agora que você entrou na plataforma, digite: Fatal Police Shootings in the US no campo \"search\", escolha o primeiro *dataset* by Karolina Wullum. Clique na opção \"download\", isso deverá baixar para o seu computador um arquivo chamado \"2647_4395_bundle_archive\", você deve então descompactá-lo.\n",
    "\n"
   ]
  },
  {
   "cell_type": "markdown",
   "metadata": {
    "colab_type": "text",
    "id": "9lKM6z95EJZO"
   },
   "source": [
    "## 1.1 - Subindo a base de dados para o Colab\n",
    "\n",
    "Para subir a nossa base de dados para o Colab, você deve clicar no icone com formato de pasta (files) no menu lateral esquerdo e seguida na opção *upload*. \n",
    "Após isto, navegue até a base de dados descompactada e escolha o arquivo **PolliceKillingUs.csv**.\n",
    "\n",
    "\n",
    "\n",
    "\n"
   ]
  },
  {
   "cell_type": "markdown",
   "metadata": {
    "colab_type": "text",
    "id": "2wHw2C1Dr8zq"
   },
   "source": [
    "# 2 - Leitura dos dados\n",
    "\n",
    "Para ler nosso arquivo csv no python, vamos fazer a inclusão da biblioteca pandas, utilizar o comando:\n",
    " `read.csv(\"nomeDoSeuArquivo,csv\", encoding= 'unicode_escape', index_col=0)` e armazenar o resultado em uma variável, que representará o seu *dataset*.  A biblioteca chama essa representação virtual de *DataFrame*. \n",
    "\n",
    " Execute o código da célula abaixo para realizar estes passos.\n",
    " \n",
    "\n"
   ]
  },
  {
   "cell_type": "code",
   "execution_count": 3,
   "metadata": {
    "colab": {},
    "colab_type": "code",
    "executionInfo": {
     "elapsed": 2842,
     "status": "ok",
     "timestamp": 1593726709259,
     "user": {
      "displayName": "Rute Abreu",
      "photoUrl": "https://lh3.googleusercontent.com/a-/AOh14GiUpD-uropAPP9cuQxhGaGef5gUpubY536n0IPT=s64",
      "userId": "06754473900038904498"
     },
     "user_tz": 180
    },
    "id": "yxOxmTdqvAND"
   },
   "outputs": [],
   "source": [
    "import pandas as pd\n",
    "\n",
    "policeKillingDF = pd.read_csv(\"PoliceKillingsUS.csv\", encoding= 'unicode_escape', )\n"
   ]
  },
  {
   "cell_type": "markdown",
   "metadata": {
    "colab_type": "text",
    "id": "7zx4oyxcwlRn"
   },
   "source": [
    "Dê uma olhada nos dados utilizando o comando ```seuDataset.head()```\n",
    "\n",
    "*substitua o termo \"seuDataset\" pelo nome da sua variavel."
   ]
  },
  {
   "cell_type": "code",
   "execution_count": 4,
   "metadata": {
    "colab": {
     "base_uri": "https://localhost:8080/",
     "height": 204
    },
    "colab_type": "code",
    "executionInfo": {
     "elapsed": 3376,
     "status": "ok",
     "timestamp": 1593726709822,
     "user": {
      "displayName": "Rute Abreu",
      "photoUrl": "https://lh3.googleusercontent.com/a-/AOh14GiUpD-uropAPP9cuQxhGaGef5gUpubY536n0IPT=s64",
      "userId": "06754473900038904498"
     },
     "user_tz": 180
    },
    "id": "iHRtBapBwk7g",
    "outputId": "dab2b562-592c-47c4-c354-4dd36e1dd1c6"
   },
   "outputs": [
    {
     "data": {
      "text/html": [
       "<div>\n",
       "<style scoped>\n",
       "    .dataframe tbody tr th:only-of-type {\n",
       "        vertical-align: middle;\n",
       "    }\n",
       "\n",
       "    .dataframe tbody tr th {\n",
       "        vertical-align: top;\n",
       "    }\n",
       "\n",
       "    .dataframe thead th {\n",
       "        text-align: right;\n",
       "    }\n",
       "</style>\n",
       "<table border=\"1\" class=\"dataframe\">\n",
       "  <thead>\n",
       "    <tr style=\"text-align: right;\">\n",
       "      <th></th>\n",
       "      <th>id</th>\n",
       "      <th>name</th>\n",
       "      <th>date</th>\n",
       "      <th>manner_of_death</th>\n",
       "      <th>armed</th>\n",
       "      <th>age</th>\n",
       "      <th>gender</th>\n",
       "      <th>race</th>\n",
       "      <th>city</th>\n",
       "      <th>state</th>\n",
       "      <th>signs_of_mental_illness</th>\n",
       "      <th>threat_level</th>\n",
       "      <th>flee</th>\n",
       "      <th>body_camera</th>\n",
       "    </tr>\n",
       "  </thead>\n",
       "  <tbody>\n",
       "    <tr>\n",
       "      <th>0</th>\n",
       "      <td>3</td>\n",
       "      <td>Tim Elliot</td>\n",
       "      <td>02/01/15</td>\n",
       "      <td>shot</td>\n",
       "      <td>gun</td>\n",
       "      <td>53.0</td>\n",
       "      <td>M</td>\n",
       "      <td>A</td>\n",
       "      <td>Shelton</td>\n",
       "      <td>WA</td>\n",
       "      <td>True</td>\n",
       "      <td>attack</td>\n",
       "      <td>Not fleeing</td>\n",
       "      <td>False</td>\n",
       "    </tr>\n",
       "    <tr>\n",
       "      <th>1</th>\n",
       "      <td>4</td>\n",
       "      <td>Lewis Lee Lembke</td>\n",
       "      <td>02/01/15</td>\n",
       "      <td>shot</td>\n",
       "      <td>gun</td>\n",
       "      <td>47.0</td>\n",
       "      <td>M</td>\n",
       "      <td>W</td>\n",
       "      <td>Aloha</td>\n",
       "      <td>OR</td>\n",
       "      <td>False</td>\n",
       "      <td>attack</td>\n",
       "      <td>Not fleeing</td>\n",
       "      <td>False</td>\n",
       "    </tr>\n",
       "    <tr>\n",
       "      <th>2</th>\n",
       "      <td>5</td>\n",
       "      <td>John Paul Quintero</td>\n",
       "      <td>03/01/15</td>\n",
       "      <td>shot and Tasered</td>\n",
       "      <td>unarmed</td>\n",
       "      <td>23.0</td>\n",
       "      <td>M</td>\n",
       "      <td>H</td>\n",
       "      <td>Wichita</td>\n",
       "      <td>KS</td>\n",
       "      <td>False</td>\n",
       "      <td>other</td>\n",
       "      <td>Not fleeing</td>\n",
       "      <td>False</td>\n",
       "    </tr>\n",
       "    <tr>\n",
       "      <th>3</th>\n",
       "      <td>8</td>\n",
       "      <td>Matthew Hoffman</td>\n",
       "      <td>04/01/15</td>\n",
       "      <td>shot</td>\n",
       "      <td>toy weapon</td>\n",
       "      <td>32.0</td>\n",
       "      <td>M</td>\n",
       "      <td>W</td>\n",
       "      <td>San Francisco</td>\n",
       "      <td>CA</td>\n",
       "      <td>True</td>\n",
       "      <td>attack</td>\n",
       "      <td>Not fleeing</td>\n",
       "      <td>False</td>\n",
       "    </tr>\n",
       "    <tr>\n",
       "      <th>4</th>\n",
       "      <td>9</td>\n",
       "      <td>Michael Rodriguez</td>\n",
       "      <td>04/01/15</td>\n",
       "      <td>shot</td>\n",
       "      <td>nail gun</td>\n",
       "      <td>39.0</td>\n",
       "      <td>M</td>\n",
       "      <td>H</td>\n",
       "      <td>Evans</td>\n",
       "      <td>CO</td>\n",
       "      <td>False</td>\n",
       "      <td>attack</td>\n",
       "      <td>Not fleeing</td>\n",
       "      <td>False</td>\n",
       "    </tr>\n",
       "  </tbody>\n",
       "</table>\n",
       "</div>"
      ],
      "text/plain": [
       "   id                name      date  ... threat_level         flee  body_camera\n",
       "0   3          Tim Elliot  02/01/15  ...       attack  Not fleeing        False\n",
       "1   4    Lewis Lee Lembke  02/01/15  ...       attack  Not fleeing        False\n",
       "2   5  John Paul Quintero  03/01/15  ...        other  Not fleeing        False\n",
       "3   8     Matthew Hoffman  04/01/15  ...       attack  Not fleeing        False\n",
       "4   9   Michael Rodriguez  04/01/15  ...       attack  Not fleeing        False\n",
       "\n",
       "[5 rows x 14 columns]"
      ]
     },
     "execution_count": 4,
     "metadata": {
      "tags": []
     },
     "output_type": "execute_result"
    }
   ],
   "source": [
    "#Exercício 1\n",
    "policeKillingDF.head()"
   ]
  },
  {
   "cell_type": "markdown",
   "metadata": {
    "colab_type": "text",
    "id": "Q9bxDKmumJdU"
   },
   "source": [
    "# 3 - Descrição do dataset\n",
    "\n",
    "Este dataset trata de mortes de civís executadas por policíais nos Estados Unidos. Se trata de uma base de dados construída pelo Wahsington Post entre os meses de Janeiro de 2015 à dezembro de 2017. \n",
    "\n",
    "Essa base começou a ser  montada após o assassinato de Michael Brown na cidade de Ferguson, estado do Missouri, evento que deu inicio ao movimento Black Lives Matter. \n",
    "\n",
    "Você pode ver uma breve descrição de cada coluna na lista abaixo:\n",
    "\n",
    "* name - O nome da pessoa assassinada\n",
    "* date - A data do acontecimento\n",
    "* manner_of_death - A maneira pela qual o assassinato se deu.\n",
    "* armed - O tipo de arma utilizada pelo civíl.\n",
    "* age - A idade da civíl\n",
    "* gender - O gênero biológico.\n",
    "* race - A raça\n",
    "* city - A cidade onde aconteceu o evento\n",
    "* state - O estado onde aconteceu o evento\n",
    "* signs_of_mental_illness - Se a vítima estava passando por alguma crise de saúde mental\n",
    "* threat_level - O nível de ameaça que individuo apresentava\n",
    "* flee - Se a pessoa estava em fuga\n",
    "* body_camera - Se a pessoa usava alguma camera.\n",
    "\n",
    "\n"
   ]
  },
  {
   "cell_type": "markdown",
   "metadata": {
    "colab_type": "text",
    "id": "cVJ1HOrXyp0I"
   },
   "source": [
    "Agora observe mais algumas informações do *dataset* utilizando o comando `seuDataset.info()`"
   ]
  },
  {
   "cell_type": "code",
   "execution_count": 5,
   "metadata": {
    "colab": {
     "base_uri": "https://localhost:8080/",
     "height": 374
    },
    "colab_type": "code",
    "executionInfo": {
     "elapsed": 3362,
     "status": "ok",
     "timestamp": 1593726709833,
     "user": {
      "displayName": "Rute Abreu",
      "photoUrl": "https://lh3.googleusercontent.com/a-/AOh14GiUpD-uropAPP9cuQxhGaGef5gUpubY536n0IPT=s64",
      "userId": "06754473900038904498"
     },
     "user_tz": 180
    },
    "id": "y79FQEIoyYFT",
    "outputId": "21777abb-484b-4929-f413-ed2e801d58c5"
   },
   "outputs": [
    {
     "name": "stdout",
     "output_type": "stream",
     "text": [
      "<class 'pandas.core.frame.DataFrame'>\n",
      "RangeIndex: 2535 entries, 0 to 2534\n",
      "Data columns (total 14 columns):\n",
      " #   Column                   Non-Null Count  Dtype  \n",
      "---  ------                   --------------  -----  \n",
      " 0   id                       2535 non-null   int64  \n",
      " 1   name                     2535 non-null   object \n",
      " 2   date                     2535 non-null   object \n",
      " 3   manner_of_death          2535 non-null   object \n",
      " 4   armed                    2526 non-null   object \n",
      " 5   age                      2458 non-null   float64\n",
      " 6   gender                   2535 non-null   object \n",
      " 7   race                     2340 non-null   object \n",
      " 8   city                     2535 non-null   object \n",
      " 9   state                    2535 non-null   object \n",
      " 10  signs_of_mental_illness  2535 non-null   bool   \n",
      " 11  threat_level             2535 non-null   object \n",
      " 12  flee                     2470 non-null   object \n",
      " 13  body_camera              2535 non-null   bool   \n",
      "dtypes: bool(2), float64(1), int64(1), object(10)\n",
      "memory usage: 242.7+ KB\n"
     ]
    }
   ],
   "source": [
    "#Exercício 2\n",
    "policeKillingDF.info()"
   ]
  },
  {
   "cell_type": "markdown",
   "metadata": {
    "colab_type": "text",
    "id": "DHk2sU2U0BQ4"
   },
   "source": [
    " # 4. Tratamento os dados\n",
    "Como você viu, temos um conjunto de dados, ou *dataset* com 2535 linhas e 13 colunas. Nessa *dataset* podemos dizer que cada linha representa uma unidade amostral e cada coluna representa uma variável. Desse modo possuímos uma amostra de tamanho 2535 com 13 variáveis observadas.\n",
    "\n",
    "\n",
    "Perceba que as colunas **armed, age, race** e **flee** possuem respectivamente 9, 78, 195 e 65 valores nulos. Isso significa que estes dados estão faltando na nossa tabela e dessa forma ficamos impossibilitados de fazer uma análise correta. Precisamos tratar estes dados. \n",
    "\n",
    "Na coluna **armed** esse valores representam 0.35% dos valores totais, na **age** 3.07%, na **race** 7,69% e na **flee**  2.54%. A literatura propõe algumas técnicas disponíveis para substituír esses dados. Por exemplo, para dados contínuos podemos subistituir utilizando a média dos demais, já para categoricos (por exemplo genero, estado, raça) uma possibilidade pode ser a substituição do dado faltante pela categoria mais frequente na variável.\n",
    "\n",
    "Contudo, felizmente, nossos dados faltantes não representam uma porcentagem significativa no total de linhas disponíveis, isto é, representam menos que 70% dos dados, por isso iremos utilizar a estratégia  mais simples e radical: vamos excluí-los da tabela. \n",
    "\n",
    "Para isso executem o comando: `seuDataset.dropna(inplace=True)`\n",
    "\n"
   ]
  },
  {
   "cell_type": "code",
   "execution_count": 6,
   "metadata": {
    "colab": {},
    "colab_type": "code",
    "executionInfo": {
     "elapsed": 3645,
     "status": "ok",
     "timestamp": 1593726710152,
     "user": {
      "displayName": "Rute Abreu",
      "photoUrl": "https://lh3.googleusercontent.com/a-/AOh14GiUpD-uropAPP9cuQxhGaGef5gUpubY536n0IPT=s64",
      "userId": "06754473900038904498"
     },
     "user_tz": 180
    },
    "id": "tyThHObD38o1"
   },
   "outputs": [],
   "source": [
    "#Exercicío 3\n",
    "\n",
    "policeKillingDF.dropna(inplace=True)"
   ]
  },
  {
   "cell_type": "markdown",
   "metadata": {
    "colab_type": "text",
    "id": "CdwwkMatBU3D"
   },
   "source": [
    "Execute novamente o comando `seuDataset.info()`\n",
    "\n",
    "\n"
   ]
  },
  {
   "cell_type": "code",
   "execution_count": 7,
   "metadata": {
    "colab": {
     "base_uri": "https://localhost:8080/",
     "height": 374
    },
    "colab_type": "code",
    "executionInfo": {
     "elapsed": 3633,
     "status": "ok",
     "timestamp": 1593726710158,
     "user": {
      "displayName": "Rute Abreu",
      "photoUrl": "https://lh3.googleusercontent.com/a-/AOh14GiUpD-uropAPP9cuQxhGaGef5gUpubY536n0IPT=s64",
      "userId": "06754473900038904498"
     },
     "user_tz": 180
    },
    "id": "0CZSDhTYBiSg",
    "outputId": "63fd2931-396a-4cc4-e279-bfcec603ba8b"
   },
   "outputs": [
    {
     "name": "stdout",
     "output_type": "stream",
     "text": [
      "<class 'pandas.core.frame.DataFrame'>\n",
      "Int64Index: 2254 entries, 0 to 2534\n",
      "Data columns (total 14 columns):\n",
      " #   Column                   Non-Null Count  Dtype  \n",
      "---  ------                   --------------  -----  \n",
      " 0   id                       2254 non-null   int64  \n",
      " 1   name                     2254 non-null   object \n",
      " 2   date                     2254 non-null   object \n",
      " 3   manner_of_death          2254 non-null   object \n",
      " 4   armed                    2254 non-null   object \n",
      " 5   age                      2254 non-null   float64\n",
      " 6   gender                   2254 non-null   object \n",
      " 7   race                     2254 non-null   object \n",
      " 8   city                     2254 non-null   object \n",
      " 9   state                    2254 non-null   object \n",
      " 10  signs_of_mental_illness  2254 non-null   bool   \n",
      " 11  threat_level             2254 non-null   object \n",
      " 12  flee                     2254 non-null   object \n",
      " 13  body_camera              2254 non-null   bool   \n",
      "dtypes: bool(2), float64(1), int64(1), object(10)\n",
      "memory usage: 233.3+ KB\n"
     ]
    }
   ],
   "source": [
    "#Execício 4\n",
    "\n",
    "policeKillingDF.info()"
   ]
  },
  {
   "cell_type": "markdown",
   "metadata": {
    "colab_type": "text",
    "id": "_MapEwDHBxWo"
   },
   "source": [
    "Reparem que agora temos 2254 linhas, isto acontece porque este comando exclui qualquer linha cujo alguma coluna possua valores nulos."
   ]
  },
  {
   "cell_type": "markdown",
   "metadata": {
    "colab_type": "text",
    "id": "LK-SxkEYJmbp"
   },
   "source": [
    "À essa altura você deve ter percebido que nem todas as colunas estão no formato em que deveriam estar. Por exemplo, a variável **age**, que representa idade parecec estar no formato de dados contínuo, sabemos que idade é um atributo discreto (tipo inteiro) por isso vamos converter esse coluna  para o formato **int**, que representa o formato dos números inteiros em python.\n",
    "\n",
    "Além disso a variável **date** parece estar em formato de texto. Apesar de não estar \"errado\" representar datas dessa forma, existe um tipo próprio para este tipo de variável no python, o tipo **datetime**, convertê-la para esse tipo irá facilitar bastante sua manipulação quando necessário.\n",
    "\n",
    "Na célula abaixo, mostramos como executar essas duas tansformações\n",
    "\n"
   ]
  },
  {
   "cell_type": "code",
   "execution_count": 8,
   "metadata": {
    "colab": {},
    "colab_type": "code",
    "executionInfo": {
     "elapsed": 3622,
     "status": "ok",
     "timestamp": 1593726710162,
     "user": {
      "displayName": "Rute Abreu",
      "photoUrl": "https://lh3.googleusercontent.com/a-/AOh14GiUpD-uropAPP9cuQxhGaGef5gUpubY536n0IPT=s64",
      "userId": "06754473900038904498"
     },
     "user_tz": 180
    },
    "id": "rHt6n1HrLRja"
   },
   "outputs": [],
   "source": [
    "#Corrigindo os formatos das variáveis e substituindo no dataset\n",
    "\n",
    "age_int = (policeKillingDF['age'].copy()).astype(int)\n",
    "policeKillingDF.loc[:,'age'] = age_int\n",
    "\n",
    "\n",
    "date_datetime = pd.to_datetime(policeKillingDF['date'].copy())\n",
    "policeKillingDF.loc[:,'date'] = date_datetime\n"
   ]
  },
  {
   "cell_type": "markdown",
   "metadata": {
    "colab_type": "text",
    "id": "Vp7-UvofMz0Q"
   },
   "source": [
    "Execute novamente o comando `.head()` no seu dataframe e perceba que agora as váriaveis estão nos tipos que definimos.\n"
   ]
  },
  {
   "cell_type": "code",
   "execution_count": 9,
   "metadata": {
    "colab": {
     "base_uri": "https://localhost:8080/",
     "height": 204
    },
    "colab_type": "code",
    "executionInfo": {
     "elapsed": 3610,
     "status": "ok",
     "timestamp": 1593726710164,
     "user": {
      "displayName": "Rute Abreu",
      "photoUrl": "https://lh3.googleusercontent.com/a-/AOh14GiUpD-uropAPP9cuQxhGaGef5gUpubY536n0IPT=s64",
      "userId": "06754473900038904498"
     },
     "user_tz": 180
    },
    "id": "FmzijVXANIoS",
    "outputId": "36f6b6ab-65c5-443d-839e-9650ece0a9c9"
   },
   "outputs": [
    {
     "data": {
      "text/html": [
       "<div>\n",
       "<style scoped>\n",
       "    .dataframe tbody tr th:only-of-type {\n",
       "        vertical-align: middle;\n",
       "    }\n",
       "\n",
       "    .dataframe tbody tr th {\n",
       "        vertical-align: top;\n",
       "    }\n",
       "\n",
       "    .dataframe thead th {\n",
       "        text-align: right;\n",
       "    }\n",
       "</style>\n",
       "<table border=\"1\" class=\"dataframe\">\n",
       "  <thead>\n",
       "    <tr style=\"text-align: right;\">\n",
       "      <th></th>\n",
       "      <th>id</th>\n",
       "      <th>name</th>\n",
       "      <th>date</th>\n",
       "      <th>manner_of_death</th>\n",
       "      <th>armed</th>\n",
       "      <th>age</th>\n",
       "      <th>gender</th>\n",
       "      <th>race</th>\n",
       "      <th>city</th>\n",
       "      <th>state</th>\n",
       "      <th>signs_of_mental_illness</th>\n",
       "      <th>threat_level</th>\n",
       "      <th>flee</th>\n",
       "      <th>body_camera</th>\n",
       "    </tr>\n",
       "  </thead>\n",
       "  <tbody>\n",
       "    <tr>\n",
       "      <th>0</th>\n",
       "      <td>3</td>\n",
       "      <td>Tim Elliot</td>\n",
       "      <td>2015-02-01</td>\n",
       "      <td>shot</td>\n",
       "      <td>gun</td>\n",
       "      <td>53</td>\n",
       "      <td>M</td>\n",
       "      <td>A</td>\n",
       "      <td>Shelton</td>\n",
       "      <td>WA</td>\n",
       "      <td>True</td>\n",
       "      <td>attack</td>\n",
       "      <td>Not fleeing</td>\n",
       "      <td>False</td>\n",
       "    </tr>\n",
       "    <tr>\n",
       "      <th>1</th>\n",
       "      <td>4</td>\n",
       "      <td>Lewis Lee Lembke</td>\n",
       "      <td>2015-02-01</td>\n",
       "      <td>shot</td>\n",
       "      <td>gun</td>\n",
       "      <td>47</td>\n",
       "      <td>M</td>\n",
       "      <td>W</td>\n",
       "      <td>Aloha</td>\n",
       "      <td>OR</td>\n",
       "      <td>False</td>\n",
       "      <td>attack</td>\n",
       "      <td>Not fleeing</td>\n",
       "      <td>False</td>\n",
       "    </tr>\n",
       "    <tr>\n",
       "      <th>2</th>\n",
       "      <td>5</td>\n",
       "      <td>John Paul Quintero</td>\n",
       "      <td>2015-03-01</td>\n",
       "      <td>shot and Tasered</td>\n",
       "      <td>unarmed</td>\n",
       "      <td>23</td>\n",
       "      <td>M</td>\n",
       "      <td>H</td>\n",
       "      <td>Wichita</td>\n",
       "      <td>KS</td>\n",
       "      <td>False</td>\n",
       "      <td>other</td>\n",
       "      <td>Not fleeing</td>\n",
       "      <td>False</td>\n",
       "    </tr>\n",
       "    <tr>\n",
       "      <th>3</th>\n",
       "      <td>8</td>\n",
       "      <td>Matthew Hoffman</td>\n",
       "      <td>2015-04-01</td>\n",
       "      <td>shot</td>\n",
       "      <td>toy weapon</td>\n",
       "      <td>32</td>\n",
       "      <td>M</td>\n",
       "      <td>W</td>\n",
       "      <td>San Francisco</td>\n",
       "      <td>CA</td>\n",
       "      <td>True</td>\n",
       "      <td>attack</td>\n",
       "      <td>Not fleeing</td>\n",
       "      <td>False</td>\n",
       "    </tr>\n",
       "    <tr>\n",
       "      <th>4</th>\n",
       "      <td>9</td>\n",
       "      <td>Michael Rodriguez</td>\n",
       "      <td>2015-04-01</td>\n",
       "      <td>shot</td>\n",
       "      <td>nail gun</td>\n",
       "      <td>39</td>\n",
       "      <td>M</td>\n",
       "      <td>H</td>\n",
       "      <td>Evans</td>\n",
       "      <td>CO</td>\n",
       "      <td>False</td>\n",
       "      <td>attack</td>\n",
       "      <td>Not fleeing</td>\n",
       "      <td>False</td>\n",
       "    </tr>\n",
       "  </tbody>\n",
       "</table>\n",
       "</div>"
      ],
      "text/plain": [
       "   id                name       date  ... threat_level         flee  body_camera\n",
       "0   3          Tim Elliot 2015-02-01  ...       attack  Not fleeing        False\n",
       "1   4    Lewis Lee Lembke 2015-02-01  ...       attack  Not fleeing        False\n",
       "2   5  John Paul Quintero 2015-03-01  ...        other  Not fleeing        False\n",
       "3   8     Matthew Hoffman 2015-04-01  ...       attack  Not fleeing        False\n",
       "4   9   Michael Rodriguez 2015-04-01  ...       attack  Not fleeing        False\n",
       "\n",
       "[5 rows x 14 columns]"
      ]
     },
     "execution_count": 9,
     "metadata": {
      "tags": []
     },
     "output_type": "execute_result"
    }
   ],
   "source": [
    "#Exercício 5\n",
    "\n",
    "policeKillingDF.head()"
   ]
  },
  {
   "cell_type": "markdown",
   "metadata": {
    "colab_type": "text",
    "id": "OFANK-9QuDYe"
   },
   "source": [
    "Apenas por questões visuais vamos  subsitutir as siglas de cada estado americano na coluna *state* pelo nome do estado por extenso. Execute o código abaixo para modificar a coluna e observe o resultado."
   ]
  },
  {
   "cell_type": "code",
   "execution_count": 10,
   "metadata": {
    "colab": {
     "base_uri": "https://localhost:8080/",
     "height": 459
    },
    "colab_type": "code",
    "executionInfo": {
     "elapsed": 12269,
     "status": "ok",
     "timestamp": 1593726718855,
     "user": {
      "displayName": "Rute Abreu",
      "photoUrl": "https://lh3.googleusercontent.com/a-/AOh14GiUpD-uropAPP9cuQxhGaGef5gUpubY536n0IPT=s64",
      "userId": "06754473900038904498"
     },
     "user_tz": 180
    },
    "id": "_t5-9LVtrAfI",
    "outputId": "60d7c9b2-31c7-4913-d399-b1075dd5477c"
   },
   "outputs": [
    {
     "name": "stdout",
     "output_type": "stream",
     "text": [
      "Collecting us\n",
      "  Downloading https://files.pythonhosted.org/packages/88/04/04323aefa1871de30286d3decae7706481c73bd428cf0c08e158bfa259a6/us-2.0.2.tar.gz\n",
      "Collecting jellyfish==0.6.1\n",
      "\u001b[?25l  Downloading https://files.pythonhosted.org/packages/61/3f/60ac86fb43dfbf976768e80674b5538e535f6eca5aa7806cf2fdfd63550f/jellyfish-0.6.1.tar.gz (132kB)\n",
      "\u001b[K     |████████████████████████████████| 133kB 4.1MB/s \n",
      "\u001b[?25hBuilding wheels for collected packages: us, jellyfish\n",
      "  Building wheel for us (setup.py) ... \u001b[?25l\u001b[?25hdone\n",
      "  Created wheel for us: filename=us-2.0.2-cp36-none-any.whl size=11927 sha256=1d86578169e9af0f41227b897ffe880e82a0a2d430e43379efebb74445e99580\n",
      "  Stored in directory: /root/.cache/pip/wheels/e2/16/45/6453383ffa495670f0f6b80a3e697a9771d98cfbaf8b451e73\n",
      "  Building wheel for jellyfish (setup.py) ... \u001b[?25l\u001b[?25hdone\n",
      "  Created wheel for jellyfish: filename=jellyfish-0.6.1-cp36-cp36m-linux_x86_64.whl size=74744 sha256=e709994aac55fdb43245aad054daffd6a136eaf636ac692439890ad3d921795b\n",
      "  Stored in directory: /root/.cache/pip/wheels/9c/6f/33/92bb9a4b4562a60ba6a80cedbab8907e48bc7a8b1f369ea0ae\n",
      "Successfully built us jellyfish\n",
      "Installing collected packages: jellyfish, us\n",
      "Successfully installed jellyfish-0.6.1 us-2.0.2\n"
     ]
    },
    {
     "data": {
      "text/html": [
       "<div>\n",
       "<style scoped>\n",
       "    .dataframe tbody tr th:only-of-type {\n",
       "        vertical-align: middle;\n",
       "    }\n",
       "\n",
       "    .dataframe tbody tr th {\n",
       "        vertical-align: top;\n",
       "    }\n",
       "\n",
       "    .dataframe thead th {\n",
       "        text-align: right;\n",
       "    }\n",
       "</style>\n",
       "<table border=\"1\" class=\"dataframe\">\n",
       "  <thead>\n",
       "    <tr style=\"text-align: right;\">\n",
       "      <th></th>\n",
       "      <th>id</th>\n",
       "      <th>name</th>\n",
       "      <th>date</th>\n",
       "      <th>manner_of_death</th>\n",
       "      <th>armed</th>\n",
       "      <th>age</th>\n",
       "      <th>gender</th>\n",
       "      <th>race</th>\n",
       "      <th>city</th>\n",
       "      <th>state</th>\n",
       "      <th>signs_of_mental_illness</th>\n",
       "      <th>threat_level</th>\n",
       "      <th>flee</th>\n",
       "      <th>body_camera</th>\n",
       "    </tr>\n",
       "  </thead>\n",
       "  <tbody>\n",
       "    <tr>\n",
       "      <th>0</th>\n",
       "      <td>3</td>\n",
       "      <td>Tim Elliot</td>\n",
       "      <td>2015-02-01</td>\n",
       "      <td>shot</td>\n",
       "      <td>gun</td>\n",
       "      <td>53</td>\n",
       "      <td>M</td>\n",
       "      <td>A</td>\n",
       "      <td>Shelton</td>\n",
       "      <td>Washington</td>\n",
       "      <td>True</td>\n",
       "      <td>attack</td>\n",
       "      <td>Not fleeing</td>\n",
       "      <td>False</td>\n",
       "    </tr>\n",
       "    <tr>\n",
       "      <th>1</th>\n",
       "      <td>4</td>\n",
       "      <td>Lewis Lee Lembke</td>\n",
       "      <td>2015-02-01</td>\n",
       "      <td>shot</td>\n",
       "      <td>gun</td>\n",
       "      <td>47</td>\n",
       "      <td>M</td>\n",
       "      <td>W</td>\n",
       "      <td>Aloha</td>\n",
       "      <td>Oregon</td>\n",
       "      <td>False</td>\n",
       "      <td>attack</td>\n",
       "      <td>Not fleeing</td>\n",
       "      <td>False</td>\n",
       "    </tr>\n",
       "    <tr>\n",
       "      <th>2</th>\n",
       "      <td>5</td>\n",
       "      <td>John Paul Quintero</td>\n",
       "      <td>2015-03-01</td>\n",
       "      <td>shot and Tasered</td>\n",
       "      <td>unarmed</td>\n",
       "      <td>23</td>\n",
       "      <td>M</td>\n",
       "      <td>H</td>\n",
       "      <td>Wichita</td>\n",
       "      <td>Kansas</td>\n",
       "      <td>False</td>\n",
       "      <td>other</td>\n",
       "      <td>Not fleeing</td>\n",
       "      <td>False</td>\n",
       "    </tr>\n",
       "    <tr>\n",
       "      <th>3</th>\n",
       "      <td>8</td>\n",
       "      <td>Matthew Hoffman</td>\n",
       "      <td>2015-04-01</td>\n",
       "      <td>shot</td>\n",
       "      <td>toy weapon</td>\n",
       "      <td>32</td>\n",
       "      <td>M</td>\n",
       "      <td>W</td>\n",
       "      <td>San Francisco</td>\n",
       "      <td>California</td>\n",
       "      <td>True</td>\n",
       "      <td>attack</td>\n",
       "      <td>Not fleeing</td>\n",
       "      <td>False</td>\n",
       "    </tr>\n",
       "    <tr>\n",
       "      <th>4</th>\n",
       "      <td>9</td>\n",
       "      <td>Michael Rodriguez</td>\n",
       "      <td>2015-04-01</td>\n",
       "      <td>shot</td>\n",
       "      <td>nail gun</td>\n",
       "      <td>39</td>\n",
       "      <td>M</td>\n",
       "      <td>H</td>\n",
       "      <td>Evans</td>\n",
       "      <td>Colorado</td>\n",
       "      <td>False</td>\n",
       "      <td>attack</td>\n",
       "      <td>Not fleeing</td>\n",
       "      <td>False</td>\n",
       "    </tr>\n",
       "  </tbody>\n",
       "</table>\n",
       "</div>"
      ],
      "text/plain": [
       "   id                name       date  ... threat_level         flee  body_camera\n",
       "0   3          Tim Elliot 2015-02-01  ...       attack  Not fleeing        False\n",
       "1   4    Lewis Lee Lembke 2015-02-01  ...       attack  Not fleeing        False\n",
       "2   5  John Paul Quintero 2015-03-01  ...        other  Not fleeing        False\n",
       "3   8     Matthew Hoffman 2015-04-01  ...       attack  Not fleeing        False\n",
       "4   9   Michael Rodriguez 2015-04-01  ...       attack  Not fleeing        False\n",
       "\n",
       "[5 rows x 14 columns]"
      ]
     },
     "execution_count": 10,
     "metadata": {
      "tags": []
     },
     "output_type": "execute_result"
    }
   ],
   "source": [
    "!pip install us\n",
    "\n",
    "import us\n",
    "\n",
    "def mapping_USstates(state):\n",
    "    return us.states.lookup(state).name\n",
    "\n",
    "policeKillingDF.loc[:,'state'] = policeKillingDF['state'].map(mapping_USstates)\n",
    "policeKillingDF.head()"
   ]
  },
  {
   "cell_type": "markdown",
   "metadata": {
    "colab_type": "text",
    "id": "RMgTX252tOnM"
   },
   "source": [
    "Além dessa modificação, outra mudança pertinente a se fazer nessa base de dados é a desagregação da coluna ***date***. Nós podemos usar esta coluna para gerar mais duas outras: ano e mês. Isso pode nos ajudar a extraír informações realicionadas a temporalidade dos eventos.\n",
    "\n",
    "Execute a celula abaixo para realizar essa transformação.\n"
   ]
  },
  {
   "cell_type": "code",
   "execution_count": 11,
   "metadata": {
    "colab": {
     "base_uri": "https://localhost:8080/",
     "height": 204
    },
    "colab_type": "code",
    "executionInfo": {
     "elapsed": 12245,
     "status": "ok",
     "timestamp": 1593726718859,
     "user": {
      "displayName": "Rute Abreu",
      "photoUrl": "https://lh3.googleusercontent.com/a-/AOh14GiUpD-uropAPP9cuQxhGaGef5gUpubY536n0IPT=s64",
      "userId": "06754473900038904498"
     },
     "user_tz": 180
    },
    "id": "MTFgT-0mKo8r",
    "outputId": "321102b9-7686-4fe3-8dfc-8756f2dc9664"
   },
   "outputs": [
    {
     "data": {
      "text/html": [
       "<div>\n",
       "<style scoped>\n",
       "    .dataframe tbody tr th:only-of-type {\n",
       "        vertical-align: middle;\n",
       "    }\n",
       "\n",
       "    .dataframe tbody tr th {\n",
       "        vertical-align: top;\n",
       "    }\n",
       "\n",
       "    .dataframe thead th {\n",
       "        text-align: right;\n",
       "    }\n",
       "</style>\n",
       "<table border=\"1\" class=\"dataframe\">\n",
       "  <thead>\n",
       "    <tr style=\"text-align: right;\">\n",
       "      <th></th>\n",
       "      <th>id</th>\n",
       "      <th>name</th>\n",
       "      <th>date</th>\n",
       "      <th>manner_of_death</th>\n",
       "      <th>armed</th>\n",
       "      <th>age</th>\n",
       "      <th>gender</th>\n",
       "      <th>race</th>\n",
       "      <th>city</th>\n",
       "      <th>state</th>\n",
       "      <th>signs_of_mental_illness</th>\n",
       "      <th>threat_level</th>\n",
       "      <th>flee</th>\n",
       "      <th>body_camera</th>\n",
       "      <th>month</th>\n",
       "      <th>year</th>\n",
       "    </tr>\n",
       "  </thead>\n",
       "  <tbody>\n",
       "    <tr>\n",
       "      <th>0</th>\n",
       "      <td>3</td>\n",
       "      <td>Tim Elliot</td>\n",
       "      <td>2015-02-01</td>\n",
       "      <td>shot</td>\n",
       "      <td>gun</td>\n",
       "      <td>53</td>\n",
       "      <td>M</td>\n",
       "      <td>A</td>\n",
       "      <td>Shelton</td>\n",
       "      <td>Washington</td>\n",
       "      <td>True</td>\n",
       "      <td>attack</td>\n",
       "      <td>Not fleeing</td>\n",
       "      <td>False</td>\n",
       "      <td>Feb</td>\n",
       "      <td>2015</td>\n",
       "    </tr>\n",
       "    <tr>\n",
       "      <th>1</th>\n",
       "      <td>4</td>\n",
       "      <td>Lewis Lee Lembke</td>\n",
       "      <td>2015-02-01</td>\n",
       "      <td>shot</td>\n",
       "      <td>gun</td>\n",
       "      <td>47</td>\n",
       "      <td>M</td>\n",
       "      <td>W</td>\n",
       "      <td>Aloha</td>\n",
       "      <td>Oregon</td>\n",
       "      <td>False</td>\n",
       "      <td>attack</td>\n",
       "      <td>Not fleeing</td>\n",
       "      <td>False</td>\n",
       "      <td>Feb</td>\n",
       "      <td>2015</td>\n",
       "    </tr>\n",
       "    <tr>\n",
       "      <th>2</th>\n",
       "      <td>5</td>\n",
       "      <td>John Paul Quintero</td>\n",
       "      <td>2015-03-01</td>\n",
       "      <td>shot and Tasered</td>\n",
       "      <td>unarmed</td>\n",
       "      <td>23</td>\n",
       "      <td>M</td>\n",
       "      <td>H</td>\n",
       "      <td>Wichita</td>\n",
       "      <td>Kansas</td>\n",
       "      <td>False</td>\n",
       "      <td>other</td>\n",
       "      <td>Not fleeing</td>\n",
       "      <td>False</td>\n",
       "      <td>Mar</td>\n",
       "      <td>2015</td>\n",
       "    </tr>\n",
       "    <tr>\n",
       "      <th>3</th>\n",
       "      <td>8</td>\n",
       "      <td>Matthew Hoffman</td>\n",
       "      <td>2015-04-01</td>\n",
       "      <td>shot</td>\n",
       "      <td>toy weapon</td>\n",
       "      <td>32</td>\n",
       "      <td>M</td>\n",
       "      <td>W</td>\n",
       "      <td>San Francisco</td>\n",
       "      <td>California</td>\n",
       "      <td>True</td>\n",
       "      <td>attack</td>\n",
       "      <td>Not fleeing</td>\n",
       "      <td>False</td>\n",
       "      <td>Apr</td>\n",
       "      <td>2015</td>\n",
       "    </tr>\n",
       "    <tr>\n",
       "      <th>4</th>\n",
       "      <td>9</td>\n",
       "      <td>Michael Rodriguez</td>\n",
       "      <td>2015-04-01</td>\n",
       "      <td>shot</td>\n",
       "      <td>nail gun</td>\n",
       "      <td>39</td>\n",
       "      <td>M</td>\n",
       "      <td>H</td>\n",
       "      <td>Evans</td>\n",
       "      <td>Colorado</td>\n",
       "      <td>False</td>\n",
       "      <td>attack</td>\n",
       "      <td>Not fleeing</td>\n",
       "      <td>False</td>\n",
       "      <td>Apr</td>\n",
       "      <td>2015</td>\n",
       "    </tr>\n",
       "  </tbody>\n",
       "</table>\n",
       "</div>"
      ],
      "text/plain": [
       "   id                name       date  ... body_camera month  year\n",
       "0   3          Tim Elliot 2015-02-01  ...       False   Feb  2015\n",
       "1   4    Lewis Lee Lembke 2015-02-01  ...       False   Feb  2015\n",
       "2   5  John Paul Quintero 2015-03-01  ...       False   Mar  2015\n",
       "3   8     Matthew Hoffman 2015-04-01  ...       False   Apr  2015\n",
       "4   9   Michael Rodriguez 2015-04-01  ...       False   Apr  2015\n",
       "\n",
       "[5 rows x 16 columns]"
      ]
     },
     "execution_count": 11,
     "metadata": {
      "tags": []
     },
     "output_type": "execute_result"
    }
   ],
   "source": [
    "import calendar\n",
    "\n",
    "policeKillingDF['month'] = policeKillingDF['date'].map(lambda l : calendar.month_abbr[l.month])\n",
    "policeKillingDF['year'] = policeKillingDF['date'].map(lambda l :l.year)\n",
    "policeKillingDF.head()"
   ]
  },
  {
   "cell_type": "markdown",
   "metadata": {
    "colab_type": "text",
    "id": "iGDpjfNnFYpZ"
   },
   "source": [
    "#4. Tipos de dados\n",
    "\n",
    "Agora que nossos dados estão tratados, utilize o conhecimento adquirido nas aulas para inferir  o tipo de dado de cada variável da tabela.\n",
    "\n",
    "Edite a celula abaixo completado os tipos de dados para cada coluna.\n",
    "\n"
   ]
  },
  {
   "cell_type": "markdown",
   "metadata": {
    "colab_type": "text",
    "id": "HMeudUNVGkau"
   },
   "source": [
    "``#`` Exercício 6\n",
    "\n",
    "name: Qualitativa - Nominal <br/>\n",
    "date: Qualitativa - Ordinal<br/> \n",
    "manner_of_death: Qualitativa - Nominal <br/>\n",
    "armed: <br/>\n",
    "age: <br/>\n",
    "gender: <br/>\n",
    "race: <br/>\n",
    "city: <br/>\n",
    "state: <br/>\n",
    "signs_of_mental_illness: <br/>\n",
    "threat_level: <br/>\n",
    "flee: <br/>\n",
    "body_camera: <br/>\n"
   ]
  },
  {
   "cell_type": "markdown",
   "metadata": {
    "colab_type": "text",
    "id": "I-28c-WevBrR"
   },
   "source": [
    "# 5 - Construindo tabelas\n"
   ]
  },
  {
   "cell_type": "markdown",
   "metadata": {
    "colab_type": "text",
    "id": "IjFwk3kuxCyt"
   },
   "source": [
    "Vamos exercitar um pouco o conceito de distribuíção de frequência de uma variável. Você deve se lembrar que para cada tipo de dado, existe uma ferramenta de visualização e estudo adequados.\n",
    "\n",
    "Uma boa maneira de análisar variaveis qualitativas é criar uma tabela de frequência. Neste exercicio você vai analisar a variável ***gender***, que indica o gênero da pessoa assassinada, e entender como essa variável está distiribuída na nossa amostra."
   ]
  },
  {
   "cell_type": "markdown",
   "metadata": {
    "colab_type": "text",
    "id": "WQ0KZCrbG6dg"
   },
   "source": [
    "Já que vamos trabalhar apenas com uma variável amostral do *dataset*, que tal recuperar essa variável e armazená-la em uma variável do python?\n",
    "\n",
    "No exercício 7, crie uma variavel chamada `genero`e armazene nela todo os dados da variável amostral gender do nosso dataset. Depois digite o comando `print(nomeDaMinhaVariável)` e veja o que acontece.\n",
    "\n",
    "\n",
    "\n",
    "Dica: Utilize o comando `minhaVariavel = meuDataset[\"nomeDaVariavelAmostral\"]`  para atribuir os valores da variável amostral na sua variável do python. \n"
   ]
  },
  {
   "cell_type": "code",
   "execution_count": 12,
   "metadata": {
    "colab": {
     "base_uri": "https://localhost:8080/",
     "height": 221
    },
    "colab_type": "code",
    "executionInfo": {
     "elapsed": 12229,
     "status": "ok",
     "timestamp": 1593726718861,
     "user": {
      "displayName": "Rute Abreu",
      "photoUrl": "https://lh3.googleusercontent.com/a-/AOh14GiUpD-uropAPP9cuQxhGaGef5gUpubY536n0IPT=s64",
      "userId": "06754473900038904498"
     },
     "user_tz": 180
    },
    "id": "GxXUm1VDEFXD",
    "outputId": "4a880bed-a392-4441-92c5-1213c2dd155f"
   },
   "outputs": [
    {
     "name": "stdout",
     "output_type": "stream",
     "text": [
      "0       M\n",
      "1       M\n",
      "2       M\n",
      "3       M\n",
      "4       M\n",
      "       ..\n",
      "2519    M\n",
      "2523    M\n",
      "2525    M\n",
      "2533    M\n",
      "2534    M\n",
      "Name: gender, Length: 2254, dtype: object\n"
     ]
    }
   ],
   "source": [
    "#Exercício 7\n",
    "\n",
    "genero = policeKillingDF['gender']\n",
    "print(genero)"
   ]
  },
  {
   "cell_type": "markdown",
   "metadata": {
    "colab_type": "text",
    "id": "7TDjm7YRJEnK"
   },
   "source": [
    "Agora que já isolamos nossa variável amostral vamos contar quantas entradas possuímos para cada gênero. Para fazer isso, você irá utilizar o método `.value_counts()`. \n",
    "\n",
    "Execute o comando `genero.value_counts()` e veja o que acontece."
   ]
  },
  {
   "cell_type": "code",
   "execution_count": 13,
   "metadata": {
    "colab": {
     "base_uri": "https://localhost:8080/",
     "height": 68
    },
    "colab_type": "code",
    "executionInfo": {
     "elapsed": 12218,
     "status": "ok",
     "timestamp": 1593726718863,
     "user": {
      "displayName": "Rute Abreu",
      "photoUrl": "https://lh3.googleusercontent.com/a-/AOh14GiUpD-uropAPP9cuQxhGaGef5gUpubY536n0IPT=s64",
      "userId": "06754473900038904498"
     },
     "user_tz": 180
    },
    "id": "kzGQDAdAJvfr",
    "outputId": "41934dc7-be4b-4386-b55d-f221c5b49701"
   },
   "outputs": [
    {
     "data": {
      "text/plain": [
       "M    2160\n",
       "F      94\n",
       "Name: gender, dtype: int64"
      ]
     },
     "execution_count": 13,
     "metadata": {
      "tags": []
     },
     "output_type": "execute_result"
    }
   ],
   "source": [
    "#Exercício 8\n",
    "genero.value_counts()"
   ]
  },
  {
   "cell_type": "markdown",
   "metadata": {
    "colab_type": "text",
    "id": "SLPjcbmIGPQr"
   },
   "source": [
    "Bem, agora nós sabemos que das pessoas assassinadas 2160 eram do sexo masculino e apenas 94 do sexo feminno. Curioso, não é?\n",
    "\n",
    "O próximo passo é armazenar o valor da nossa contagem em uma variável. Crie uma váriavel chamada `contagemGenero` e armazene o valor retornado pelo `value_counts()`.\n",
    "\n",
    "O valor da contagem de cada gênero corresponde a frequência absoluta de cada gênero, mas você sabe quantos por cento esse valor representa em relação ao número total amostras da nossa variável amostral? \n",
    "\n",
    "Crie duas variáveis chamadas **masculinoFreqRelativa** e **femininoFreqRelativa** e armazene nelas o valor de suas frequência absolutas dividas pelo número total de amostras e depois multiplique o resultado final por 100. \n",
    "\n",
    "\n",
    "* Dicas: \n",
    "    * Se você nao lembra o número total de amostras, dê uma olhada no Exercício 4.\n",
    "    * Para acessar os valores de contagem masculino e feminino individualmente utilize a sintaxe `minhaContagem[0]` e `minhaContagem[1]`"
   ]
  },
  {
   "cell_type": "code",
   "execution_count": 14,
   "metadata": {
    "colab": {},
    "colab_type": "code",
    "executionInfo": {
     "elapsed": 12204,
     "status": "ok",
     "timestamp": 1593726718866,
     "user": {
      "displayName": "Rute Abreu",
      "photoUrl": "https://lh3.googleusercontent.com/a-/AOh14GiUpD-uropAPP9cuQxhGaGef5gUpubY536n0IPT=s64",
      "userId": "06754473900038904498"
     },
     "user_tz": 180
    },
    "id": "lOTYZPMWLE6n"
   },
   "outputs": [],
   "source": [
    "#Exercício 9\n",
    "\n",
    "contagemGenero = genero.value_counts()\n",
    "masculinoFreqRelativa = (contagemGenero[0]/len(genero))*100.0\n",
    "femininoFreqRelativa = (contagemGenero[1]/len(genero))*100.0"
   ]
  },
  {
   "cell_type": "markdown",
   "metadata": {
    "colab_type": "text",
    "id": "qPm563sQQfUg"
   },
   "source": [
    "Pronto, agora temos tudo que precisamos para construír a nossa tabela com frequências absolutas e relativas. \n",
    "\n",
    "No exercício 10, complete e execute o código para criar a tabela de frequências."
   ]
  },
  {
   "cell_type": "code",
   "execution_count": 15,
   "metadata": {
    "colab": {
     "base_uri": "https://localhost:8080/",
     "height": 263
    },
    "colab_type": "code",
    "executionInfo": {
     "elapsed": 12513,
     "status": "ok",
     "timestamp": 1593726719187,
     "user": {
      "displayName": "Rute Abreu",
      "photoUrl": "https://lh3.googleusercontent.com/a-/AOh14GiUpD-uropAPP9cuQxhGaGef5gUpubY536n0IPT=s64",
      "userId": "06754473900038904498"
     },
     "user_tz": 180
    },
    "id": "ZTXlLbLWRXZ3",
    "outputId": "b0c1f7eb-17e8-4f78-bc18-c48f013e5233"
   },
   "outputs": [
    {
     "data": {
      "image/png": "[encoded data removed]",
      "text/plain": [
       "<Figure size 1080x720 with 1 Axes>"
      ]
     },
     "metadata": {
      "tags": []
     },
     "output_type": "display_data"
    }
   ],
   "source": [
    "#Exercício 10\n",
    "\n",
    "import matplotlib.pyplot as plt\n",
    "import numpy as np\n",
    "\n",
    "data = [\n",
    "        ['Gênero', 'Freq. Relativa', 'Freq.Absoluta'],\n",
    "        [ 'Feminino', contagemGenero[1], np.round(femininoFreqRelativa,2)],\n",
    "        [ 'Masculino',contagemGenero[0], np.round(masculinoFreqRelativa)],\n",
    "        ['Total', np.sum(contagemGenero),(femininoFreqRelativa + masculinoFreqRelativa)]]\n",
    "\n",
    "fig = plt.figure(figsize=(15,10))\n",
    "ax = fig.add_subplot(4,3,1)\n",
    "\n",
    "ax.set_title(\"Distribuíção de frequência da variável gender\",fontsize=14 )\n",
    "ax.title.set_position([.5, 1.5])\n",
    "\n",
    "table = ax.table(cellText=data,\n",
    "          loc = 'center',         \n",
    "          cellLoc = 'center',\n",
    "          edges = 'BT',)\n",
    "\n",
    "table.set_fontsize(24)\n",
    "\n",
    "table.scale(2,4)\n",
    "plt.tick_params(axis='x', which='both', bottom=False, top=False, labelbottom=False)\n",
    "plt.tick_params(axis='y', which='both', right=False, left=False, labelleft=False)\n",
    "\n",
    "for pos in ['right','top','bottom','left']:\n",
    "    plt.gca().spines[pos].set_visible(False)\n",
    "\n",
    "\n",
    "plt.show()\n"
   ]
  },
  {
   "cell_type": "markdown",
   "metadata": {
    "colab_type": "text",
    "id": "uJMdVDNspRqC"
   },
   "source": [
    "# 6 Construíndo gráficos\n",
    "\n",
    "Agora que você relembrou o conceito de frequência vamos explorar mais os dados e construir alguns gráficos. Os gráficos nos ajudam a entender melhor os dados e extraír informações que estão inicialmente ocultas.\n"
   ]
  },
  {
   "cell_type": "markdown",
   "metadata": {
    "colab_type": "text",
    "id": "JZUViSUVrKyu"
   },
   "source": [
    "Sempre que você quiser construír um gŕafico, é necessário definir os eixos X e Y. A definição de qual variável vai em cada eixo depende do tipo de gráfico e do aspecto que você quer evidenciar. Por exemplo, se quisermos construir um gráfico para visualizar a quantidade de mortes ocorridas por estado, podemos escolher um gráfico de colunas onde o eixo X identificará os estados e a eixo Y a quatidade de mortes.\n",
    "\n",
    "Nos próximos exercicíos você aprenderá a construir alguns tipos de gráficos."
   ]
  },
  {
   "cell_type": "markdown",
   "metadata": {
    "colab_type": "text",
    "id": "_2O7hqJCtKQZ"
   },
   "source": [
    "### 6.1 Identificando número de mortes por estado (Gráfico de colunas) \n",
    "\n",
    "\n",
    "Para construír esse gráfico, você precisará realizar a contagem de mortes ocorridas em cada estado. Vamos fazer isso utilizando o método `groupby()`da biblioteca Pandas. Neste método você precisará definir a função de agregação que será utilizada, isto é, o processo pelo qual você deseja agupar os seus dados, no nosso caso escolheremos o método `size()` para realizar a contagem. \n",
    "\n",
    "Além disso você ainda terá que escolher a coluna pela qual nós queremos agrupar nossa contagem, no nosso caso a coluna ***state***.\n",
    "\n",
    "Observe o resultado dessa operação  executando a célula do exercício 11\n",
    ".\n"
   ]
  },
  {
   "cell_type": "code",
   "execution_count": 16,
   "metadata": {
    "colab": {
     "base_uri": "https://localhost:8080/",
     "height": 918
    },
    "colab_type": "code",
    "executionInfo": {
     "elapsed": 12505,
     "status": "ok",
     "timestamp": 1593726719191,
     "user": {
      "displayName": "Rute Abreu",
      "photoUrl": "https://lh3.googleusercontent.com/a-/AOh14GiUpD-uropAPP9cuQxhGaGef5gUpubY536n0IPT=s64",
      "userId": "06754473900038904498"
     },
     "user_tz": 180
    },
    "id": "fe5gTw23MlIB",
    "outputId": "3a14e8c3-c01b-48e3-83cb-7a90d8db3f25"
   },
   "outputs": [
    {
     "name": "stdout",
     "output_type": "stream",
     "text": [
      "state\n",
      "Alabama                  45\n",
      "Alaska                   14\n",
      "Arizona                 105\n",
      "Arkansas                 20\n",
      "California              366\n",
      "Colorado                 63\n",
      "Connecticut               7\n",
      "Delaware                  8\n",
      "District of Columbia     11\n",
      "Florida                 136\n",
      "Georgia                  61\n",
      "Hawaii                   11\n",
      "Idaho                    14\n",
      "Illinois                 56\n",
      "Indiana                  40\n",
      "Iowa                     12\n",
      "Kansas                   24\n",
      "Kentucky                 40\n",
      "Louisiana                47\n",
      "Maine                    10\n",
      "Maryland                 36\n",
      "Massachusetts            22\n",
      "Michigan                 36\n",
      "Minnesota                31\n",
      "Mississippi              22\n",
      "Missouri                 58\n",
      "Montana                  11\n",
      "Nebraska                 14\n",
      "Nevada                   34\n",
      "New Hampshire             7\n",
      "New Jersey               30\n",
      "New Mexico               41\n",
      "New York                 43\n",
      "North Carolina           66\n",
      "North Dakota              4\n",
      "Ohio                     70\n",
      "Oklahoma                 65\n",
      "Oregon                   32\n",
      "Pennsylvania             45\n",
      "Rhode Island              2\n",
      "South Carolina           41\n",
      "South Dakota              9\n",
      "Tennessee                56\n",
      "Texas                   200\n",
      "Utah                     22\n",
      "Vermont                   3\n",
      "Virginia                 43\n",
      "Washington               51\n",
      "West Virginia            21\n",
      "Wisconsin                42\n",
      "Wyoming                   7\n",
      "dtype: int64\n"
     ]
    }
   ],
   "source": [
    "#Exercício 11\n",
    "mortesAgrupadasEstado = policeKillingDF.groupby(by=\"state\").size()\n",
    "print(mortesAgrupadasEstado)\n"
   ]
  },
  {
   "cell_type": "markdown",
   "metadata": {
    "colab_type": "text",
    "id": "FLF1Ef9SxvdA"
   },
   "source": [
    "\n",
    "Complete o Exercício 12 preenchendo os valores que serão apresentados no eixo X, utilizando o atributo `.index` da variável **mortesAgrupadasEstado** e as alturas de cada barra (eixo Y) com os valores obtidos na contagem, utilizando o atributo `.values` da mesma variável.\n",
    "\n",
    "Preencha o título do gráfico com uma descrição adequada.\n"
   ]
  },
  {
   "cell_type": "code",
   "execution_count": 17,
   "metadata": {
    "colab": {
     "base_uri": "https://localhost:8080/",
     "height": 619
    },
    "colab_type": "code",
    "executionInfo": {
     "elapsed": 20308,
     "status": "ok",
     "timestamp": 1593726727008,
     "user": {
      "displayName": "Rute Abreu",
      "photoUrl": "https://lh3.googleusercontent.com/a-/AOh14GiUpD-uropAPP9cuQxhGaGef5gUpubY536n0IPT=s64",
      "userId": "06754473900038904498"
     },
     "user_tz": 180
    },
    "id": "7ayyibQNxcky",
    "outputId": "1891818d-9b1d-4fb6-b64f-4db9fa9a0ecc"
   },
   "outputs": [
    {
     "data": {
      "image/png": "[encoded data removed]",
      "text/plain": [
       "<Figure size 1440x576 with 1 Axes>"
      ]
     },
     "metadata": {
      "needs_background": "light",
      "tags": []
     },
     "output_type": "display_data"
    }
   ],
   "source": [
    "#Exercício 12 \n",
    "figure = plt.figure(figsize=(20,8))\n",
    "\n",
    "plt.bar(x = mortesAgrupadasEstado.index, height = mortesAgrupadasEstado.values, align='center')\n",
    "\n",
    "x =  plt.xticks(color=\"black\",fontsize=\"13\", rotation=90)\n",
    "y = plt.yticks(color=\"black\", fontsize=\"13\")\n",
    "\n",
    "title = plt.title(\"Número de mortes por estado americano\", fontsize=13, color=\"black\")"
   ]
  },
  {
   "cell_type": "markdown",
   "metadata": {
    "colab_type": "text",
    "id": "uQRtwvb2t2Dd"
   },
   "source": [
    "### 6.2 - Quantificando o número  de assassinatos de acordo com a sua maneira de execução - ***manner_of_death***.  (Gráfico de setores)\n",
    "\n",
    "\n",
    "\n",
    "Outra análise interessante que podemos fazer é descobrir de que maneira as vítimas foram assassinadas. Um gráfico de setores (pizza) pode nos ajudar a visualizar de maneira mais intituiva esse aspecto. \n",
    "\n",
    "Então, vamos lá. Assim como no gráfico passado nós vamos precisar fazer a contagem de mortes agrupando por um atributo, só que agora ao invés de usarmos a coluna *gender*, vamos utilizar a coluna *manner_of_death*.\n",
    "\n",
    "No exercício 13, repita o procedimento de agrupamento realizado anteriormente, modificando a variável de agrupamento. Salve o resultado em variável chamada **`mortesAgrupadasPorManeira`**."
   ]
  },
  {
   "cell_type": "code",
   "execution_count": 18,
   "metadata": {
    "colab": {
     "base_uri": "https://localhost:8080/",
     "height": 85
    },
    "colab_type": "code",
    "executionInfo": {
     "elapsed": 20297,
     "status": "ok",
     "timestamp": 1593726727010,
     "user": {
      "displayName": "Rute Abreu",
      "photoUrl": "https://lh3.googleusercontent.com/a-/AOh14GiUpD-uropAPP9cuQxhGaGef5gUpubY536n0IPT=s64",
      "userId": "06754473900038904498"
     },
     "user_tz": 180
    },
    "id": "iltaNTgy2Lcj",
    "outputId": "0966f1dd-5403-4bdc-b940-39e08b3a1359"
   },
   "outputs": [
    {
     "name": "stdout",
     "output_type": "stream",
     "text": [
      "manner_of_death\n",
      "shot                2100\n",
      "shot and Tasered     154\n",
      "dtype: int64\n"
     ]
    }
   ],
   "source": [
    "#Exercício 13\n",
    "\n",
    "mortesAgrupadasPorManeira = policeKillingDF.groupby(by=\"manner_of_death\").size()\n",
    "print(mortesAgrupadasPorManeira)\n"
   ]
  },
  {
   "cell_type": "markdown",
   "metadata": {
    "colab_type": "text",
    "id": "NcckS5153l0V"
   },
   "source": [
    "Agora que você já agrupou os dados, preencha os elementos faltantes na célula do exercício 14. Dessa vez preencha o paramêtro x, com os valores agrupados e o parêmetro labels com as maneiras do morte indentificadas no exercício anterior. Utilize os atributos `values`  e `index`, respectivamente. "
   ]
  },
  {
   "cell_type": "code",
   "execution_count": 19,
   "metadata": {
    "colab": {
     "base_uri": "https://localhost:8080/",
     "height": 702
    },
    "colab_type": "code",
    "executionInfo": {
     "elapsed": 20278,
     "status": "ok",
     "timestamp": 1593726727011,
     "user": {
      "displayName": "Rute Abreu",
      "photoUrl": "https://lh3.googleusercontent.com/a-/AOh14GiUpD-uropAPP9cuQxhGaGef5gUpubY536n0IPT=s64",
      "userId": "06754473900038904498"
     },
     "user_tz": 180
    },
    "id": "RCU94gFV3rVX",
    "outputId": "9a2e48be-f456-4093-9e9d-5871c24aa375"
   },
   "outputs": [
    {
     "data": {
      "image/png": "[encoded data removed]",
      "text/plain": [
       "<Figure size 864x864 with 1 Axes>"
      ]
     },
     "metadata": {
      "tags": []
     },
     "output_type": "display_data"
    }
   ],
   "source": [
    "#Exercício 14\n",
    "figure = plt.figure(figsize=(12,12))\n",
    "\n",
    "plt.pie(x = mortesAgrupadasPorManeira.values, \n",
    "        labels=mortesAgrupadasPorManeira.index, \n",
    "        shadow=False, \n",
    "        autopct='%1.1f%%', textprops={'fontsize': 20})\n",
    "\n",
    "plt.title(\"Distribuíção de assassinatos pela maneira da morte\", fontsize=15)\n",
    "\n",
    "plt.show()"
   ]
  },
  {
   "cell_type": "markdown",
   "metadata": {
    "colab_type": "text",
    "id": "DagLhM2ZwGXX"
   },
   "source": [
    "## 6.3 - Distribuíção das mortes no tempo (Grafico de linha)\n",
    "\n",
    "\n",
    "Um gráfico bastante útil quando estamos trabalhando com séries temporais é o gráfico de linha. Vamos aproveitar que a nossa base de dados nos oferece a data dos assassinatos, e que nós já desagregamos esta variável, para criar gráficos de linha que nos mostram como o número de mortes variou durante os meses nos anos de 2015 a 2017.\n",
    "\n",
    "\n"
   ]
  },
  {
   "cell_type": "markdown",
   "metadata": {
    "colab_type": "text",
    "id": "Fv1ztKz3vedb"
   },
   "source": [
    "\n",
    "Dessa vez antes de fazer a agregação, eu optei por ordenar a nossa base de dados pela data das ocorrências, isso é útil para que o nosso gŕafico fique na ordem temporal correta (De janeiro a dezembro).\n",
    "\n",
    "Feito isso, a nossa próxima etapa é fazer a contagem agrupando pelo atributo desejado, noavamente utilizando a contagem como função de agregação.\n",
    "\n",
    "Como dessa vez nós queremos contar por mês e por ano, vamos precisar usar as duas colunas (*month and year*). Além disso, você vai precisar fazer mais um agrupamento de maneira encadeada, só que dessa vez a função de agregação vai ser a `soma`, assim para cada ano você vai poder somar todos os assassinatos ocorridos em cada mês.\n",
    "\n",
    "Execute a célula abaixo e veja como fica o resultado.\n"
   ]
  },
  {
   "cell_type": "code",
   "execution_count": 20,
   "metadata": {
    "colab": {
     "base_uri": "https://localhost:8080/",
     "height": 663
    },
    "colab_type": "code",
    "executionInfo": {
     "elapsed": 20263,
     "status": "ok",
     "timestamp": 1593726727012,
     "user": {
      "displayName": "Rute Abreu",
      "photoUrl": "https://lh3.googleusercontent.com/a-/AOh14GiUpD-uropAPP9cuQxhGaGef5gUpubY536n0IPT=s64",
      "userId": "06754473900038904498"
     },
     "user_tz": 180
    },
    "id": "-w65KPZzxbR7",
    "outputId": "82afdb22-49b2-43f6-f9b8-92ae58f05891"
   },
   "outputs": [
    {
     "data": {
      "text/plain": [
       "year  month\n",
       "2015  Jan      68\n",
       "      Feb      76\n",
       "      Mar      86\n",
       "      Apr      87\n",
       "      May      84\n",
       "      Jun      67\n",
       "      Jul      81\n",
       "      Aug      82\n",
       "      Sep      84\n",
       "      Oct      83\n",
       "      Nov      76\n",
       "      Dec      73\n",
       "2016  Jan      80\n",
       "      Feb      78\n",
       "      Mar      81\n",
       "      Apr      70\n",
       "      May      76\n",
       "      Jun      81\n",
       "      Jul      70\n",
       "      Aug      73\n",
       "      Sep      65\n",
       "      Oct      68\n",
       "      Nov      74\n",
       "      Dec      57\n",
       "2017  Jan      70\n",
       "      Feb      63\n",
       "      Mar      62\n",
       "      Apr      52\n",
       "      May      44\n",
       "      Jun      42\n",
       "      Jul      34\n",
       "      Aug      12\n",
       "      Sep      14\n",
       "      Oct      15\n",
       "      Nov      11\n",
       "      Dec      15\n",
       "dtype: int64"
      ]
     },
     "execution_count": 20,
     "metadata": {
      "tags": []
     },
     "output_type": "execute_result"
    }
   ],
   "source": [
    "policeKillingDF.sort_values(by='date', inplace=True)\n",
    "mortesPorMesPorAno = policeKillingDF.groupby([\"month\", \"year\"], sort=False).size().groupby(['year', 'month']).sum()\n",
    "mortesPorMesPorAno\n"
   ]
  },
  {
   "cell_type": "markdown",
   "metadata": {
    "colab_type": "text",
    "id": "zp-dymyByMDG"
   },
   "source": [
    "Agora você já pode fazer o *plot* dos seus gráficos. Complete o exercicío 15, preenchendo os parâmetros faltantes na função *`plot()`* . O primeiro parâmetro já está preenchido, utilizando o atributo **`index`** da nossa variável de contagem. Insira o segundo parâmetro utilizando o atributo **`values`**.\n",
    "\n",
    "Preencha também os títulos dos eixos X (os meses) e Y (Contagem de mortes) com as descrições que achar mais adequada.\n"
   ]
  },
  {
   "cell_type": "code",
   "execution_count": 21,
   "metadata": {
    "colab": {
     "base_uri": "https://localhost:8080/",
     "height": 1000
    },
    "colab_type": "code",
    "executionInfo": {
     "elapsed": 20244,
     "status": "ok",
     "timestamp": 1593726727012,
     "user": {
      "displayName": "Rute Abreu",
      "photoUrl": "https://lh3.googleusercontent.com/a-/AOh14GiUpD-uropAPP9cuQxhGaGef5gUpubY536n0IPT=s64",
      "userId": "06754473900038904498"
     },
     "user_tz": 180
    },
    "id": "cVw3XsKfGiBc",
    "outputId": "9b5a28f4-4f0b-4e31-fa92-03e01df7fba3"
   },
   "outputs": [
    {
     "data": {
      "image/png": "[encoded data removed]",
      "text/plain": [
       "<Figure size 1440x576 with 1 Axes>"
      ]
     },
     "metadata": {
      "needs_background": "light",
      "tags": []
     },
     "output_type": "display_data"
    },
    {
     "data": {
      "image/png": "[encoded data removed]",
      "text/plain": [
       "<Figure size 1440x576 with 1 Axes>"
      ]
     },
     "metadata": {
      "needs_background": "light",
      "tags": []
     },
     "output_type": "display_data"
    },
    {
     "data": {
      "image/png": "[encoded data removed]",
      "text/plain": [
       "<Figure size 1440x576 with 1 Axes>"
      ]
     },
     "metadata": {
      "needs_background": "light",
      "tags": []
     },
     "output_type": "display_data"
    }
   ],
   "source": [
    "#Exercício 15\n",
    "for i in np.arange(2015,2018):\n",
    "    fig, ax = plt.subplots(figsize = (20,8))\n",
    "    ax.grid()\n",
    "    \n",
    "    ax.plot(mortesPorMesPorAno.xs(i).index,mortesPorMesPorAno.xs(i).values, '-bo', linewidth=2)\n",
    "\n",
    "    settings = ax.set(xlabel='Mês de observação',\n",
    "                    ylabel='Número de assassinatos',\n",
    "                    title=\" Número de mortes por mês - \" + str(i))\n",
    "    plt.show()\n"
   ]
  }
 ],
 "metadata": {
  "colab": {
   "authorship_tag": "ABX9TyMl3Bc6zvhzXSF1XUxotPhB",
   "collapsed_sections": [],
   "name": "Roteiro_atividades_1_chave_de_resposta.ipynb",
   "provenance": [],
   "toc_visible": true
  },
  "kernelspec": {
   "display_name": "Python 3",
   "language": "python",
   "name": "python3"
  },
  "language_info": {
   "codemirror_mode": {
    "name": "ipython",
    "version": 3
   },
   "file_extension": ".py",
   "mimetype": "text/x-python",
   "name": "python",
   "nbconvert_exporter": "python",
   "pygments_lexer": "ipython3",
   "version": "3.8.3"
  }
 },
 "nbformat": 4,
 "nbformat_minor": 1
}
