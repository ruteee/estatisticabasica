{
 "cells": [
  {
   "cell_type": "markdown",
   "metadata": {
    "colab_type": "text",
    "id": "liR-koIl5anV"
   },
   "source": [
    "## Roteiro 1 - Tipos de dados/Introdução à Análise Descritiva/ Tabelas e Gráficos (1ª semana)\n",
    "\n"
   ]
  },
  {
   "cell_type": "markdown",
   "metadata": {
    "colab_type": "text",
    "id": "i1BBTqXC6zmX"
   },
   "source": [
    "## Objetivo\n",
    "\n",
    "Trabalhar com a base de dados PolliceKillingUS com ajuda da ferramenta Google Colab e utilização da linguagem de programação Python, de maneira a fixar os seguintes conteúdos: \n",
    "\n",
    "*   Tipos de dados\n",
    "*   Introdução à análise descritiva\n",
    "*   Tabelas e gráficos"
   ]
  },
  {
   "cell_type": "markdown",
   "metadata": {
    "colab_type": "text",
    "id": "CbDlEMQO-aQ_"
   },
   "source": [
    "# 1- Obtendo a base dados\n",
    "\n",
    "\n",
    "Para obter a base de dados do imbd vocês devem acessar o seguinte link: \n",
    "Para obter a base de desse roteiro iremos utilizar o Kaggle. O Kaggle é uma plataforma onde empresas e pessoas físicas postam bases de dados e criam competições de aprendizado de máquina, *deep learning* e análise de dados. No nosso caso, você não irá entrar em nenhuma competição, apenas fazer o *download* da base de dados. \n",
    "\n",
    "Para isso, vá até o endereço  https://www.kaggle.com . Se você não possui uma conta terá que criar, então escolha uma das opções cadastro e faça *login* em seguida. \n",
    "\n",
    "Agora que você entrou na plataforma, digite: Fatal Police Shootings in the US no campo \"search\", escolha o primeiro *dataset* by Karolina Wullum. Clique na opção \"download\", isso deverá baixar para o seu computador um arquivo chamado \"2647_4395_bundle_archive\", você deve então descompactá-lo.\n",
    "\n"
   ]
  },
  {
   "cell_type": "markdown",
   "metadata": {
    "colab_type": "text",
    "id": "9lKM6z95EJZO"
   },
   "source": [
    "## 1.1 - Subindo a base de dados para o Colab\n",
    "\n",
    "Para subir a nossa base de dados para o Colab, você deve clicar no icone com formato de pasta (files) no menu lateral esquerdo e seguida na opção *upload*. \n",
    "Após isto, navegue até a base de dados descompactada e escolha o arquivo **PolliceKillingUs.csv**.\n",
    "\n",
    "\n",
    "\n",
    "\n"
   ]
  },
  {
   "cell_type": "markdown",
   "metadata": {
    "colab_type": "text",
    "id": "2wHw2C1Dr8zq"
   },
   "source": [
    "# 2 - Leitura dos dados\n",
    "\n",
    "Para ler nosso arquivo csv no python, vamos fazer a inclusão da biblioteca pandas, utilizar o comando:\n",
    " `read.csv(\"nomeDoSeuArquivo,csv\", encoding= 'unicode_escape', index_col=0)` e armazenar o resultado em uma variável, que representará o seu *dataset*.  A biblioteca chama essa representação virtual de *DataFrame*. \n",
    "\n",
    " Execute o código da célula abaixo para realizar estes passos.\n",
    " \n",
    "\n"
   ]
  },
  {
   "cell_type": "code",
   "execution_count": null,
   "metadata": {
    "colab": {},
    "colab_type": "code",
    "id": "yxOxmTdqvAND"
   },
   "outputs": [],
   "source": [
    "import pandas as pd\n",
    "\n",
    "policeKillingDF = pd.read_csv(\"PoliceKillingsUS.csv\", encoding= 'unicode_escape', )\n"
   ]
  },
  {
   "cell_type": "markdown",
   "metadata": {
    "colab_type": "text",
    "id": "7zx4oyxcwlRn"
   },
   "source": [
    "Dê uma olhada nos dados utilizando o comando ```seuDataset.head()```\n",
    "\n",
    "*substitua o termo \"seuDataset\" pelo nome da sua variavel."
   ]
  },
  {
   "cell_type": "code",
   "execution_count": null,
   "metadata": {
    "colab": {},
    "colab_type": "code",
    "id": "iHRtBapBwk7g"
   },
   "outputs": [],
   "source": [
    "#Exercício 1\n"
   ]
  },
  {
   "cell_type": "markdown",
   "metadata": {
    "colab_type": "text",
    "id": "Q9bxDKmumJdU"
   },
   "source": [
    "# 3 - Descrição do dataset\n",
    "\n",
    "Este dataset trata de mortes de civís executadas por policíais nos Estados Unidos. Se trata de uma base de dados construída pelo Wahsington Post entre os meses de Janeiro de 2015 à dezembro de 2017. \n",
    "\n",
    "Essa base começou a ser  montada após o assassinato de Michael Brown na cidade de Ferguson, estado do Missouri, evento que deu inicio ao movimento Black Lives Matter. \n",
    "\n",
    "Você pode ver uma breve descrição de cada coluna na lista abaixo:\n",
    "\n",
    "* name - O nome da pessoa assassinada\n",
    "* date - A data do acontecimento\n",
    "* manner_of_death - A maneira pela qual o assassinato se deu.\n",
    "* armede - O tipo de arma utilizada pelo civíl.\n",
    "* age - A idade da civíl\n",
    "* gender - O gênero biológico.\n",
    "* race - A raça\n",
    "* city - A cidade onde aconteceu o evento\n",
    "* state - O estado onde aconteceu o evento\n",
    "* signs_of_mental_illness - Se a vítima estava passando por alguma crise de saúde mental\n",
    "* threat_level - O nível de ameaça que individuo apresentava\n",
    "* flee - Se a pessoa estava em fuga\n",
    "* body_camera - Se a pessoa usava alguma camera.\n",
    "\n",
    "\n"
   ]
  },
  {
   "cell_type": "markdown",
   "metadata": {
    "colab_type": "text",
    "id": "cVJ1HOrXyp0I"
   },
   "source": [
    "Agora observe mais algumas informações do *dataset* utilizando o comando `seuDataset.info()`"
   ]
  },
  {
   "cell_type": "code",
   "execution_count": null,
   "metadata": {
    "colab": {},
    "colab_type": "code",
    "id": "y79FQEIoyYFT"
   },
   "outputs": [],
   "source": [
    "#Exercício 2\n"
   ]
  },
  {
   "cell_type": "markdown",
   "metadata": {
    "colab_type": "text",
    "id": "DHk2sU2U0BQ4"
   },
   "source": [
    " # 4. Tratamento os dados\n",
    "Como você viu, temos um conjunto de dados, ou *dataset* com 2535 linhas e 13 colunas. Nessa *dataset* podemos dizer que cada linha representa uma unidade amostral e cada coluna representa uma variável. Desse modo possuímos uma amostra de tamanho 2535 com 13 variáveis observadas.\n",
    "\n",
    "\n",
    "Perceba que as colunas **armed, age, race** e **flee** possuem respectivamente 9, 78, 195 e 65 valores nulos. Isso significa que estes dados estão faltando na nossa tabela e dessa forma ficamos impossibilitados de fazer uma análise correta. Precisamos tratar estes dados. \n",
    "\n",
    "Na coluna **armed** esse valores representam 0.35% dos valores totais, na **age** 3.07%, na **race** 7,69% e na **flee**  2.54%. A literatura propõe algumas técnicas disponíveis para substituír esses dados. Por exemplo, para dados contínuos podemos subistituir utilizando a média dos demais, já para categoricos (por exemplo genero, estado, raça) uma possibilidade pode ser a substituição do dado faltante pela categoria mais frequente na variável.\n",
    "\n",
    "Contudo, felizmente, nossos dados faltantes não representam uma porcentagem significativa no total de linhas disponíveis, isto é, representam menos que 70% dos dados, por isso iremos utilizar a estratégia  mais simples e radical: vamos excluí-los da tabela. \n",
    "\n",
    "Para isso executem o comando: `seuDataset.dropna(inplace=True)`\n",
    "\n"
   ]
  },
  {
   "cell_type": "code",
   "execution_count": null,
   "metadata": {
    "colab": {},
    "colab_type": "code",
    "id": "tyThHObD38o1"
   },
   "outputs": [],
   "source": [
    "#Exercicío 3\n",
    "\n"
   ]
  },
  {
   "cell_type": "markdown",
   "metadata": {
    "colab_type": "text",
    "id": "CdwwkMatBU3D"
   },
   "source": [
    "Execute novamente o comando `seuDataset.info()`\n",
    "\n",
    "\n"
   ]
  },
  {
   "cell_type": "code",
   "execution_count": null,
   "metadata": {
    "colab": {},
    "colab_type": "code",
    "id": "0CZSDhTYBiSg"
   },
   "outputs": [],
   "source": [
    "#Execício 4\n",
    "\n"
   ]
  },
  {
   "cell_type": "markdown",
   "metadata": {
    "colab_type": "text",
    "id": "_MapEwDHBxWo"
   },
   "source": [
    "Reparem que agora temos 2254 linhas, isto acontece porque este comando exclui qualquer linha cujo alguma coluna possua valores nulos."
   ]
  },
  {
   "cell_type": "markdown",
   "metadata": {
    "colab_type": "text",
    "id": "LK-SxkEYJmbp"
   },
   "source": [
    "À essa altura você deve ter percebido que nem todas as colunas estão no formato em que deveriam estar. Por exemplo, a variável **age**, que representa idade parecec estar no formato de dados contínuo, sabemos que idade é um atributo discreto (tipo inteiro) por isso vamos converter esse coluna  para o formato **int**, que representa o formato dos números inteiros em python.\n",
    "\n",
    "Além disso a variável **date** parece estar em formato de texto. Apesar de não estar \"errado\" representar datas dessa forma, existe um tipo próprio para este tipo de variável no python, o tipo **datetime**, convertê-la para esse tipo irá facilitar bastante sua manipulação quando necessário.\n",
    "\n",
    "Na célula abaixo, mostramos como executar essas duas tansformações\n",
    "\n"
   ]
  },
  {
   "cell_type": "code",
   "execution_count": null,
   "metadata": {
    "colab": {},
    "colab_type": "code",
    "id": "rHt6n1HrLRja"
   },
   "outputs": [],
   "source": [
    "#Corrigindo os formatos das variáveis e substituindo no dataset\n",
    "\n",
    "age_int = (policeKillingDF['age'].copy()).astype(int)\n",
    "policeKillingDF.loc[:,'age'] = age_int\n",
    "\n",
    "\n",
    "date_datetime = pd.to_datetime(policeKillingDF['date'].copy())\n",
    "policeKillingDF.loc[:,'date'] = date_datetime\n"
   ]
  },
  {
   "cell_type": "markdown",
   "metadata": {
    "colab_type": "text",
    "id": "Vp7-UvofMz0Q"
   },
   "source": [
    "Execute novamente o comando `.head()` no seu dataframe e perceba que agora as váriaveis estão nos tipos que definimos.\n"
   ]
  },
  {
   "cell_type": "code",
   "execution_count": null,
   "metadata": {
    "colab": {},
    "colab_type": "code",
    "id": "FmzijVXANIoS"
   },
   "outputs": [],
   "source": [
    "#Exercício 5\n",
    "\n"
   ]
  },
  {
   "cell_type": "markdown",
   "metadata": {
    "colab_type": "text",
    "id": "OFANK-9QuDYe"
   },
   "source": [
    "Apenas por questões visuais vamos  subsitutir as siglas de cada estado americano na coluna *state* pelo nome do estado por extenso. Execute o código abaixo para modificar a coluna e observe o resultado."
   ]
  },
  {
   "cell_type": "code",
   "execution_count": null,
   "metadata": {
    "colab": {},
    "colab_type": "code",
    "id": "_t5-9LVtrAfI"
   },
   "outputs": [],
   "source": [
    "!pip install us\n",
    "\n",
    "import us\n",
    "\n",
    "def mapping_USstates(state):\n",
    "    return us.states.lookup(state).name\n",
    "\n",
    "policeKillingDF.loc[:,'state'] = policeKillingDF['state'].map(mapping_USstates)\n",
    "policeKillingDF.head()"
   ]
  },
  {
   "cell_type": "markdown",
   "metadata": {
    "colab_type": "text",
    "id": "RMgTX252tOnM"
   },
   "source": [
    "Além dessa modificação, outra mudança pertinente a se fazer nessa base de dados é a desagregação da coluna ***date***. Nós podemos usar esta coluna para gerar mais duas outras: ano e mês. Isso pode nos ajudar a extraír informações realicionadas a temporalidade dos eventos.\n",
    "\n",
    "Execute a celula abaixo para realizar essa transformação.\n"
   ]
  },
  {
   "cell_type": "code",
   "execution_count": null,
   "metadata": {
    "colab": {},
    "colab_type": "code",
    "id": "MTFgT-0mKo8r"
   },
   "outputs": [],
   "source": [
    "import calendar\n",
    "\n",
    "policeKillingDF['month'] = policeKillingDF['date'].map(lambda l : calendar.month_abbr[l.month])\n",
    "policeKillingDF['year'] = policeKillingDF['date'].map(lambda l :l.year)\n",
    "policeKillingDF.head()"
   ]
  },
  {
   "cell_type": "markdown",
   "metadata": {
    "colab_type": "text",
    "id": "iGDpjfNnFYpZ"
   },
   "source": [
    "#4. Tipos de dados\n",
    "\n",
    "Agora que nossos dados estão tratados, utilize o conhecimento adquirido nas aulas para inferir  o tipo de dado de cada variável da tabela.\n",
    "\n",
    "Edite a celula abaixo completado os tipos de dados para cada coluna.\n",
    "\n"
   ]
  },
  {
   "cell_type": "markdown",
   "metadata": {
    "colab_type": "text",
    "id": "HMeudUNVGkau"
   },
   "source": [
    "``#`` Exercício 6\n",
    "\n",
    "name: Qualitativa - Nominal <br/>\n",
    "date: Qualitativa - Ordinal<br/> \n",
    "manner_of_death: Qualitativa - Nominal <br/>\n",
    "armed: <br/>\n",
    "age: <br/>\n",
    "gender: <br/>\n",
    "race: <br/>\n",
    "city: <br/>\n",
    "state: <br/>\n",
    "signs_of_mental_illness: <br/>\n",
    "threat_level: <br/>\n",
    "flee: <br/>\n",
    "body_camera: <br/>\n"
   ]
  },
  {
   "cell_type": "markdown",
   "metadata": {
    "colab_type": "text",
    "id": "I-28c-WevBrR"
   },
   "source": [
    "# 5 - Construindo tabelas\n"
   ]
  },
  {
   "cell_type": "markdown",
   "metadata": {
    "colab_type": "text",
    "id": "IjFwk3kuxCyt"
   },
   "source": [
    "Vamos exercitar um pouco o conceito de distribuíção de frequência de uma variável. Você deve se lembrar que para cada tipo de dado, existe uma ferramenta de visualização e estudo adequados.\n",
    "\n",
    "Uma boa maneira de análisar variaveis qualitativas é criar uma tabela de frequência. Neste exercicio você vai analisar a variável ***gender***, que indica o gênero da pessoa assassinada, e entender como essa variável está distiribuída na nossa amostra."
   ]
  },
  {
   "cell_type": "markdown",
   "metadata": {
    "colab_type": "text",
    "id": "WQ0KZCrbG6dg"
   },
   "source": [
    "Já que vamos trabalhar apenas com uma variável amostral do *dataset*, que tal recuperar essa variável e armazená-la em uma variável do python?\n",
    "\n",
    "No exercício 7, crie uma variavel chamada `genero`e armazene nela todo os dados da variável amostral gender do nosso dataset. Depois digite o comando `print(nomeDaMinhaVariável)` e veja o que acontece.\n",
    "\n",
    "\n",
    "\n",
    "Dica: Utilize o comando `minhaVariavel = meuDataset[\"nomeDaVariavelAmostral\"]`  para atribuir os valores da variável amostral na sua variável do python. \n"
   ]
  },
  {
   "cell_type": "code",
   "execution_count": null,
   "metadata": {
    "colab": {},
    "colab_type": "code",
    "id": "GxXUm1VDEFXD"
   },
   "outputs": [],
   "source": [
    "#Exercício 7\n",
    "\n"
   ]
  },
  {
   "cell_type": "markdown",
   "metadata": {
    "colab_type": "text",
    "id": "7TDjm7YRJEnK"
   },
   "source": [
    "Agora que já isolamos nossa variável amostral vamos contar quantas entradas possuímos para cada gênero. Para fazer isso, você irá utilizar o método `.value_counts()`. \n",
    "\n",
    "Execute o comando `genero.value_counts()` e veja o que acontece."
   ]
  },
  {
   "cell_type": "code",
   "execution_count": null,
   "metadata": {
    "colab": {},
    "colab_type": "code",
    "id": "kzGQDAdAJvfr"
   },
   "outputs": [],
   "source": [
    "#Exercício 8\n"
   ]
  },
  {
   "cell_type": "markdown",
   "metadata": {
    "colab_type": "text",
    "id": "SLPjcbmIGPQr"
   },
   "source": [
    "Bem, agora nós sabemos que das pessoas assassinadas 2160 eram do sexo masculino e apenas 94 do sexo feminno. Curioso, não é?\n",
    "\n",
    "O próximo passo é armazenar o valor da nossa contagem em uma variável. Crie uma váriavel chamada **`contagemGenero`** e armazene o valor retornado pelo `value_counts()`.\n",
    "\n",
    "O valor da contagem de cada gênero corresponde a frequência absoluta de cada gênero, mas você sabe quantos por cento esse valor representa em relação ao número total amostras da nossa variável amostral? \n",
    "\n",
    "Crie duas variáveis chamadas **`masculinoFreqRelativa`** e **`femininoFreqRelativa`** e armazene nelas o valor de suas frequências absolutas, divida cada uma pelo número total de amostras e depois multiplique o resultado final por 100. \n",
    "\n",
    "\n",
    "* Dicas: \n",
    "    * Se você nao lembra o número total de amostras, dê uma olhada no Exercício 4.\n",
    "    * Para acessar os valores de contagem masculino e feminino individualmente utilize a sintaxe `minhaContagem[0]` e `minhaContagem[1]`"
   ]
  },
  {
   "cell_type": "code",
   "execution_count": null,
   "metadata": {
    "colab": {},
    "colab_type": "code",
    "id": "lOTYZPMWLE6n"
   },
   "outputs": [],
   "source": [
    "#Exercício 9\n",
    "\n"
   ]
  },
  {
   "cell_type": "markdown",
   "metadata": {
    "colab_type": "text",
    "id": "qPm563sQQfUg"
   },
   "source": [
    "Pronto, agora temos tudo que precisamos para construír a nossa tabela com frequências absolutas e relativas. \n",
    "\n",
    "No exercício 10, complete e execute o código para criar a tabela de frequências."
   ]
  },
  {
   "cell_type": "code",
   "execution_count": null,
   "metadata": {
    "colab": {},
    "colab_type": "code",
    "id": "ZTXlLbLWRXZ3"
   },
   "outputs": [],
   "source": [
    "#Exercício 10\n",
    "\n",
    "import matplotlib.pyplot as plt\n",
    "import numpy as np\n",
    "\n",
    "#Complete o vetor data para construir sua tabela\n",
    "\n",
    "\n",
    "data = [\n",
    "        ['Gênero', 'Freq. Relativa', 'Freq.Absoluta'],\n",
    "        [ 'Feminino', contagemGenero[1], np.round(femininoFreqRelativa,2)],\n",
    "        [ 'Masculino',     , np.round( , 2)],\n",
    "        ['Total', np.sum(contagemGenero),(femininoFreqRelativa + masculinoFreqRelativa)]]\n",
    "\n",
    "fig = plt.figure(figsize=(15,10))\n",
    "ax = fig.add_subplot(4,3,1)\n",
    "\n",
    "\n",
    "#Escolha um título que descreva sua tabela\n",
    "ax.set_title(\"Título do seu gráfico\",fontsize=14 )\n",
    "ax.title.set_position([.5, 1.5])\n",
    "\n",
    "\n",
    "table = ax.table(cellText=data,\n",
    "          loc = 'center',         \n",
    "          cellLoc = 'center',\n",
    "          edges = 'BT',)\n",
    "\n",
    "table.set_fontsize(24)\n",
    "\n",
    "table.scale(2,4)\n",
    "plt.tick_params(axis='x', which='both', bottom=False, top=False, labelbottom=False)\n",
    "plt.tick_params(axis='y', which='both', right=False, left=False, labelleft=False)\n",
    "\n",
    "for pos in ['right','top','bottom','left']:\n",
    "    plt.gca().spines[pos].set_visible(False)\n",
    "\n",
    "\n",
    "plt.show()\n"
   ]
  },
  {
   "cell_type": "markdown",
   "metadata": {
    "colab_type": "text",
    "id": "uJMdVDNspRqC"
   },
   "source": [
    "# 6 Construíndo gráficos\n",
    "\n",
    "Agora que você relembrou o conceito de frequência vamos explorar mais os dados e construir alguns gráficos. Os gráficos nos ajudam a entender melhor os dados e extraír informações que estão inicialmente ocultas.\n"
   ]
  },
  {
   "cell_type": "markdown",
   "metadata": {
    "colab_type": "text",
    "id": "JZUViSUVrKyu"
   },
   "source": [
    "Sempre que você quiser construír um gŕafico, é necessário definir os eixos X e Y. A definição de qual variável vai em cada eixo depende do tipo de gráfico e do aspecto que você quer evidenciar. Por exemplo, se quisermos construir um gráfico para visualizar a quantidade de mortes ocorridas por estado, podemos escolher um gráfico de colunas onde o eixo X identificará os estados e a eixo Y a quatidade de mortes.\n",
    "\n",
    "Nos próximos exercicíos você aprenderá a construir alguns tipos de gráficos."
   ]
  },
  {
   "cell_type": "markdown",
   "metadata": {
    "colab_type": "text",
    "id": "_2O7hqJCtKQZ"
   },
   "source": [
    "### 6.1 Identificando número de mortes por estado (Gráfico de colunas) \n",
    "\n",
    "\n",
    "Para construír esse gráfico, você precisará realizar a contagem de mortes ocorridas em cada estado. Vamos fazer isso utilizando o método `groupby()`da biblioteca Pandas. Neste método você precisará definir a função de agregação que será utilizada, isto é, o processo pelo qual você deseja agupar os seus dados, no nosso caso escolheremos o método `size()` para realizar a contagem. \n",
    "\n",
    "Além disso você ainda terá que escolher a coluna pela qual nós queremos agrupar nossa contagem, no nosso caso a coluna ***state***.\n",
    "\n",
    "Observe o resultado dessa operação  executando a célula do exercício 11\n",
    ".\n"
   ]
  },
  {
   "cell_type": "code",
   "execution_count": null,
   "metadata": {
    "colab": {},
    "colab_type": "code",
    "id": "fe5gTw23MlIB"
   },
   "outputs": [],
   "source": [
    "#Exercício 11\n",
    "mortesAgrupadasEstado = policeKillingDF.groupby(by=\"state\").size()\n",
    "print(mortesAgrupadasEstado)\n"
   ]
  },
  {
   "cell_type": "markdown",
   "metadata": {
    "colab_type": "text",
    "id": "FLF1Ef9SxvdA"
   },
   "source": [
    "\n",
    "Complete o Exercício 12 preenchendo os valores que serão apresentados no eixo X, utilizando o atributo `.index` da variável **mortesAgrupadasEstado** e as alturas de cada barra (eixo Y) com os valores obtidos na contagem, utilizando o atributo `.values` da mesma variável.\n",
    "\n",
    "Preencha o título do gráfico com uma descrição adequada.\n"
   ]
  },
  {
   "cell_type": "code",
   "execution_count": null,
   "metadata": {
    "colab": {},
    "colab_type": "code",
    "id": "7ayyibQNxcky"
   },
   "outputs": [],
   "source": [
    "#Exercício 12 \n",
    "figure = plt.figure(figsize=(20,8))\n",
    "\n",
    "plt.bar(x =  , height = , align='center')\n",
    "\n",
    "x =  plt.xticks(color=\"black\",fontsize=\"13\", rotation=90)\n",
    "y = plt.yticks(color=\"black\", fontsize=\"13\")\n",
    "\n",
    "title = plt.title(\" O título do seu gráfico \", fontsize=13, color=\"black\")"
   ]
  },
  {
   "cell_type": "markdown",
   "metadata": {
    "colab_type": "text",
    "id": "uQRtwvb2t2Dd"
   },
   "source": [
    "### 6.2 - Quantificando o número  de assassinatos de acordo com a sua maneira de execução - ***manner_of_death***.  (Gráfico de setores)\n",
    "\n",
    "\n",
    "\n",
    "Outra análise interessante que podemos fazer é descobrir de que maneira as vítimas foram assassinadas. Um gráfico de setores (pizza) pode nos ajudar a visualizar de maneira mais intituiva esse aspecto. \n",
    "\n",
    "Então, vamos lá. Assim como no gráfico passado nós vamos precisar fazer a contagem de mortes agrupando por um atributo, só que agora ao invés de usarmos a coluna *gender*, vamos utilizar a coluna *manner_of_death*.\n",
    "\n",
    "No exercício 13, repita o procedimento de agrupamento realizado anteriormente, modificando a variável de agrupamento. Salve o resultado em variável chamada **`mortesAgrupadasPorManeira`**."
   ]
  },
  {
   "cell_type": "code",
   "execution_count": null,
   "metadata": {
    "colab": {},
    "colab_type": "code",
    "id": "iltaNTgy2Lcj"
   },
   "outputs": [],
   "source": [
    "#Exercício 13\n",
    "\n"
   ]
  },
  {
   "cell_type": "markdown",
   "metadata": {
    "colab_type": "text",
    "id": "NcckS5153l0V"
   },
   "source": [
    "Agora que você já agrupou os dados, preencha os elementos faltantes na célula do exercício 14. Dessa vez preencha o paramêtro x, com os valores agrupados e o parêmetro labels com as maneiras do morte indentificadas no exercício anterior. Utilize os atributos `values`  e `index`, respectivamente. "
   ]
  },
  {
   "cell_type": "code",
   "execution_count": null,
   "metadata": {
    "colab": {},
    "colab_type": "code",
    "id": "RCU94gFV3rVX"
   },
   "outputs": [],
   "source": [
    "#Exercício 14\n",
    "figure = plt.figure(figsize=(12,12))\n",
    "\n",
    "plt.pie(x = , \n",
    "        labels= , \n",
    "        shadow=False, \n",
    "        autopct='%1.1f%%', textprops={'fontsize': 20})\n",
    "\n",
    "plt.title(\"Distribuíção de assassinatos pela maneira da morte\", fontsize=15)\n",
    "\n",
    "plt.show()"
   ]
  },
  {
   "cell_type": "markdown",
   "metadata": {
    "colab_type": "text",
    "id": "DagLhM2ZwGXX"
   },
   "source": [
    "### 6.3 - Distribuíção das mortes no tempo (Grafico de linha)\n",
    "\n",
    "\n",
    "Um gráfico bastante útil quando estamos trabalhando com séries temporais é o gráfico de linha. Vamos aproveitar que a nossa base de dados nos oferece a data dos assassinatos, e que nós já desagregamos esta variável, para criar gráficos de linha que nos mostram como o número de mortes variou durante os meses nos anos de 2015 a 2017.\n",
    "\n",
    "\n"
   ]
  },
  {
   "cell_type": "markdown",
   "metadata": {
    "colab_type": "text",
    "id": "Fv1ztKz3vedb"
   },
   "source": [
    "\n",
    "Dessa vez antes de fazer a agregação, eu optei por ordenar a nossa base de dados pela data das ocorrências, isso é útil para que o nosso gŕafico fique na ordem temporal correta (De janeiro a dezembro).\n",
    "\n",
    "Feito isso, a nossa próxima etapa é fazer a contagem agrupando pelo atributo desejado, noavamente utilizando a contagem como função de agregação.\n",
    "\n",
    "Como dessa vez nós queremos contar por mês e por ano, vamos precisar usar as duas colunas (*month and year*). Além disso, você vai precisar fazer mais um agrupamento de maneira encadeada, só que dessa vez a função de agregação vai ser a `soma`, assim para cada ano você vai poder somar todos os assassinatos ocorridos em cada mês.\n",
    "\n",
    "Execute a célula abaixo e veja como fica o resultado.\n"
   ]
  },
  {
   "cell_type": "code",
   "execution_count": null,
   "metadata": {
    "colab": {},
    "colab_type": "code",
    "id": "-w65KPZzxbR7"
   },
   "outputs": [],
   "source": [
    "policeKillingDF.sort_values(by='date', inplace=True)\n",
    "mortesPorMesPorAno = policeKillingDF.groupby([\"month\", \"year\"], sort=False).size().groupby(['year', 'month']).sum()\n",
    "mortesPorMesPorAno\n"
   ]
  },
  {
   "cell_type": "markdown",
   "metadata": {
    "colab_type": "text",
    "id": "zp-dymyByMDG"
   },
   "source": [
    "Agora você já pode fazer o *plot* dos seus gráficos. Complete o exercicío 15, preenchendo os parâmetros faltantes na função *`plot()`* . O primeiro parâmetro já está preenchido, utilizando o atributo **`index`** da nossa variável de contagem. Insira o segundo parâmetro utilizando o atributo **`values`**.\n",
    "\n",
    "Preencha também os títulos dos eixos X (os meses) e Y (Contagem de mortes) com as descrições que achar mais adequada.\n"
   ]
  },
  {
   "cell_type": "code",
   "execution_count": null,
   "metadata": {
    "colab": {},
    "colab_type": "code",
    "id": "cVw3XsKfGiBc"
   },
   "outputs": [],
   "source": [
    "#Exercício 15\n",
    "for i in np.arange(2015,2018):\n",
    "    fig, ax = plt.subplots(figsize = (20,8))\n",
    "    ax.grid()\n",
    "\n",
    "    ax.plot(mortesPorMesPorAno.xs(i).index,  , '-bo', linewidth=2)\n",
    "    settings = ax.set(xlabel=' ',\n",
    "                    ylabel=' ',\n",
    "                    title=\" Número de mortes por mês - \" + str(i))\n",
    "    plt.show()\n"
   ]
  }
 ],
 "metadata": {
  "colab": {
   "authorship_tag": "ABX9TyPA96B7fG8Okw/lA7F7e3p5",
   "collapsed_sections": [],
   "name": "Roteiro_atividades_1.ipynb",
   "provenance": [
    {
     "file_id": "1YmqSWcod9ZRLjZ_Hz_QFvZLwwmax48PE",
     "timestamp": 1592785835318
    }
   ],
   "toc_visible": true
  },
  "kernelspec": {
   "display_name": "Python 3",
   "language": "python",
   "name": "python3"
  },
  "language_info": {
   "codemirror_mode": {
    "name": "ipython",
    "version": 3
   },
   "file_extension": ".py",
   "mimetype": "text/x-python",
   "name": "python",
   "nbconvert_exporter": "python",
   "pygments_lexer": "ipython3",
   "version": "3.8.3"
  }
 },
 "nbformat": 4,
 "nbformat_minor": 1
}
